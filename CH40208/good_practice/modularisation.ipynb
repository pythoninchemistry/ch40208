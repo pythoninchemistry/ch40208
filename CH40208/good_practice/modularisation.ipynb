{
 "cells": [
  {
   "cell_type": "markdown",
   "metadata": {},
   "source": [
    "# Modularisation\n",
    "\n",
    "We have already looked at how we can make the code that we can write modular by having functions, which we can reuse. \n",
    "However, there is an additional level of modularity that we will look at now. \n",
    "This is where we write our own modules and `import` them into our Python code.\n",
    "We have already looked at importing modules such as `numpy` and `scipy`, however as we will see we can create our own modules and import the functions that we include in them. \n",
    "\n",
    "The first thing we need to do is to write a Python module. \n",
    "We can do this with the JupyterHub framework, from the file directory, where you would normally select to open a new Notebook, instead choose \"Text File\". \n",
    "\n",
    "![](new_text.png)\n",
    "\n",
    "This will open a window, were we can write our Python module, but first we should rename it. \n",
    "The name of a Python module that we can create can be anything that would be suitable as a variable name, followed by the extension `.py`. \n",
    "For example, here we will name our extension `my_module.py`.\n",
    "\n",
    "![](rename.png)\n",
    "\n",
    "In this module, we can write some functions.\n",
    "Let's include a simple \"Hello World!\" function to show the utility. \n",
    "\n",
    "```\n",
    "def hello_world(name): \n",
    "    \"\"\"\n",
    "    This is a simple, Hello World function.\n",
    "    \n",
    "    Args: \n",
    "        name (str): A name to concatentate to the print.\n",
    "    \"\"\"\n",
    "    print(f\"Hello World {name}!\")\n",
    "```\n",
    "\n",
    "If we now save this file (File -> Save) and then open a Notebook **in the same folder as the new module**, then we should be able to `import my_module` and run the `hello_world` function. "
   ]
  },
  {
   "cell_type": "code",
   "execution_count": 1,
   "metadata": {},
   "outputs": [
    {
     "name": "stdout",
     "output_type": "stream",
     "text": [
      "Hello World Andrew!\n"
     ]
    }
   ],
   "source": [
    "import my_module\n",
    "\n",
    "my_module.hello_world('Andrew')"
   ]
  },
  {
   "cell_type": "markdown",
   "metadata": {},
   "source": [
    "Functions within modules will act in exactly the same way as those in a Notebook and objects may be returned as normal. \n",
    "We can imagine how we could create very complex code within a Python custom module and then the Notebook interface could be clean with a lot of [Markdown](./markdown.html) based explanation of what is going on \"under-the-hood\". "
   ]
  }
 ],
 "metadata": {
  "kernelspec": {
   "display_name": "Python 3 (ipykernel)",
   "language": "python",
   "name": "python3"
  },
  "language_info": {
   "codemirror_mode": {
    "name": "ipython",
    "version": 3
   },
   "file_extension": ".py",
   "mimetype": "text/x-python",
   "name": "python",
   "nbconvert_exporter": "python",
   "pygments_lexer": "ipython3",
   "version": "3.11.1"
  }
 },
 "nbformat": 4,
 "nbformat_minor": 4
}
