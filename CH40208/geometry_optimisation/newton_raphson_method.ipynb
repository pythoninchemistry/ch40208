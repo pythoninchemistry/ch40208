{
 "cells": [
  {
   "cell_type": "markdown",
   "id": "0812b6ed-fd41-4934-8113-1e4ec01086e5",
   "metadata": {},
   "source": [
    "## The Newton-Raphson Method\n",
    "\n",
    "An alternative method for finding the minimum of a function is the Newton-Raphson Method (also called Newton's Method).\n",
    "\n",
    "The key insight is that **at a minimum, the first derivative equals zero**: $f^\\prime(x) = 0$. So finding a minimum is equivalent to finding where the derivative vanishes.\n",
    "\n",
    "The Newton-Raphson method uses the idea that if we zoom in on any function, we can approximate the local shape of that function as quadratic, i.e.\n",
    "\n",
    "$$f(x) \\approx ax^2 + bx + c$$\n",
    "\n",
    "over some small range of $x$.\n",
    "\n",
    "If $f(x)$ is approximately quadratic near our current position, then its first derivative is approximately **linear**:\n",
    "\n",
    "$$f^\\prime(x) \\approx 2ax + b$$\n",
    "\n",
    "If we know the coefficients $a$ and $b$, we can directly solve for where this linear approximation crosses zero (i.e., where $f^\\prime(x) = 0$):\n",
    "\n",
    "$$2ax + b = 0$$\n",
    "\n",
    "$$x = \\frac{-b}{2a}$$\n",
    "\n",
    "This gives us our predicted location of the minimum.\n"
   ]
  },
  {
   "cell_type": "markdown",
   "id": "641bab47-12b3-485d-afcb-4d25ad60030f",
   "metadata": {},
   "source": [
    "To find the coefficients $a$ and $b$ of our local quadratic approximation, we use the property that any smooth function can be expanded as a **Taylor series** (see, e.g., Chapter 6 in [Foundations of Science Mathematics](https://bath.primo.exlibrisgroup.com/permalink/44BAT_INST/iac705/alma991004175199902761)).\n",
    "\n",
    "If we are at some point $x_0$, then we can approximate our function locally as a polynomial in $(x-x_0)$:\n",
    "\n",
    "$$f(x) = f(x_0) + f^\\prime(x_0)(x-x_0) + \\frac{1}{2}f^{\\prime\\prime}(x_0)(x-x_0)^2 + \\ldots$$\n",
    "\n",
    "If we remain close to $x_0$, where the higher-order terms in $(x-x_0)$ are small, we can truncate this series after the quadratic term:\n",
    "\n",
    "$$f(x) \\approx f(x_0) + f^\\prime(x_0)(x-x_0) + \\frac{1}{2}f^{\\prime\\prime}(x_0)(x-x_0)^2$$\n",
    "\n",
    "This is our quadratic approximation. Differentiating this expression with respect to $x$ gives us the approximation for the first derivative:\n",
    "\n",
    "$$f^\\prime(x) \\approx f^\\prime(x_0) + f^{\\prime\\prime}(x_0)(x - x_0)$$\n",
    "\n",
    "At a minimum, $f^\\prime(x) = 0$, so we can set this expression to zero and solve for $x$:\n",
    "\n",
    "$$f^\\prime(x_0) + f^{\\prime\\prime}(x_0)(x - x_0) = 0$$\n",
    "\n",
    "$$x = x_0 - \\frac{f^\\prime(x_0)}{f^{\\prime\\prime}(x_0)}$$\n",
    "\n",
    "This is the **Newton-Raphson equation**. Starting from our current position $x_0$, it predicts a new position $x$ that should be closer to the minimum.\n",
    "\n",
    "In the context of finding the minimum of a potential energy surface, we can rewrite this using our usual notation for energy and bond length:\n",
    "\n",
    "1. Starting at an initial guess $r_n$, calculate the first and second derivatives of $U(r_n)$ at that point.\n",
    "2. Use the Newton-Raphson equation to predict a new position:\n",
    "\n",
    "$$r_{n+1} = r_n - \\frac{U^\\prime(r_n)}{U^{\\prime\\prime}(r_n)}$$\n",
    "\n",
    "In reality, our potential energy surface is never exactly quadratic (except for the special case of a harmonic potential), so this equation only gives us an approximate guess for the minimum position. We therefore repeat steps 1 and 2 as an iterative process, recalculating the derivatives at each new position, until we (hopefully) converge on the energy minimum."
   ]
  },
  {
   "cell_type": "markdown",
   "id": "1888eb5a-c0d4-4c23-ae93-2c99947a8ea5",
   "metadata": {},
   "source": [
    "### Exercise\n",
    "\n",
    "1. Write a function to calculate the second derivative of a harmonic potential:\n",
    "\n",
    "$$U^{\\prime\\prime} = k$$\n",
    "\n",
    "2. Show that the Newton-Raphson method finds the optimal bond length for your harmonic potential in one step, irrespective of your starting point.\n",
    "\n",
    "*Hint: Consider why the Newton-Raphson method works perfectly for quadratic functions.*"
   ]
  },
  {
   "cell_type": "code",
   "execution_count": null,
   "id": "55ed4305-f9e0-47c0-b311-c2313f8dea29",
   "metadata": {},
   "outputs": [],
   "source": []
  }
 ],
 "metadata": {
  "kernelspec": {
   "display_name": "Python 3 (ipykernel)",
   "language": "python",
   "name": "python3"
  },
  "language_info": {
   "codemirror_mode": {
    "name": "ipython",
    "version": 3
   },
   "file_extension": ".py",
   "mimetype": "text/x-python",
   "name": "python",
   "nbconvert_exporter": "python",
   "pygments_lexer": "ipython3",
   "version": "3.12.3"
  }
 },
 "nbformat": 4,
 "nbformat_minor": 5
}
