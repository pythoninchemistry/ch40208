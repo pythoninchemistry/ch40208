{
 "cells": [
  {
   "cell_type": "markdown",
   "id": "a00156ff-03b9-43cc-a7cc-7ed42ce1f58e",
   "metadata": {},
   "source": [
    "## Minimisation with `scipy.optimize.minimize`\n",
    "\n",
    "`scipy.optimize.minimize()` is a powerful tool for numerical optimisation that finds the minimum of any scalar function (a function that returns a single numerical value). Unlike the methods we have implemented so far, `scipy.optimize.minimize()` uses more sophisticated algorithms that automatically handle many of the challenges we have encountered, such as choosing appropriate step sizes and dealing with difficult potential energy surfaces.\n",
    "\n",
    "The following code demonstrates how `minimize()` can be used to find the minimum of a harmonic potential."
   ]
  },
  {
   "cell_type": "code",
   "execution_count": 1,
   "id": "6e7de093-14a9-4de8-894e-33c44dc039e9",
   "metadata": {},
   "outputs": [
    {
     "data": {
      "text/plain": [
       "  message: Optimization terminated successfully.\n",
       "  success: True\n",
       "   status: 0\n",
       "      fun: 1.2580072611001788e-17\n",
       "        x: [ 7.400e-01]\n",
       "      nit: 1\n",
       "      jac: [ 2.983e-07]\n",
       " hess_inv: [[1]]\n",
       "     nfev: 6\n",
       "     njev: 3"
      ]
     },
     "execution_count": 1,
     "metadata": {},
     "output_type": "execute_result"
    }
   ],
   "source": [
    "from scipy.optimize import minimize\n",
    "\n",
    "def harmonic_potential(r, k, r0):\n",
    "    \"\"\"Calculate the energy in eV for a harmonic potential U(r) = k/2 * (r - r0)^2.\n",
    "    \n",
    "    Args:\n",
    "        r (float): Distance parameter to optimise.\n",
    "        k (float): Spring constant in eV/Å².\n",
    "        r0 (float): Equilibrium distance in Å.\n",
    "    \n",
    "    Returns:\n",
    "        float: Potential energy in eV.\n",
    "    \"\"\"\n",
    "    return 0.5 * k * (r - r0)**2\n",
    "\n",
    "# Initial guess and parameters\n",
    "x0 = 1.0  # Starting guess for r\n",
    "k = 36.0  # Spring constant\n",
    "r0 = 0.74  # Equilibrium distance\n",
    "\n",
    "result = minimize(harmonic_potential, x0=x0, args=(k, r0))\n",
    "\n",
    "result"
   ]
  },
  {
   "cell_type": "markdown",
   "id": "29f082b5",
   "metadata": {},
   "source": [
    "Let us break this down step by step:\n",
    "\n",
    "First, we import the `minimize()` function from `scipy.optimize`.\n",
    "```python\n",
    "from scipy.optimize import minimize\n",
    "```\n",
    "\n",
    "Next, we define a function for our harmonic potential:\n",
    "```python\n",
    "def harmonic_potential(r, k, r0):\n",
    "    \"\"\"Calculate the energy in eV for a harmonic potential U(r) = k/2 * (r - r0)^2.\n",
    "    \n",
    "    Args:\n",
    "        r (float): Distance parameter to optimise.\n",
    "        k (float): Spring constant in eV/Å².\n",
    "        r0 (float): Equilibrium distance in Å.\n",
    "    \n",
    "    Returns:\n",
    "        float: Potential energy in eV.\n",
    "    \"\"\"\n",
    "    return 0.5 * k * (r - r0)**2\n",
    "```\n",
    "\n",
    "Note that we have ordered the three arguments to this function so that the parameter we want to minimise with respect to, `r`, is the first parameter. The second and third parameters, `k` and `r0`, will be fixed for a given potential energy surface.\n",
    "\n",
    "Then, we define variables to store our initial guess for the equilibrium bond length and the parameters that define our harmonic potential.\n",
    "```python\n",
    "# Initial guess and parameters\n",
    "x0 = 1.0  # Starting guess for r\n",
    "k = 36.0  # Spring constant\n",
    "r0 = 0.74  # Equilibrium distance\n",
    "```\n",
    "\n",
    "Now we call the `minimize()` function:\n",
    "```python\n",
    "result = minimize(harmonic_potential, x0=x0, args=(k, r0))\n",
    "```\n",
    "\n",
    "We pass in three arguments:\n",
    "- The **first** argument is the name of the function that we want to minimise. In this case our function is called `harmonic_potential`.\n",
    "- The **second** argument is our starting guess for the parameter we are minimising with respect to, so in this example, we pass our guess for our equilibrium bond length of 1 Å.\n",
    "- The **third** argument is a **tuple** of parameters that will also get passed to the function we are minimising, that are fixed during the minimisation. In this case, we need to define the shape of our harmonic potential energy surface by providing values for `k` and `r0`. Because our `harmonic_potential()` function takes two additional parameters, the tuple we pass to `minimize()` needs to contain two parameters. The order of these parameters also needs to match the order of the corresponding arguments in the function being minimised; so our tuple is structured as `(k, r0)`."
   ]
  },
  {
   "cell_type": "markdown",
   "id": "2b4a1ac3",
   "metadata": {},
   "source": [
    "`minimize()` returns an `OptimizeResult` object that contains lots of information about the optimisation, such as whether it was deemed to have successfully found a minimum, how many iterations it took, and the estimated minimum value.\n",
    "\n",
    "We can access the estimated minimum value directly using"
   ]
  },
  {
   "cell_type": "code",
   "execution_count": 3,
   "id": "5a280112",
   "metadata": {},
   "outputs": [
    {
     "data": {
      "text/plain": [
       "array([0.73999999])"
      ]
     },
     "execution_count": 3,
     "metadata": {},
     "output_type": "execute_result"
    }
   ],
   "source": [
    "result.x"
   ]
  },
  {
   "cell_type": "markdown",
   "id": "515697c6",
   "metadata": {},
   "source": [
    "Here, we are optimising a one-dimensional function (the energy varies with bond-length), and we get back a one-dimensional solution array. If we were minimising a function over more dimensions (e.g., the energy of a linear triatomic molecule, which then depends on two bond lengths) then the solution array would contain the minimisation solution for each dimension."
   ]
  },
  {
   "cell_type": "markdown",
   "id": "b246ca59",
   "metadata": {},
   "source": [
    "### Exercises\n",
    "\n",
    "#### Exercise 1: Lennard-Jones Potential with scipy\n",
    "\n",
    "Use `scipy.optimize.minimize()` to perform a geometry optimisation for the Lennard-Jones potential:\n",
    "\n",
    "$$U_\\mathrm{LJ} = \\frac{A}{r^{12}} - \\frac{B}{r^6}$$\n",
    "\n",
    "with $A$ = 1 × 10<sup>5</sup> eV Å<sup>12</sup> and $B$ = 40 eV Å<sup>6</sup>.\n",
    "\n",
    "**Part A:**\n",
    "\n",
    "Write a function `lennard_jones(r, A, B)` to calculate this potential.\n",
    "\n",
    "**Part B:**\n",
    "\n",
    "Run `minimize()` with three different starting values: $r$ = 3.2 Å, $r$ = 4.4 Å, and $r$ = 6.0 Å.\n",
    "\n",
    "**Part C:** \n",
    "\n",
    "For each starting point, print:\n",
    "- The starting position\n",
    "- The final optimised position\n",
    "- The number of iterations required\n",
    "\n",
    "**Part D:** \n",
    "\n",
    "Do all starting points converge to the same minimum? Why or why not?"
   ]
  },
  {
   "cell_type": "markdown",
   "id": "712334cc-0c94-4df1-af33-7f5506f2a433",
   "metadata": {},
   "source": [
    "#### Exercise 2. Multiple Minima in 1,2-Dichloroethane\n",
    "\n",
    "The potential energy associated with changes in the Cl-C-C-Cl dihedral angle, $\\theta$, in 1,2-dichloroethane can be modelled as\n",
    "\n",
    "$$U(\\theta) = \\frac{1}{2}\\left\\{A_1\\left[1+\\cos\\theta\\right] + A_2\\left[1+\\cos2\\theta\\right]+ A_3\\left[1+\\cos3\\theta\\right]\\right\\}$$\n",
    "\n",
    "with $A_1$ = 55.229 kJ mol$^{-1}$, $A_2$ = 3.3472 kJ mol$^{-1}$, and $A_3$ = -58.576 kJ mol$^{-1}$.\n",
    "\n",
    "This exercise explores how the choice of starting geometry affects which minimum the optimiser finds.\n",
    "\n",
    "**Part A: Define and Visualise the Potential Energy Surface**\n",
    "\n",
    "1. Write a function `dihedral_potential(theta, A1, A2, A3)` that calculates the potential energy for a given dihedral angle $\\theta$ (in radians).\n",
    "\n",
    "2. Create an array of $\\theta$ values from $-\\pi$ to $\\pi$ using `np.linspace()` with at least 200 points.\n",
    "\n",
    "3. Calculate the potential energy at each point and create a plot showing $U(\\theta)$ vs $\\theta$.\n",
    "\n",
    "4. By examining your plot, identify approximately how many minima exist and roughly where they are located.\n",
    "\n",
    "**Part B: Test Individual Starting Points**\n",
    "\n",
    "5. Use `scipy.optimize.minimize()` to find the minimum, starting with $\\theta_0 = 0$ radians as your initial guess. What minimum does the optimiser find?\n",
    "\n",
    "6. Repeat the optimisation starting from $\\theta_0 = \\pi$ radians. Does it find the same minimum?\n",
    "\n",
    "7. Try one more starting point of your choice. Based on these three tests, what pattern do you observe?\n",
    "\n",
    "**Part C: Systematic Exploration of Starting Points**\n",
    "\n",
    "Now we will systematically test many different starting points to understand the overall behaviour.\n",
    "\n",
    "8. Create an array of 20 equally spaced starting angles between $-\\pi$ and $\\pi$ using `np.linspace()`. Store this in a variable called `start_angles`.\n",
    "\n",
    "9. Create two empty lists called `start_positions` and `final_positions`.\n",
    "\n",
    "10. Write a `for` loop that:\n",
    "    - Iterates through each angle in `start_angles`\n",
    "    - Performs an optimisation starting from that angle\n",
    "    - Appends the starting angle to `start_positions`\n",
    "    - Appends the optimised angle (from `result.x[0]`) to `final_positions`\n",
    "\n",
    "**Part D: Visualise the Basins of Attraction**\n",
    "\n",
    "11. Create a scatter plot with:\n",
    "    - Starting angles on the x-axis (`start_positions`)\n",
    "    - Final optimised angles on the y-axis (`final_positions`)\n",
    "    - Appropriate axis labels and title\n",
    "    \n",
    "    This plot shows you which starting positions lead to which minima. Each horizontal band of points represents a different minimum (basin of attraction).\n",
    "\n",
    "**Part E: Analysis**\n",
    "\n",
    "12. How many distinct minima does your scatter plot reveal? (Look for horizontal bands of points.)\n",
    "\n",
    "```{note}\n",
    "You may notice points clustered near both $\\theta \\approx +3.14$ (near $+\\pi$) and $\\theta \\approx -3.14$ (near $-\\pi$). Before counting these as separate minima, remember that dihedral angles are periodic: $\\theta = +\\pi$ and $\\theta = -\\pi$ represent the same molecular conformation (both are 180°). \n",
    "\n",
    "Check your potential energy plot from Part A: you should see that $U(+\\pi) = U(-\\pi)$. These two sets of points represent convergence to the same minimum approached from different directions, not two different minima.\n",
    "\n",
    "This is a consequence of how the optimiser works: it finds a nearby minimum by following gradients, and doesn't \"wrap around\" the periodic boundary. Starting from $\\theta = +2$ radians naturally leads to the minimum expressed as $\\theta \\approx +\\pi$, whilst starting from $\\theta = -2$ radians leads to the same minimum expressed as $\\theta \\approx -\\pi$.\n",
    "```\n",
    "\n",
    "13. For each minimum, estimate the range of starting angles that lead to that minimum. These ranges are called the \"basin of attraction\" for each minimum.\n",
    "\n",
    "14. Based on your results, if you wanted to find the global minimum (the lowest energy structure), what strategy would you need to use? (Hint: look back at your potential energy plot from Part A to see which minimum has the lowest energy.)\n"
   ]
  },
  {
   "cell_type": "code",
   "execution_count": null,
   "id": "b3926a52-9f65-487b-984e-8e8ee670f0ae",
   "metadata": {},
   "outputs": [],
   "source": []
  }
 ],
 "metadata": {
  "kernelspec": {
   "display_name": "Python 3 (ipykernel)",
   "language": "python",
   "name": "python3"
  },
  "language_info": {
   "codemirror_mode": {
    "name": "ipython",
    "version": 3
   },
   "file_extension": ".py",
   "mimetype": "text/x-python",
   "name": "python",
   "nbconvert_exporter": "python",
   "pygments_lexer": "ipython3",
   "version": "3.12.3"
  }
 },
 "nbformat": 4,
 "nbformat_minor": 5
}
