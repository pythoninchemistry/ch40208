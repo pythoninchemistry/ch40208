{
 "cells": [
  {
   "cell_type": "markdown",
   "id": "a00156ff-03b9-43cc-a7cc-7ed42ce1f58e",
   "metadata": {},
   "source": [
    "## Minimisation with `scipy.optimize.minimize`\n",
    "\n",
    "`scipy.optimize.minimize()` is a powerful tool for numerical optimization that finds the minimum of any scalar function (a function that returns a single numerical value). \n",
    "\n",
    "The following code demonstrates how `minimize()` can be used to find the minimum of a harmonic potential."
   ]
  },
  {
   "cell_type": "code",
   "execution_count": 7,
   "id": "6e7de093-14a9-4de8-894e-33c44dc039e9",
   "metadata": {},
   "outputs": [
    {
     "data": {
      "text/plain": [
       "  message: Optimization terminated successfully.\n",
       "  success: True\n",
       "   status: 0\n",
       "      fun: 1.2580072611001788e-17\n",
       "        x: [ 7.400e-01]\n",
       "      nit: 1\n",
       "      jac: [ 2.983e-07]\n",
       " hess_inv: [[1]]\n",
       "     nfev: 6\n",
       "     njev: 3"
      ]
     },
     "execution_count": 7,
     "metadata": {},
     "output_type": "execute_result"
    }
   ],
   "source": [
    "from scipy.optimize import minimize\n",
    "\n",
    "def harmonic_potential(r, k, r0):\n",
    "    \"\"\"Calculate the energy in eV for a harmonic potential U(r) = k/2 * (r - r0)^2\n",
    "    \n",
    "    Parameters:\n",
    "        r (float): Distance parameter to optimize\n",
    "        k (float): Spring constant in eV/Å²\n",
    "        r0 (float): Equilibrium distance in Å\n",
    "    \n",
    "    Returns:\n",
    "        float: Potential energy in eV\n",
    "    \"\"\"\n",
    "    return 0.5 * k * (r - r0)**2\n",
    "\n",
    "# initial guess and parameters\n",
    "x0 = 1.0 # starting guess for r\n",
    "k = 36.0 # spring constant\n",
    "r0 = 0.74 # equilibrium distance\n",
    "\n",
    "result = minimize(harmonic_potential, x0=x0, args=(k, r0))\n",
    "\n",
    "result"
   ]
  },
  {
   "cell_type": "markdown",
   "id": "29f082b5",
   "metadata": {},
   "source": [
    "Let us break this down step by step:\n",
    "\n",
    "First, we import the `minimize()` function from `scipy.optimize`.\n",
    "\n",
    "```python\n",
    "from scipy.optimize import minimize\n",
    "```\n",
    "\n",
    "Next, we define a function for our harmonic potential:\n",
    "\n",
    "```python\n",
    "def harmonic_potential(r, k, r0):\n",
    "    \"\"\"Calculate the energy in eV for a harmonic potential U(r) = k/2 * (r - r0)^2\n",
    "    \n",
    "    Parameters:\n",
    "        r (float): Distance parameter to optimize\n",
    "        k (float): Spring constant in eV/Å²\n",
    "        r0 (float): Equilibrium distance in Å\n",
    "    \n",
    "    Returns:\n",
    "        float: Potential energy in eV\n",
    "    \"\"\"\n",
    "    return 0.5 * k * (r - r0)**2\n",
    "```\n",
    "\n",
    "Note that we have ordered the three arguments to this function so that the parameter we want to minimise with respect to, `r`, is the first parameter. The second and third parameters, `k` and `r0` will be fixed for a given potential energy surface.\n",
    "\n",
    "Then, we define variables to store our initial guess for the equilibrium bond length and for the parameters that define our harmonic potential.\n",
    "\n",
    "```python\n",
    "# initial guess and parameters\n",
    "x0 = 1.0 # starting guess for r\n",
    "k = 36.0 # spring constant\n",
    "r0 = 0.74 # equilibrium distance\n",
    "```\n",
    "\n",
    "Now we call the `minimize()` function:\n",
    "\n",
    "```python\n",
    "result = minimize(harmonic_potential, x0=x0, args=(k, r0))\n",
    "```\n",
    "\n",
    "We pass in three arguments.\n",
    "- The **first** argument is the name of the function that we want to minimise. In this case our function is called `harmonic_potential`\n",
    "- The **second** argument is our starting guess for the parameter we are minimising with respect to, so in this example, we pass our guess for our equilibrium bond length of 1 &angst;.\n",
    "- The **third** argument is a **tuple** of parameters that will also get passed to the function we are minimising, that are fixed during the minimisation. In this case, we need to define the shape of our harmonic potential energy surface by providing values for `k` and `r0`. Because our `harmonic_potential()` function takes two additional parameters, the tuple we pass to `minimize()` needs to contain two parameters. The order of these parameters also needs to match the order of the corresponding arguments in the function being minimised; so our tuple is structured as `(k, r0)`."
   ]
  },
  {
   "cell_type": "markdown",
   "id": "2b4a1ac3",
   "metadata": {},
   "source": [
    "`minimize()` returns an `OptimizeResult` object that contains lots of information about the optimisation, such as whether it was deemed to have successfully found a minimum, how many iterations it took, and the estimated minimum value.\n",
    "\n",
    "We can access the estimated minimum value directly using"
   ]
  },
  {
   "cell_type": "code",
   "execution_count": 3,
   "id": "5a280112",
   "metadata": {},
   "outputs": [
    {
     "data": {
      "text/plain": [
       "array([0.73999999])"
      ]
     },
     "execution_count": 3,
     "metadata": {},
     "output_type": "execute_result"
    }
   ],
   "source": [
    "result.x"
   ]
  },
  {
   "cell_type": "markdown",
   "id": "515697c6",
   "metadata": {},
   "source": [
    "Here, we are optimisation a one-dimensional function (the energy varies with bond-length), and we get back a one-dimensional solution array. If we were minimising a function over more dimensions (e.g., the energy of a linear triatomic molecule, which then depends on two bond lengths) then the solution array would contain the minimisation solution for each dimension."
   ]
  },
  {
   "cell_type": "markdown",
   "id": "b246ca59",
   "metadata": {},
   "source": [
    "### Exercises\n",
    "\n",
    "#### 1.\n",
    "\n",
    "Use `scipy.optimize.minimize()` to perform a geometry optimisation for your Lennard-Jones potential, again with starting values of $r$ = 3.2 &angst;, $r$ = 4.4 &angst;, and $r$ = 6.0 &angst;.\n",
    "\n",
    "#### 2.\n",
    "\n",
    "The potential energy associated with changes in the Cl-C-C-Cl dihedral angle, $\\theta$ in 1,2-dichloroethane can be modelled as\n",
    "\n",
    "$$U = \\frac{1}{2}\\left\\{A_1\\left[1+\\cos\\theta\\right] + A_2\\left[1+\\cos2\\theta\\right] A_3\\left[1+\\cos3\\theta\\right]\\right\\}$$\n",
    "\n",
    "with $A_1$ = 55.229 kJ mol<sup>&minus;1</sup>, $A_2$ = 3.3.472 kJ mol<sup>&minus;1</sup>, and $A_3$ = -58.576 kJ mol<sup>&minus;1</sup>.\n",
    "\n",
    "- Plot this function for $-\\pi \\leq \\theta \\leq \\pi$.\n",
    "\n",
    "- Using `scipy.optimize.minimize()` test the optimisation behaviour for different initial guesses of $\\theta$. In what ways does the minimisation result depend on the choice of initial guess?"
   ]
  },
  {
   "cell_type": "code",
   "execution_count": null,
   "id": "840a56c1-c19f-49c4-a083-e8576324a098",
   "metadata": {},
   "outputs": [],
   "source": []
  }
 ],
 "metadata": {
  "kernelspec": {
   "display_name": "Python 3 (ipykernel)",
   "language": "python",
   "name": "python3"
  },
  "language_info": {
   "codemirror_mode": {
    "name": "ipython",
    "version": 3
   },
   "file_extension": ".py",
   "mimetype": "text/x-python",
   "name": "python",
   "nbconvert_exporter": "python",
   "pygments_lexer": "ipython3",
   "version": "3.11.10"
  }
 },
 "nbformat": 4,
 "nbformat_minor": 5
}
