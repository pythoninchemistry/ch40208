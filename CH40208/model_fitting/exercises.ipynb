{
 "cells": [
  {
   "cell_type": "markdown",
   "id": "44907b25-dcf2-43e3-a942-dc359305102c",
   "metadata": {},
   "source": [
    "# Exercises\n",
    "\n",
    "## 1. Linear fitting of the Van't Hoff equation\n",
    "\n",
    "The Van’t Hoff equation relates the change in the equilibrium constant, $K$, for a reaction, to a change in temperature, $T$, given that the enthalpy change for the reaction, $\\Delta H$, is constant over the temperature range of interest.\n",
    "\n",
    "$$\\frac{\\mathrm{d} \\ln K}{\\mathrm{d} T} = \\frac{\\Delta H}{RT^2}$$\n",
    "\n",
    "This equation is derived from two standard expressions for the Gibbs free energy change for a reaction:\n",
    "\n",
    "$$\\Delta G = \\Delta H - T \\Delta S$$\n",
    "\n",
    "$$\\Delta G = -RT \\ln K$$\n",
    "\n",
    "Combining these two equations gives the linear form of the Van't Hoff equation:\n",
    "\n",
    "$$\\ln K = -\\frac{\\Delta H}{RT} + \\frac{\\Delta S}{R}$$\n",
    "\n",
    "Differentiating with respect to $1/T$ (keeping $\\Delta H$ and $\\Delta S$ constant) gives the derivative form of the Van't Hoff equation.\n",
    "\n",
    "The linear form of the Van't Hoff equation has the functional form of the equation for a straight line (hence &ldquo;linear form&rdquo;)\n",
    "\n",
    "$$y = mx + c$$.\n",
    "\n",
    "Plotting experimental data as $\\ln K$ against $1/T$ should, therefore, give an approximate straight line (as long as the enthalpy and entropy of reaction are approximately constant over the temperature range of interest). By fitting a straight line to these data, we can obtain &ldquo;best fit&rdquo; values for the slope and intercept, which correspond to $\\Delta H/R$ and to $\\Delta S/R$ in our model. By fitting to data we can, therefore, estimate $\\Delta H$ and $\\Delta S$ for a given reaction."
   ]
  },
  {
   "cell_type": "markdown",
   "id": "8d2e5f5d-c629-4968-beff-ecb79fbc1c97",
   "metadata": {},
   "source": [
    "### (a)\n",
    "\n"
   ]
  },
  {
   "cell_type": "markdown",
   "id": "7d286fc9-c672-492d-af95-037d818e3968",
   "metadata": {},
   "source": [
    "The table below gives experimentally measured equilibrium constants at different temperatures for the reaction\n",
    "\n",
    "$$2\\mathrm{NO}_2 \\rightleftharpoons 2\\mathrm{N}_2\\mathrm{O}_4$$\n",
    "\n",
    "| temperature (°C) | $K$ |\n",
    "|-------------|----|\n",
    "|  9| 34.3 |\n",
    "| 20| 12 |\n",
    "| 25| 8.79 |\n",
    "|33 | 4.4 |\n",
    "|40 | 2.8 |\n",
    "|52 | 1.4 |\n",
    "|60 | 0.751 |\n",
    "|70 | 0.4 |\n",
    "\n",
    "Create two NumPy arrays to store these data."
   ]
  },
  {
   "cell_type": "markdown",
   "id": "3e6cf158-eb1a-4c24-9c07-bc046f360d54",
   "metadata": {},
   "source": [
    "### (b)\n",
    "\n",
    "Convert your raw data into $1/T$ (in inverse Kelvin) and $\\ln K$.\n",
    "\n",
    "Plot these transformed data and confirm that they approximately show a linear relationship."
   ]
  },
  {
   "cell_type": "markdown",
   "id": "6bafffeb-00b4-4414-b7eb-a158acb10ecc",
   "metadata": {},
   "source": [
    "### (c)\n",
    "\n",
    "Write a function called `linear_model()` with arguments $x$, $m$, and $c$, that returns the corresponding $y$ value for the function\n",
    "\n",
    "$$y = mx + c$$"
   ]
  },
  {
   "cell_type": "markdown",
   "id": "23bbafeb-c1ad-44c7-beaa-05836a84e64a",
   "metadata": {},
   "source": [
    "### (d)\n",
    "\n",
    "Replot your raw $1/T$"
   ]
  },
  {
   "cell_type": "code",
   "execution_count": null,
   "id": "06ded705-0768-43e2-bc86-4d2746c3d038",
   "metadata": {},
   "outputs": [],
   "source": []
  }
 ],
 "metadata": {
  "kernelspec": {
   "display_name": "Python 3 (ipykernel)",
   "language": "python",
   "name": "python3"
  },
  "language_info": {
   "codemirror_mode": {
    "name": "ipython",
    "version": 3
   },
   "file_extension": ".py",
   "mimetype": "text/x-python",
   "name": "python",
   "nbconvert_exporter": "python",
   "pygments_lexer": "ipython3",
   "version": "3.11.10"
  }
 },
 "nbformat": 4,
 "nbformat_minor": 5
}
