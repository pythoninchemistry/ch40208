{
 "cells": [
  {
   "cell_type": "markdown",
   "id": "44907b25-dcf2-43e3-a942-dc359305102c",
   "metadata": {},
   "source": [
    "# Exercises\n",
    "\n",
    "## 1. Linear fitting of the Van't Hoff equation\n",
    "\n",
    "The Van’t Hoff equation relates the change in the equilibrium constant, $K$, for a reaction, to a change in temperature, $T$, given that the enthalpy change for the reaction, $\\Delta H$, is constant over the temperature range of interest.\n",
    "\n",
    "$$\\frac{\\mathrm{d} \\ln K}{\\mathrm{d} T} = \\frac{\\Delta H}{RT^2}$$\n",
    "\n",
    "This equation is derived from two standard expressions for the Gibbs free energy change for a reaction:\n",
    "\n",
    "$$\\Delta G = \\Delta H - T \\Delta S$$\n",
    "\n",
    "$$\\Delta G = -RT \\ln K$$\n",
    "\n",
    "Combining these two equations gives the linear form of the Van't Hoff equation:\n",
    "\n",
    "$$\\ln K = -\\frac{\\Delta H}{RT} + \\frac{\\Delta S}{R}$$\n",
    "\n",
    "Differentiating with respect to $1/T$ (keeping $\\Delta H$ and $\\Delta S$ constant) gives the derivative form of the Van't Hoff equation.\n",
    "\n",
    "The linear form of the Van't Hoff equation has the functional form of the equation for a straight line (hence &ldquo;linear form&rdquo;)\n",
    "\n",
    "$$y = mx + c$$\n",
    "\n",
    "Plotting experimental data as $\\ln K$ against $1/T$ should, therefore, give an approximate straight line (as long as the enthalpy and entropy of reaction are approximately constant over the temperature range of interest). By fitting a straight line to these data, we can obtain &ldquo;best fit&rdquo; values for the slope and intercept, which correspond to $\\Delta H/R$ and to $\\Delta S/R$ in our model. By fitting to data we can, therefore, estimate $\\Delta H$ and $\\Delta S$ for a given reaction."
   ]
  },
  {
   "cell_type": "markdown",
   "id": "7d286fc9-c672-492d-af95-037d818e3968",
   "metadata": {},
   "source": [
    "(a) The table below gives experimentally measured equilibrium constants at different temperatures for the reaction\n",
    "\n",
    "$$2\\mathrm{NO}_2 \\rightleftharpoons 2\\mathrm{N}_2\\mathrm{O}_4$$\n",
    "\n",
    "| temperature (°C) | $K$ |\n",
    "|-------------|----|\n",
    "|  9| 34.3 |\n",
    "| 20| 12 |\n",
    "| 25| 8.79 |\n",
    "|33 | 4.4 |\n",
    "|40 | 2.8 |\n",
    "|52 | 1.4 |\n",
    "|60 | 0.751 |\n",
    "|70 | 0.4 |\n",
    "\n",
    "Create two NumPy arrays to store these data."
   ]
  },
  {
   "cell_type": "markdown",
   "id": "3e6cf158-eb1a-4c24-9c07-bc046f360d54",
   "metadata": {},
   "source": [
    "(b) Convert your raw data into $1/T$ (in inverse Kelvin) and $\\ln K$.\n",
    "\n",
    "Plot these transformed data and confirm that they approximately show a linear relationship."
   ]
  },
  {
   "cell_type": "markdown",
   "id": "6bafffeb-00b4-4414-b7eb-a158acb10ecc",
   "metadata": {},
   "source": [
    "(c) Write a function called `linear_model()` with arguments $x$, $m$, and $c$, that returns the corresponding $y$ value for the function\n",
    "\n",
    "$$y = mx + c$$"
   ]
  },
  {
   "cell_type": "markdown",
   "id": "23bbafeb-c1ad-44c7-beaa-05836a84e64a",
   "metadata": {},
   "source": [
    "(d) Replot your raw $1/T$ versus $\\ln K$ data and show that for $m$ = 7400 and $c$ = -22.5 your model approximately described your data."
   ]
  },
  {
   "cell_type": "markdown",
   "id": "a7465c35",
   "metadata": {},
   "source": [
    "(e) Write a function `error_function()` that takes as arguments a list of model parameters, a list of $x$ values, and a list of observed $y$ values. This function should call your `linear_model()` function to calculate the sum-of-squares error for a given pair of model parameters, $m$ and $c$.\n",
    "\n",
    "$$\\chi^2 = \\sum_i\\left[y_i - f(x_i)\\right]^2$$"
   ]
  },
  {
   "cell_type": "markdown",
   "id": "cae94c54",
   "metadata": {},
   "source": [
    "(f) Use `scipy.optimize.minimize()` to find the &ldquo;best fit&rdquo; values of $m$ and $c$ for your data. Use the previous values of $m$ = 7400 and $c$ = -22.5 as your starting guess."
   ]
  },
  {
   "cell_type": "markdown",
   "id": "ac96378e",
   "metadata": {},
   "source": [
    "(g) Replot your data, now including your &ldquo;line of best fit&rdquo;"
   ]
  },
  {
   "cell_type": "markdown",
   "id": "a1fd5beb",
   "metadata": {},
   "source": [
    "(h) One way to perform linear regression in Python without writing your own model function and error function is to use `scipy.stats.linregress()`:\n",
    "\n",
    "```python\n",
    "from scipy.stats import linregress\n",
    "\n",
    "result = linregress(x, y)\n",
    "```\n",
    "\n",
    "You can then access the slope and intercept as `result.slope` and `result.intercept`.\n",
    "\n",
    "Use `scipy.stats.linregress()` to perform linear regression on your data, and confirm that you get the same best fit parameters, $m$ and $c$, as before."
   ]
  },
  {
   "cell_type": "markdown",
   "id": "d296d90a",
   "metadata": {},
   "source": [
    "# 2. Non-linear fitting of kinetic data\n",
    "\n",
    "The data below describe the decomposition of hydrogen peroxide in the presence of excess Ce<sup>III</sup>.\n",
    "\n",
    "$$2\\mathrm{H}_2\\mathrm{O}_2 + 2\\mathrm{Ce}^\\mathrm{III} \\longrightarrow 2\\mathrm{H}_2\\mathrm{O} + \\mathrm{Ce}^\\mathrm{III} + \\mathrm{O}_2$$\n",
    "\n",
    "| Time (s) | [H<sub>2</sub>O<sub>2</sub>] / mol dm<sup>&minus;3</sup> |\n",
    "|----------|------------------|\n",
    "| 2        | 6.23            |\n",
    "| 4        | 4.84            |\n",
    "| 6        | 3.76            |\n",
    "| 8        | 3.20            |\n",
    "| 10       | 2.60            |\n",
    "| 12       | 2.16            |\n",
    "| 14       | 1.85            |\n",
    "| 16       | 1.49            |\n",
    "| 18       | 1.27            |\n",
    "| 20       | 1.01            |"
   ]
  },
  {
   "cell_type": "markdown",
   "id": "e693f423",
   "metadata": {},
   "source": [
    "(a) Store these data in numpy arrays, and plot time versus the concentration of H<sub>2</sub>O<sub>2</sub>.\n",
    "\n",
    "(b) This reaction has a first-order rate equation, which will be our \"model\" for fitting the data:\n",
    "\n",
    "   $$[\\mathrm{A}](t) = [\\mathrm{A}]_0\\exp(-kt)$$ \n",
    "\n",
    "   Write a function `first_order()` to calculate this $[\\mathrm{A}](t)$ as a function of $t$, $[\\mathrm{A}]_0$, and $k$.\n",
    "\n",
    "(c) Write a function `error_function()` that calculates the least-squares error for your first-order kinetic model compared to the experimental data.\n",
    "\n",
    "(d) Use `scipy.optimize.minimize()` to find the best-fit values of $[\\mathrm{A}]_0$, and $k$.\n",
    "\n",
    "(e) Replot the raw data, plus the curve for your best-fit parameters.\n",
    "\n",
    "(f) You can also perform non-linear least-squares fitting, without having to define an error function, using `scipy.optimize.curve_fit()`.\n",
    "\n",
    "```python\n",
    "from scipy.optimize import curve_fit\n",
    "```\n",
    "\n",
    "To use `curve_fit()`, you pass your model function, and the $x$ and $y$ data:\n",
    "```python\n",
    "popt, pcov = curve_fit(model_function, x_data, y_data)\n",
    "```\n",
    "\n",
    "`curve_fit()` returns two numpy arrays. The first array contains the optimised model parameters. The second array contains a 2D array that describes the *covariance* of these parameters. The diagonal elements of this array are estimated uncertainties (standard deviations) for each model parameter, and the off-diagonal elements give information about the degree of correlation between the model parameters.\n",
    "\n",
    "Use `curve_fit()` to confirm your best fit model parameters for your first-order kinetic model. You will need to pass in as arguments your model function, the observed $x$ data (time), and the observed $y$ data (H<sub>2</sub>O<sub>2</sub> concentration)."
   ]
  },
  {
   "cell_type": "code",
   "execution_count": null,
   "id": "9f2fc049",
   "metadata": {},
   "outputs": [],
   "source": []
  }
 ],
 "metadata": {
  "kernelspec": {
   "display_name": "Python 3 (ipykernel)",
   "language": "python",
   "name": "python3"
  },
  "language_info": {
   "codemirror_mode": {
    "name": "ipython",
    "version": 3
   },
   "file_extension": ".py",
   "mimetype": "text/x-python",
   "name": "python",
   "nbconvert_exporter": "python",
   "pygments_lexer": "ipython3",
   "version": "3.11.1"
  }
 },
 "nbformat": 4,
 "nbformat_minor": 5
}
