{
 "cells": [
  {
   "cell_type": "markdown",
   "metadata": {},
   "source": [
    "# Loops\n",
    "\n",
    "A common use for **lists** is to store a **homogeneous** set of data (meaning, each element has the same **type**). For example, we might store a set of reactant concentrations recorded at different times:"
   ]
  },
  {
   "cell_type": "code",
   "execution_count": 1,
   "metadata": {},
   "outputs": [],
   "source": [
    "reactant_concentrations = [5.0, 4.0, 3.0, 2.0, 1.0]"
   ]
  },
  {
   "cell_type": "markdown",
   "metadata": {},
   "source": [
    "We may want to perform the same calculation on each element of a **list**; for example, calculating the square of each concentration, and then store these results in a new **list*. \n",
    "\n",
    "We _could_ do this using **list indexing**, e.g."
   ]
  },
  {
   "cell_type": "code",
   "execution_count": 2,
   "metadata": {},
   "outputs": [
    {
     "name": "stdout",
     "output_type": "stream",
     "text": [
      "[25.0, 16.0, 9.0, 4.0, 1.0]\n"
     ]
    }
   ],
   "source": [
    "squared_concentrations = [reactant_concentrations[0]**2, \n",
    "                          reactant_concentrations[1]**2,\n",
    "                          reactant_concentrations[2]**2,\n",
    "                          reactant_concentrations[3]**2,\n",
    "                          reactant_concentrations[4]**2]\n",
    "print(squared_concentrations)"
   ]
  },
  {
   "cell_type": "markdown",
   "metadata": {},
   "source": [
    "Note that the new list created on the right hand side has been written split over multiple line. \n",
    "\n",
    "Python ignores the end of a line within pairs of brackets `[]`, `()`, or `{}`.\n",
    "\n",
    "This approach is clunky, and error-prone, and does not scale (imagine if we had 100 values in our dataset!)."
   ]
  },
  {
   "cell_type": "markdown",
   "metadata": {},
   "source": [
    "## Looping over elements of a list using `for`\n",
    "\n",
    "We can **loop** over every element of a list (or indeed of any object that represents an ordered set of values), performing the same operation on each element in turn, using a **for loop**.\n",
    "\n",
    "A **for loop** has the following general syntax\n",
    "\n",
    "```python\n",
    "for variable in iterable:\n",
    "    do something\n",
    "```\n",
    "\n",
    "For example, our calculation above to get the squared concentrations might be rewritten as"
   ]
  },
  {
   "cell_type": "code",
   "execution_count": 3,
   "metadata": {},
   "outputs": [
    {
     "name": "stdout",
     "output_type": "stream",
     "text": [
      "25.0\n",
      "16.0\n",
      "9.0\n",
      "4.0\n",
      "1.0\n"
     ]
    }
   ],
   "source": [
    "for c in reactant_concentrations:\n",
    "    print(c**2)"
   ]
  },
  {
   "cell_type": "markdown",
   "metadata": {},
   "source": [
    "The first line defines the start of the **loop**:\n",
    "\n",
    "- `… in reactant_concentrations:`: We are going to loop over each element in turn of the **list** `reactant_concentrations`. \n",
    "- `for c`: At each **iteration** of the loop, we will assign the variable `c` to the corresponding element in `reactant_concentrations`\n",
    "\n",
    "The first line finishes with a colon `:`.\n",
    "\n",
    "After the first line we define what will happen **inside** the loop. The code **inside** a loop is denoted by being **indented** by a fixed amount of **whitespace**; in this case, four spaces.\n",
    "\n",
    "**Indentation** plays a very important in Python, because it marks out where **blocks** of code, such as the code **inside** loops, start and finish."
   ]
  },
  {
   "cell_type": "markdown",
   "metadata": {},
   "source": [
    "When we run this code, for the **first** iteration, the variable `c` is assigned to the **first** value stored in `reactant_concentration`. This is equivalent to writing \n",
    "\n",
    "```python\n",
    "c = reactant_concentration[0]\n",
    "```\n",
    "\n",
    "The line of code **inside** the loop uses this value of `c` to execute the `print()` statement.\n",
    "\n",
    "We then perform the **second** iteration: now the variable `c` is assigned to the **second** value stored in `reactant_concentration`. This is equivalent to \n",
    "\n",
    "```\n",
    "c = reactant_concentration[1]\n",
    "```\n",
    "\n",
    "The line of code **inside** the loop uses this value of `c` to execute the `print()` statement.\n",
    "\n",
    "This is repeated, each time assigning `c` to the next element in the `reactant_concentration` list.\n",
    "\n",
    "Once each element in `reactant_concentration` has been processed, we **exit** the loop.\n",
    "\n",
    "The end of a loop is indicated by **removing** the previous **indentation** e.g."
   ]
  },
  {
   "cell_type": "code",
   "execution_count": 4,
   "metadata": {},
   "outputs": [
    {
     "name": "stdout",
     "output_type": "stream",
     "text": [
      "Inside the loop\n",
      "25.0\n",
      "Inside the loop\n",
      "16.0\n",
      "Inside the loop\n",
      "9.0\n",
      "Inside the loop\n",
      "4.0\n",
      "Inside the loop\n",
      "1.0\n",
      "Outside the loop\n"
     ]
    }
   ],
   "source": [
    "for c in reactant_concentrations:\n",
    "    print('Inside the loop')\n",
    "    print(c**2)\n",
    "print('Outside the loop')"
   ]
  },
  {
   "cell_type": "markdown",
   "metadata": {},
   "source": [
    "Note that the variable `c` can still be used **after** the loop has finished. Furthermore, if you were using a variable `c` **before** this loop, the value will be overwritten:"
   ]
  },
  {
   "cell_type": "code",
   "execution_count": 5,
   "metadata": {},
   "outputs": [
    {
     "name": "stdout",
     "output_type": "stream",
     "text": [
      "c = 32.0\n",
      "25.0\n",
      "16.0\n",
      "9.0\n",
      "4.0\n",
      "1.0\n",
      "finished the loop\n",
      "c = 1.0\n"
     ]
    }
   ],
   "source": [
    "c = '32.0'\n",
    "print(f'c = {c}')\n",
    "for c in reactant_concentrations:\n",
    "    print(c**2)\n",
    "print('finished the loop')\n",
    "print(f'c = {c}')"
   ]
  },
  {
   "cell_type": "markdown",
   "metadata": {},
   "source": [
    "To use a **for loop** to calculate the squared concentrations and store them in a new list, we can use `append()` for each iteration of the loop."
   ]
  },
  {
   "cell_type": "code",
   "execution_count": 6,
   "metadata": {},
   "outputs": [
    {
     "name": "stdout",
     "output_type": "stream",
     "text": [
      "[25.0, 16.0, 9.0, 4.0, 1.0]\n"
     ]
    }
   ],
   "source": [
    "squared_concentrations = []\n",
    "for c in reactant_concentrations:\n",
    "    squared_concentrations.append(c**2)\n",
    "print(squared_concentrations)"
   ]
  },
  {
   "cell_type": "markdown",
   "metadata": {},
   "source": [
    "Here we create and **empty** list on the first line. Then each iteration of the loop calculates the square of the relevant element of `reactant_concentrations`, and uses `append()` to add this to the end of `squared_concentrations`.\n",
    "\n",
    "By adding a `print()` statement inside the loop, we can see how this builds up the final `squared_concentrations` list:"
   ]
  },
  {
   "cell_type": "code",
   "execution_count": 7,
   "metadata": {},
   "outputs": [
    {
     "name": "stdout",
     "output_type": "stream",
     "text": [
      "In the loop\n",
      "squared_concentrations = [25.0]\n",
      "In the loop\n",
      "squared_concentrations = [25.0, 16.0]\n",
      "In the loop\n",
      "squared_concentrations = [25.0, 16.0, 9.0]\n",
      "In the loop\n",
      "squared_concentrations = [25.0, 16.0, 9.0, 4.0]\n",
      "In the loop\n",
      "squared_concentrations = [25.0, 16.0, 9.0, 4.0, 1.0]\n",
      "Outside the loop\n",
      "[25.0, 16.0, 9.0, 4.0, 1.0]\n"
     ]
    }
   ],
   "source": [
    "squared_concentrations = []\n",
    "for c in reactant_concentrations:\n",
    "    squared_concentrations.append(c**2)\n",
    "    print('In the loop')\n",
    "    print(f'squared_concentrations = {squared_concentrations}')\n",
    "print('Outside the loop')\n",
    "print(squared_concentrations)"
   ]
  },
  {
   "cell_type": "markdown",
   "metadata": {},
   "source": [
    "## Enumerating loop iterations\n",
    "\n",
    "Sometimes we want to track which iteration of a loop we are on, while we are going through it. One way to do this is to add another variable that we use to track the numbers of iterations:"
   ]
  },
  {
   "cell_type": "code",
   "execution_count": 8,
   "metadata": {},
   "outputs": [
    {
     "name": "stdout",
     "output_type": "stream",
     "text": [
      "In the loop, iteration 0\n",
      "squared_concentrations = [25.0]\n",
      "In the loop, iteration 1\n",
      "squared_concentrations = [25.0, 16.0]\n",
      "In the loop, iteration 2\n",
      "squared_concentrations = [25.0, 16.0, 9.0]\n",
      "In the loop, iteration 3\n",
      "squared_concentrations = [25.0, 16.0, 9.0, 4.0]\n",
      "In the loop, iteration 4\n",
      "squared_concentrations = [25.0, 16.0, 9.0, 4.0, 1.0]\n",
      "Outside the loop\n",
      "[25.0, 16.0, 9.0, 4.0, 1.0]\n"
     ]
    }
   ],
   "source": [
    "squared_concentrations = []\n",
    "i = 0\n",
    "for c in reactant_concentrations:\n",
    "    squared_concentrations.append(c**2)\n",
    "    print(f'In the loop, iteration {i}')\n",
    "    print(f'squared_concentrations = {squared_concentrations}')\n",
    "    i = i + 1\n",
    "print('Outside the loop')\n",
    "print(squared_concentrations)"
   ]
  },
  {
   "cell_type": "markdown",
   "metadata": {},
   "source": [
    "A better way to do this is to use the `enumerate()` function:"
   ]
  },
  {
   "cell_type": "code",
   "execution_count": 9,
   "metadata": {},
   "outputs": [
    {
     "name": "stdout",
     "output_type": "stream",
     "text": [
      "In the loop, iteration 0\n",
      "squared_concentrations = [25.0]\n",
      "In the loop, iteration 1\n",
      "squared_concentrations = [25.0, 16.0]\n",
      "In the loop, iteration 2\n",
      "squared_concentrations = [25.0, 16.0, 9.0]\n",
      "In the loop, iteration 3\n",
      "squared_concentrations = [25.0, 16.0, 9.0, 4.0]\n",
      "In the loop, iteration 4\n",
      "squared_concentrations = [25.0, 16.0, 9.0, 4.0, 1.0]\n",
      "Outside the loop\n",
      "[25.0, 16.0, 9.0, 4.0, 1.0]\n"
     ]
    }
   ],
   "source": [
    "squared_concentrations = []\n",
    "for i, c in enumerate(reactant_concentrations):\n",
    "    squared_concentrations.append(c**2)\n",
    "    print(f'In the loop, iteration {i}')\n",
    "    print(f'squared_concentrations = {squared_concentrations}')\n",
    "print('Outside the loop')\n",
    "print(squared_concentrations)"
   ]
  },
  {
   "cell_type": "markdown",
   "metadata": {},
   "source": [
    "The `enumerate()` function effectively converts a simple **list** such as `reactant_concentrations` into a sequence of **pairs** of values, i.e.\n",
    "\n",
    "```python\n",
    "((0, 5.0), (1, 4.0), (2, 3.0), (3, 2.0), (1, 1.0))\n",
    "```\n",
    "\n",
    "Now each iteration of the loop assigns `i` *and* `c` to their respective values."
   ]
  },
  {
   "cell_type": "markdown",
   "metadata": {},
   "source": [
    "## Looping over a list of integers using `range()`\n",
    "Sometimes we want to simply loop over a list of integers, e.g., to calculate the first five squared integers we might write:"
   ]
  },
  {
   "cell_type": "code",
   "execution_count": 10,
   "metadata": {},
   "outputs": [
    {
     "name": "stdout",
     "output_type": "stream",
     "text": [
      "1\n",
      "4\n",
      "9\n",
      "16\n",
      "25\n"
     ]
    }
   ],
   "source": [
    "for i in [1, 2, 3, 4, 5]:\n",
    "    print(i**2)"
   ]
  },
  {
   "cell_type": "markdown",
   "metadata": {},
   "source": [
    "or if we want to store these squares in a new list:"
   ]
  },
  {
   "cell_type": "code",
   "execution_count": 11,
   "metadata": {},
   "outputs": [
    {
     "name": "stdout",
     "output_type": "stream",
     "text": [
      "[1, 4, 9, 16, 25]\n"
     ]
    }
   ],
   "source": [
    "squares = []\n",
    "for i in [1, 2, 3, 4, 5]:\n",
    "    squares.append(i**2)\n",
    "print(squares)"
   ]
  },
  {
   "cell_type": "markdown",
   "metadata": {},
   "source": [
    "To generate a sequence of regularly spaced integers we can use the built-in function `range`. For example, to simplify the code above:"
   ]
  },
  {
   "cell_type": "code",
   "execution_count": 12,
   "metadata": {},
   "outputs": [
    {
     "name": "stdout",
     "output_type": "stream",
     "text": [
      "[1, 4, 9, 16, 25]\n"
     ]
    }
   ],
   "source": [
    "squares = []\n",
    "for i in range(1, 6): # loop over i = 1 … 5\n",
    "    squares.append(i**2)\n",
    "print(squares)"
   ]
  },
  {
   "cell_type": "markdown",
   "metadata": {},
   "source": [
    "When `range` is passed two arguments, like this, the syntax is `range(start, stop+1)`.\n",
    "We can also use `range` with a single argument, in which case it starts from `0`."
   ]
  },
  {
   "cell_type": "code",
   "execution_count": 13,
   "metadata": {},
   "outputs": [
    {
     "name": "stdout",
     "output_type": "stream",
     "text": [
      "[0, 1, 4, 9, 16, 25]\n"
     ]
    }
   ],
   "source": [
    "squares = []\n",
    "for i in range(6): # loop over i = 0 … 5\n",
    "    squares.append(i**2)\n",
    "print(squares)"
   ]
  },
  {
   "cell_type": "markdown",
   "metadata": {},
   "source": [
    "You can also specify a step-size different from `1` by passing an optional third argument:"
   ]
  },
  {
   "cell_type": "code",
   "execution_count": 14,
   "metadata": {},
   "outputs": [
    {
     "name": "stdout",
     "output_type": "stream",
     "text": [
      "[0, 4, 16, 36, 64]\n"
     ]
    }
   ],
   "source": [
    "squares = []\n",
    "for i in range(0, 10, 2): # loop over even i = 0 … 10\n",
    "    squares.append(i**2)\n",
    "print(squares)"
   ]
  },
  {
   "cell_type": "markdown",
   "metadata": {},
   "source": [
    "The step size can even be a negative value:"
   ]
  },
  {
   "cell_type": "code",
   "execution_count": 15,
   "metadata": {},
   "outputs": [
    {
     "name": "stdout",
     "output_type": "stream",
     "text": [
      "[100, 81, 64, 49, 36, 25, 16, 9, 4, 1]\n"
     ]
    }
   ],
   "source": [
    "squares = []\n",
    "for i in range(10, 0, -1): # loop over i = 10 … 1\n",
    "    squares.append(i**2)\n",
    "print(squares)"
   ]
  },
  {
   "cell_type": "markdown",
   "metadata": {},
   "source": [
    "## List comprehensions\n",
    "\n",
    "In the examples above, we started with a list of values, looped over every element and performed an operation on that element (squaring it) and then stored the results, in order, in a new list. This is a commmon programming pattern, and Python provides a shorthand syntax for doing this, called **list comprehensions**.\n",
    "\n",
    "The general syntax of a **list comprehension** is\n",
    "\n",
    "```python\n",
    "new_list = [expression for element in iterable]\n",
    "```\n",
    "\n",
    "Compare this to the equivalent **for loop** construction:\n",
    "\n",
    "```python\n",
    "new_list = []\n",
    "for element in iterable:\n",
    "    new_list.append(expression)\n",
    "```"
   ]
  },
  {
   "cell_type": "markdown",
   "metadata": {},
   "source": [
    "Our example of computing squared reactant concentrations can be rewritten using a **list comprehension** as"
   ]
  },
  {
   "cell_type": "code",
   "execution_count": 16,
   "metadata": {},
   "outputs": [
    {
     "name": "stdout",
     "output_type": "stream",
     "text": [
      "[25.0, 16.0, 9.0, 4.0, 1.0]\n"
     ]
    }
   ],
   "source": [
    "squared_concentrations = [c**2 for c in reactant_concentrations]\n",
    "print(squared_concentrations)"
   ]
  },
  {
   "cell_type": "markdown",
   "metadata": {},
   "source": [
    "## Nested loops\n",
    "\n",
    "We saw previously that **lists** can be **nested**, i.e. a **list** may contain one of more **sublists** e.g."
   ]
  },
  {
   "cell_type": "code",
   "execution_count": 17,
   "metadata": {},
   "outputs": [
    {
     "name": "stdout",
     "output_type": "stream",
     "text": [
      "[[1, 2, 3], [4, 5, 6], [7, 8, 9]]\n",
      "[4, 5, 6]\n",
      "6\n"
     ]
    }
   ],
   "source": [
    "my_list = [[1, 2, 3], [4, 5, 6], [7, 8, 9]]\n",
    "print(my_list)\n",
    "print(my_list[1])\n",
    "print(my_list[1][2])"
   ]
  },
  {
   "cell_type": "markdown",
   "metadata": {},
   "source": [
    "If we loop over the elements of this **nested list**, we get each **sublist** in turn:"
   ]
  },
  {
   "cell_type": "code",
   "execution_count": 18,
   "metadata": {},
   "outputs": [
    {
     "name": "stdout",
     "output_type": "stream",
     "text": [
      "0 [1, 2, 3]\n",
      "1 [4, 5, 6]\n",
      "2 [7, 8, 9]\n"
     ]
    }
   ],
   "source": [
    "for i, sublist in enumerate(my_list):\n",
    "    print(i, sublist)"
   ]
  },
  {
   "cell_type": "markdown",
   "metadata": {},
   "source": [
    "We can loop over each element in each **sublist** by writing a second **loop** inside the first **loop** (giving us a pair of **nested loops**):"
   ]
  },
  {
   "cell_type": "code",
   "execution_count": 19,
   "metadata": {},
   "outputs": [
    {
     "name": "stdout",
     "output_type": "stream",
     "text": [
      "outer loop iteration: 0\n",
      "inner loop iteration: 0\n",
      "element = 1\n",
      "outer loop iteration: 0\n",
      "inner loop iteration: 1\n",
      "element = 2\n",
      "outer loop iteration: 0\n",
      "inner loop iteration: 2\n",
      "element = 3\n",
      "outer loop iteration: 1\n",
      "inner loop iteration: 0\n",
      "element = 4\n",
      "outer loop iteration: 1\n",
      "inner loop iteration: 1\n",
      "element = 5\n",
      "outer loop iteration: 1\n",
      "inner loop iteration: 2\n",
      "element = 6\n",
      "outer loop iteration: 2\n",
      "inner loop iteration: 0\n",
      "element = 7\n",
      "outer loop iteration: 2\n",
      "inner loop iteration: 1\n",
      "element = 8\n",
      "outer loop iteration: 2\n",
      "inner loop iteration: 2\n",
      "element = 9\n"
     ]
    }
   ],
   "source": [
    "for i, sublist in enumerate(my_list):\n",
    "    for j, element in enumerate(sublist):\n",
    "        print(f'outer loop iteration: {i}')\n",
    "        print(f'inner loop iteration: {j}')\n",
    "        print(f'element = {element}')"
   ]
  },
  {
   "cell_type": "markdown",
   "metadata": {},
   "source": [
    "We can also write a **nested loop** so that code is only executed as part of the **outer** loop, e.g."
   ]
  },
  {
   "cell_type": "code",
   "execution_count": 20,
   "metadata": {},
   "outputs": [
    {
     "name": "stdout",
     "output_type": "stream",
     "text": [
      "In the outer loop: iteration 0\n",
      "    In the inner loop: iteration 0\n",
      "    element = 1\n",
      "    In the inner loop: iteration 1\n",
      "    element = 2\n",
      "    In the inner loop: iteration 2\n",
      "    element = 3\n",
      "In the outer loop again: iteration 0\n",
      "In the outer loop: iteration 1\n",
      "    In the inner loop: iteration 0\n",
      "    element = 4\n",
      "    In the inner loop: iteration 1\n",
      "    element = 5\n",
      "    In the inner loop: iteration 2\n",
      "    element = 6\n",
      "In the outer loop again: iteration 1\n",
      "In the outer loop: iteration 2\n",
      "    In the inner loop: iteration 0\n",
      "    element = 7\n",
      "    In the inner loop: iteration 1\n",
      "    element = 8\n",
      "    In the inner loop: iteration 2\n",
      "    element = 9\n",
      "In the outer loop again: iteration 2\n"
     ]
    }
   ],
   "source": [
    "for i, sublist in enumerate(my_list):\n",
    "    print(f\"In the outer loop: iteration {i}\")\n",
    "    for j, element in enumerate(sublist):\n",
    "        print(f\"    In the inner loop: iteration {j}\")\n",
    "        print(f\"    element = {element}\")\n",
    "    print(f\"In the outer loop again: iteration {i}\")"
   ]
  },
  {
   "cell_type": "markdown",
   "metadata": {},
   "source": [
    "## Looping over two lists in parallel\n",
    "\n",
    "Sometimes we want to loop over two or more lists in parallel. For example, imagine we want to match up the nobel gases with their atomic numbers:"
   ]
  },
  {
   "cell_type": "code",
   "execution_count": 21,
   "metadata": {},
   "outputs": [],
   "source": [
    "nobel_gases = [\"Helium\", \"Neon\", \"Argon\", \"Krypton\", \"Radon\"]\n",
    "atomic_numbers = [2, 10, 18, 36, 54, 86]"
   ]
  },
  {
   "cell_type": "markdown",
   "metadata": {},
   "source": [
    "We can create a sequence of pairs from two lists using the `zip()` function."
   ]
  },
  {
   "cell_type": "code",
   "execution_count": 22,
   "metadata": {},
   "outputs": [
    {
     "data": {
      "text/plain": [
       "<zip at 0x103a87e40>"
      ]
     },
     "execution_count": 22,
     "metadata": {},
     "output_type": "execute_result"
    }
   ],
   "source": [
    "zip(nobel_gases, atomic_numbers)"
   ]
  },
  {
   "cell_type": "markdown",
   "metadata": {},
   "source": [
    "This has given us a `zip` object, which represents a sequence of pairs from our two original lists."
   ]
  },
  {
   "cell_type": "code",
   "execution_count": 23,
   "metadata": {},
   "outputs": [
    {
     "data": {
      "text/plain": [
       "zip"
      ]
     },
     "execution_count": 23,
     "metadata": {},
     "output_type": "execute_result"
    }
   ],
   "source": [
    "type(zip(nobel_gases, atomic_numbers))"
   ]
  },
  {
   "cell_type": "markdown",
   "metadata": {},
   "source": [
    "We can see how this pairing has worked by converting the `zip` object into another **list**:"
   ]
  },
  {
   "cell_type": "code",
   "execution_count": 24,
   "metadata": {},
   "outputs": [
    {
     "data": {
      "text/plain": [
       "[('Helium', 2), ('Neon', 10), ('Argon', 18), ('Krypton', 36), ('Radon', 54)]"
      ]
     },
     "execution_count": 24,
     "metadata": {},
     "output_type": "execute_result"
    }
   ],
   "source": [
    "list(zip(nobel_gases, atomic_numbers))"
   ]
  },
  {
   "cell_type": "markdown",
   "metadata": {},
   "source": [
    "This is similar to the result of using `enumerate()` we saw earlier, which we could similarly convert to a **list**."
   ]
  },
  {
   "cell_type": "code",
   "execution_count": 25,
   "metadata": {},
   "outputs": [
    {
     "data": {
      "text/plain": [
       "[(0, 'Helium'), (1, 'Neon'), (2, 'Argon'), (3, 'Krypton'), (4, 'Radon')]"
      ]
     },
     "execution_count": 25,
     "metadata": {},
     "output_type": "execute_result"
    }
   ],
   "source": [
    "list(enumerate(nobel_gases))"
   ]
  },
  {
   "cell_type": "markdown",
   "metadata": {},
   "source": [
    "When using `enumerate()` we were able to simultaneously iterate over the list index **and** the corresponding list element using\n",
    "\n",
    "```python\n",
    "for i, element in enumerate(nobel_gases):\n",
    "    …\n",
    "```\n",
    "\n",
    "We can iterate over the **pairs** of values created by the `zip()` function in a similar way:"
   ]
  },
  {
   "cell_type": "code",
   "execution_count": 26,
   "metadata": {},
   "outputs": [
    {
     "name": "stdout",
     "output_type": "stream",
     "text": [
      "The atomic mass of Helium is 2\n",
      "The atomic mass of Neon is 10\n",
      "The atomic mass of Argon is 18\n",
      "The atomic mass of Krypton is 36\n",
      "The atomic mass of Radon is 54\n"
     ]
    }
   ],
   "source": [
    "for name, a in zip(nobel_gases, atomic_numbers):\n",
    "    print(f'The atomic mass of {name} is {a}')"
   ]
  },
  {
   "cell_type": "markdown",
   "metadata": {},
   "source": [
    "## Exercises\n",
    "\n",
    "### Exercise 1: Factorial Calculation\n",
    "\n",
    "**Problem:** The factorial of a positive integer $n$ (written as $n!$) is the product of all positive integers less than or equal to $n$. For example:\n",
    "\n",
    "$$5! = 5 \\times 4 \\times 3 \\times 2 \\times 1 = 120$$\n",
    "\n",
    "Factorials appear frequently in chemistry, particularly in statistical mechanics and combinatorics (e.g., calculating the number of ways to arrange molecules).\n",
    "\n",
    "Write a `for` loop using `range()` that calculates the factorial of a given number.\n",
    "\n",
    "**Test your code with:**\n",
    "- $n = 5$ (should give 120)\n",
    "- $n = 10$ (should give 3,628,800)\n",
    "- $n = 0$ (by convention, $0! = 1$)\n",
    "\n",
    "```{dropdown} Hint\n",
    "- Start with `result = 1`\n",
    "- Use `range()` to generate the numbers you need to multiply\n",
    "- Remember that `range(1, n+1)` gives you 1, 2, 3, ..., n\n",
    "```"
   ]
  },
  {
   "cell_type": "markdown",
   "metadata": {},
   "source": [
    "---\n",
    "\n",
    "### Exercise 2: Molecular Mass Calculation\n",
    "\n",
    "**Problem:** The molecular mass of a compound is calculated by summing the products of each element's atomic mass and its stoichiometric coefficient in the molecular formula.\n",
    "\n",
    "For example, for water (H<sub>2</sub>O):\n",
    "- H appears 2 times with atomic mass 1.008 u\n",
    "- O appears 1 time with atomic mass 15.999 u\n",
    "- Molecular mass = $2 \\times 1.008 + 1 \\times 15.999 = 18.015$ u\n",
    "\n",
    "Given a list of atomic masses and a list of stoichiometric coefficients, calculate the molecular mass of a compound using either a `for` loop or a list comprehension.\n",
    "\n",
    "**Test case 1: Water (H<sub>2</sub>O)**\n",
    "```python\n",
    "atomic_masses = [1.008, 15.999]  # H, O\n",
    "stoichiometric_coefficients = [2, 1]  # H₂O\n",
    "# Expected result: 18.015 u\n",
    "```\n",
    "\n",
    "**Test case 2: Glucose (C<sub>6</sub>H<sub>12</sub>O<sub>6</sub>)**\n",
    "```python\n",
    "atomic_masses = [12.011, 1.008, 15.999]  # C, H, O\n",
    "stoichiometric_coefficients = [6, 12, 6]  # C₆H₁₂O₆\n",
    "# Expected result: 180.156 u\n",
    "```\n",
    "\n",
    "**Test case 3: Sulfuric acid (H<sub>2</sub>SO<sub>4</sub>)**\n",
    "```python\n",
    "atomic_masses = [1.008, 32.065, 15.999]  # H, S, O\n",
    "stoichiometric_coefficients = [2, 1, 4]  # H₂SO₄\n",
    "# Expected result: 98.079 u\n",
    "```\n",
    "\n",
    "```{dropdown} Hint\n",
    "**Using a for loop:**\n",
    "- Start with `molecular_mass = 0`\n",
    "- Loop through the indices using range(len(atomic_masses))\n",
    "- For each index, multiply the atomic mass by its coefficient and add to the total\n",
    "\n",
    "**Using a list comprehension:**\n",
    "- Use `zip()` to pair up atomic masses with their coefficients\n",
    "- Create a list of products: `[mass * coeff for mass, coeff in zip(...)]`\n",
    "- Use `sum()` to add them all up\n",
    "\n",
    "**Alternative using enumerate:**\n",
    "- Loop with `for i, mass in enumerate(atomic_masses)`:\n",
    "- Access the corresponding coefficient with `stoichiometric_coefficients[i]`\n",
    "```"
   ]
  },
  {
   "cell_type": "markdown",
   "metadata": {},
   "source": [
    "---\n",
    "\n",
    "### Exercise 3: Interatomic Distances with Nested Loops\n",
    "\n",
    "**Problem:** In the [Lists exercises](../python_basics/lists.ipynb), you calculated distances between atoms in a 3-atom molecule. Now you'll extend this to a larger molecule and use **nested loops** to automate the calculation.\n",
    "\n",
    "Consider an ammonia molecule (NH<sub>3</sub>) with the following atomic coordinates (in Ångströms):\n",
    "```python\n",
    "# Atom coordinates: [x, y, z]\n",
    "atom_N = [0.0, 0.0, 0.0]      # Nitrogen at origin\n",
    "atom_H1 = [0.0, 0.94, 0.38]   # Hydrogen 1\n",
    "atom_H2 = [0.81, -0.47, 0.38] # Hydrogen 2  \n",
    "atom_H3 = [-0.81, -0.47, 0.38] # Hydrogen 3\n",
    "\n",
    "atoms = [atom_N, atom_H1, atom_H2, atom_H3]\n",
    "atom_labels = ['N', 'H1', 'H2', 'H3']\n",
    "```\n",
    "\n",
    "The distance between two atoms is calculated as:\n",
    "\n",
    "$$r_{ij} = \\sqrt{(x_i - x_j)^2 + (y_i - y_j)^2 + (z_i - z_j)^2}$$\n",
    "\n",
    "#### Part A: Full Distance Matrix\n",
    "\n",
    "Write nested loops to calculate all pairwise distances, including:\n",
    "\n",
    "- The distance of each atom to itself (which will be 0)\n",
    "- Each unique pair twice (e.g., both distance from N to H1, and H1 to N)\n",
    "\n",
    "Print the results in a clear format showing which atoms you're calculating the distance between\n",
    "\n",
    "**Example output:**\n",
    "```python\n",
    "Distance from N to N: 0.0000 Å\n",
    "Distance from N to H1: 1.0140 Å\n",
    "Distance from N to H2: 1.0140 Å\n",
    "...\n",
    "```\n",
    "\n",
    "```{dropdown} Hint\n",
    "- Use an outer loop: `for i in range(len(atoms))`:\n",
    "- Use an inner loop: `for j in range(len(atoms))`:\n",
    "- For each pair (i, j), calculate the distance between `atoms[i]` and `atoms[j]`\n",
    "- Use `atom_labels[i]` and `atom_labels[j]` to print which atoms you're comparing\n",
    "\n",
    "You should get 16 distances total (4 &times; 4)\n",
    "```\n",
    "\n",
    "#### Part B: Unique Distances Only\n",
    "You'll notice that Part A calculates many redundant distances:\n",
    "\n",
    "- Distances of atoms to themselves (always 0)\n",
    "- Each pair twice (distance from N to H1 is the same as H1 to N)\n",
    "\n",
    "Modify your nested loops to calculate only the **unique** pairwise distances. There are 6 unique pairs in a 4-atom molecule: N-H1, N-H2, N-H3, H1-H2, H1-H3, H2-H3.\n",
    "\n",
    "```{dropdown} Hint\n",
    "Think about the pattern:\n",
    "\n",
    "- For atom 0 (N), we want to compare with atoms 1, 2, 3\n",
    "- For atom 1 (H1), we want to compare with atoms 2, 3 (we already did 0-1)\n",
    "- For atom 2 (H2), we want to compare with atom 3 (we already did 0-2 and 1-2)\n",
    "- For atom 3 (H3), we don't need to compare with anything (all pairs already calculated)\n",
    "\n",
    "How can you modify your inner loop to follow this pattern?\n",
    "```\n",
    "\n",
    "**Example output:**\n",
    "```python\n",
    "Distance from N to H1: 1.0140 Å\n",
    "Distance from N to H2: 1.0140 Å\n",
    "Distance from N to H3: 1.0140 Å\n",
    "Distance from H1 to H2: 1.6453 Å\n",
    "Distance from H1 to H3: 1.6453 Å\n",
    "Distance from H2 to H3: 1.6453 Å\n",
    "```\n",
    "\n",
    "You should get exactly 6 distances."
   ]
  },
  {
   "cell_type": "code",
   "execution_count": null,
   "metadata": {},
   "outputs": [],
   "source": []
  }
 ],
 "metadata": {
  "kernelspec": {
   "display_name": "Python 3 (ipykernel)",
   "language": "python",
   "name": "python3"
  },
  "language_info": {
   "codemirror_mode": {
    "name": "ipython",
    "version": 3
   },
   "file_extension": ".py",
   "mimetype": "text/x-python",
   "name": "python",
   "nbconvert_exporter": "python",
   "pygments_lexer": "ipython3",
   "version": "3.12.9"
  }
 },
 "nbformat": 4,
 "nbformat_minor": 4
}
