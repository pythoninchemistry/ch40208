{
 "cells": [
  {
   "cell_type": "markdown",
   "metadata": {},
   "source": [
    "# Exercises\n",
    "\n",
    "We will skip the simple BODMAS exercises and look first at the chemical calculations.\n",
    "\n",
    "Calculate the energy, in Joules, of radiation with a particular wavenumber,\n",
    "\n",
    "$$ E = hc\\bar{\\nu}, $$\n",
    "\n",
    "where, $c$ is the speed of light, $h$ is Planck's constant, and $\\bar{\\nu}$ is $1700$ cm<sup>-1</sup>."
   ]
  },
  {
   "cell_type": "code",
   "execution_count": 1,
   "metadata": {},
   "outputs": [
    {
     "name": "stdout",
     "output_type": "stream",
     "text": [
      "3.37926e-20\n"
     ]
    }
   ],
   "source": [
    "c = 3e10 #cm/s\n",
    "h = 6.626e-34 #Js\n",
    "wavenumber = 1700 # /cm\n",
    "\n",
    "energy = h * c * wavenumber\n",
    "print(energy)"
   ]
  },
  {
   "cell_type": "markdown",
   "metadata": {},
   "source": [
    "Evaluate the $\\text{pH}$ when the concentration of hydronium ions is $1.524\\times 10^{-5}$ M, \n",
    "\n",
    "$$ \\text{pH} = -\\log_{10}[\\text{H}_3\\text{O}^+] $$"
   ]
  },
  {
   "cell_type": "code",
   "execution_count": 2,
   "metadata": {},
   "outputs": [
    {
     "name": "stdout",
     "output_type": "stream",
     "text": [
      "4.8170150329964185\n"
     ]
    }
   ],
   "source": [
    "from math import log10\n",
    "\n",
    "concentration = 1.524e-5\n",
    "\n",
    "pH = - log10(concentration)\n",
    "print(pH)"
   ]
  },
  {
   "cell_type": "markdown",
   "metadata": {},
   "source": [
    "Find the potential energy, in Joules, between two atoms at a distance of $2$ Å, modelled with the Lennard-Jones potential model, \n",
    "\n",
    "$$ E = \\frac{A}{r^{12}} - \\frac{B}{r^6},$$\n",
    "\n",
    "where $r$ is the interatomic distances and $A$ and $B$ are interaction specific constants for the Argon-Argon interaction these are $1.36 \\times 10^{-134}$ Jm<sup>12</sup> and $9.27 \\times 10^{-78}$ Jm<sup>6</sup> respectively. "
   ]
  },
  {
   "cell_type": "code",
   "execution_count": 3,
   "metadata": {},
   "outputs": [
    {
     "name": "stdout",
     "output_type": "stream",
     "text": [
      "3.175468749999998e-18\n"
     ]
    }
   ],
   "source": [
    "r = 2e-10\n",
    "A = 1.36e-134\n",
    "B = 9.27e-78\n",
    "\n",
    "energy = A / (r ** 12) - B / (r ** 6)\n",
    "print(energy)"
   ]
  },
  {
   "cell_type": "markdown",
   "metadata": {},
   "source": [
    "The next question is a longer form question. \n",
    "\n",
    "The standard Gibbs free energy for a reaction at a particular temperature is related to the equilibrium constant at that temperature via, \n",
    "\n",
    "$$ \\Delta G = -RT\\ln{K}. $$\n",
    "\n",
    "For the reaction:\n",
    "\n",
    "PCl<sub>3</sub> (g) + Cl<sub>2</sub> (g) → PCl<sub>5</sub> (g)\n",
    "\n",
    "The standard free energies of formation $\\Delta G_f^\\circ$ for each reactant and product are given below, \n",
    "- PCl<sub>3</sub>: $-267.8$ kJmol<sup>-1</sup>\n",
    "- PCl<sub>5</sub>: $-305.0$ kJmol<sup>-1</sup>\n",
    "- Cl<sub>2</sub>: $0$ kJmol<sup>-1</sup>\n",
    "Write a Jupyter Notebook cell to achieve the following: \n",
    "- Using Hess's law, find the equilibrium constant $K$, for the above reaction.\n",
    "- Then assuming that $\\Delta H$ and $\\Delta S$ are independent of temperature between $298$ K and $350$ K, calculate $\\Delta H^\\circ$ (e.g. at $298$ K), given that $\\Delta G_r = -20.2$ kJmol<sup>-1</sup> at $350$ K. The following relation will help, \n",
    "\n",
    "$$ \\Delta G = \\Delta H - T\\Delta S $$\n",
    "\n",
    "The first step is to use Hess's law to find the free energy change for the reaction, this is the difference between the sum of the free energies of formation for the products and the reactants. "
   ]
  },
  {
   "cell_type": "code",
   "execution_count": 4,
   "metadata": {},
   "outputs": [
    {
     "name": "stdout",
     "output_type": "stream",
     "text": [
      "-37.19999999999999\n"
     ]
    }
   ],
   "source": [
    "dg_products = -305.0 #kJ/mol\n",
    "dg_reactants = -267.8 + 0 #kJ/mol\n",
    "\n",
    "dg_298 = dg_products - dg_reactants\n",
    "print(dg_298)"
   ]
  },
  {
   "cell_type": "markdown",
   "metadata": {},
   "source": [
    "This is then put into the first equation. "
   ]
  },
  {
   "cell_type": "code",
   "execution_count": 5,
   "metadata": {},
   "outputs": [
    {
     "name": "stdout",
     "output_type": "stream",
     "text": [
      "3317426.4529509316\n"
     ]
    }
   ],
   "source": [
    "from math import exp\n",
    "\n",
    "R = 8.314e-3 #kJ/molK\n",
    "T = 298 #K\n",
    "\n",
    "K = exp(-dg_298 / (R * T))\n",
    "print(K)"
   ]
  },
  {
   "cell_type": "markdown",
   "metadata": {},
   "source": [
    "We can then use simultaneous equations to rearrange the second equation. \n",
    "\n",
    "$$ \\Delta G_1 = \\Delta H - T_1\\Delta S $$\n",
    "\n",
    "$$ \\Delta G_2 = \\Delta H - T_2\\Delta S $$\n",
    "\n",
    "$$ \\Delta G_1 - \\Delta G_2 = T_2\\Delta S - T_1\\Delta S $$\n",
    "\n",
    "$$ \\Delta S = \\frac{\\Delta G_1 - \\Delta G_2}{T_2 - T_1}$$\n",
    "\n",
    "$$ \\frac{\\Delta H - \\Delta G_1}{T_1} = \\frac{\\Delta G_1 - \\Delta G_2}{T_2 - T_1}$$\n",
    "\n",
    "$$ \\Delta H = \\frac{T_1(\\Delta G_1 - \\Delta G_2)}{T_2 - T_1} + \\Delta G_1$$"
   ]
  },
  {
   "cell_type": "code",
   "execution_count": 6,
   "metadata": {},
   "outputs": [
    {
     "name": "stdout",
     "output_type": "stream",
     "text": [
      "-134.62307692307687\n"
     ]
    }
   ],
   "source": [
    "dg_350 = -20.2 #kJ/mol\n",
    "T_350 = 350 #K\n",
    "T_298 = 298 #K\n",
    "\n",
    "d_H = (T_298 * (dg_298 - dg_350) / (T_350 - T_298)) + dg_298\n",
    "print(d_H)"
   ]
  },
  {
   "cell_type": "code",
   "execution_count": null,
   "metadata": {},
   "outputs": [],
   "source": []
  }
 ],
 "metadata": {
  "kernelspec": {
   "display_name": "Python 3 (ipykernel)",
   "language": "python",
   "name": "python3"
  },
  "language_info": {
   "codemirror_mode": {
    "name": "ipython",
    "version": 3
   },
   "file_extension": ".py",
   "mimetype": "text/x-python",
   "name": "python",
   "nbconvert_exporter": "python",
   "pygments_lexer": "ipython3",
   "version": "3.11.1"
  }
 },
 "nbformat": 4,
 "nbformat_minor": 4
}
