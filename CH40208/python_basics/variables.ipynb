{
 "cells": [
  {
   "cell_type": "markdown",
   "metadata": {},
   "source": [
    "# Variables\n",
    "\n",
    "Until now, all of the Python examples have used explicit data values typed directly into the **code cells**. This is okay for typing out a quick numerical calculation, but does not let us do anything any more sophisticated with our data. To do anything more complex your code will need to store and retrieve data, and to change the values of these data as you perform your calculations, which we do using **variables**.\n",
    "\n",
    "## What is a variable?\n",
    "\n",
    "A variable is a Python is an object that stores some data. \n",
    "\n",
    "This data can be a wide range of **types**, including `int`, `float`, or `complex`; a `string`; a `bool`; even a function, or a **collection** of other variables. \n",
    "\n",
    "## Assigning a variable\n",
    "\n",
    "To create a new variable and **assign** it a value we use `=`."
   ]
  },
  {
   "cell_type": "code",
   "execution_count": 1,
   "metadata": {},
   "outputs": [],
   "source": [
    "days_in_october = 31"
   ]
  },
  {
   "cell_type": "markdown",
   "metadata": {},
   "source": [
    "This creates a variable named `days_in_october` and assigns it the integer value `31`. \n",
    "\n",
    "<p align=\"center\">\n",
    "     <img src=\"https://github.com/pythoninchemistry/ch40208/raw/main/CH40208/python_basics/images/days_in_october.png\" width=\"32%\" alt=\"The assignment of the value 31 to the variable named days_in_october.\"/>\n",
    " </p>\n",
    "\n",
    "The left-hand side of the assignment expression is the **variable name**. \n",
    "- Variable name must start with a letter or an underscore.\n",
    "- Variable names can be any length and can contain upper- and lower-case letters, numbers, and underscores.\n",
    "- Variable names are **case sensitive**. `my_name` and `My_Name` are two different variables.\n",
    "- Variable names cannot be special **reserved keywords**. You can see the full list of **reserved keywords** by running the command `help(\"keywords\")` in a **code cell**.\n",
    "\n",
    "Now we can use the variable `days_in_october` in place of the integer `31`:"
   ]
  },
  {
   "cell_type": "code",
   "execution_count": 2,
   "metadata": {},
   "outputs": [
    {
     "name": "stdout",
     "output_type": "stream",
     "text": [
      "There are 31 days in October\n"
     ]
    }
   ],
   "source": [
    "print(\"There are\", days_in_october, \"days in October\")"
   ]
  },
  {
   "cell_type": "markdown",
   "metadata": {},
   "source": [
    "### Aside: f-strings\n",
    "\n",
    "A neater way to do this is to use **f-strings**, which provide a way to embed expressions inside strings. An **f-string** is a **string literal** with an `f` character at the beginning, and curly brackets enclosing any expressions. When the **f-string** is created, any enclosed expressions are evaluated to give a single **interpolated** string:"
   ]
  },
  {
   "cell_type": "code",
   "execution_count": 3,
   "metadata": {},
   "outputs": [
    {
     "data": {
      "text/plain": [
       "'There are 31 days in October'"
      ]
     },
     "execution_count": 3,
     "metadata": {},
     "output_type": "execute_result"
    }
   ],
   "source": [
    "f\"There are {days_in_october} days in October\""
   ]
  },
  {
   "cell_type": "markdown",
   "metadata": {},
   "source": [
    "`days_in_october` can be used in any of the ways that we might use the value assigned to it. i.e. `days_in_october` behaves like an **integer**. If we call type with `days_in_october` we can confirm the assigned value is an `int`. "
   ]
  },
  {
   "cell_type": "code",
   "execution_count": 4,
   "metadata": {},
   "outputs": [
    {
     "data": {
      "text/plain": [
       "int"
      ]
     },
     "execution_count": 4,
     "metadata": {},
     "output_type": "execute_result"
    }
   ],
   "source": [
    "type(days_in_october)"
   ]
  },
  {
   "cell_type": "markdown",
   "metadata": {},
   "source": [
    "Variables can also appear on the right-hand side of variable assignments."
   ]
  },
  {
   "cell_type": "code",
   "execution_count": 5,
   "metadata": {},
   "outputs": [
    {
     "name": "stdout",
     "output_type": "stream",
     "text": [
      "3\n"
     ]
    }
   ],
   "source": [
    "a = 3\n",
    "b = a\n",
    "print(b)"
   ]
  },
  {
   "cell_type": "markdown",
   "metadata": {},
   "source": [
    "- In the first line, we create a variable `a` and assign it the value `3`.\n",
    "- In the second line, we create a variable `b` and assign it to the same value as the variable `a`. This is the same as if we had written `b = 3`.\n",
    "- In the third line we print `b`.\n",
    "\n",
    "<p align=\"center\">\n",
    "     <img src=\"https://github.com/pythoninchemistry/ch40208/raw/main/CH40208/python_basics/images/a_and_b.png\" width=\"30%\" alt=\"The assignment of 3 to the variable a and the assigment of this to b.\"/>\n",
    " </p>\n",
    "\n",
    "Because `b` is assigned to the **value** stored in `a`, and not to `a` itself, if we **reassign** `a`, the value stored in `b` does not change."
   ]
  },
  {
   "cell_type": "code",
   "execution_count": 6,
   "metadata": {},
   "outputs": [
    {
     "name": "stdout",
     "output_type": "stream",
     "text": [
      "a = 2\n",
      "b = 3\n"
     ]
    }
   ],
   "source": [
    "a = 3\n",
    "b = a\n",
    "a = 2\n",
    "print(f'a = {a}')\n",
    "print(f'b = {b}')"
   ]
  },
  {
   "cell_type": "markdown",
   "metadata": {},
   "source": [
    "<p align=\"center\">\n",
    "     <img src=\"https://github.com/pythoninchemistry/ch40208/raw/main/CH40208/python_basics/images/a_and_b_switch.png\" width=\"50%\" alt=\"The assignment of 3 to the variable a and the assigment of this to b, followed by the reassignment of a as 2.\"/>\n",
    " </p>\n",
    "\n",
    "## Multiple assignment\n",
    "\n",
    "Python allows multiple variables to be assigned in the same statement:"
   ]
  },
  {
   "cell_type": "code",
   "execution_count": 7,
   "metadata": {},
   "outputs": [
    {
     "name": "stdout",
     "output_type": "stream",
     "text": [
      "21 21 21\n"
     ]
    }
   ],
   "source": [
    "a = b = c = 21\n",
    "print(a, b, c)"
   ]
  },
  {
   "cell_type": "markdown",
   "metadata": {},
   "source": [
    "## Empty variables\n",
    "\n",
    "A variable may also be set to contain no value by assigning it `None`."
   ]
  },
  {
   "cell_type": "code",
   "execution_count": 8,
   "metadata": {},
   "outputs": [],
   "source": [
    "a = None"
   ]
  },
  {
   "cell_type": "code",
   "execution_count": 9,
   "metadata": {},
   "outputs": [
    {
     "name": "stdout",
     "output_type": "stream",
     "text": [
      "None\n"
     ]
    }
   ],
   "source": [
    "print(a)"
   ]
  }
 ],
 "metadata": {
  "kernelspec": {
   "display_name": "Python 3 (ipykernel)",
   "language": "python",
   "name": "python3"
  },
  "language_info": {
   "codemirror_mode": {
    "name": "ipython",
    "version": 3
   },
   "file_extension": ".py",
   "mimetype": "text/x-python",
   "name": "python",
   "nbconvert_exporter": "python",
   "pygments_lexer": "ipython3",
   "version": "3.8.5"
  }
 },
 "nbformat": 4,
 "nbformat_minor": 4
}
