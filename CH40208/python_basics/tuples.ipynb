{
 "cells": [
  {
   "cell_type": "markdown",
   "id": "ee784ed9-a393-48d3-8de1-ad85899c2e13",
   "metadata": {},
   "source": [
    "# Tuples\n",
    "\n",
    "## Introduction to Tuples\n",
    "\n",
    "A `tuple` is an ordered collection of objects, similar to a `list`.\n",
    "However, tuples have some distinct characteristics that make them useful in specific scenarios.\n",
    "\n",
    "## Defining a Tuple\n",
    "\n",
    "Tuples are defined using parentheses (round brackets) `()` instead of the square brackets `[]` used for lists."
   ]
  },
  {
   "cell_type": "code",
   "execution_count": 1,
   "id": "abf5dca2-a0bb-427a-a86b-7e749bf6326f",
   "metadata": {},
   "outputs": [],
   "source": [
    "noble_gases = ('helium', 'neon', 'argon', 'krypton', 'xenon', 'radon')"
   ]
  },
  {
   "cell_type": "markdown",
   "id": "488221f2-6780-41c5-b2ec-dd70a303b2ff",
   "metadata": {},
   "source": [
    "We can check `noble_gases` is a tuple, using the `type()` function:"
   ]
  },
  {
   "cell_type": "code",
   "execution_count": 2,
   "id": "d34aaa54-fc20-40fd-893b-6f2f34122a55",
   "metadata": {},
   "outputs": [
    {
     "data": {
      "text/plain": [
       "tuple"
      ]
     },
     "execution_count": 2,
     "metadata": {},
     "output_type": "execute_result"
    }
   ],
   "source": [
    "type(noble_gases)"
   ]
  },
  {
   "cell_type": "markdown",
   "id": "20e7ea01-9841-4672-9a3f-6fcfb3fd825f",
   "metadata": {},
   "source": [
    "## Accessing Tuple elements\n",
    "\n",
    "Like lists, we can use the index notation to access particular elements in a tuple."
   ]
  },
  {
   "cell_type": "code",
   "execution_count": 3,
   "id": "9ee6f094-37fa-42da-9ef5-51711821a011",
   "metadata": {},
   "outputs": [
    {
     "name": "stdout",
     "output_type": "stream",
     "text": [
      "helium\n"
     ]
    }
   ],
   "source": [
    "print(noble_gases[0])"
   ]
  },
  {
   "cell_type": "code",
   "execution_count": 4,
   "id": "765cfad4-90cb-4b1c-84a3-149be2638a34",
   "metadata": {},
   "outputs": [
    {
     "name": "stdout",
     "output_type": "stream",
     "text": [
      "radon\n"
     ]
    }
   ],
   "source": [
    "print(noble_gases[-1])"
   ]
  },
  {
   "cell_type": "markdown",
   "id": "1270b1df-78ea-47e3-9b0e-4cb7d03fc6cc",
   "metadata": {},
   "source": [
    "## Tuples are Immutable\n",
    "\n",
    "The main difference between a tuple and a list is that tuples are **immutable**: once created, they cannot be altered."
   ]
  },
  {
   "cell_type": "code",
   "execution_count": 5,
   "id": "4bd1dc89-077c-4b29-9a59-e5d5603c6958",
   "metadata": {},
   "outputs": [
    {
     "ename": "TypeError",
     "evalue": "'tuple' object does not support item assignment",
     "output_type": "error",
     "traceback": [
      "\u001b[0;31m---------------------------------------------------------------------------\u001b[0m",
      "\u001b[0;31mTypeError\u001b[0m                                 Traceback (most recent call last)",
      "Cell \u001b[0;32mIn[5], line 1\u001b[0m\n\u001b[0;32m----> 1\u001b[0m \u001b[43mnoble_gases\u001b[49m\u001b[43m[\u001b[49m\u001b[38;5;241;43m0\u001b[39;49m\u001b[43m]\u001b[49m \u001b[38;5;241m=\u001b[39m \u001b[38;5;124m'\u001b[39m\u001b[38;5;124mHelium\u001b[39m\u001b[38;5;124m'\u001b[39m\n",
      "\u001b[0;31mTypeError\u001b[0m: 'tuple' object does not support item assignment"
     ]
    }
   ],
   "source": [
    "noble_gases[0] = 'Helium'"
   ]
  },
  {
   "cell_type": "markdown",
   "id": "54934d54-ef36-49c2-9b7f-c5d7fb5d62a9",
   "metadata": {},
   "source": [
    "However, you can still concatenate tuples:"
   ]
  },
  {
   "cell_type": "code",
   "execution_count": 6,
   "id": "8d1f4459-a253-4219-bdab-0b6da0e6f85d",
   "metadata": {},
   "outputs": [
    {
     "name": "stdout",
     "output_type": "stream",
     "text": [
      "('helium', 'neon', 'argon', 'krypton', 'xenon', 'radon', 'oganesson')\n"
     ]
    }
   ],
   "source": [
    "new_noble_gases = noble_gases + ('oganesson',)\n",
    "print(new_noble_gases)"
   ]
  },
  {
   "cell_type": "markdown",
   "id": "247001ab",
   "metadata": {},
   "source": [
    "Note the trailing comma in `('oganesson',)` — this is necessary for Python to recognise this as a tuple with one element."
   ]
  },
  {
   "cell_type": "markdown",
   "id": "eb734605-05f4-4b4b-ac44-bcba80a8daf5",
   "metadata": {},
   "source": [
    "## Tuple Properties\n",
    "\n",
    "1. **Heterogeneous Data**: Tuples can contain items of different data types.\n"
   ]
  },
  {
   "cell_type": "code",
   "execution_count": 9,
   "id": "3b022b92",
   "metadata": {},
   "outputs": [
    {
     "name": "stdout",
     "output_type": "stream",
     "text": [
      "(0, 'a', 2.3)\n"
     ]
    }
   ],
   "source": [
    "my_tuple = (0, 'a', 2.3)\n",
    "print(my_tuple)"
   ]
  },
  {
   "cell_type": "markdown",
   "id": "a6c0888d",
   "metadata": {},
   "source": [
    "2. **Conversion**: You can convert a tuple to a list and vice versa:"
   ]
  },
  {
   "cell_type": "code",
   "execution_count": 10,
   "id": "81110406-a2fe-4d1a-81f6-4b85333b7b88",
   "metadata": {},
   "outputs": [
    {
     "name": "stdout",
     "output_type": "stream",
     "text": [
      "[0, 'a', 2.3]\n"
     ]
    }
   ],
   "source": [
    "my_list = list(my_tuple)\n",
    "print(my_list)"
   ]
  },
  {
   "cell_type": "markdown",
   "id": "f14c89ee",
   "metadata": {},
   "source": [
    "## Tuples vs Lists: When to Use Each\n",
    "\n",
    "\n",
    "Python provides both tuples and lists to cater to different programming needs and scenarios.\n",
    "\n",
    "### Key Differences\n",
    "\n",
    "1. **Mutability**:\n",
    "    - Lists are mutable (can be changed after creation).\n",
    "    - Tuples are immutable (cannot be changed after creation).\n",
    "2. **Syntax**:\n",
    "    - Lists use square brackets: `[1, 2, 3]`.\n",
    "    - Tuples use round brackets: `(1, 2, 3)`.\n",
    "3. **Performance**:\n",
    "    - Tuples are generally more memory efficient and faster to process.\n",
    "    \n",
    "### Advantages of Tuples\n",
    "\n",
    "1. **Data Integrity**: Immutability prevents accidental modifications.\n",
    "2. **Debugging**: If you try to change a tuple, Python will raise an error, helping catch bugs early.\n",
    "3. **Guaranteed Consistency**: The contents of a tuple remain the same throughout your code.\n",
    "\n",
    "### When to Choose Tuples\n",
    "\n",
    "- Representing fixed collections of data (e.g., RGB color values).\n",
    "- Returning multiple values from a function.\n",
    "- When you want to ensure data doesn't change accidentally.\n",
    "- As dictionary keys (when needed).\n",
    "\n",
    "### When to Choose Lists\n",
    "\n",
    "- When you need a collection that will change size.\n",
    "- When you'll frequently modify individual elements.\n",
    "- When you need list-specific methods (e.g., `sort()`, `append()`).\n",
    "\n",
    "### Conclusion\n",
    "\n",
    "In general, unless you know that you are going to want to do something with your data that you can only do with a list, it is often a good idea to use a tuple instead. This practice can lead to more efficient and less error-prone code. However, if you're unsure or need the flexibility, starting with a list is often a safe choice. As you gain experience, you'll develop an intuition for when each is most appropriate."
   ]
  },
  {
   "cell_type": "code",
   "execution_count": null,
   "id": "83eb21c6",
   "metadata": {},
   "outputs": [],
   "source": []
  }
 ],
 "metadata": {
  "kernelspec": {
   "display_name": "Python 3 (ipykernel)",
   "language": "python",
   "name": "python3"
  },
  "language_info": {
   "codemirror_mode": {
    "name": "ipython",
    "version": 3
   },
   "file_extension": ".py",
   "mimetype": "text/x-python",
   "name": "python",
   "nbconvert_exporter": "python",
   "pygments_lexer": "ipython3",
   "version": "3.11.1"
  }
 },
 "nbformat": 4,
 "nbformat_minor": 5
}
