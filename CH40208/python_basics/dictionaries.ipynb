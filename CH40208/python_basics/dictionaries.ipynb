{
 "cells": [
  {
   "cell_type": "markdown",
   "id": "5b1bb936-3deb-4dfd-b4a4-f506d5136b0c",
   "metadata": {},
   "source": [
    "# Dictionaries \n",
    "\n",
    "## Introduction to Dictionaries\n",
    "\n",
    "Python offers several collection types, including lists and tuples. The dictionary (`dict`) is another powerful collection type that consists of key-value pairs. This structure is analogous to a traditional dictionary, where words (keys) have corresponding definitions (values)."
   ]
  },
  {
   "cell_type": "markdown",
   "id": "1d2d4633",
   "metadata": {},
   "source": [
    "## Defining a Dictionary\n",
    "\n",
    "Dictionaries are defined using curly braces `{}`, with key–value pairs separated by colons `:`."
   ]
  },
  {
   "cell_type": "code",
   "execution_count": 2,
   "id": "c8a0db19-c4bc-4436-9231-2c0d47c6220e",
   "metadata": {},
   "outputs": [
    {
     "name": "stdout",
     "output_type": "stream",
     "text": [
      "{'chemical symbol': 'Cl', 'atomic number': 17, 'average mass number': 35.45, 'x-ray scattering length': (2.76+0.05j)}\n"
     ]
    }
   ],
   "source": [
    "chlorine = {\n",
    "    'chemical symbol': 'Cl', \n",
    "    'atomic number': 17, \n",
    "    'average mass number': 35.45, \n",
    "    'x-ray scattering length': 2.76+0.05j\n",
    "}\n",
    "\n",
    "print(chlorine)"
   ]
  },
  {
   "cell_type": "markdown",
   "id": "1a10fdba-b64f-4880-af55-bc5207b00292",
   "metadata": {},
   "source": [
    "Here, we are able to use the keys of the dictionaries as labels for each datum."
   ]
  },
  {
   "cell_type": "markdown",
   "id": "2531aa55",
   "metadata": {},
   "source": [
    "## Accessing Dictionary Elements\n",
    "\n",
    "### Accessing Keys\n",
    "\n",
    "You can get all keys in a dictionary using the `keys()` method:"
   ]
  },
  {
   "cell_type": "code",
   "execution_count": 3,
   "id": "9cc6db4c-feda-42a3-9d4a-0368a44d1670",
   "metadata": {},
   "outputs": [
    {
     "name": "stdout",
     "output_type": "stream",
     "text": [
      "dict_keys(['chemical symbol', 'atomic number', 'average mass number', 'x-ray scattering length'])\n"
     ]
    }
   ],
   "source": [
    "print(chlorine.keys())"
   ]
  },
  {
   "cell_type": "markdown",
   "id": "8d3e8504-2aae-4a81-bdbd-0d8fee17243f",
   "metadata": {},
   "source": [
    "It is possible to access a single one of the elements of a dictionary, by passing the relevant key in lieu of an index."
   ]
  },
  {
   "cell_type": "markdown",
   "id": "6082acbd",
   "metadata": {},
   "source": [
    "### Accessing Values\n",
    "\n",
    "To access a single element, you can use the corresponding key as an index:"
   ]
  },
  {
   "cell_type": "code",
   "execution_count": 4,
   "id": "d7308776-a870-44f2-9685-8c7846c2c81e",
   "metadata": {},
   "outputs": [
    {
     "data": {
      "text/plain": [
       "17"
      ]
     },
     "execution_count": 4,
     "metadata": {},
     "output_type": "execute_result"
    }
   ],
   "source": [
    "chlorine['atomic number']"
   ]
  },
  {
   "cell_type": "markdown",
   "id": "06cc846c-e0ec-4646-b490-0cce558b0e6a",
   "metadata": {},
   "source": [
    "## Modifying Dictionaries\n",
    "\n",
    "Dictionaries are mutable (you can change them after they have been created), allowing you to add or modify key–value pairs.\n",
    "\n",
    "### Adding New Key–Value Pairs"
   ]
  },
  {
   "cell_type": "code",
   "execution_count": 6,
   "id": "34e87b21-76a8-4b9d-a12d-66340a45e2d4",
   "metadata": {},
   "outputs": [
    {
     "name": "stdout",
     "output_type": "stream",
     "text": [
      "{'chemical symbol': 'Cl', 'atomic number': 17, 'average mass number': 35.45, 'x-ray scattering length': (2.76+0.05j), 'number of isotopes': 2}\n"
     ]
    }
   ],
   "source": [
    "chlorine['number of isotopes'] = 2\n",
    "\n",
    "print(chlorine)"
   ]
  },
  {
   "cell_type": "markdown",
   "id": "fd9665b0",
   "metadata": {},
   "source": [
    "## Modifying Existing Values"
   ]
  },
  {
   "cell_type": "code",
   "execution_count": 10,
   "id": "8bd308b9",
   "metadata": {},
   "outputs": [
    {
     "name": "stdout",
     "output_type": "stream",
     "text": [
      "18\n"
     ]
    }
   ],
   "source": [
    "chlorine['atomic number'] = 18  # This would be incorrect, but demonstrates modification\n",
    "print(chlorine['atomic number'])"
   ]
  },
  {
   "cell_type": "markdown",
   "id": "0e0ba9d5-64ac-47b9-9e28-0ff9ff23fcd6",
   "metadata": {},
   "source": [
    "## Dictionary Values\n",
    "\n",
    "Dictionary values can be of any tupe, including other collections like lists or tuples:"
   ]
  },
  {
   "cell_type": "code",
   "execution_count": 7,
   "id": "e81eb77a-a0fb-4760-ae9f-fcdb1f0b800a",
   "metadata": {},
   "outputs": [
    {
     "name": "stdout",
     "output_type": "stream",
     "text": [
      "{'chemical symbol': 'Cl', 'atomic number': 17, 'average mass number': 35.45, 'x-ray scattering length': (2.76+0.05j), 'number of isotopes': 2, 'mass numbers': (35, 37)}\n"
     ]
    }
   ],
   "source": [
    "chlorine['mass numbers'] = (35, 37)\n",
    "print(chlorine)"
   ]
  },
  {
   "cell_type": "code",
   "execution_count": 8,
   "id": "86e16e27",
   "metadata": {},
   "outputs": [
    {
     "name": "stdout",
     "output_type": "stream",
     "text": [
      "True\n",
      "False\n"
     ]
    }
   ],
   "source": [
    "## Additional Dictionary Operations\n",
    "\n",
    "### Checking for Key Existence\n",
    "\n",
    "print('atomic number' in chlorine)  # Output: True\n",
    "print('melting point' in chlorine)  # Output: False"
   ]
  },
  {
   "cell_type": "markdown",
   "id": "008f946f",
   "metadata": {},
   "source": [
    "## Getting Values Safely\n",
    "\n"
   ]
  },
  {
   "cell_type": "markdown",
   "id": "469abea0",
   "metadata": {},
   "source": [
    "A dictionary can only be indexed using its existing keys, and if we try to access a dictionary value with an invalid key, we get a `KeyError`: "
   ]
  },
  {
   "cell_type": "code",
   "execution_count": 12,
   "id": "d10256fc",
   "metadata": {},
   "outputs": [
    {
     "ename": "KeyError",
     "evalue": "'colour'",
     "output_type": "error",
     "traceback": [
      "\u001b[0;31m---------------------------------------------------------------------------\u001b[0m",
      "\u001b[0;31mKeyError\u001b[0m                                  Traceback (most recent call last)",
      "Cell \u001b[0;32mIn[12], line 1\u001b[0m\n\u001b[0;32m----> 1\u001b[0m \u001b[43mchlorine\u001b[49m\u001b[43m[\u001b[49m\u001b[38;5;124;43m'\u001b[39;49m\u001b[38;5;124;43mcolour\u001b[39;49m\u001b[38;5;124;43m'\u001b[39;49m\u001b[43m]\u001b[49m\n",
      "\u001b[0;31mKeyError\u001b[0m: 'colour'"
     ]
    }
   ],
   "source": [
    "chlorine['colour']"
   ]
  },
  {
   "cell_type": "markdown",
   "id": "effbe1c5",
   "metadata": {},
   "source": [
    "We might have code where we do not know in advance whether a dictionary will have a particular key–value pair, but do not want our code to break if this pair is absent. We can achieve this using the `get()` method, which returns the appropriate value or `None` is our dictionary does not have the key provided."
   ]
  },
  {
   "cell_type": "code",
   "execution_count": 16,
   "id": "bc5bd364",
   "metadata": {},
   "outputs": [
    {
     "name": "stdout",
     "output_type": "stream",
     "text": [
      "18\n"
     ]
    }
   ],
   "source": [
    "print(chlorine.get('atomic number'))"
   ]
  },
  {
   "cell_type": "code",
   "execution_count": 17,
   "id": "bde3fd51",
   "metadata": {},
   "outputs": [
    {
     "name": "stdout",
     "output_type": "stream",
     "text": [
      "None\n"
     ]
    }
   ],
   "source": [
    "print(chlorine.get('melting point'))"
   ]
  },
  {
   "cell_type": "markdown",
   "id": "4172889c",
   "metadata": {},
   "source": [
    "### Removing Key–Value Pairs\n",
    "\n",
    "We can remove key–value pairs from a dictionary using the `pop()` method:"
   ]
  },
  {
   "cell_type": "code",
   "execution_count": 19,
   "id": "9aa80f0a",
   "metadata": {},
   "outputs": [
    {
     "name": "stdout",
     "output_type": "stream",
     "text": [
      "Removed value: 2\n",
      "{'chemical symbol': 'Cl', 'atomic number': 18, 'average mass number': 35.45, 'x-ray scattering length': (2.76+0.05j), 'mass numbers': (35, 37)}\n"
     ]
    }
   ],
   "source": [
    "removed_value = chlorine.pop('number of isotopes')\n",
    "print(f\"Removed value: {removed_value}\")\n",
    "print(chlorine)  # The 'number of isotopes' key-value pair is now removed"
   ]
  },
  {
   "cell_type": "markdown",
   "id": "191fecc8",
   "metadata": {},
   "source": [
    "## When to Use Dictionaries\n",
    "\n",
    "1. When you need a logical association between a key:value pair.\n",
    "2. When you need fast lookup for your data, based on a custom key.\n",
    "3. When your data is being constantly modified. Remember, dictionaries are mutable.\n",
    "\n",
    "## Dictionaries vs. Lists: Key Differences\n",
    "\n",
    "1. **Accessing Elements**: List elements are accessed by index (integer-based). Dictionary elements are accessed by keys (which can be of various immutable types, not just integers).\n",
    "2. **Purpose**: Lists are best for collections of similar items where order matters and you need integer-based indexing. Dictionaries are ideal for key-value associations and when you need fast lookup based on a unique key.\n"
   ]
  },
  {
   "cell_type": "markdown",
   "id": "5be2a578-cdd0-4fd7-a882-a8b612699c45",
   "metadata": {},
   "source": [
    "## Exercise\n",
    "\n",
    "Create a dictionary where the keys are the names of the first-row of transition metals, and the values are integers of the number of valence electrons. \n",
    "\n",
    "Test your dictionary by printing some of the values."
   ]
  }
 ],
 "metadata": {
  "kernelspec": {
   "display_name": "Python 3 (ipykernel)",
   "language": "python",
   "name": "python3"
  },
  "language_info": {
   "codemirror_mode": {
    "name": "ipython",
    "version": 3
   },
   "file_extension": ".py",
   "mimetype": "text/x-python",
   "name": "python",
   "nbconvert_exporter": "python",
   "pygments_lexer": "ipython3",
   "version": "3.11.1"
  }
 },
 "nbformat": 4,
 "nbformat_minor": 5
}
