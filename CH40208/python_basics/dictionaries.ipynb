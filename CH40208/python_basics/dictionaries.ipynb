{
 "cells": [
  {
   "cell_type": "markdown",
   "id": "5b1bb936-3deb-4dfd-b4a4-f506d5136b0c",
   "metadata": {},
   "source": [
    "# Dictionaries \n",
    "\n",
    "Previously, collections of information known as `list` and `tuple` were introduced. \n",
    "Python has a final collection type that we will discuss here, the dictionary `dict`. \n",
    "This collection type consists of keys and values. \n",
    "These keys and values are analogous to the words and definitions of a traditional dictionary. \n",
    "Consider if we rewrite the chlorine variable as a dictionary."
   ]
  },
  {
   "cell_type": "code",
   "execution_count": 1,
   "id": "c8a0db19-c4bc-4436-9231-2c0d47c6220e",
   "metadata": {},
   "outputs": [],
   "source": [
    "chlorine = {'chemical symbol': 'Cl', 'atomic number': 17, 'average mass number': 35.45, 'x-ray scattering length': 2.76+0.05j}"
   ]
  },
  {
   "cell_type": "code",
   "execution_count": 2,
   "id": "716cbc09-2b1f-442d-a17e-5362e0f06c15",
   "metadata": {},
   "outputs": [
    {
     "name": "stdout",
     "output_type": "stream",
     "text": [
      "{'chemical symbol': 'Cl', 'atomic number': 17, 'average mass number': 35.45, 'x-ray scattering length': (2.76+0.05j)}\n"
     ]
    }
   ],
   "source": [
    "print(chlorine)"
   ]
  },
  {
   "cell_type": "markdown",
   "id": "1a10fdba-b64f-4880-af55-bc5207b00292",
   "metadata": {},
   "source": [
    "Here, we are able to use the keys of the dictionaries as labels for each datum."
   ]
  },
  {
   "cell_type": "code",
   "execution_count": 3,
   "id": "9cc6db4c-feda-42a3-9d4a-0368a44d1670",
   "metadata": {},
   "outputs": [
    {
     "name": "stdout",
     "output_type": "stream",
     "text": [
      "dict_keys(['chemical symbol', 'atomic number', 'average mass number', 'x-ray scattering length'])\n"
     ]
    }
   ],
   "source": [
    "print(chlorine.keys())"
   ]
  },
  {
   "cell_type": "markdown",
   "id": "8d3e8504-2aae-4a81-bdbd-0d8fee17243f",
   "metadata": {},
   "source": [
    "It is possible to access a single one of the elements of a dictionary, by passing the relevant key in lieu of an index."
   ]
  },
  {
   "cell_type": "code",
   "execution_count": 4,
   "id": "d7308776-a870-44f2-9685-8c7846c2c81e",
   "metadata": {},
   "outputs": [
    {
     "data": {
      "text/plain": [
       "17"
      ]
     },
     "execution_count": 4,
     "metadata": {},
     "output_type": "execute_result"
    }
   ],
   "source": [
    "chlorine['atomic number']"
   ]
  },
  {
   "cell_type": "markdown",
   "id": "59ca8357-2be0-49c8-b178-df50af17d7a7",
   "metadata": {},
   "source": [
    "However, traditional indexing does not work for dictionaries, as the index is not a key."
   ]
  },
  {
   "cell_type": "code",
   "execution_count": 5,
   "id": "129f31a2-44f5-4b24-82b1-b9f76ad15b00",
   "metadata": {},
   "outputs": [
    {
     "ename": "KeyError",
     "evalue": "1",
     "output_type": "error",
     "traceback": [
      "\u001b[0;31m---------------------------------------------------------------------------\u001b[0m",
      "\u001b[0;31mKeyError\u001b[0m                                  Traceback (most recent call last)",
      "\u001b[0;32m/var/folders/b2/d1yfnqn51dj0lwhm3mjhgchr0000gq/T/ipykernel_4872/3992794529.py\u001b[0m in \u001b[0;36m<module>\u001b[0;34m\u001b[0m\n\u001b[0;32m----> 1\u001b[0;31m \u001b[0mchlorine\u001b[0m\u001b[0;34m[\u001b[0m\u001b[0;36m1\u001b[0m\u001b[0;34m]\u001b[0m\u001b[0;34m\u001b[0m\u001b[0;34m\u001b[0m\u001b[0m\n\u001b[0m",
      "\u001b[0;31mKeyError\u001b[0m: 1"
     ]
    }
   ],
   "source": [
    "chlorine[1]"
   ]
  },
  {
   "cell_type": "markdown",
   "id": "06cc846c-e0ec-4646-b490-0cce558b0e6a",
   "metadata": {},
   "source": [
    "We can add elements to a dictionary rather simply."
   ]
  },
  {
   "cell_type": "code",
   "execution_count": 6,
   "id": "34e87b21-76a8-4b9d-a12d-66340a45e2d4",
   "metadata": {},
   "outputs": [],
   "source": [
    "chlorine['number of isotopes'] = 2"
   ]
  },
  {
   "cell_type": "code",
   "execution_count": 7,
   "id": "cfe17077-d7de-44ef-b18c-cace1b63a084",
   "metadata": {},
   "outputs": [
    {
     "name": "stdout",
     "output_type": "stream",
     "text": [
      "{'chemical symbol': 'Cl', 'atomic number': 17, 'average mass number': 35.45, 'x-ray scattering length': (2.76+0.05j), 'number of isotopes': 2}\n"
     ]
    }
   ],
   "source": [
    "print(chlorine)"
   ]
  },
  {
   "cell_type": "markdown",
   "id": "0e0ba9d5-64ac-47b9-9e28-0ff9ff23fcd6",
   "metadata": {},
   "source": [
    "Finally, the items in a dictionary need not be single variables, like a `float` or an `int`. They can also other collections like a `list` or `tuple`."
   ]
  },
  {
   "cell_type": "code",
   "execution_count": 8,
   "id": "e81eb77a-a0fb-4760-ae9f-fcdb1f0b800a",
   "metadata": {},
   "outputs": [],
   "source": [
    "chlorine['mass numbers'] = (35, 37)"
   ]
  },
  {
   "cell_type": "code",
   "execution_count": 9,
   "id": "508f0025-639e-41a0-9e7e-93a000cca0e9",
   "metadata": {},
   "outputs": [
    {
     "name": "stdout",
     "output_type": "stream",
     "text": [
      "{'chemical symbol': 'Cl', 'atomic number': 17, 'average mass number': 35.45, 'x-ray scattering length': (2.76+0.05j), 'number of isotopes': 2, 'mass numbers': (35, 37)}\n"
     ]
    }
   ],
   "source": [
    "print(chlorine)"
   ]
  },
  {
   "cell_type": "markdown",
   "id": "5be2a578-cdd0-4fd7-a882-a8b612699c45",
   "metadata": {},
   "source": [
    "## Exercise\n",
    "\n",
    "Create a dictionary where the keys are the names of the first-row of transition metals, and the values are int of the number of valence electrons. \n",
    "Test your dictionary by printing some of the values."
   ]
  }
 ],
 "metadata": {
  "kernelspec": {
   "display_name": "Python 3 (ipykernel)",
   "language": "python",
   "name": "python3"
  },
  "language_info": {
   "codemirror_mode": {
    "name": "ipython",
    "version": 3
   },
   "file_extension": ".py",
   "mimetype": "text/x-python",
   "name": "python",
   "nbconvert_exporter": "python",
   "pygments_lexer": "ipython3",
   "version": "3.11.1"
  }
 },
 "nbformat": 4,
 "nbformat_minor": 5
}
