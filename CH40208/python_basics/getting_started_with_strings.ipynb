{
 "cells": [
  {
   "cell_type": "markdown",
   "metadata": {},
   "source": [
    "# Getting started with strings\n",
    "\n",
    "We will also be working with pieces of text, which are represented in Python as **strings**.\n",
    "\n",
    "A **string** must be enclosed in a matching pair of **single quotes** `'text goes here'` or **double quotes** `\"text goes here\"`.\n",
    "\n",
    "Entering a string into a **code cell** and running the cell will just output the string:"
   ]
  },
  {
   "cell_type": "code",
   "execution_count": 1,
   "metadata": {},
   "outputs": [
    {
     "data": {
      "text/plain": [
       "'I am a string with single quotes'"
      ]
     },
     "execution_count": 1,
     "metadata": {},
     "output_type": "execute_result"
    }
   ],
   "source": [
    "'I am a string with single quotes'"
   ]
  },
  {
   "cell_type": "code",
   "execution_count": 2,
   "metadata": {},
   "outputs": [
    {
     "data": {
      "text/plain": [
       "'I am a string with double quotes'"
      ]
     },
     "execution_count": 2,
     "metadata": {},
     "output_type": "execute_result"
    }
   ],
   "source": [
    "\"I am a string with double quotes\""
   ]
  },
  {
   "cell_type": "markdown",
   "metadata": {},
   "source": [
    "Trying to pair single and double quotes will give an error or an unexpected output:"
   ]
  },
  {
   "cell_type": "code",
   "execution_count": 3,
   "metadata": {},
   "outputs": [
    {
     "ename": "SyntaxError",
     "evalue": "EOL while scanning string literal (3285030726.py, line 1)",
     "output_type": "error",
     "traceback": [
      "\u001b[0;36m  File \u001b[0;32m\"/var/folders/cd/12k_1gdn1bsbywmcnf81c5800000gp/T/ipykernel_33960/3285030726.py\"\u001b[0;36m, line \u001b[0;32m1\u001b[0m\n\u001b[0;31m    'I am a string with mismatched quotes\"\u001b[0m\n\u001b[0m                                          ^\u001b[0m\n\u001b[0;31mSyntaxError\u001b[0m\u001b[0;31m:\u001b[0m EOL while scanning string literal\n"
     ]
    }
   ],
   "source": [
    "'I am a string with mismatched quotes\""
   ]
  },
  {
   "cell_type": "markdown",
   "metadata": {},
   "source": [
    "This gives a `SyntaxError`, which is one of the many error types invalid Python code can produce. A syntax error is one of the most basic error types and means that the Python interpreter is not able to understand the code.\n",
    "\n",
    "We will dive into error messages and types of errors in Python in more detail later in the course.\n",
    "\n",
    "You can include single quotes in a string that is enclosed in double quotes:\n",
    "```\n",
    "\"Well isn't that clever?\"\n",
    "```\n",
    "<br>\n",
    "\n",
    "and double quotes in a string that is enclosed in single quotes:\n",
    "```\n",
    "'The cat asked, “Where do you want to go?”'\n",
    "```\n",
    "<br>\n",
    "\n",
    "or you can indicate that quotes should be treated as text and not as string delimiters by preceding them with a backslash `\\` (called **escaping** the quote):\n",
    "```\n",
    "'Well isn\\'t that clever'\n",
    "```\n",
    "\n",
    "## Exercises\n",
    "\n",
    "Strings can be manipulated using *some* mathematical operations (but not others).  \n",
    "Investigate what happens when you try:\n",
    "\n",
    "- Adding two strings, using `+`.\n",
    "\n",
    "- Subtracting one string from another, using `-`.\n",
    "\n",
    "- Adding a string to an integer or a float, using `+`.\n",
    "\n",
    "- Mutiplying two strings together, using `*`.\n",
    "\n",
    "- Multiplying a string by a float, using `*`.\n",
    "\n",
    "- Multiplying a string by an integer, using `*`.\n",
    "\n",
    "Can you reason why you get the results (and errors) that you do?"
   ]
  },
  {
   "cell_type": "code",
   "execution_count": null,
   "metadata": {},
   "outputs": [],
   "source": []
  }
 ],
 "metadata": {
  "kernelspec": {
   "display_name": "Python 3 (ipykernel)",
   "language": "python",
   "name": "python3"
  },
  "language_info": {
   "codemirror_mode": {
    "name": "ipython",
    "version": 3
   },
   "file_extension": ".py",
   "mimetype": "text/x-python",
   "name": "python",
   "nbconvert_exporter": "python",
   "pygments_lexer": "ipython3",
   "version": "3.11.1"
  }
 },
 "nbformat": 4,
 "nbformat_minor": 4
}
