{
 "cells": [
  {
   "cell_type": "markdown",
   "id": "d15b90ae-32f5-4ef4-b808-f4aa5b258fc7",
   "metadata": {},
   "source": [
    "# NumPy Exercises\n",
    "\n",
    "These exercises combine concepts from [NumPy Basics](basics.ipynb) and [Array Operations](operations.ipynb).\n",
    "\n",
    "Work through each exercise, then check your solution."
   ]
  },
  {
   "cell_type": "markdown",
   "id": "d103fa5b-25cf-40ac-834c-bf2624f55ce0",
   "metadata": {},
   "source": [
    "## Exercise 1: Average Atomic Mass\n",
    "\n",
    "The isotopes of tin have the following mass numbers and natural abundances:\n",
    "\n",
    "| Mass number | Abundance |\n",
    "|-------------|-----------|\n",
    "| 112 | 0.0097 |\n",
    "| 114 | 0.0066 |\n",
    "| 115 | 0.0034 |\n",
    "| 116 | 0.1454 |\n",
    "| 117 | 0.0768 |\n",
    "| 118 | 0.2422 |\n",
    "| 119 | 0.0859 |\n",
    "| 120 | 0.3258 |\n",
    "| 122 | 0.0463 |\n",
    "| 124 | 0.0579 |\n",
    "\n",
    "Create two arrays: one for the mass numbers and one for the abundances. Then use vector arithmetic to calculate the average (mean) mass of naturally occurring tin."
   ]
  },
  {
   "cell_type": "markdown",
   "id": "a1bff190-2531-48af-86f2-ced8f49be0a7",
   "metadata": {},
   "source": [
    "## Exercise 2: Molecular Distances\n",
    "\n",
    "You have an ammonia molecule (NH₃) with the following atomic coordinates (in Ångströms):\n",
    "```python\n",
    "atom_N = [0.0, 0.0, 0.0]       # Nitrogen at origin\n",
    "atom_H1 = [0.0, 0.94, 0.38]    # Hydrogen 1\n",
    "atom_H2 = [0.81, -0.47, 0.38]  # Hydrogen 2  \n",
    "atom_H3 = [-0.81, -0.47, 0.38] # Hydrogen 3\n",
    "```\n",
    "\n",
    "In the **Loops** exercises, you used nested loops to calculate all pairwise distances. Now rewrite this calculation using NumPy arrays to store the atom positions and vector arithmetic to calculate the distances.\n",
    "\n",
    "**Tasks:**\n",
    "1. Store the atom positions as a 2D NumPy array (4 atoms × 3 coordinates)\n",
    "2. Use nested loops to iterate over unique pairs of atoms\n",
    "3. For each pair, use NumPy vector arithmetic and `np.linalg.norm()` to calculate the distance"
   ]
  },
  {
   "cell_type": "markdown",
   "id": "637394cb-081e-4e9e-9a31-0dcc0c942cfa",
   "metadata": {},
   "source": [
    "## Exercise 3: Analysis of Experimental Data\n",
    "\n",
    "You've measured the absorbance of a solution at 540 nm over time to monitor a reaction. Here are your measurements (arbitrary units):\n",
    "```python\n",
    "times = [0, 2, 4, 6, 8, 10, 12, 14, 16, 18, 20]  # minutes\n",
    "absorbance = [1.85, 1.52, 1.31, 1.08, 0.89, 0.71, 0.58, 0.49, 0.38, 0.32, 0.28]\n",
    "```\n",
    "\n",
    "**Tasks:**\n",
    "\n",
    "1. Convert the data to NumPy arrays\n",
    "2. Calculate the reaction progress:\n",
    "   - Calculate the relative absorbance at each time point (as a fraction of the initial value).\n",
    "   - At what time has the absorbance decreased to half its initial value?\n",
    "3. Calculate the change in absorbance between consecutive time points.\n",
    "4. Find the time point where the absorbance first drops below 0.5.\n",
    "\n",
    "Use NumPy functions and array operations where possible."
   ]
  },
  {
   "cell_type": "code",
   "execution_count": null,
   "id": "0d798e2b-daa1-4dd7-8758-d79c39f6063b",
   "metadata": {},
   "outputs": [],
   "source": []
  }
 ],
 "metadata": {
  "kernelspec": {
   "display_name": "Python 3 (ipykernel)",
   "language": "python",
   "name": "python3"
  },
  "language_info": {
   "codemirror_mode": {
    "name": "ipython",
    "version": 3
   },
   "file_extension": ".py",
   "mimetype": "text/x-python",
   "name": "python",
   "nbconvert_exporter": "python",
   "pygments_lexer": "ipython3",
   "version": "3.12.3"
  }
 },
 "nbformat": 4,
 "nbformat_minor": 5
}
