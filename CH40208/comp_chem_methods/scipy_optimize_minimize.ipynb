{
 "cells": [
  {
   "cell_type": "markdown",
   "id": "a00156ff-03b9-43cc-a7cc-7ed42ce1f58e",
   "metadata": {},
   "source": [
    "## Minimisation with `scipy.optimize.minimize`\n",
    "\n",
    "`scipy` provides several tools for numerical optimisation, including the `minimize()` function, which lives inside the `scipy.optimize` module.\n",
    "\n",
    "`minimize()` is designed to find the minimum of any scalar function (i.e., a function that returns a single scalar output).\n",
    "\n",
    "The following code demonstrates how `minimize()` can be used to find the minimum of a harmonic potential."
   ]
  },
  {
   "cell_type": "code",
   "execution_count": 7,
   "id": "6e7de093-14a9-4de8-894e-33c44dc039e9",
   "metadata": {},
   "outputs": [
    {
     "data": {
      "text/plain": [
       "  message: Optimization terminated successfully.\n",
       "  success: True\n",
       "   status: 0\n",
       "      fun: 1.4907721581452053e-14\n",
       "        x: [-7.127e-09]\n",
       "      nit: 2\n",
       "      jac: [ 1.436e-07]\n",
       " hess_inv: [[ 1.739e-03]]\n",
       "     nfev: 6\n",
       "     njev: 3"
      ]
     },
     "execution_count": 7,
     "metadata": {},
     "output_type": "execute_result"
    }
   ],
   "source": [
    "from scipy.optimize import minimize\n",
    "\n",
    "def harmonic_potential(r, k, r0):\n",
    "    \"\"\"Calculate the energy for a harmonic potential U(r) = k/2 * (r - r0)^2\"\"\"\n",
    "    return 0.5 * k * (r - r0)**2\n",
    "\n",
    "result = minimize(harmonic_potential, x0=0.8, args=(575.0, 0.74e-10))\n",
    "\n",
    "result"
   ]
  },
  {
   "cell_type": "code",
   "execution_count": null,
   "id": "fcac8b6a-cd8a-42f4-97b6-e3b54b8c3e99",
   "metadata": {},
   "outputs": [],
   "source": []
  },
  {
   "cell_type": "code",
   "execution_count": null,
   "id": "bc493fe4-3407-455d-a8bc-86d8625eb63d",
   "metadata": {},
   "outputs": [],
   "source": []
  }
 ],
 "metadata": {
  "kernelspec": {
   "display_name": "Python 3 (ipykernel)",
   "language": "python",
   "name": "python3"
  },
  "language_info": {
   "codemirror_mode": {
    "name": "ipython",
    "version": 3
   },
   "file_extension": ".py",
   "mimetype": "text/x-python",
   "name": "python",
   "nbconvert_exporter": "python",
   "pygments_lexer": "ipython3",
   "version": "3.11.10"
  }
 },
 "nbformat": 4,
 "nbformat_minor": 5
}
