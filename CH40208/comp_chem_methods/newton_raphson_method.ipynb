{
 "cells": [
  {
   "cell_type": "markdown",
   "id": "0812b6ed-fd41-4934-8113-1e4ec01086e5",
   "metadata": {},
   "source": [
    "## The Newton-Raphson Method\n",
    "\n",
    "An alternative method for finding the minimum of a function is the Newton-Raphson Method (also called Newton's Method).\n",
    "\n",
    "The central idea here is that if we zoom in on any function, then we can approximate the local shape of that function as quadratic, i.e.\n",
    "\n",
    "$$f(x) \\approx ax^2 + bx + c$$\n",
    "\n",
    "over some small range of $x$.\n",
    "\n",
    "If $f(x)$ has a minimum, then at that point\n",
    "\n",
    "$$f^{\\prime\\prime}(x) = 0$$\n",
    "\n",
    "and, if we know the coefficients $a$ and $b$, then we can directly calculate the value of $x$ that minimises our function.\n",
    "\n",
    "$$f^{\\prime\\prime}(x) = 2ax + b = 0$$\n",
    "\n",
    "$$x = \\frac{-b}{2a}$$\n"
   ]
  },
  {
   "cell_type": "markdown",
   "id": "641bab47-12b3-485d-afcb-4d25ad60030f",
   "metadata": {},
   "source": [
    "To find the value of the coefficients $a$ and $b$, we use the property that any function can be expanded as a **Taylor series**\n",
    "(see, e.g., Chapter 6 in [Foundations of Science Mathematics](https://bath.primo.exlibrisgroup.com/permalink/44BAT_INST/iac705/alma991004175199902761)).\n",
    "\n",
    "If we are at some point $x_0$, then we can approximate our function locally as a polynomial in $(x-x_0)$:\n",
    "\n",
    "$$f(x) = f(x_0) + f^\\prime(x_0)(x-x_0) + \\frac{1}{2}f^{\\prime\\prime}(x_0)(x-x_0)^2 + \\ldots$$\n",
    "\n",
    "And, if we remain close to $x_0$, where the higher order terms in $(x-x_0)$ are small, we have the approximation that \n",
    "\n",
    "$$f(x) \\approx f(x_0) + f^\\prime(x_0)(x-x_0) + \\frac{1}{2}f^{\\prime\\prime}(x_0)(x-x_0)^2$$\n",
    "\n",
    "i.e., we approximate $f(x)$ as quadratic.\n",
    "\n",
    "Differentiating this approximate expression with respect to $x$gives:\n",
    "\n",
    "$$f^\\prime(x) = f^\\prime + f^{\\prime\\prime}(x - x_0) = 0$$\n",
    "\n",
    "and setting this to zero allows us to solve for $x$:\n",
    "\n",
    "$$x = x_0 - \\frac{f^\\prime(x_0)}{f^{\\prime\\prime}(x_0)}$$"
   ]
  },
  {
   "cell_type": "markdown",
   "id": "4c58aee1-7acf-4ac2-a237-a8f77cf57138",
   "metadata": {},
   "source": [
    "In the context of finding the minimum of a potential energy surface, this looks like:\n",
    "\n",
    "1. Starting at an initial guess, $r_n$, calculate the first and second derivatives of $U(r_n)$ at that point.\n",
    "2. Use the Newton-Raphson equation $r_{n+1} = r_n - U^\\prime(r_n) / U^{\\prime\\prime}(r_n)$ to predict the position of the minimum.\n",
    " \n",
    "In reality, our potential energy surface is never exactly quadratic (except for the special case of a harmonic potential), so step 2. only gives us an approximate **guess** for the minimum position. We then repeat steps 1. and 2. as an iterative process, until we (hopefully) converge on the energy minimum."
   ]
  },
  {
   "cell_type": "markdown",
   "id": "1888eb5a-c0d4-4c23-ae93-2c99947a8ea5",
   "metadata": {},
   "source": [
    "### Exercise\n",
    "\n",
    "1. Write a function to calcualte the second derivative of a harmonic potential:\n",
    "\n",
    "$$U^{\\prime\\prime} = 2k$$\n",
    "\n",
    "2. Show that the Newton-Raphson method finds the optimal bond length for your harmonic potential in one step, irrespective of your starting point."
   ]
  }
 ],
 "metadata": {
  "kernelspec": {
   "display_name": "Python 3 (ipykernel)",
   "language": "python",
   "name": "python3"
  },
  "language_info": {
   "codemirror_mode": {
    "name": "ipython",
    "version": 3
   },
   "file_extension": ".py",
   "mimetype": "text/x-python",
   "name": "python",
   "nbconvert_exporter": "python",
   "pygments_lexer": "ipython3",
   "version": "3.11.10"
  }
 },
 "nbformat": 4,
 "nbformat_minor": 5
}
