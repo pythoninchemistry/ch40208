{
 "cells": [
  {
   "cell_type": "markdown",
   "id": "5a1f9693-959a-488c-b0fd-93da069a3fd2",
   "metadata": {},
   "source": [
    "### Gradient Descent Method\n",
    "\n",
    "A more efficient approach is to use information about the slope of the potential energy surface to guide our search. \n",
    "\n",
    "The **gradient descent method** (also called the **steepest descent method**) works by analogy to releasing a ball on a hill and letting it roll to the bottom. At any point on our potential energy surface, the **gradient** tells us which direction is &ldquo;uphill&rdquo; and how steep the surface is at this point. With this information, we can step in the opposite direction (i.e., downhill), then recalculate the gradient at our new position, and repeat until we reach a point where the gradient is $\\sim0$.\n",
    "\n",
    "The simplest implementation of this method is to move a fixed distance every step.\n",
    "#### Algorithm\n",
    "\n",
    "1. Start at an initial guess position $r_0$\n",
    "2. Calculate the gradient $U^\\prime = \\frac{dU}{dr}$ at this point\n",
    "3. Move in the direction opposite to the gradient (i.e., downhill), by some amount $\\Delta r$.\n",
    "4. Repeat until the gradient is close to zero.\n",
    "\n",
    "#### Exercise:\n",
    "Write a function to calculate the first derivative of a harmonic potential:\n",
    "\n",
    "$$U^\\prime = 2k(r - r_0)$$\n",
    "\n",
    "Using this function, write code to perform a gradient descent search, to find the minimum of your harmonic potential energy surface. Use $r=1.0$ Å as your starting position, and a step size $\\Delta r=0.1$ Å.\n",
    "\n",
    "_Note_: You should not need to run for more than 10 steps.\n",
    "\n",
    "What happens using this algorithm when you get close to the minimum? What happens if you decrease the step size to $\\Delta r=0.01$ Å?"
   ]
  },
  {
   "cell_type": "markdown",
   "id": "719e7a51-e884-45d7-9c60-828fc80f61bd",
   "metadata": {},
   "source": [
    "#### Rescaling the Step Size\n",
    "Using a fixed step-size makes our method very sensitive to the choice of step-size. Large step sizes will overshoot the minimum and then oscillate back and forth. Small step sizes will get closer to the minimum, but at the cost of needing to perform many more calculations.\n",
    "\n",
    "A common approach designed to address this problem is to rescale the step size for each iteration, based on how far we think we are from the minimum. A simple model is that we can expect the gradient to be steep if we are a long way from the minimum, but shallow if we are already close to the minimum, so we make our step-size proportional to the (negative) local gradient.\n",
    "\n",
    "$$\\Delta r_i = -\\alpha U^\\prime(r_i)$$\n",
    "\n",
    "or \n",
    "\n",
    "$$\\Delta r_i = \\alpha F(r_i)$$\n",
    "\n",
    "where $F(r_i)$ is the **force** (i.e., the negative gradient of the energy) at $r_i$.\n",
    "\n",
    "#### Exercise:\n",
    "1. Write a new version of your steepest descent code that rescales the step to be proportional to the local force, with $\\alpha = 0.001$. You should write this as a loop that iteratively updates the current position, i.e.\n",
    "\n",
    "$$r_{i+1} = r_i + \\alpha F(r_i).$$\n",
    "\n",
    "By combining a suitable `if` statement with `break`, have your code stop and report the predicted equilibrium bond-length when $U^\prime \le |0.001|$.\n"
   ]
  },
  {
   "cell_type": "markdown",
   "id": "182260eb-a629-414d-9b1a-a4587ed2326e",
   "metadata": {},
   "source": [
    "2. How does changing $\\alpha$ affect your rate of convergence? Experiment with larger and smaller values of $\\alpha$\n",
    "\n",
    "_Note_: You might want to set a maximum number of iterations, e.g., 30."
   ]
  },
  {
   "cell_type": "code",
   "execution_count": null,
   "id": "5c131eda-e2e5-47c4-bfe2-92f9331b2df6",
   "metadata": {},
   "outputs": [],
   "source": []
  }
 ],
 "metadata": {
  "kernelspec": {
   "display_name": "Python 3 (ipykernel)",
   "language": "python",
   "name": "python3"
  },
  "language_info": {
   "codemirror_mode": {
    "name": "ipython",
    "version": 3
   },
   "file_extension": ".py",
   "mimetype": "text/x-python",
   "name": "python",
   "nbconvert_exporter": "python",
   "pygments_lexer": "ipython3",
   "version": "3.11.10"
  }
 },
 "nbformat": 4,
 "nbformat_minor": 5
}
