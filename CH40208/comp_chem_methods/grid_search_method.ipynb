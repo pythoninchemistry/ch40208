{
 "cells": [
  {
   "cell_type": "markdown",
   "id": "ec194177-7f2e-4eaa-9962-1405f3ff7087",
   "metadata": {},
   "source": [
    "### Grid Search Method\n",
    "\n",
    "The simplest numerical approach to finding a minimum is to evaluate the function at many points and pick the point that gives the lowest value. This is called a grid search.\n",
    "\n",
    "1. Choose a range of $r$ values to search over.\n",
    "2. Divide this range into a grid of points.\n",
    "3. Evalutate $U(r)$ at each point.\n",
    "4. Find the point where $U(r)$ is smallest.\n",
    "\n",
    "While simple to understand and implement, this method has serious limitations:\n",
    "\n",
    "- The accuracy is limited by the grid spacing.\n",
    "- The number of function evaluations grows exponentially with the number of dimensions of our potential energy surface.\n",
    "- It provides no information about the shape of the function around the minimum.\n",
    "\n",
    "#### Exercise\n",
    "\n",
    "1. Write code to perform a grid search to find the minimum of your harmonic potential. Use numpy's `linspace()` function to create your grid in the range $0.38\\leq r \\leq 1.1$.\n",
    "\n",
    "_Hint_: NumPy provides functions for finding the **location** of maximum or minimum values in an array, called `argmax()` and `argmin()`:"
   ]
  },
  {
   "cell_type": "code",
   "execution_count": 6,
   "id": "654d7e8a-311b-407f-8dab-db25abe366c7",
   "metadata": {},
   "outputs": [
    {
     "name": "stdout",
     "output_type": "stream",
     "text": [
      "Index of min value: 4\n",
      "Index of max value: 3\n",
      "The value at index 3 is 9\n"
     ]
    }
   ],
   "source": [
    "import numpy as np\n",
    "\n",
    "a = np.array([3,6,8,9,1])\n",
    "\n",
    "print(f'Index of min value: {np.argmin(a)}')\n",
    "print(f'Index of max value: {np.argmax(a)}')\n",
    "\n",
    "loc = np.argmax(a)\n",
    "\n",
    "print(f'The value at index {loc} is {a[loc]}')"
   ]
  },
  {
   "cell_type": "code",
   "execution_count": null,
   "id": "0def74b6-9eee-41c4-9420-f6ef3d0894dc",
   "metadata": {},
   "outputs": [],
   "source": []
  }
 ],
 "metadata": {
  "kernelspec": {
   "display_name": "Python 3 (ipykernel)",
   "language": "python",
   "name": "python3"
  },
  "language_info": {
   "codemirror_mode": {
    "name": "ipython",
    "version": 3
   },
   "file_extension": ".py",
   "mimetype": "text/x-python",
   "name": "python",
   "nbconvert_exporter": "python",
   "pygments_lexer": "ipython3",
   "version": "3.11.10"
  }
 },
 "nbformat": 4,
 "nbformat_minor": 5
}
