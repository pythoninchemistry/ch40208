{
 "cells": [
  {
   "cell_type": "markdown",
   "metadata": {},
   "source": [
    "# Minimisation Libraries\n",
    "\n",
    "Part of the power of the Python programming language comes from the vast ecosystem of pre-existing libraries that are available to use. \n",
    "Previously, you have written your own minimisation algorithms in Python, using loops and functions. \n",
    "Numerical function minimisation is a very common scientific problem, and, perhaps unsurprisingly, there is a library that we can use to do this. \n",
    "The library is called `scipy` (pronounced Sigh-Pie), and includes an enormous number of common scientific computing utilities. In this section, we will focus on the `minimize` method (note the American spelling). \n",
    "\n",
    "The `minimize` method is located within the `optimize` module of the `scipy` library, so to access this, we must import it."
   ]
  },
  {
   "cell_type": "code",
   "execution_count": 1,
   "metadata": {},
   "outputs": [],
   "source": [
    "from scipy.optimize import minimize"
   ]
  },
  {
   "cell_type": "markdown",
   "metadata": {},
   "source": [
    "Let us first investigate the documentation of the minimize function, this is available [online](https://docs.scipy.org/doc/scipy/reference/generated/scipy.optimize.minimize.html) or it can be printed in the Jupyter Notebook using \n",
    "\n",
    "```python\n",
    "print(minimize.__doc__)\n",
    "```\n",
    "or\n",
    "```python\n",
    "minimize?\n",
    "```\n",
    "Because this documentation is long we will not reproduce it fully here, but it is useful to know where to look when figuring out how a new function or method behaves.\n",
    "\n",
    "From the documentation, we can see that the `minimize` function takes two required arguments:\n",
    "\n",
    "- `fun`: this is the function that we will minimize.\n",
    "- `x0`: this is our initial guess of the parameter used in the minimisation.\n",
    "\n",
    "The only optional argument we will look at from the documentation is `args`, which are the invariant (unchanging) parameters in our model that should be passed to our function. For example, in the case of our Lennard-Jones potential, the precise shape of the function depends on the invariant parameters $A$ and $B$, so if we want to ue `minimize` to find the minimum of our function, we need to specify the relevant values of $A$ and $B$.\n",
    "\n",
    "To minimize the potential energy from the Lennard-Jones potential, we write a function for this, this is the `fun` discussed above. The parameter we are minimising with respect to (in this case, the interatomic separation, $r$) needs to be the first argument in our function, followed by any additional parameters that we are not varying as part of our minimisation (here $A$ and $B$)."
   ]
  },
  {
   "cell_type": "code",
   "execution_count": 2,
   "metadata": {},
   "outputs": [],
   "source": [
    "def lennard_jones(r, A, B):\n",
    "    \"\"\"\n",
    "    Lennard-Jones potential energy.\n",
    "    \n",
    "    Args:\n",
    "        r (float): the distances to find the energy for (Å).\n",
    "        A (float): the repulsive prefactor (eV/Å^12).\n",
    "        B (float): the attractive prefactor (eV/Å^6).\n",
    "    \n",
    "    Returns:\n",
    "        (float): the potential energy at each r.\n",
    "    \"\"\"\n",
    "    return A / r**12 - B / r**6"
   ]
  },
  {
   "cell_type": "markdown",
   "metadata": {},
   "source": [
    "Note in the documentation, it says that the `minimize` function should be passed a function with the form\n",
    "\n",
    "```\n",
    "fun(x, *args) -> float\n",
    "```\n",
    "\n",
    "Above, this is mapped out, were `r` is our `x` and `A, B` are the `*args` (note the `*` means this can be any number of `args`). \n",
    "The `args` are not varied during the minimisation process. \n",
    "The `minimization` function works as follows."
   ]
  },
  {
   "cell_type": "code",
   "execution_count": 3,
   "metadata": {},
   "outputs": [],
   "source": [
    "A = 1e5\n",
    "B = 40\n",
    "\n",
    "result = minimize(lennard_jones, [3.5], args=(A, B))"
   ]
  },
  {
   "cell_type": "code",
   "execution_count": 4,
   "metadata": {},
   "outputs": [
    {
     "name": "stdout",
     "output_type": "stream",
     "text": [
      "      fun: -0.003999999054071188\n",
      " hess_inv: array([[54.70574037]])\n",
      "      jac: array([-5.64771472e-06])\n",
      "  message: 'Optimization terminated successfully.'\n",
      "     nfev: 18\n",
      "      nit: 8\n",
      "     njev: 9\n",
      "   status: 0\n",
      "  success: True\n",
      "        x: array([4.13485048])\n"
     ]
    }
   ],
   "source": [
    "print(result)"
   ]
  },
  {
   "cell_type": "markdown",
   "metadata": {},
   "source": [
    "The object that is returned by the `minimize` function is a special object which gives a lot of information about the minimisation.\n",
    "The value we are interested in is the minimum energy difference, which is the `x` attribute of this object. "
   ]
  },
  {
   "cell_type": "code",
   "execution_count": 5,
   "metadata": {},
   "outputs": [
    {
     "name": "stdout",
     "output_type": "stream",
     "text": [
      "[4.13485048]\n"
     ]
    }
   ],
   "source": [
    "print(result.x)"
   ]
  },
  {
   "cell_type": "markdown",
   "metadata": {},
   "source": [
    "This agrees well with the value that we found when writing our own minimisation methods. \n",
    "\n",
    "## Exercise\n",
    "\n",
    "Write a function to model the following potential energy function, \n",
    "\n",
    "$$ E = \\frac{1}{2} \\{A_1[1 + \\cos{(\\phi)}] + A_2[1 + \\cos{(2\\phi)}] + A_3[1 + \\cos{(3\\phi)}]\\}, $$\n",
    "\n",
    "this function describes the potential energy of the Cl-C-C-Cl dihedral angle in a molecule of 1, 2-dichloroethane, where $A_1 = 55.229$ kJ/mol, $A_2 = 3.3472$ kJ/mol, $A_3 = -58.576$ kJ/mol and $\\phi$ is the dihedral angle.\n",
    "\n",
    "1. Plot this function between $-\\pi$ and $\\pi$, remember to label your axes. \n",
    "2. Using `minimize` test different initial values of `x0` for $\\phi$. Consider why the result is so dependent on the starting position for this function (it may help to plot your result on the function). \n",
    "\n",
    "### Tip\n",
    "\n",
    "It is advised to use the [NumPy trigonmetric functions](https://numpy.org/doc/stable/reference/generated/numpy.cos.html) in this exercise. "
   ]
  }
 ],
 "metadata": {
  "kernelspec": {
   "display_name": "Python 3 (ipykernel)",
   "language": "python",
   "name": "python3"
  },
  "language_info": {
   "codemirror_mode": {
    "name": "ipython",
    "version": 3
   },
   "file_extension": ".py",
   "mimetype": "text/x-python",
   "name": "python",
   "nbconvert_exporter": "python",
   "pygments_lexer": "ipython3",
   "version": "3.11.1"
  }
 },
 "nbformat": 4,
 "nbformat_minor": 4
}
