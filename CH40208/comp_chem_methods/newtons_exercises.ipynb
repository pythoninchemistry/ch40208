{
 "cells": [
  {
   "cell_type": "markdown",
   "metadata": {},
   "source": [
    "# Exercise\n",
    "\n",
    "This time we need the first and second derivatives."
   ]
  },
  {
   "cell_type": "code",
   "execution_count": 1,
   "metadata": {},
   "outputs": [],
   "source": [
    "def first_derivative(r, A, B):\n",
    "    \"\"\"\n",
    "    The first derivative of the Lennard-Jones potential model. \n",
    "    \n",
    "    Args:\n",
    "        r (float): Atom-atom distance (Å).\n",
    "        A (float): Interaction parameter (eVÅ^12).\n",
    "        B (float): Interaction parameter (eVÅ^6).\n",
    "        \n",
    "    Returns:\n",
    "        (float): Potential energy.\n",
    "    \"\"\"\n",
    "    return -12. * A / r ** 13 + 6 * B / r ** 7\n",
    "\n",
    "def second_derivative(r, A, B):\n",
    "    \"\"\"\n",
    "    The second derivative of the Lennard-Jones potential model. \n",
    "    \n",
    "    Args:\n",
    "        r (float): Atom-atom distance (Å).\n",
    "        A (float): Interaction parameter (eVÅ^12).\n",
    "        B (float): Interaction parameter (eVÅ^6).\n",
    "        \n",
    "    Returns:\n",
    "        (float): Potential energy.\n",
    "    \"\"\"\n",
    "    return 156. * A / r ** 14 - 42 * B / r ** 8"
   ]
  },
  {
   "cell_type": "markdown",
   "metadata": {},
   "source": [
    "We when implement Newtons method, which does not need hyperparameters."
   ]
  },
  {
   "cell_type": "code",
   "execution_count": 2,
   "metadata": {},
   "outputs": [],
   "source": [
    "A = 1e5\n",
    "B = 40\n",
    "\n",
    "r = 4.4\n",
    "r_list = [r]\n",
    "for i in range(30):\n",
    "    E_dash = first_derivative(r, A, B)\n",
    "    E_ddash = second_derivative(r, A, B)\n",
    "    r = r - E_dash / E_ddash\n",
    "    r_list.append(r)"
   ]
  },
  {
   "cell_type": "markdown",
   "metadata": {},
   "source": [
    "It is easier to show the convergence with a plot. "
   ]
  },
  {
   "cell_type": "code",
   "execution_count": 3,
   "metadata": {},
   "outputs": [
    {
     "data": {
      "image/png": "[encoded data removed]",
      "text/plain": [
       "<Figure size 432x288 with 1 Axes>"
      ]
     },
     "metadata": {
      "needs_background": "light"
     },
     "output_type": "display_data"
    }
   ],
   "source": [
    "import matplotlib.pyplot as plt\n",
    "\n",
    "plt.plot(range(31), r_list, 'o--')\n",
    "plt.xlabel('Iteration')\n",
    "plt.ylabel('r')\n",
    "plt.show()"
   ]
  },
  {
   "cell_type": "markdown",
   "metadata": {},
   "source": [
    "To consider the cause of the result where the starting value is 6.0 Å, watch the [following LOIL](https://moodle.bath.ac.uk/mod/url/view.php?id=931081) (Bath moodle access required)."
   ]
  }
 ],
 "metadata": {
  "kernelspec": {
   "display_name": "Python 3 (ipykernel)",
   "language": "python",
   "name": "python3"
  },
  "language_info": {
   "codemirror_mode": {
    "name": "ipython",
    "version": 3
   },
   "file_extension": ".py",
   "mimetype": "text/x-python",
   "name": "python",
   "nbconvert_exporter": "python",
   "pygments_lexer": "ipython3",
   "version": "3.11.10"
  }
 },
 "nbformat": 4,
 "nbformat_minor": 4
}
