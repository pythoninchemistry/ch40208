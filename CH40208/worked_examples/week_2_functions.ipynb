{
 "cells": [
  {
   "cell_type": "markdown",
   "id": "b4ae9ec2-c031-49c0-8b6d-2fe2410340a8",
   "metadata": {},
   "source": [
    "# Worked Examples: Comparisons and Flow Control\n",
    "\n",
    "These worked solutions correspond to the exercises on the [Comparisons and Flow Control](../python_basics/comparisons_and_flow_control.ipynb) page.\n",
    "\n",
    "**How to use this notebook:**\n",
    "- Try each exercise yourself first before looking at the solution\n",
    "- The code cells show both the code and its output\n",
    "- Download this notebook if you want to run and experiment with the code yourself\n",
    "- Your solution might look different - that's fine as long as it gives the correct answer!"
   ]
  },
  {
   "cell_type": "markdown",
   "id": "62782b0e-d409-437e-89a8-5fd64a874f52",
   "metadata": {},
   "source": [
    "## Exercise 1: pH with Activity Coefficient\n",
    "\n",
    "**Problem**: The correct definition of pH is\n",
    "\n",
    "$$\\mathrm{pH} = -\\log_{10}(a_\\mathrm{H}^+)$$\n",
    "\n",
    "where $a_\\mathrm{H}^+$ is the _activity_ of hydrogen ions, which is related to the concentration $[\\mathrm{H}^+]$ by the _activity coefficient_, $\\gamma_\\mathrm{H}^+$:\n",
    "\n",
    "$$a_\\mathrm{H}^+ = \\gamma_\\mathrm{H}^+[\\mathrm{H}^+]$$\n",
    "\n",
    "Write an updated version of the `calculate_pH()` function from the earlier example so that it calculates pH correctly. Your function should take two arguments: the concentration of hydrogen ions and their activity coefficient.\n",
    "\n",
    "Check that for $\\gamma_\\mathrm{H}^+ = 1$ you get the same answer as before. \n",
    "\n",
    "Now rewrite your function so that the activity coefficient is an _optional_ argument, with a default value of $\\gamma_\\mathrm{H}^+ = 1$. Check that if you call this function in your code as `calculate_pH(h_plus)` you still get the same result."
   ]
  },
  {
   "cell_type": "markdown",
   "id": "7540269f-bc86-4d3e-9abd-1265a5282ccb",
   "metadata": {},
   "source": [
    "**Solution**\n",
    "\n",
    "**Part 1: Function with Two Required Arguments**\n",
    "\n",
    "First, let's write the function with both the hydrogen ion concentration and activity coefficient as required arguments:"
   ]
  },
  {
   "cell_type": "code",
   "execution_count": 1,
   "id": "97773f11-dd47-423b-b10b-cc1c53bca49a",
   "metadata": {},
   "outputs": [],
   "source": [
    "import math\n",
    "\n",
    "def calculate_pH(h_plus, gamma):\n",
    "    \"\"\"\n",
    "    Calculates pH.\n",
    "    \n",
    "    Args:\n",
    "        h_plus (float): Hydrogen ion concentration (M).\n",
    "        gamma (float): Activity coefficient (dimensionless).\n",
    "    \n",
    "    Returns:\n",
    "        (float): pH value.\n",
    "    \"\"\"\n",
    "    activity = gamma * h_plus\n",
    "    return -math.log10(activity)"
   ]
  },
  {
   "cell_type": "markdown",
   "id": "49a26c63-a9f4-4572-bd42-4e44c9b7ee76",
   "metadata": {},
   "source": [
    "Let's test this function with an example.\n",
    "\n",
    "If $[\\mathrm{H}^+] = 1.0 \\times 10^{-5}$ M and $\\gamma_\\mathrm{H}^+ = 1.0$:"
   ]
  },
  {
   "cell_type": "code",
   "execution_count": 2,
   "id": "ad946220-0396-40ea-a565-4e0d7bb0324e",
   "metadata": {},
   "outputs": [
    {
     "name": "stdout",
     "output_type": "stream",
     "text": [
      "pH = 5.00\n"
     ]
    }
   ],
   "source": [
    "h_plus = 1.0e-5\n",
    "gamma = 1.0\n",
    "\n",
    "pH = calculate_pH(h_plus, gamma)\n",
    "print(f\"pH = {pH:.2f}\")"
   ]
  },
  {
   "cell_type": "markdown",
   "id": "a8e47022-406a-4d3e-a209-ef061443b2f8",
   "metadata": {},
   "source": [
    "**Verification:** When $\\gamma_\\mathrm{H}^+ = 1$, we get the same result as the simplified formula $\\mathrm{pH} = -\\log_{10}[\\mathrm{H}^+]$."
   ]
  },
  {
   "cell_type": "markdown",
   "id": "0869083c-0713-411b-a648-e2fd1054fff3",
   "metadata": {},
   "source": [
    "**Part 2: Function with Optional Argument**\n",
    "\n",
    "Now let's rewrite the function so that the activity coefficient is an **optional** argument with a default value of 1:"
   ]
  },
  {
   "cell_type": "code",
   "execution_count": 3,
   "id": "db74d061-8171-48aa-80a0-0e82189e3b8c",
   "metadata": {},
   "outputs": [],
   "source": [
    "def calculate_pH(h_plus, gamma=1.0):\n",
    "    \"\"\"\n",
    "    Calculates pH.\n",
    "    \n",
    "    Args:\n",
    "        h_plus (float): Hydrogen ion concentration (M).\n",
    "        gamma (float, optional): Activity coefficient (dimensionless). \n",
    "            Defaults to 1.0 (ideal behaviour).\n",
    "    \n",
    "    Returns:\n",
    "        (float): pH value.\n",
    "    \"\"\"\n",
    "    activity = gamma * h_plus\n",
    "    return -math.log10(activity)"
   ]
  },
  {
   "cell_type": "markdown",
   "id": "01ba6df6-0810-49a0-9fc1-5286848a0399",
   "metadata": {},
   "source": [
    "Now we can call this function in three different ways:"
   ]
  },
  {
   "cell_type": "code",
   "execution_count": 4,
   "id": "e7dae1b2-83d8-48f8-be1f-2d976df563ae",
   "metadata": {},
   "outputs": [
    {
     "name": "stdout",
     "output_type": "stream",
     "text": [
      "pH (default γ=1.0) = 5.00\n",
      "pH (explicit γ=1.0) = 5.00\n",
      "pH (γ=0.85) = 5.07\n"
     ]
    }
   ],
   "source": [
    "h_plus = 1.0e-5\n",
    "\n",
    "# Method 1: Using the default gamma = 1.0\n",
    "pH_default = calculate_pH(h_plus)\n",
    "print(f\"pH (default γ=1.0) = {pH_default:.2f}\")\n",
    "\n",
    "# Method 2: Explicitly specifying gamma = 1.0\n",
    "pH_explicit = calculate_pH(h_plus, 1.0)\n",
    "print(f\"pH (explicit γ=1.0) = {pH_explicit:.2f}\")\n",
    "\n",
    "# Method 3: Using a different activity coefficient\n",
    "pH_nonideal = calculate_pH(h_plus, 0.85)\n",
    "print(f\"pH (γ=0.85) = {pH_nonideal:.2f}\")"
   ]
  },
  {
   "cell_type": "markdown",
   "id": "d5032244-8612-4cfc-91b0-053b73750f88",
   "metadata": {},
   "source": [
    "## Exercise 2: Using the Generic quadratic_roots() Function\n",
    "\n",
    "**Problem:** Rewrite your `calculate_h_plus()` function to call the `generic quadratic_roots()` function. You will need to pass in appropriate values for the arguments `a`, `b`, and `c`. Remember that the `quadratic_roots()` function returns both roots: you want the positive root."
   ]
  },
  {
   "cell_type": "markdown",
   "id": "a3ad2098-e375-444e-87e2-52276ee280ea",
   "metadata": {},
   "source": [
    "**Solution**\n",
    "\n",
    "**Background: The Original Function**\n",
    "\n",
    "From the earlier example in the Functions section, the original `calculate_h_plus()` function was:"
   ]
  },
  {
   "cell_type": "code",
   "execution_count": 5,
   "id": "9ddc2448-52a1-44a9-81e2-e7f806204a3c",
   "metadata": {},
   "outputs": [],
   "source": [
    "def calculate_h_plus(concentration, Ka):\n",
    "    \"\"\"Calculate the hydrogen ion concentration of a weak acid solution.\"\"\"\n",
    "    return (-Ka + math.sqrt(Ka**2 + 4*Ka*concentration)) / 2"
   ]
  },
  {
   "cell_type": "markdown",
   "id": "93bbcb04-d947-482c-899f-f34b88714b31",
   "metadata": {},
   "source": [
    "This function directly implements the positive root of the quadratic equation:\n",
    "\n",
    "$$x^2 + K_a x - K_a C = 0$$\n",
    "\n",
    "where $x = [\\mathrm{H}^+]$, derived from the equilibrium expression for weak acid dissociation."
   ]
  },
  {
   "cell_type": "markdown",
   "id": "9fa6ddab-ea02-4810-a8b7-9afd59d0920c",
   "metadata": {},
   "source": [
    "**The Generic `quadratic_roots()` Function**\n",
    "\n",
    "The generic function solves $ax^2 + bx + c = 0$:"
   ]
  },
  {
   "cell_type": "code",
   "execution_count": 6,
   "id": "bbfde5de-e587-46f5-b727-221e56de52a7",
   "metadata": {},
   "outputs": [],
   "source": [
    "def quadratic_roots(a, b, c):\n",
    "    \"\"\"\n",
    "    Calculate both roots of a quadratic equation ax^2 + bx + c = 0.\n",
    "    \n",
    "    Args:\n",
    "        a (float): Coefficient of x^2.\n",
    "        b (float): Coefficient of x.\n",
    "        c (float): Constant term.\n",
    "    \n",
    "    Returns:\n",
    "        (tuple): A tuple containing both roots (r1, r2).\n",
    "    \"\"\"\n",
    "    d = b**2 - 4*a*c\n",
    "    r1 = (-b + math.sqrt(d)) / 2 / a\n",
    "    r2 = (-b - math.sqrt(d)) / 2 / a\n",
    "    return r1, r2"
   ]
  },
  {
   "cell_type": "markdown",
   "id": "06f35336-ab24-4c54-b708-e63019bdb26c",
   "metadata": {},
   "source": [
    "**Rewritten `calculate_h_plus()` Function**"
   ]
  },
  {
   "cell_type": "markdown",
   "id": "b369acd0-3c55-4484-8c62-bf510243971b",
   "metadata": {},
   "source": [
    "Comparing our quadratic equation \n",
    "$$x^2 + K_a x - K_a C = 0$$\n",
    "with the standard form \n",
    "$$ax^2 + bx + c = 0$$\n",
    "we see we want the following coefficients:\n",
    "$$a = 1$$\n",
    "$$b = K_a$$\n",
    "$$c = -K_a \\times \\text{concentration}$$\n",
    "\n",
    "Here's the rewritten function:"
   ]
  },
  {
   "cell_type": "code",
   "execution_count": 7,
   "id": "5602fe55-8ed6-49a4-be04-9ae16239b6d9",
   "metadata": {},
   "outputs": [],
   "source": [
    "def calculate_h_plus(concentration, Ka):\n",
    "    \"\"\"\n",
    "    Calculate the hydrogen ion concentration of a weak acid solution.\n",
    "    \n",
    "    Args:\n",
    "        concentration (float): Initial concentration of weak acid (M).\n",
    "        Ka (float): Acid dissociation constant.\n",
    "    \n",
    "    Returns:\n",
    "        (float): Equilibrium hydrogen ion concentration (M).\n",
    "    \"\"\"\n",
    "    # Set up coefficients for ax^2 + bx + c = 0\n",
    "    a = 1\n",
    "    b = Ka\n",
    "    c = -Ka * concentration\n",
    "    \n",
    "    # Get both roots\n",
    "    root1, root2 = quadratic_roots(a, b, c)\n",
    "    \n",
    "    # Return the positive root\n",
    "    # (root1 uses +sqrt, root2 uses -sqrt)\n",
    "    return root1"
   ]
  },
  {
   "cell_type": "markdown",
   "id": "7f1333b5-a6dd-408a-9434-bec3dac7eb50",
   "metadata": {},
   "source": [
    "**Testing the Function**\n",
    "\n",
    "Let's test this with an example. For acetic acid with $K_a = 1.8 \\times 10^{-5}$ and initial concentration $C = 0.1$ M:"
   ]
  },
  {
   "cell_type": "code",
   "execution_count": 9,
   "id": "3470901e-d54b-4545-a0ab-6b19ffe835b1",
   "metadata": {},
   "outputs": [
    {
     "name": "stdout",
     "output_type": "stream",
     "text": [
      "[H+] = 0.001333 M\n",
      "pH = 2.88\n"
     ]
    }
   ],
   "source": [
    "# Example: acetic acid\n",
    "Ka = 1.8e-5\n",
    "concentration = 0.1\n",
    "\n",
    "# Calculate H+ concentration\n",
    "h_plus = calculate_h_plus(concentration, Ka)\n",
    "\n",
    "print(f\"[H+] = {h_plus:.6f} M\")\n",
    "\n",
    "# Calculate pH for verification\n",
    "pH = -math.log10(h_plus)\n",
    "print(f\"pH = {pH:.2f}\")"
   ]
  },
  {
   "cell_type": "markdown",
   "id": "e3002061-e46b-4a48-81df-d7c5897551d4",
   "metadata": {},
   "source": [
    "**Verification: Comparing with Original Function**\n",
    "\n",
    "Let's verify that both versions give the same result:"
   ]
  },
  {
   "cell_type": "code",
   "execution_count": 11,
   "id": "df552890-e7f6-4385-bc8d-5ff446b5cfcc",
   "metadata": {},
   "outputs": [
    {
     "name": "stdout",
     "output_type": "stream",
     "text": [
      "New function:      [H+] = 1.3326709731e-03 M\n",
      "Original function: [H+] = 1.3326709731e-03 M\n"
     ]
    }
   ],
   "source": [
    "# Original version (direct implementation)\n",
    "def calculate_h_plus_original(concentration, Ka):\n",
    "    return (-Ka + math.sqrt(Ka**2 + 4*Ka*concentration)) / 2\n",
    "\n",
    "# Test both functions\n",
    "h_plus_new = calculate_h_plus(concentration, Ka)\n",
    "h_plus_original = calculate_h_plus_original(concentration, Ka)\n",
    "\n",
    "print(f\"New function:      [H+] = {h_plus_new:.10e} M\")\n",
    "print(f\"Original function: [H+] = {h_plus_original:.10e} M\")"
   ]
  },
  {
   "cell_type": "markdown",
   "id": "e9bdbdb7-b4e0-4552-92d4-c6aa2f1c4ae0",
   "metadata": {},
   "source": [
    "**Benefits of this approach:**\n",
    "\n",
    "- Reusability: We can now use quadratic_roots() for any quadratic equation\n",
    "- Clarity: The code explicitly shows the quadratic equation being solved\n",
    "- Maintainability: If we improve quadratic_roots() (e.g., error handling), all functions using it benefit"
   ]
  },
  {
   "cell_type": "markdown",
   "id": "21c9dfda-e71c-4a78-8844-669e54d50cd0",
   "metadata": {},
   "source": [
    "**Alternative Solution: More Robust Approach**\n",
    "\n",
    "The solution above assumes we know that `root1` (using the $+\\sqrt{\\cdots}$ term) is the positive root. A more robust approach doesn't rely on knowing the order the two roots are returned in `quadratic_roots()`. But then we need an approach that will give us the positive root whether this is `root1` or `root2`. We can do this by using `max(roots)` to get the maximum root (which is guaranteed to be the positive root in our case)."
   ]
  },
  {
   "cell_type": "code",
   "execution_count": 12,
   "id": "04dc5fdf-ac7e-431a-9cb3-16e36506f115",
   "metadata": {},
   "outputs": [],
   "source": [
    "def calculate_h_plus(concentration, Ka):\n",
    "    \"\"\"\n",
    "    Calculate the hydrogen ion concentration of a weak acid solution.\n",
    "    \n",
    "    Args:\n",
    "        concentration (float): Initial concentration of weak acid (M).\n",
    "        Ka (float): Acid dissociation constant.\n",
    "    \n",
    "    Returns:\n",
    "        (float): Equilibrium hydrogen ion concentration (M).\n",
    "    \"\"\"\n",
    "    # Set up coefficients for ax^2 + bx + c = 0\n",
    "    a = 1\n",
    "    b = Ka\n",
    "    c = -Ka * concentration\n",
    "    \n",
    "    # Get both roots\n",
    "    roots = quadratic_roots(a, b, c)\n",
    "    \n",
    "    # Return the positive root (the physically meaningful one)\n",
    "    return max(roots)"
   ]
  },
  {
   "cell_type": "markdown",
   "id": "f4b81a27-be6e-4a66-a87b-9b05fb4e0b5e",
   "metadata": {},
   "source": [
    "## Exercise 3: Distance Between Atoms \n",
    "\n",
    "**Problem:** Write a function to calculate the distance between two atoms. Then rewrite the exercise in the loops section to utilise this function. Make sure to include a docstring describing the purpose of the function and outlining the arguments.\n",
    "\n",
    "**Solution**\n",
    "\n",
    "The distance between two atoms in 3D space is calculated using the Euclidean distance formula:\n",
    "$$d = \\sqrt{(x_2-x_1)^2 + (y_2-y_1)^2 + (z_2-z_1)^2}$$\n",
    "Here's the function implementation:"
   ]
  },
  {
   "cell_type": "code",
   "execution_count": 13,
   "id": "d68fe9f5-a7b8-457e-b58d-cfcd068f16a8",
   "metadata": {},
   "outputs": [],
   "source": [
    "def distance(atom1, atom2):\n",
    "    \"\"\"\n",
    "    Calculate the distance between two atoms in 3D space.\n",
    "    \n",
    "    Args:\n",
    "        atom1 (list): [x, y, z] coordinates of atom 1 (Å).\n",
    "        atom2 (list): [x, y, z] coordinates of atom 2 (Å).\n",
    "    \n",
    "    Returns:\n",
    "        (float): Distance between the two atoms (Å).\n",
    "    \"\"\"\n",
    "    dx = atom1[0] - atom2[0]\n",
    "    dy = atom1[1] - atom2[1]\n",
    "    dz = atom1[2] - atom2[2]\n",
    "    \n",
    "    return math.sqrt(dx**2 + dy**2 + dz**2)"
   ]
  },
  {
   "cell_type": "markdown",
   "id": "b5155a3d-0291-4774-bd1b-09c131a2bac1",
   "metadata": {},
   "source": [
    "**Testing the function:**"
   ]
  },
  {
   "cell_type": "code",
   "execution_count": 16,
   "id": "0764ea28-f031-45ca-8a7d-09f2194913cb",
   "metadata": {},
   "outputs": [
    {
     "name": "stdout",
     "output_type": "stream",
     "text": [
      "Distance: 1.0139 Å\n"
     ]
    }
   ],
   "source": [
    "# Example: distance between two atoms\n",
    "atom_a = [0.0, 0.0, 0.0]\n",
    "atom_b = [0.0, 0.94, 0.38]\n",
    "\n",
    "d = distance(atom_a, atom_b)\n",
    "print(f\"Distance: {d:.4f} Å\")"
   ]
  },
  {
   "cell_type": "markdown",
   "id": "0808e173-49f2-4316-9f9e-9dc4b0048445",
   "metadata": {},
   "source": [
    "**Using the Function in Nested Loops:**\n",
    "\n",
    "Now let's use this function to calculate all pairwise distances between three atoms. From the loops section, we want to avoid calculating the same distance twice (e.g., distance 1$\\to$2 is the same as 2$\\to$1) and avoid calculating the distance from an atom to itself."
   ]
  },
  {
   "cell_type": "code",
   "execution_count": 26,
   "id": "311c8dcd-767c-4788-88f8-23ca749cd9a6",
   "metadata": {},
   "outputs": [
    {
     "name": "stdout",
     "output_type": "stream",
     "text": [
      "Unique pairwise distances in NH3\n",
      "========================================\n",
      "Distance from N   to H1 : 1.0139 Å\n",
      "Distance from N   to H2 : 1.0106 Å\n",
      "Distance from N   to H3 : 1.0106 Å\n",
      "Distance from H1  to H2 : 1.6261 Å\n",
      "Distance from H1  to H3 : 1.6261 Å\n",
      "Distance from H2  to H3 : 1.6200 Å\n"
     ]
    }
   ],
   "source": [
    "# Ammonia (NH3) atomic coordinates in Ångströms\n",
    "atom_N = [0.0, 0.0, 0.0]       # Nitrogen at origin\n",
    "atom_H1 = [0.0, 0.94, 0.38]    # Hydrogen 1\n",
    "atom_H2 = [0.81, -0.47, 0.38]  # Hydrogen 2  \n",
    "atom_H3 = [-0.81, -0.47, 0.38] # Hydrogen 3\n",
    "\n",
    "atoms = [atom_N, atom_H1, atom_H2, atom_H3]\n",
    "atom_labels = ['N', 'H1', 'H2', 'H3']\n",
    "\n",
    "# Calculate all unique pairwise distances using nested loops\n",
    "print(\"Unique pairwise distances in NH3\")\n",
    "print(\"=\" * 40)\n",
    "\n",
    "for i in range(len(atoms)):\n",
    "    for j in range(i + 1, len(atoms)):\n",
    "        d = distance(atoms[i], atoms[j])\n",
    "        print(f\"Distance from {atom_labels[i]:3s} to {atom_labels[j]:3s}: {d:.4f} Å\")"
   ]
  },
  {
   "cell_type": "markdown",
   "id": "af8b80a5-ad2a-4718-b705-d96e64d26dd1",
   "metadata": {},
   "source": [
    "**Benefits of using a function:**\n",
    "\n",
    "- Reusability: We can calculate any pairwise distance with a simple function call: `distance(atoms[i], atoms[j])`\n",
    "- Readability: The code in the loop is much clearer than writing out the full distance formula\n",
    "- Maintainability: If we need to change the distance calculation (e.g., add periodic boundary conditions), we only update one function\n",
    "- Testing: We can test the distance function independently before using it in the loop"
   ]
  },
  {
   "cell_type": "markdown",
   "id": "908d9719-b712-43fb-a53a-0a53db2e4525",
   "metadata": {},
   "source": [
    "**Alternative Solution: Using `enumerate()` and `zip()`**\n",
    "\n",
    "Here's a more Pythonic approach that works directly with atom coordinates and labels rather than indices:"
   ]
  },
  {
   "cell_type": "code",
   "execution_count": 27,
   "id": "273e7997-2233-4091-91d8-bb189c66dd4e",
   "metadata": {},
   "outputs": [
    {
     "name": "stdout",
     "output_type": "stream",
     "text": [
      "Unique pairwise distances in NH3\n",
      "========================================\n",
      "Distance from N   to H1 : 1.0139 Å\n",
      "Distance from N   to H2 : 1.0106 Å\n",
      "Distance from N   to H3 : 1.0106 Å\n",
      "Distance from H1  to H2 : 1.6261 Å\n",
      "Distance from H1  to H3 : 1.6261 Å\n",
      "Distance from H2  to H3 : 1.6200 Å\n"
     ]
    }
   ],
   "source": [
    "# Calculate all unique pairwise distances using nested loops\n",
    "print(\"Unique pairwise distances in NH3\")\n",
    "print(\"=\" * 40)\n",
    "\n",
    "for i, (atom_i, label_i) in enumerate(zip(atoms, atom_labels)):\n",
    "    for atom_j, label_j in zip(atoms[i+1:], atom_labels[i+1:]):\n",
    "        d = distance(atom_i, atom_j)\n",
    "        print(f\"Distance from {label_i:3s} to {label_j:3s}: {d:.4f} Å\")"
   ]
  },
  {
   "cell_type": "markdown",
   "id": "b10d8360-cfe6-4589-8f08-c5227549bc28",
   "metadata": {},
   "source": [
    "**Benefits of this approach:**\n",
    "\n",
    "- Works directly with values rather than indices\n",
    "- More readable inside the loops: `distance(atom_i, atom_j)` instead of `distance(atoms[i], atoms[j])`\n",
    "- Less error-prone: no risk of mixing up indices inside the loops"
   ]
  },
  {
   "cell_type": "markdown",
   "id": "f70ba421-18b9-42af-b476-6b3846ec8006",
   "metadata": {},
   "source": [
    "## Exercise 4: Einstein Model for Heat Capacity\n",
    "\n",
    "**Problem:** The Einstein model for the heat capacity of a crystal is:\n",
    "\n",
    "$$C_{V,m} = 3R\\left(\\frac{\\Theta_E}{T}\\right)^2\\frac{\\exp\\left(\\frac{\\Theta_\\mathrm{E}}{T}\\right)}{\\left[\\exp\\left(\\frac{\\Theta_\\mathrm{E}}{T}\\right)-1\\right]^2}$$\n",
    "\n",
    "where the _Einstein temperature_, $\\Theta_\\mathrm{E}$ is a constant for a given material.\n",
    "\n",
    "Write a function to calculate $C_{V,m}$ at 300 K for:\n",
    "\n",
    "(a) sodium ($\\Theta_\\mathrm{E}$ = 192 K)\n",
    "\n",
    "(b) diamond ($\\Theta_\\mathrm{E}$ = 1450 K)"
   ]
  },
  {
   "cell_type": "markdown",
   "id": "d2fbf817-e5c7-4176-a4d6-e63bb70b128b",
   "metadata": {},
   "source": [
    "**Solution:**"
   ]
  },
  {
   "cell_type": "code",
   "execution_count": 29,
   "id": "3e47dd18-5c31-44ad-8c92-9a92a969d009",
   "metadata": {},
   "outputs": [
    {
     "name": "stdout",
     "output_type": "stream",
     "text": [
      "Sodium at 300 K:\n",
      "θ_E = 192 K\n",
      "C_V,m = 24.11 J/(mol·K)\n",
      "\n",
      "Diamond at 300 K:\n",
      "θ_E = 1450 K\n",
      "C_V,m = 4.71 J/(mol·K)\n"
     ]
    }
   ],
   "source": [
    "def einstein_heat_capacity(T, theta_E):\n",
    "    \"\"\"\n",
    "    Calculate the molar heat capacity using the Einstein model.\n",
    "    \n",
    "    Args:\n",
    "        T (float): Temperature (K).\n",
    "        theta_E (float): Einstein temperature for the material (K).\n",
    "    \n",
    "    Returns:\n",
    "        (float): Molar heat capacity at constant volume, C_V,m (J/(mol·K)).\n",
    "    \"\"\"\n",
    "    R = 8.314  # Gas constant in J/(mol·K)\n",
    "    \n",
    "    # Calculate the ratio theta_E / T\n",
    "    x = theta_E / T\n",
    "    \n",
    "    # Calculate exp(theta_E / T)\n",
    "    exp_x = math.exp(x)\n",
    "    \n",
    "    # Apply the Einstein formula\n",
    "    C_V = 3 * R * (x**2) * exp_x / (exp_x - 1)**2\n",
    "    \n",
    "    return C_V\n",
    "\n",
    "\n",
    "# Part (a): Sodium at 300 K\n",
    "T = 300  # K\n",
    "theta_E_sodium = 192  # K\n",
    "\n",
    "C_V_sodium = einstein_heat_capacity(T, theta_E_sodium)\n",
    "print(f\"Sodium at {T} K:\")\n",
    "print(f\"θ_E = {theta_E_sodium} K\")\n",
    "print(f\"C_V,m = {C_V_sodium:.2f} J/(mol·K)\")\n",
    "print()\n",
    "\n",
    "# Part (b): Diamond at 300 K\n",
    "theta_E_diamond = 1450  # K\n",
    "\n",
    "C_V_diamond = einstein_heat_capacity(T, theta_E_diamond)\n",
    "print(f\"Diamond at {T} K:\")\n",
    "print(f\"θ_E = {theta_E_diamond} K\")\n",
    "print(f\"C_V,m = {C_V_diamond:.2f} J/(mol·K)\")"
   ]
  },
  {
   "cell_type": "markdown",
   "id": "2c4385ec-03e3-4f51-abcb-d8617cedbf83",
   "metadata": {},
   "source": [
    "**Breaking down the formula:**\n",
    "\n",
    "To make the calculation clearer and avoid errors, we break it into parts:\n",
    "\n",
    "- Define $x = \\frac{\\Theta_E}{T}$\n",
    "- Calculate $e^x = \\exp(x)$\n",
    "- Apply the formula: $C_{V,m} = 3R \\cdot x^2 \\cdot \\frac{e^x}{(e^x - 1)^2}$\n",
    "\n",
    "Why we use intermediate variables:\n",
    "\n",
    "- `x = theta_E / T` - makes the formula more readable\n",
    "- `exp_x = math.exp(x)` - we use this value twice, so calculate it once\n",
    "\n",
    "This approach reduces errors and makes debugging easier\n"
   ]
  },
  {
   "cell_type": "code",
   "execution_count": null,
   "id": "9f93bd66-d381-4179-a569-51f81cc24719",
   "metadata": {},
   "outputs": [],
   "source": []
  }
 ],
 "metadata": {
  "kernelspec": {
   "display_name": "Python 3 (ipykernel)",
   "language": "python",
   "name": "python3"
  },
  "language_info": {
   "codemirror_mode": {
    "name": "ipython",
    "version": 3
   },
   "file_extension": ".py",
   "mimetype": "text/x-python",
   "name": "python",
   "nbconvert_exporter": "python",
   "pygments_lexer": "ipython3",
   "version": "3.12.3"
  }
 },
 "nbformat": 4,
 "nbformat_minor": 5
}
