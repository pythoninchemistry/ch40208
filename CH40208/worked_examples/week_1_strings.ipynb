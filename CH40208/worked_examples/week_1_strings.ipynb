{
 "cells": [
  {
   "cell_type": "markdown",
   "id": "3d13cd29-af00-4f40-897a-31290925e822",
   "metadata": {},
   "source": [
    "# Worked Examples: Getting Started with Strings\n",
    "\n",
    "These worked solutions correspond to the exercises on the [Getting Started with Strings](getting_started_with_strings.ipynb) page.\n",
    "\n",
    "**How to use this notebook:**\n",
    "- Try each exercise yourself first before looking at the solution\n",
    "- The code cells show both the code and its output\n",
    "- Download this notebook if you want to run and experiment with the code yourself\n",
    "- Some of these exercises produce errors - this is intentional and helps you learn what operations are valid!"
   ]
  },
  {
   "cell_type": "markdown",
   "id": "0baa3a94-6c6f-4ef6-a22f-aa6f924f9a1a",
   "metadata": {},
   "source": [
    "## Exercise: String Operations\n",
    "\n",
    "These exercises explore which operations work with strings and which don't. Understanding what causes errors helps you avoid them in your own code!"
   ]
  },
  {
   "cell_type": "markdown",
   "id": "f2802fbe-29c6-477a-998e-85557b9d3415",
   "metadata": {},
   "source": [
    "### Part 1: Adding Strings\n",
    "\n",
    "**Problem:** Try adding two strings together.\n",
    "\n",
    "**Solution:**"
   ]
  },
  {
   "cell_type": "code",
   "execution_count": 2,
   "id": "e8374692-7c90-4a46-81c4-f347e36fb5c1",
   "metadata": {},
   "outputs": [
    {
     "data": {
      "text/plain": [
       "'John went for a walk'"
      ]
     },
     "execution_count": 2,
     "metadata": {},
     "output_type": "execute_result"
    }
   ],
   "source": [
    "'John went ' + 'for a walk'"
   ]
  },
  {
   "cell_type": "markdown",
   "id": "c913e78f-f0bb-4fe0-ae96-ea54f40e1b4d",
   "metadata": {},
   "source": [
    "**Explanation:**\n",
    "\n",
    "The `+` operator **concatenates** (joins) two strings together into a single string.\n",
    "\n",
    "**Key points:**\n",
    "- String concatenation preserves all characters, including spaces\n",
    "- The order matters: `'John went ' + 'for a walk'` is different from `'for a walk' + 'John went '`\n",
    "- You can concatenate multiple strings: `'a' + 'b' + 'c'` gives `'abc'`"
   ]
  },
  {
   "cell_type": "markdown",
   "id": "afa96e15-f33f-4296-a182-1c0d2288df72",
   "metadata": {
    "editable": true,
    "slideshow": {
     "slide_type": ""
    },
    "tags": []
   },
   "source": [
    "### Part 2: Subtracting Strings\n",
    "\n",
    "**Problem:** Try to subtract one string from another.\n",
    "\n",
    "**Solution:**"
   ]
  },
  {
   "cell_type": "code",
   "execution_count": 4,
   "id": "e786a687-793e-477a-8c82-8f6a220c983d",
   "metadata": {
    "editable": true,
    "slideshow": {
     "slide_type": ""
    },
    "tags": [
     "raises-exception"
    ]
   },
   "outputs": [
    {
     "ename": "TypeError",
     "evalue": "unsupported operand type(s) for -: 'str' and 'str'",
     "output_type": "error",
     "traceback": [
      "\u001b[31m---------------------------------------------------------------------------\u001b[39m",
      "\u001b[31mTypeError\u001b[39m                                 Traceback (most recent call last)",
      "\u001b[36mCell\u001b[39m\u001b[36m \u001b[39m\u001b[32mIn[4]\u001b[39m\u001b[32m, line 1\u001b[39m\n\u001b[32m----> \u001b[39m\u001b[32m1\u001b[39m \u001b[33;43m'\u001b[39;49m\u001b[33;43mThe bird \u001b[39;49m\u001b[33;43m'\u001b[39;49m\u001b[43m \u001b[49m\u001b[43m-\u001b[49m\u001b[43m \u001b[49m\u001b[33;43m'\u001b[39;49m\u001b[33;43mthat never flew\u001b[39;49m\u001b[33;43m'\u001b[39;49m\n",
      "\u001b[31mTypeError\u001b[39m: unsupported operand type(s) for -: 'str' and 'str'"
     ]
    }
   ],
   "source": [
    "'The bird ' - 'that never flew'"
   ]
  },
  {
   "cell_type": "markdown",
   "id": "5ec8d5df-a113-4ced-8a88-19f730077765",
   "metadata": {
    "editable": true,
    "slideshow": {
     "slide_type": ""
    },
    "tags": []
   },
   "source": [
    "**Explanation:**\n",
    "\n",
    "This operation is **not possible**. Python doesn't define subtraction for strings because there's no consistent logical way to subtract one string from another.\n",
    "\n",
    "Think about it: what would `'hello' - 'lo'` mean? Should it remove `'lo'` from the end? From anywhere? What if `'lo'` appears multiple times?\n",
    "\n",
    "**Key concept:** Not all mathematical operators work with all data types. The operators that are defined for a particular type should have clear, unambiguous meanings."
   ]
  },
  {
   "cell_type": "markdown",
   "id": "e1711f09-de6c-414e-bbe3-f80295f19a4e",
   "metadata": {
    "editable": true,
    "slideshow": {
     "slide_type": ""
    },
    "tags": []
   },
   "source": [
    "### Part 3: Adding a String and a Number\n",
    "\n",
    "**Problem:** Try adding a string to a floating point number.\n",
    "\n",
    "**Solution:**"
   ]
  },
  {
   "cell_type": "code",
   "execution_count": 5,
   "id": "98a10d1f-7c63-48ed-b602-a12902e47c39",
   "metadata": {
    "editable": true,
    "slideshow": {
     "slide_type": ""
    },
    "tags": []
   },
   "outputs": [
    {
     "ename": "TypeError",
     "evalue": "can only concatenate str (not \"float\") to str",
     "output_type": "error",
     "traceback": [
      "\u001b[31m---------------------------------------------------------------------------\u001b[39m",
      "\u001b[31mTypeError\u001b[39m                                 Traceback (most recent call last)",
      "\u001b[36mCell\u001b[39m\u001b[36m \u001b[39m\u001b[32mIn[5]\u001b[39m\u001b[32m, line 1\u001b[39m\n\u001b[32m----> \u001b[39m\u001b[32m1\u001b[39m \u001b[33;43m'\u001b[39;49m\u001b[33;43mI like to eat \u001b[39;49m\u001b[33;43m'\u001b[39;49m\u001b[43m \u001b[49m\u001b[43m+\u001b[49m\u001b[43m \u001b[49m\u001b[32;43m3.14\u001b[39;49m\n",
      "\u001b[31mTypeError\u001b[39m: can only concatenate str (not \"float\") to str"
     ]
    }
   ],
   "source": [
    "'I like to eat ' + 3.14"
   ]
  },
  {
   "cell_type": "markdown",
   "id": "ffd38660-a4e6-4dfc-b963-85ae6399496e",
   "metadata": {},
   "source": [
    "**Explanation:**\n",
    "\n",
    "You cannot directly concatenate a string and a number. Python requires you to be explicit about type conversions."
   ]
  },
  {
   "cell_type": "markdown",
   "id": "44a3be1e-f5da-4f38-92c7-746a46591629",
   "metadata": {},
   "source": [
    "### Part 4: Multiplying Two Strings\n",
    "\n",
    "**Problem:** Try multiplying two strings together.\n",
    "\n",
    "**Solution:**"
   ]
  },
  {
   "cell_type": "code",
   "execution_count": 8,
   "id": "1ae65e31-32f3-478c-91bc-4437dacb50ce",
   "metadata": {},
   "outputs": [
    {
     "ename": "TypeError",
     "evalue": "can't multiply sequence by non-int of type 'str'",
     "output_type": "error",
     "traceback": [
      "\u001b[31m---------------------------------------------------------------------------\u001b[39m",
      "\u001b[31mTypeError\u001b[39m                                 Traceback (most recent call last)",
      "\u001b[36mCell\u001b[39m\u001b[36m \u001b[39m\u001b[32mIn[8]\u001b[39m\u001b[32m, line 1\u001b[39m\n\u001b[32m----> \u001b[39m\u001b[32m1\u001b[39m \u001b[33;43m'\u001b[39;49m\u001b[33;43mMultiplication is \u001b[39;49m\u001b[33;43m'\u001b[39;49m\u001b[43m \u001b[49m\u001b[43m*\u001b[49m\u001b[43m \u001b[49m\u001b[33;43m'\u001b[39;49m\u001b[33;43mmultiple addition\u001b[39;49m\u001b[33;43m'\u001b[39;49m\n",
      "\u001b[31mTypeError\u001b[39m: can't multiply sequence by non-int of type 'str'"
     ]
    }
   ],
   "source": [
    "'Multiplication is ' * 'multiple addition'"
   ]
  },
  {
   "cell_type": "markdown",
   "id": "c8155814-fcc9-4cee-9f23-99d50692a9b8",
   "metadata": {},
   "source": [
    "**Explanation:**\n",
    "\n",
    "You cannot multiply two strings together. There's no meaningful way to define what `'hello' * 'world'` should produce."
   ]
  },
  {
   "cell_type": "markdown",
   "id": "ea29dba6-fbf3-42a8-b64a-10a3b75db9f8",
   "metadata": {},
   "source": [
    "### Part 5: Multiplying a String by an Integer\n",
    "\n",
    "**Problem:** Try multiplying a string by an integer.\n",
    "\n",
    "**Solution:**"
   ]
  },
  {
   "cell_type": "code",
   "execution_count": 9,
   "id": "e28c003a-4aa6-423d-9013-772c9b92291e",
   "metadata": {},
   "outputs": [
    {
     "data": {
      "text/plain": [
       "'Around the world. Around the world. Around the world. Around the world. Around the world. '"
      ]
     },
     "execution_count": 9,
     "metadata": {},
     "output_type": "execute_result"
    }
   ],
   "source": [
    "'Around the world. ' * 5"
   ]
  },
  {
   "cell_type": "markdown",
   "id": "8fd5f6c4-7120-4e28-b48a-3a7afd20d15f",
   "metadata": {},
   "source": [
    "**Explanation:**\n",
    "\n",
    "This **does work**! Multiplying a string by an integer repeats the string that many times.\n",
    "\n",
    "**Practical uses:**\n",
    "- Creating separators: `'-' * 40` gives `'----------------------------------------'`\n",
    "- Creating repeated patterns: `'abc' * 3` gives `'abcabcabc'`\n",
    "- Initialising strings: `' ' * 10` gives 10 spaces\n",
    "\n",
    "**What about negative numbers or zero?**"
   ]
  },
  {
   "cell_type": "code",
   "execution_count": 11,
   "id": "11de631d-fd9e-4c29-9d89-b2fbeb26f9f1",
   "metadata": {},
   "outputs": [
    {
     "data": {
      "text/plain": [
       "''"
      ]
     },
     "execution_count": 11,
     "metadata": {},
     "output_type": "execute_result"
    }
   ],
   "source": [
    "'Text' * 0"
   ]
  },
  {
   "cell_type": "code",
   "execution_count": 12,
   "id": "5d4259ad-2af3-4350-a65b-2d8b65bcb520",
   "metadata": {},
   "outputs": [
    {
     "data": {
      "text/plain": [
       "''"
      ]
     },
     "execution_count": 12,
     "metadata": {},
     "output_type": "execute_result"
    }
   ],
   "source": [
    "'Text' * -1"
   ]
  },
  {
   "cell_type": "markdown",
   "id": "bbabd8b8-7281-4eb0-b0ed-5d2040977d9e",
   "metadata": {},
   "source": [
    "Both give empty strings (`''`). You can't have negative repetitions!\n",
    "\n",
    "**What about floats?**"
   ]
  },
  {
   "cell_type": "code",
   "execution_count": 13,
   "id": "80e110ba-fa4c-43f1-a9b5-d4cb9d621e08",
   "metadata": {},
   "outputs": [
    {
     "ename": "TypeError",
     "evalue": "can't multiply sequence by non-int of type 'float'",
     "output_type": "error",
     "traceback": [
      "\u001b[31m---------------------------------------------------------------------------\u001b[39m",
      "\u001b[31mTypeError\u001b[39m                                 Traceback (most recent call last)",
      "\u001b[36mCell\u001b[39m\u001b[36m \u001b[39m\u001b[32mIn[13]\u001b[39m\u001b[32m, line 1\u001b[39m\n\u001b[32m----> \u001b[39m\u001b[32m1\u001b[39m \u001b[33;43m'\u001b[39;49m\u001b[33;43mText\u001b[39;49m\u001b[33;43m'\u001b[39;49m\u001b[43m \u001b[49m\u001b[43m*\u001b[49m\u001b[43m \u001b[49m\u001b[32;43m2.5\u001b[39;49m\n",
      "\u001b[31mTypeError\u001b[39m: can't multiply sequence by non-int of type 'float'"
     ]
    }
   ],
   "source": [
    "'Text' * 2.5"
   ]
  },
  {
   "cell_type": "markdown",
   "id": "2a2ee935-2d28-42cf-b17d-6bf2a1f550a1",
   "metadata": {},
   "source": [
    "You can only multiply strings by integers, not floats. Even `'Text' * 2.0` won't work, even though mathematically it's the same as `2`."
   ]
  },
  {
   "cell_type": "markdown",
   "id": "7c2ebb34-265f-446f-9b17-8fcf9e0c3f30",
   "metadata": {},
   "source": [
    "## Summary\n",
    "\n",
    "Here's what we learned about string operations:\n",
    "\n",
    "| Operation | Example | Result |\n",
    "|-----------|---------|--------|\n",
    "| Concatenation (`+`) | `'hello' + 'world'` | `'helloworld'` ✓ |\n",
    "| Subtraction (`-`) | `'hello' - 'lo'` | TypeError ✗ |\n",
    "| String + Number (`+`) | `'value: ' + 5` | TypeError ✗ |\n",
    "| String × String (`*`) | `'hi' * 'bye'` | TypeError ✗ |\n",
    "| String × Integer (`*`) | `'hi' * 3` | `'hihihi'` ✓ |\n",
    "| String × Float (`*`) | `'hi' * 2.5` | TypeError ✗ |\n",
    "\n",
    "**Key takeaway:** Understanding which operations are valid for different data types helps you write correct code and understand error messages when things go wrong."
   ]
  },
  {
   "cell_type": "code",
   "execution_count": null,
   "id": "a647dcaf-7099-480c-8f14-a013d6046acc",
   "metadata": {},
   "outputs": [],
   "source": []
  }
 ],
 "metadata": {
  "kernelspec": {
   "display_name": "Python 3 (ipykernel)",
   "language": "python",
   "name": "python3"
  },
  "language_info": {
   "codemirror_mode": {
    "name": "ipython",
    "version": 3
   },
   "file_extension": ".py",
   "mimetype": "text/x-python",
   "name": "python",
   "nbconvert_exporter": "python",
   "pygments_lexer": "ipython3",
   "version": "3.12.9"
  }
 },
 "nbformat": 4,
 "nbformat_minor": 5
}
