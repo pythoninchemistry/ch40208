{
 "cells": [
  {
   "cell_type": "markdown",
   "id": "85bd68ce-499d-4af6-b6f9-64d8ce0d8ada",
   "metadata": {},
   "source": [
    "# Worked Examples: Loops\n",
    "\n",
    "These worked solutions correspond to the exercises on the [Loops](../python_basics/loops.ipynb) page.\n",
    "\n",
    "**How to use this notebook:**\n",
    "- Try each exercise yourself first before looking at the solution\n",
    "- The code cells show both the code and its output\n",
    "- Download this notebook if you want to run and experiment with the code yourself\n",
    "- Your solution might look different - that's fine as long as it gives the correct answer!"
   ]
  },
  {
   "cell_type": "markdown",
   "id": "63c312fb-c194-4e70-ace5-b12093aecf51",
   "metadata": {},
   "source": [
    "---\n",
    "\n",
    "## Exercise 1: Factorial Calculation\n",
    "\n",
    "**Problem:** Write a `for` loop using `range()` that calculates the factorial of a given number.\n",
    "\n",
    "The factorial of a positive integer $n$ (written as $n!$) is the product of all positive integers less than or equal to $n$. For example:\n",
    "\n",
    "$$5! = 5 \\times 4 \\times 3 \\times 2 \\times 1 = 120$$\n",
    "\n",
    "**Solution**\n",
    "\n",
    "We'll test the code with three cases: $n = 5$, $n = 10$, and $n = 0$."
   ]
  },
  {
   "cell_type": "code",
   "execution_count": 1,
   "id": "46c11c76-9967-4abb-b708-4d7c3c0b4f37",
   "metadata": {},
   "outputs": [
    {
     "name": "stdout",
     "output_type": "stream",
     "text": [
      "5! = 120\n"
     ]
    }
   ],
   "source": [
    "# Test case 1: n = 5 (should give 120)\n",
    "n = 5\n",
    "result = 1\n",
    "\n",
    "for i in range(1, n + 1):\n",
    "    result = result * i\n",
    "\n",
    "print(f\"{n}! = {result}\")"
   ]
  },
  {
   "cell_type": "markdown",
   "id": "5216d6f1-76bd-4673-b9fe-96016f90ed4b",
   "metadata": {},
   "source": [
    "**Explanation:**\n",
    "- We start with `result = 1` because multiplying by 1 doesn't change the value, and we need a starting point\n",
    "- `range(1, n + 1)` generates the numbers 1, 2, 3, ..., n\n",
    "- Each iteration multiplies `result` by the current value of `i`\n",
    "- For $n = 5$: we multiply $1 \\times 1 \\times 2 \\times 3 \\times 4 \\times 5 = 120$"
   ]
  },
  {
   "cell_type": "code",
   "execution_count": 2,
   "id": "e957e251-2963-46f9-be4e-f9eb69ad6de8",
   "metadata": {},
   "outputs": [
    {
     "name": "stdout",
     "output_type": "stream",
     "text": [
      "10! = 3,628,800\n"
     ]
    }
   ],
   "source": [
    "# Test case 2: n = 10 (should give 3,628,800)\n",
    "n = 10\n",
    "result = 1\n",
    "\n",
    "for i in range(1, n + 1):\n",
    "    result = result * i\n",
    "\n",
    "print(f\"{n}! = {result:,}\")  # :, adds commas for readability"
   ]
  },
  {
   "cell_type": "code",
   "execution_count": 3,
   "id": "67540ae1-e536-485c-9f51-4fa7c1679844",
   "metadata": {},
   "outputs": [
    {
     "name": "stdout",
     "output_type": "stream",
     "text": [
      "0! = 1\n"
     ]
    }
   ],
   "source": [
    "# Test case 3: n = 0 (should give 1 by convention)\n",
    "n = 0\n",
    "result = 1\n",
    "\n",
    "for i in range(1, n + 1):\n",
    "    result = result * i\n",
    "\n",
    "print(f\"{n}! = {result}\")"
   ]
  },
  {
   "cell_type": "markdown",
   "id": "7853e2c3-308d-4ee4-83bf-61eb207429a6",
   "metadata": {},
   "source": [
    "**Note on the special case $0! = 1$:**\n",
    "\n",
    "When $n = 0$, the range `range(1, 1)` produces no numbers, so the loop body never executes. The result remains at its initial value of 1, which is correct because by mathematical convention, $0! = 1$."
   ]
  },
  {
   "cell_type": "markdown",
   "id": "99389543-cbc8-40b9-9443-ed1392ead870",
   "metadata": {},
   "source": [
    "---\n",
    "\n",
    "## Exercise 2: Molecular Mass Calculation\n",
    "\n",
    "**Problem:** Calculate the molecular mass of a compound by summing the products of each element's atomic mass and its stoichiometric coefficient.\n",
    "\n",
    "**Solution Method 1:** Using a for loop with `range()`"
   ]
  },
  {
   "cell_type": "code",
   "execution_count": 8,
   "id": "82bee064-0572-4ef4-b0b0-d2dda7351ee8",
   "metadata": {},
   "outputs": [
    {
     "name": "stdout",
     "output_type": "stream",
     "text": [
      "Molecular mass of H2O: 18.015 u\n"
     ]
    }
   ],
   "source": [
    "# Test case 1: Water (H2O)\n",
    "atomic_masses = [1.008, 15.999]  # H, O\n",
    "stoichiometric_coefficients = [2, 1]  # H2 + O\n",
    "\n",
    "molecular_mass = 0\n",
    "for i in range(len(atomic_masses)):\n",
    "    molecular_mass += atomic_masses[i] * stoichiometric_coefficients[i]\n",
    "\n",
    "print(f\"Molecular mass of H2O: {molecular_mass:.3f} u\")"
   ]
  },
  {
   "cell_type": "markdown",
   "id": "b952f637-957b-426e-93c3-62b5c40f21dc",
   "metadata": {},
   "source": [
    "**Explanation:**\n",
    "- We start with `molecular_mass = 0`\n",
    "- We loop through the indices using `range(len(atomic_masses))`\n",
    "- For each index `i`, we access both `atomic_masses[i]` and `stoichiometric_coefficients[i]`\n",
    "- We add the product of mass × coefficient to the running total\n",
    "- `+=` is shorthand for `molecular_mass = molecular_mass + ...`"
   ]
  },
  {
   "cell_type": "markdown",
   "id": "df8e2b36-110c-47f8-906c-366bf90449bb",
   "metadata": {},
   "source": [
    "**Solution Method 2:** Using `zip()` in a for loop"
   ]
  },
  {
   "cell_type": "code",
   "execution_count": 9,
   "id": "b638ad80-4d09-4f5a-9ea8-8233c3ee41fe",
   "metadata": {},
   "outputs": [
    {
     "name": "stdout",
     "output_type": "stream",
     "text": [
      "Molecular mass of H2O: 18.015 u\n"
     ]
    }
   ],
   "source": [
    "# Test case 1: Water (H2O) using zip\n",
    "atomic_masses = [1.008, 15.999]  # H, O\n",
    "stoichiometric_coefficients = [2, 1]  # H2 + O\n",
    "\n",
    "molecular_mass = 0\n",
    "for mass, coeff in zip(atomic_masses, stoichiometric_coefficients):\n",
    "    molecular_mass += mass * coeff\n",
    "\n",
    "print(f\"Molecular mass of H2O: {molecular_mass:.3f} u\")"
   ]
  },
  {
   "cell_type": "markdown",
   "id": "183a3527-88e0-4be5-a422-2e2c8bdac169",
   "metadata": {},
   "source": [
    "**Explanation:**\n",
    "- `zip()` pairs up corresponding elements from both lists: `(1.008, 2)` and `(15.999, 1)`\n",
    "- We can unpack these pairs directly in the for loop: `for mass, coeff in zip(...)`\n",
    "- This is cleaner than using explicit indexing because we don't need to manage indices"
   ]
  },
  {
   "cell_type": "markdown",
   "id": "fe0d4bb8-eea7-496e-9f15-62b1a9d191dc",
   "metadata": {},
   "source": [
    "**Solution Method 3:** Using `zip()` and a list comprehension"
   ]
  },
  {
   "cell_type": "code",
   "execution_count": 11,
   "id": "7364efd3-c72a-4cb7-9c00-be1d0e907f5a",
   "metadata": {},
   "outputs": [
    {
     "name": "stdout",
     "output_type": "stream",
     "text": [
      "Molecular mass of H2O: 18.015 u\n"
     ]
    }
   ],
   "source": [
    "# Test case 1: Water (H2O) using zip and list comprehension\n",
    "atomic_masses = [1.008, 15.999]  # H, O\n",
    "stoichiometric_coefficients = [2, 1]  # H2 + O\n",
    "\n",
    "molecular_mass = sum([mass * coeff for mass, coeff in zip(atomic_masses, stoichiometric_coefficients)])\n",
    "\n",
    "print(f\"Molecular mass of H2O: {molecular_mass:.3f} u\")"
   ]
  },
  {
   "cell_type": "markdown",
   "id": "0756ba7a-e7de-4bab-bf48-e62eb3bf8456",
   "metadata": {},
   "source": [
    "**Explanation:**\n",
    "- We're using `zip()` again to pair up corresponding elements from both lists\n",
    "- The list comprehension `[mass * coeff for mass, coeff in zip(...)]` iterates over these pairs\n",
    "- For each pair `(mass, coeff)`, we calculate the product `mass * coeff`\n",
    "- This creates a list of products: `[2.016, 15.999]` for water\n",
    "- `sum()` adds all the products together\n",
    "- This is the most concise solution, combining everything into a single line"
   ]
  },
  {
   "cell_type": "markdown",
   "id": "9edccd9a-7941-447d-98c8-18335405fb7f",
   "metadata": {},
   "source": [
    "### Testing with glucose (C<sub>6</sub>H<sub>12</sub>O<sub>6</sub>)"
   ]
  },
  {
   "cell_type": "code",
   "execution_count": 12,
   "id": "690c0ec4-4c9f-4420-a4d1-4662ebc7aecd",
   "metadata": {},
   "outputs": [
    {
     "name": "stdout",
     "output_type": "stream",
     "text": [
      "Molecular mass of C6H12O6: 180.156 u\n"
     ]
    }
   ],
   "source": [
    "# Test case 2: Glucose (C6H12O6)\n",
    "atomic_masses = [12.011, 1.008, 15.999]  # C, H, O\n",
    "stoichiometric_coefficients = [6, 12, 6]  # C6 + H12 + O6\n",
    "\n",
    "molecular_mass = sum([mass * coeff for mass, coeff in zip(atomic_masses, stoichiometric_coefficients)])\n",
    "\n",
    "print(f\"Molecular mass of C6H12O6: {molecular_mass:.3f} u\")"
   ]
  },
  {
   "cell_type": "markdown",
   "id": "6cb588eb-4342-48e2-81d4-ff6c3aafab85",
   "metadata": {},
   "source": [
    "### Testing with sulphuric acid (H<sub>2</sub>SO<sub>4</sub>)"
   ]
  },
  {
   "cell_type": "code",
   "execution_count": 13,
   "id": "f46e3df2-6d9a-42e5-92ae-9a63380a8d9e",
   "metadata": {},
   "outputs": [
    {
     "name": "stdout",
     "output_type": "stream",
     "text": [
      "Molecular mass of H2SO4: 98.077 u\n"
     ]
    }
   ],
   "source": [
    "# Test case 3: Sulphuric acid (H2SO4)\n",
    "atomic_masses = [1.008, 32.065, 15.999]  # H, S, O\n",
    "stoichiometric_coefficients = [2, 1, 4]  # H2 + S1 + O4\n",
    "\n",
    "molecular_mass = sum([mass * coeff for mass, coeff in zip(atomic_masses, stoichiometric_coefficients)])\n",
    "\n",
    "print(f\"Molecular mass of H2SO4: {molecular_mass:.3f} u\")"
   ]
  },
  {
   "cell_type": "markdown",
   "id": "972eb6d2-63b5-4e62-a60b-f1012c88ebb3",
   "metadata": {},
   "source": [
    "---\n",
    "\n",
    "## Exercise 3: Interatomic Distances with Nested Loops\n",
    "\n",
    "**Problem:** Calculate distances between all atoms in an ammonia (NH₃) molecule using nested loops.\n",
    "\n",
    "The distance between two atoms is:\n",
    "\n",
    "$$r_{ij} = \\sqrt{(x_i - x_j)^2 + (y_i - y_j)^2 + (z_i - z_j)^2}$$\n",
    "\n",
    "First, let's set up the atomic coordinates and import the `sqrt` function."
   ]
  },
  {
   "cell_type": "code",
   "execution_count": 15,
   "id": "6c401071-b586-41f0-baa7-bc3c56f1ee6a",
   "metadata": {},
   "outputs": [],
   "source": [
    "from math import sqrt\n",
    "\n",
    "# Ammonia (NH3) atomic coordinates in Ångströms\n",
    "atom_N = [0.0, 0.0, 0.0]       # Nitrogen at origin\n",
    "atom_H1 = [0.0, 0.94, 0.38]    # Hydrogen 1\n",
    "atom_H2 = [0.81, -0.47, 0.38]  # Hydrogen 2  \n",
    "atom_H3 = [-0.81, -0.47, 0.38] # Hydrogen 3\n",
    "\n",
    "atoms = [atom_N, atom_H1, atom_H2, atom_H3]\n",
    "atom_labels = ['N', 'H1', 'H2', 'H3']"
   ]
  },
  {
   "cell_type": "markdown",
   "id": "103c97c6-a9f4-4abb-ac5e-cf4a634d2857",
   "metadata": {},
   "source": [
    "### Part A: All Pairwise Distances (Including Redundant Pairs)\n",
    "\n",
    "This solution calculates all 16 distances (4 × 4), including:\n",
    "- Distances of atoms to themselves (which are 0)\n",
    "- Each pair twice (e.g., both N $\\to$ H1 and H1 $\\to$ N)"
   ]
  },
  {
   "cell_type": "code",
   "execution_count": 17,
   "id": "ffeeb002-a545-4562-bc80-f532be69a350",
   "metadata": {},
   "outputs": [
    {
     "name": "stdout",
     "output_type": "stream",
     "text": [
      "Part A: All pairwise distances (including redundant pairs)\n",
      "==========================================================\n",
      "Distance from N   to N  : 0.0000 Å\n",
      "Distance from N   to H1 : 1.0139 Å\n",
      "Distance from N   to H2 : 1.0106 Å\n",
      "Distance from N   to H3 : 1.0106 Å\n",
      "Distance from H1  to N  : 1.0139 Å\n",
      "Distance from H1  to H1 : 0.0000 Å\n",
      "Distance from H1  to H2 : 1.6261 Å\n",
      "Distance from H1  to H3 : 1.6261 Å\n",
      "Distance from H2  to N  : 1.0106 Å\n",
      "Distance from H2  to H1 : 1.6261 Å\n",
      "Distance from H2  to H2 : 0.0000 Å\n",
      "Distance from H2  to H3 : 1.6200 Å\n",
      "Distance from H3  to N  : 1.0106 Å\n",
      "Distance from H3  to H1 : 1.6261 Å\n",
      "Distance from H3  to H2 : 1.6200 Å\n",
      "Distance from H3  to H3 : 0.0000 Å\n"
     ]
    }
   ],
   "source": [
    "# Part A: Calculate all pairwise distances\n",
    "print(\"Part A: All pairwise distances (including redundant pairs)\")\n",
    "print(\"=\" * 58)\n",
    "\n",
    "for i in range(len(atoms)):\n",
    "    for j in range(len(atoms)):\n",
    "        # Calculate distance between atom i and atom j\n",
    "        dx = atoms[i][0] - atoms[j][0]\n",
    "        dy = atoms[i][1] - atoms[j][1]\n",
    "        dz = atoms[i][2] - atoms[j][2]\n",
    "        \n",
    "        distance = sqrt(dx**2 + dy**2 + dz**2)\n",
    "        \n",
    "        print(f\"Distance from {atom_labels[i]:3s} to {atom_labels[j]:3s}: {distance:.4f} Å\")"
   ]
  },
  {
   "cell_type": "markdown",
   "id": "74325e6f-c9dc-4606-ac41-48db55cdeabf",
   "metadata": {},
   "source": [
    "**Explanation:**\n",
    "- The outer loop iterates through each atom as the starting point (index `i`)\n",
    "- The inner loop iterates through each atom as the ending point (index `j`)\n",
    "- We calculate the differences in each coordinate: `dx`, `dy`, `dz`\n",
    "- Then apply the distance formula: $\\sqrt{dx^2 + dy^2 + dz^2}$\n",
    "- The formatting `{atom_labels[i]:3s}` ensures labels are padded to 3 characters for neat alignment\n",
    "\n",
    "**Note:** You should see 16 total distances, with each distance between different atoms calculated twice."
   ]
  },
  {
   "cell_type": "markdown",
   "id": "78fcd6cb-5208-4dd7-bc62-fb2dadbe269a",
   "metadata": {},
   "source": [
    "### Part B: Unique Distances Only\n",
    "\n",
    "Now we'll modify the loops to calculate only the 6 unique pairwise distances.\n",
    "\n",
    "**The key insight:** For each atom `i`, we only need to calculate distances to atoms with indices `j > i`."
   ]
  },
  {
   "cell_type": "code",
   "execution_count": 21,
   "id": "79f155ac-4c96-4e5c-9d99-3e77f28696c2",
   "metadata": {},
   "outputs": [
    {
     "name": "stdout",
     "output_type": "stream",
     "text": [
      "\n",
      "Part B: Unique pairwise distances only\n",
      "======================================\n",
      "Distance from N   to H1 : 1.0139 Å\n",
      "Distance from N   to H2 : 1.0106 Å\n",
      "Distance from N   to H3 : 1.0106 Å\n",
      "Distance from H1  to H2 : 1.6261 Å\n",
      "Distance from H1  to H3 : 1.6261 Å\n",
      "Distance from H2  to H3 : 1.6200 Å\n"
     ]
    }
   ],
   "source": [
    "# Part B: Calculate only unique pairwise distances\n",
    "print(\"\\nPart B: Unique pairwise distances only\")\n",
    "print(\"=\" * 38)\n",
    "\n",
    "for i in range(len(atoms)):\n",
    "    for j in range(i + 1, len(atoms)):  # Start from i+1 to avoid redundancy\n",
    "        # Calculate distance between atom i and atom j\n",
    "        dx = atoms[i][0] - atoms[j][0]\n",
    "        dy = atoms[i][1] - atoms[j][1]\n",
    "        dz = atoms[i][2] - atoms[j][2]\n",
    "        \n",
    "        distance = sqrt(dx**2 + dy**2 + dz**2)\n",
    "        \n",
    "        print(f\"Distance from {atom_labels[i]:3s} to {atom_labels[j]:3s}: {distance:.4f} Å\")"
   ]
  },
  {
   "cell_type": "markdown",
   "id": "55ff3588-ea6f-441e-9eb4-2d2a010a4d26",
   "metadata": {},
   "source": [
    "**Explanation of `range(i + 1, len(atoms))`:**\n",
    "\n",
    "- When `i = 0` (atom N): `j` loops over 1, 2, 3 (atoms H1, H2, H3)\n",
    "- When `i = 1` (atom H1): `j` loops over 2, 3 (atoms H2, H3) — we already calculated N-H1\n",
    "- When `i = 2` (atom H2): `j` loops over 3 (atom H3) — we already calculated N-H2 and H1-H2\n",
    "- When `i = 3` (atom H3): the inner loop doesn't execute — all pairs involving H3 have been calculated\n",
    "\n",
    "This gives us exactly 6 unique distances:\n",
    "- 3 N-H bonds (all should be approximately equal for NH₃)\n",
    "- 3 H-H distances (all should be approximately equal)"
   ]
  },
  {
   "cell_type": "markdown",
   "id": "dfa1115b-517f-4060-9bd3-271eead17b4f",
   "metadata": {},
   "source": [
    "### Alternative Solution: Using `enumerate()` with `zip()`\n",
    "\n",
    "Here is an alternative approach that uses `zip` to loop over atoms and their labels at the same time, and avoids having to index the `atom_labels` and `atoms` lists inside the inner loop."
   ]
  },
  {
   "cell_type": "code",
   "execution_count": 25,
   "id": "4bd4d760-7755-4566-921b-c0732fef1620",
   "metadata": {},
   "outputs": [
    {
     "name": "stdout",
     "output_type": "stream",
     "text": [
      "\n",
      "Alternative solution using zip:\n",
      "============================================================\n",
      "Distance from N   to H1 : 1.0139 Å\n",
      "Distance from N   to H2 : 1.0106 Å\n",
      "Distance from N   to H3 : 1.0106 Å\n",
      "Distance from H1  to H2 : 1.6261 Å\n",
      "Distance from H1  to H3 : 1.6261 Å\n",
      "Distance from H2  to H3 : 1.6200 Å\n"
     ]
    }
   ],
   "source": [
    "# Alternative: Using zip to avoid indexing\n",
    "print(\"\\nAlternative solution using zip:\")\n",
    "print(\"=\" * 60)\n",
    "\n",
    "for i, (label_i, atom_i) in enumerate(zip(atom_labels, atoms)):\n",
    "    for label_j, atom_j in zip(atom_labels[i + 1:], atoms[i + 1:]):\n",
    "        # Calculate distance between atom_i and atom_j\n",
    "        dx = atom_i[0] - atom_j[0]\n",
    "        dy = atom_i[1] - atom_j[1]\n",
    "        dz = atom_i[2] - atom_j[2]\n",
    "        \n",
    "        distance = sqrt(dx**2 + dy**2 + dz**2)\n",
    "        \n",
    "        print(f\"Distance from {label_i:3s} to {label_j:3s}: {distance:.4f} Å\")"
   ]
  },
  {
   "cell_type": "markdown",
   "id": "72e6031a-b5da-4c15-a463-4899aea47874",
   "metadata": {},
   "source": [
    "**Explanation:**\n",
    "\n",
    "The key difference is using `zip()` to pair labels with coordinates, so we can work directly with the values instead of using indices.\n",
    "\n",
    "**First solution:**\n",
    "- Uses indices `i` and `j` throughout: `atoms[i]`, `atoms[j]`, `atom_labels[i]`, `atom_labels[j]`\n",
    "\n",
    "**Alternative solution:**\n",
    "- Outer loop: `enumerate(zip(atom_labels, atoms))` gives us `label_i` and `atom_i` directly\n",
    "- Inner loop: `zip(atom_labels[i + 1:], atoms[i + 1:])` gives us `label_j` and `atom_j` directly\n",
    "- Inside the loop body, we just use these values - no indexing needed\n",
    "\n",
    "Both approaches give the same result. \n",
    "\n",
    "In the second solution we have moved the logic of handling which pairs of atoms we are working with into the `for` statement, i.e. specifying what we are looping over. This has allowed us to write the inner loop code without worrying about *which* atoms we are calculating the distance for."
   ]
  },
  {
   "cell_type": "code",
   "execution_count": null,
   "id": "ea28da69-abbc-4013-bd3b-820fb9bbb6a8",
   "metadata": {},
   "outputs": [],
   "source": []
  }
 ],
 "metadata": {
  "kernelspec": {
   "display_name": "Python 3 (ipykernel)",
   "language": "python",
   "name": "python3"
  },
  "language_info": {
   "codemirror_mode": {
    "name": "ipython",
    "version": 3
   },
   "file_extension": ".py",
   "mimetype": "text/x-python",
   "name": "python",
   "nbconvert_exporter": "python",
   "pygments_lexer": "ipython3",
   "version": "3.12.9"
  }
 },
 "nbformat": 4,
 "nbformat_minor": 5
}
