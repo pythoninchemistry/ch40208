{
 "cells": [
  {
   "cell_type": "markdown",
   "id": "4c654db6-799b-426c-9fbf-4a41b51a060b",
   "metadata": {},
   "source": [
    "# Worked Examples: Dictionaries\n",
    "\n",
    "These worked solutions correspond to the exercises on the [Dictionaries](../python_basics/dictionaries.ipynb) page.\n",
    "\n",
    "**How to use this notebook:**\n",
    "- Try each exercise yourself first before looking at the solution\n",
    "- The code cells show both the code and its output\n",
    "- Download this notebook if you want to run and experiment with the code yourself\n",
    "- Your solution might look different - that's fine as long as it gives the correct answer!"
   ]
  },
  {
   "cell_type": "markdown",
   "id": "499c8e80-797a-4155-9b3e-17846596a570",
   "metadata": {},
   "source": [
    "---\n",
    "\n",
    "## Exercise: First-Row Transition Metals Dictionary\n",
    "\n",
    "**Problem:** Create a dictionary where the keys are the names of the first-row transition metals, and the values are integers representing the number of valence electrons. Test your dictionary by printing some of the values.\n",
    "\n",
    "**Background:** The first-row transition metals (also called 3d transition metals) are:\n",
    "- Scandium (Sc) through Zinc (Zn)\n",
    "- These elements have electrons filling the 3d and 4s orbitals\n",
    "- The number of valence electrons affects their chemical properties"
   ]
  },
  {
   "cell_type": "code",
   "execution_count": 1,
   "id": "7a1c3685-3076-428f-8186-633ec571294e",
   "metadata": {},
   "outputs": [
    {
     "name": "stdout",
     "output_type": "stream",
     "text": [
      "{'scandium': 3, 'titanium': 4, 'vanadium': 5, 'chromium': 6, 'manganese': 7, 'iron': 8, 'cobalt': 9, 'nickel': 10, 'copper': 11, 'zinc': 12}\n"
     ]
    }
   ],
   "source": [
    "transition_metals = {\n",
    "    'scandium': 3,\n",
    "    'titanium': 4,\n",
    "    'vanadium': 5,\n",
    "    'chromium': 6,\n",
    "    'manganese': 7,\n",
    "    'iron': 8,\n",
    "    'cobalt': 9,\n",
    "    'nickel': 10,\n",
    "    'copper': 11,\n",
    "    'zinc': 12\n",
    "}\n",
    "\n",
    "print(transition_metals)"
   ]
  },
  {
   "cell_type": "markdown",
   "id": "8885d854-b22b-465b-9247-8f77ac910d3d",
   "metadata": {},
   "source": [
    "**Explanation:**\n",
    "\n",
    "The valence electrons for transition metals typically include:\n",
    "- The 4s electrons (usually 2)\n",
    "- The 3d electrons (varying from 1 to 10)\n",
    "\n",
    "For example:\n",
    "- **Scandium (Sc):** [Ar] 3d<sup>1</sup> 4s<sup>2</sup> → 3 valence electrons\n",
    "- **Iron (Fe):** [Ar] 3d<sup>6</sup> 4s<sup>2</sup> → 8 valence electrons\n",
    "- **Zinc (Zn):** [Ar] 3d<sup>10</sup> 4s<sup>2</sup> → 12 valence electrons\n",
    "\n",
    "**Note:** There are some exceptions to the pattern (like chromium and copper) where electrons are rearranged for stability, but the total valence electron count shown here is correct."
   ]
  },
  {
   "cell_type": "markdown",
   "id": "ae66e00c-477c-4a4d-9269-468d8cb12e45",
   "metadata": {},
   "source": [
    "### Testing the Dictionary\n",
    "\n",
    "Let's test our dictionary by printing some values:"
   ]
  },
  {
   "cell_type": "code",
   "execution_count": 2,
   "id": "19708ff1-f04a-43c8-8af7-9c733ed310aa",
   "metadata": {},
   "outputs": [
    {
     "name": "stdout",
     "output_type": "stream",
     "text": [
      "Iron has 8 valence electrons\n",
      "Copper has 11 valence electrons\n",
      "Zinc has 12 valence electrons\n"
     ]
    }
   ],
   "source": [
    "# Access individual elements\n",
    "print(f\"Iron has {transition_metals['iron']} valence electrons\")\n",
    "print(f\"Copper has {transition_metals['copper']} valence electrons\")\n",
    "print(f\"Zinc has {transition_metals['zinc']} valence electrons\")"
   ]
  },
  {
   "cell_type": "markdown",
   "id": "8d478168-fdef-4588-a084-6d37c11c30ec",
   "metadata": {},
   "source": [
    "We can also print all the key-value pairs:"
   ]
  },
  {
   "cell_type": "code",
   "execution_count": 3,
   "id": "a8dbf93d-1b46-49fa-9c3f-97e8615a33bd",
   "metadata": {},
   "outputs": [
    {
     "name": "stdout",
     "output_type": "stream",
     "text": [
      "Scandium: 3 valence electrons\n",
      "Titanium: 4 valence electrons\n",
      "Vanadium: 5 valence electrons\n",
      "Chromium: 6 valence electrons\n",
      "Manganese: 7 valence electrons\n",
      "Iron: 8 valence electrons\n",
      "Cobalt: 9 valence electrons\n",
      "Nickel: 10 valence electrons\n",
      "Copper: 11 valence electrons\n",
      "Zinc: 12 valence electrons\n"
     ]
    }
   ],
   "source": [
    "for metal, electrons in transition_metals.items():\n",
    "    print(f\"{metal.capitalize()}: {electrons} valence electrons\")"
   ]
  },
  {
   "cell_type": "markdown",
   "id": "fc65a54c-6d7c-4780-a018-8d1352720d7a",
   "metadata": {},
   "source": [
    "### Additional Operations\n",
    "\n",
    "**Check if a metal is in our dictionary:**"
   ]
  },
  {
   "cell_type": "code",
   "execution_count": 4,
   "id": "ba631675-a490-4b3f-9d9d-09436931a7b3",
   "metadata": {},
   "outputs": [
    {
     "name": "stdout",
     "output_type": "stream",
     "text": [
      "True\n",
      "False\n"
     ]
    }
   ],
   "source": [
    "print('iron' in transition_metals)\n",
    "print('gold' in transition_metals)  # Gold is in the second row"
   ]
  },
  {
   "cell_type": "markdown",
   "id": "5357c0eb-3b89-4c43-a60f-170f831bd07d",
   "metadata": {},
   "source": [
    "**Get the number of metals:**"
   ]
  },
  {
   "cell_type": "code",
   "execution_count": 5,
   "id": "2822df71-9fb3-4f74-b650-4566c93df8fd",
   "metadata": {},
   "outputs": [
    {
     "name": "stdout",
     "output_type": "stream",
     "text": [
      "Number of first-row transition metals: 10\n"
     ]
    }
   ],
   "source": [
    "print(f\"Number of first-row transition metals: {len(transition_metals)}\")"
   ]
  },
  {
   "cell_type": "markdown",
   "id": "f401b9d9-6b48-4772-a6c0-f6dcb2ed865e",
   "metadata": {},
   "source": [
    "**Find metals with specific numbers of valence electrons:**\n",
    "\n",
    "Let's find all metals that have 8 valence electrons. We'll show two approaches."
   ]
  },
  {
   "cell_type": "markdown",
   "id": "ee50e01d-7fdb-4f68-a036-d223270d2266",
   "metadata": {},
   "source": [
    "**Approach 1: Using a loop with an if statement**"
   ]
  },
  {
   "cell_type": "code",
   "execution_count": 7,
   "id": "c1cc48b5-9ecf-4752-bced-283ac8b6f4aa",
   "metadata": {},
   "outputs": [
    {
     "name": "stdout",
     "output_type": "stream",
     "text": [
      "Metals with 8 valence electrons: ['iron']\n"
     ]
    }
   ],
   "source": [
    "# Find metals with 8 valence electrons using a loop\n",
    "metals_with_8_electrons = []\n",
    "\n",
    "for metal, electrons in transition_metals.items():\n",
    "    if electrons == 8:\n",
    "        metals_with_8_electrons.append(metal)\n",
    "\n",
    "print(f\"Metals with 8 valence electrons: {metals_with_8_electrons}\")"
   ]
  },
  {
   "cell_type": "markdown",
   "id": "1ef02052-3e3c-4f85-92ca-b256e5f97ddc",
   "metadata": {},
   "source": [
    "**Explanation:**\n",
    "1. Create an empty list `metals_with_8_electrons`\n",
    "2. Loop through each metal and its electron count\n",
    "3. If the electron count equals 8, append the metal name to our list\n",
    "4. Print the result"
   ]
  },
  {
   "cell_type": "markdown",
   "id": "6fe6ad7d-ce37-4a37-958f-12ebb68086f4",
   "metadata": {},
   "source": [
    "**Approach 2: Using a list comprehension**\n",
    "\n",
    "We can do the same thing more concisely using a **list comprehension**:"
   ]
  },
  {
   "cell_type": "code",
   "execution_count": 8,
   "id": "d832b389-190f-42ce-879f-cb5e48979e62",
   "metadata": {},
   "outputs": [
    {
     "name": "stdout",
     "output_type": "stream",
     "text": [
      "Metals with 8 valence electrons: ['iron']\n"
     ]
    }
   ],
   "source": [
    "# Find metals with 8 valence electrons using a list comprehension\n",
    "metals_with_8_electrons = [metal for metal, electrons in transition_metals.items() if electrons == 8]\n",
    "\n",
    "print(f\"Metals with 8 valence electrons: {metals_with_8_electrons}\")"
   ]
  },
  {
   "cell_type": "markdown",
   "id": "2d8de2c4-2987-4968-b19d-504f3a0d78be",
   "metadata": {},
   "source": [
    "**Explanation:**\n",
    "\n",
    "This single line does exactly the same thing as the loop above! Let's break it down:\n",
    "```python\n",
    "[metal for metal, electrons in transition_metals.items() if electrons == 8]\n",
    "```\n",
    "\n",
    "Reading from left to right:\n",
    "\n",
    "`[...]` - Create a new list\n",
    "`metal` - Add this metal name to the list (this is what we want to collect)\n",
    "`for metal, electrons in transition_metals.items()` - Loop through key, value pairs in the dictionary\n",
    "`if electrons == 8` - Only include metals where this condition is true\n",
    "\n",
    "General pattern:\n",
    "```python\n",
    "[expression for item in iterable if condition]\n",
    "```\n",
    "\n",
    "Which should you use?\n",
    "\n",
    "Loop version: More explicit, easier to debug, better for complex operations\n",
    "List comprehension: More concise, \"Pythonic\", good for simple operations\n",
    "\n",
    "Both are correct - use whichever is clearer to you!"
   ]
  },
  {
   "cell_type": "markdown",
   "id": "4a9cb92a-0023-4805-b1ba-590f40e877a8",
   "metadata": {},
   "source": [
    "### Adding More Information\n",
    "\n",
    "Dictionaries can store more complex data. Let's create a more detailed version where each value is itself a dictionary:"
   ]
  },
  {
   "cell_type": "code",
   "execution_count": 10,
   "id": "e49b8d5b-17a1-478b-996f-48eeb4d689ac",
   "metadata": {},
   "outputs": [
    {
     "name": "stdout",
     "output_type": "stream",
     "text": [
      "Iron's symbol: Fe\n",
      "Copper's atomic number: 29\n",
      "Zinc's electron configuration: [Ar] 3d10 4s2\n"
     ]
    }
   ],
   "source": [
    "detailed_metals = {\n",
    "    'iron': {\n",
    "        'symbol': 'Fe',\n",
    "        'atomic_number': 26,\n",
    "        'valence_electrons': 8,\n",
    "        'electron_configuration': '[Ar] 3d6 4s2'\n",
    "    },\n",
    "    'copper': {\n",
    "        'symbol': 'Cu',\n",
    "        'atomic_number': 29,\n",
    "        'valence_electrons': 11,\n",
    "        'electron_configuration': '[Ar] 3d10 4s1'\n",
    "    },\n",
    "    'zinc': {\n",
    "        'symbol': 'Zn',\n",
    "        'atomic_number': 30,\n",
    "        'valence_electrons': 12,\n",
    "        'electron_configuration': '[Ar] 3d10 4s2'\n",
    "    }\n",
    "}\n",
    "\n",
    "# Access nested dictionary values\n",
    "print(f\"Iron's symbol: {detailed_metals['iron']['symbol']}\")\n",
    "print(f\"Copper's atomic number: {detailed_metals['copper']['atomic_number']}\")\n",
    "print(f\"Zinc's electron configuration: {detailed_metals['zinc']['electron_configuration']}\")"
   ]
  },
  {
   "cell_type": "markdown",
   "id": "0f49bd0e-a902-44b3-a2d5-74266b91ff1e",
   "metadata": {},
   "source": [
    "---\n",
    "\n",
    "## Summary\n",
    "\n",
    "### 1. Creating Dictionaries\n",
    "- Define key-value pairs using `{key: value}` syntax\n",
    "- Keys should be descriptive (like element names)\n",
    "- Values can be any data type (here: integers)\n",
    "\n",
    "### 2. Accessing Dictionary Values\n",
    "- Use square brackets: `dictionary[key]`\n",
    "- Use `.get(key)` for safe access that won't raise errors\n",
    "\n",
    "### 3. Iterating Over Dictionaries\n",
    "- `.items()` gives both keys and values\n",
    "- `.keys()` gives just keys\n",
    "- `.values()` gives just values\n",
    "\n",
    "### 4. Why Dictionaries are Useful for Chemistry\n",
    "- **Natural associations:** Element names → properties\n",
    "- **Fast lookup:** Finding iron's electron count is instant, regardless of dictionary size\n",
    "- **Extensible:** Easy to add more elements or properties\n",
    "- **Readable:** `transition_metals['iron']` is clearer than `transition_metals[5]`\n",
    "\n",
    "### 5. Nested Dictionaries\n",
    "- Values can be dictionaries themselves\n",
    "- Access using multiple brackets: `dict[key1][key2]`\n",
    "- Useful for storing multiple properties per element"
   ]
  },
  {
   "cell_type": "code",
   "execution_count": null,
   "id": "dd9cf176-08fc-40e1-b144-5a350b269c15",
   "metadata": {},
   "outputs": [],
   "source": []
  }
 ],
 "metadata": {
  "kernelspec": {
   "display_name": "Python 3 (ipykernel)",
   "language": "python",
   "name": "python3"
  },
  "language_info": {
   "codemirror_mode": {
    "name": "ipython",
    "version": 3
   },
   "file_extension": ".py",
   "mimetype": "text/x-python",
   "name": "python",
   "nbconvert_exporter": "python",
   "pygments_lexer": "ipython3",
   "version": "3.12.9"
  }
 },
 "nbformat": 4,
 "nbformat_minor": 5
}
