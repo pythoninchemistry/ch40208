{
 "cells": [
  {
   "cell_type": "markdown",
   "id": "ff170fe8-5cbd-4381-97ce-33997837b3e3",
   "metadata": {},
   "source": [
    "# Worked Examples: Using Python as a Calculator\n",
    "\n",
    "These worked solutions correspond to the exercises on the [Using Python as a Calculator](../python_basics/using_Python_as_a_calculator.ipynb) page.\n",
    "\n",
    "**How to use this notebook:**\n",
    "- Try each exercise yourself first before looking at the solution\n",
    "- The code cells show both the code and its output\n",
    "- Download this notebook if you want to run and experiment with the code yourself\n",
    "- Your solution might look different - that's fine as long as it gives the correct answer!\n"
   ]
  },
  {
   "cell_type": "markdown",
   "id": "2aa06873-06c4-4d4d-85aa-00c0d9c38bbe",
   "metadata": {},
   "source": [
    "## Setup\n",
    "\n",
    "We'll import the `math` module once here at the beginning. In a Jupyter notebook, once you import a module in a cell and run that cell, the module remains available for all subsequent cells in the same session."
   ]
  },
  {
   "cell_type": "code",
   "execution_count": 1,
   "id": "5ec8e325-389a-46b7-806e-51b0a1617dd6",
   "metadata": {},
   "outputs": [],
   "source": [
    "import math"
   ]
  },
  {
   "cell_type": "markdown",
   "id": "191fae42-e27f-4574-b05a-f5cea098c91d",
   "metadata": {},
   "source": [
    "## Exercise 1: Volume of a Sphere\n",
    "\n",
    "**Problem:** Calculate the volume of a sphere with a radius of 5 units. Use `math.pi` and the formula \n",
    "\n",
    "\\begin{equation}\n",
    "V = \\frac{4}{3} \\pi r^3\n",
    "\\end{equation}"
   ]
  },
  {
   "cell_type": "markdown",
   "id": "9712cf64-e483-4448-aed9-8708238ca9ea",
   "metadata": {},
   "source": [
    "**Solution:**"
   ]
  },
  {
   "cell_type": "code",
   "execution_count": 2,
   "id": "b1cd3d53-1d88-4c57-87d5-846604865875",
   "metadata": {},
   "outputs": [
    {
     "data": {
      "text/plain": [
       "523.5987755982989"
      ]
     },
     "execution_count": 2,
     "metadata": {},
     "output_type": "execute_result"
    }
   ],
   "source": [
    "import math\n",
    "\n",
    "(4 / 3) * math.pi * 5**3"
   ]
  },
  {
   "cell_type": "markdown",
   "id": "b7dae247-8599-4fce-afb1-a6d6fb8a86ff",
   "metadata": {},
   "source": [
    "**Explanation:**\n",
    "- We use `math.pi` to get the value of $\\pi$\n",
    "- The radius is 5, so we calculate $r^3$ using `5**3`\n",
    "- We calculate $\\frac{4}{3}$ using `4 / 3` (which gives a float: 1.333...)\n",
    "- Following the order of operations (BODMAS), this evaluates to approximately 523.60 cubic units\n",
    "\n",
    "**Key concept:** Python's `**` operator is used for exponentiation (raising to a power)."
   ]
  },
  {
   "cell_type": "markdown",
   "id": "30b20676-82fa-4707-8af4-901303043229",
   "metadata": {},
   "source": [
    "## Exercise 2: Degrees to Radians\n",
    "\n",
    "**Problem:** Convert 45 degrees to radians using `math.radians()`."
   ]
  },
  {
   "cell_type": "markdown",
   "id": "10d21a6f-096c-4562-904e-3b3a23835d92",
   "metadata": {},
   "source": [
    "**Solution:**"
   ]
  },
  {
   "cell_type": "code",
   "execution_count": 3,
   "id": "dbfc6791-6ebc-4ffd-a321-860fa25dcfe4",
   "metadata": {},
   "outputs": [
    {
     "data": {
      "text/plain": [
       "0.7853981633974483"
      ]
     },
     "execution_count": 3,
     "metadata": {},
     "output_type": "execute_result"
    }
   ],
   "source": [
    "import math\n",
    "\n",
    "math.radians(45)"
   ]
  },
  {
   "cell_type": "markdown",
   "id": "dcdc1bf3-9a83-47e4-a772-9d42571473eb",
   "metadata": {},
   "source": [
    "**Explanation:**\n",
    "- The `math.radians()` function converts degrees to radians\n",
    "- We pass 45 as the argument to convert 45°\n",
    "- The result is approximately 0.7854 radians, which equals $\\frac{\\pi}{4}$\n",
    "\n",
    "**Why radians matter:** Python's trigonometric functions expect angles in radians, not degrees.\n",
    "\n",
    "**Verification:** We can check that this equals π/4:"
   ]
  },
  {
   "cell_type": "code",
   "execution_count": 4,
   "id": "d977aad7-da9d-4afe-b252-07909dfdd72c",
   "metadata": {},
   "outputs": [
    {
     "data": {
      "text/plain": [
       "0.7853981633974483"
      ]
     },
     "execution_count": 4,
     "metadata": {},
     "output_type": "execute_result"
    }
   ],
   "source": [
    "import math\n",
    "\n",
    "math.pi / 4"
   ]
  },
  {
   "cell_type": "markdown",
   "id": "3303c9ae-7b2d-425f-ad14-e18d08842fef",
   "metadata": {},
   "source": [
    "They match!"
   ]
  },
  {
   "cell_type": "markdown",
   "id": "7d2cd868-f609-4f54-b694-e369bc5aca88",
   "metadata": {},
   "source": [
    "## Exercise 3: Logarithm Base 2\n",
    "\n",
    "**Problem:** Calculate log base 2 of 32 using `math.log(x, base)`."
   ]
  },
  {
   "cell_type": "markdown",
   "id": "61c2054e-5434-4d50-b809-1e0105a267c3",
   "metadata": {},
   "source": [
    "**Solution:**"
   ]
  },
  {
   "cell_type": "code",
   "execution_count": 5,
   "id": "902ab81e-ebd3-4c7c-acdf-7da4b865ff5f",
   "metadata": {},
   "outputs": [
    {
     "data": {
      "text/plain": [
       "5.0"
      ]
     },
     "execution_count": 5,
     "metadata": {},
     "output_type": "execute_result"
    }
   ],
   "source": [
    "import math\n",
    "\n",
    "math.log(32, 2)"
   ]
  },
  {
   "cell_type": "markdown",
   "id": "9183b60f-930a-4a06-88a6-8e1c9dc73067",
   "metadata": {},
   "source": [
    "**Explanation:**\n",
    "- `math.log(x, base)` calculates the logarithm of the first argument with the specified base\n",
    "- We're finding $\\log_2(32)$, which asks: \"2 to what power equals 32?\"\n",
    "- The answer is 5.0 because $2^5 = 32$\n",
    "\n",
    "**Verification:** Let's confirm that $2^5 = 32$:"
   ]
  },
  {
   "cell_type": "code",
   "execution_count": 6,
   "id": "c5db2437-54ae-46fb-a07c-a74c00085267",
   "metadata": {},
   "outputs": [
    {
     "data": {
      "text/plain": [
       "32"
      ]
     },
     "execution_count": 6,
     "metadata": {},
     "output_type": "execute_result"
    }
   ],
   "source": [
    "2**5"
   ]
  },
  {
   "cell_type": "markdown",
   "id": "ae927ac5-df33-4c91-9ee0-7c7c34cc285b",
   "metadata": {},
   "source": [
    "**Note:** If you don't specify a base, `math.log(x)` calculates the natural logarithm (base $e$). If you want $\\log_{10}$ you can use `math.log10`."
   ]
  },
  {
   "cell_type": "code",
   "execution_count": 7,
   "id": "4e8c6bc1-ace7-4b3f-8663-c6b81a6332ba",
   "metadata": {},
   "outputs": [
    {
     "data": {
      "text/plain": [
       "3.4657359027997265"
      ]
     },
     "execution_count": 7,
     "metadata": {},
     "output_type": "execute_result"
    }
   ],
   "source": [
    "import math\n",
    "\n",
    "math.log(32)  # This is ln(32), not log₂(32)"
   ]
  },
  {
   "cell_type": "code",
   "execution_count": null,
   "id": "d3878d80-9560-4ceb-8cb1-2ce896dad21c",
   "metadata": {},
   "outputs": [],
   "source": []
  }
 ],
 "metadata": {
  "kernelspec": {
   "display_name": "Python 3 (ipykernel)",
   "language": "python",
   "name": "python3"
  },
  "language_info": {
   "codemirror_mode": {
    "name": "ipython",
    "version": 3
   },
   "file_extension": ".py",
   "mimetype": "text/x-python",
   "name": "python",
   "nbconvert_exporter": "python",
   "pygments_lexer": "ipython3",
   "version": "3.12.9"
  }
 },
 "nbformat": 4,
 "nbformat_minor": 5
}
