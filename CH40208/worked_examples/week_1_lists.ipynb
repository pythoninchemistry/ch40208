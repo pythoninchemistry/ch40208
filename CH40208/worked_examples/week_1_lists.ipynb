{
 "cells": [
  {
   "cell_type": "markdown",
   "id": "1ec92b1c-0252-454d-a5bf-1b8e0050728b",
   "metadata": {},
   "source": [
    "# Worked Examples: Lists\n",
    "\n",
    "These worked solutions correspond to the exercises on the [Lists](../python_basics/lists.ipynb) page.\n",
    "\n",
    "**How to use this notebook:**\n",
    "- Try each exercise yourself first before looking at the solution\n",
    "- The code cells show both the code and its output\n",
    "- Download this notebook if you want to run and experiment with the code yourself\n",
    "- Your solution might look different - that's fine as long as it gives the correct answer!"
   ]
  },
  {
   "cell_type": "markdown",
   "id": "5bf9faff-6fa9-4188-8fa7-c641733e724f",
   "metadata": {},
   "source": [
    "## Setup\n",
    "\n",
    "We'll import the `math` module here for use throughout the exercises."
   ]
  },
  {
   "cell_type": "code",
   "execution_count": 2,
   "id": "a69ede6e-d1e7-4c69-9372-7ed3d38561bc",
   "metadata": {},
   "outputs": [],
   "source": [
    "import math"
   ]
  },
  {
   "cell_type": "markdown",
   "id": "40c6178b-9fed-44cd-9283-53f3ec3db814",
   "metadata": {},
   "source": [
    "---\n",
    "\n",
    "## Exercise 1: List Slicing with Halogens\n",
    "\n",
    "**Problem:** Given the list of halogens, use list slicing to:\n",
    "- a) Extract the first three elements\n",
    "- b) Extract the last three elements\n",
    "- c) Extract every second element\n",
    "- d) Determine what using a negative number following the second colon (e.g., `[::-1]`) gives\n",
    "\n",
    "First, let's define the list:"
   ]
  },
  {
   "cell_type": "code",
   "execution_count": 3,
   "id": "5286d357-ec86-4415-91b6-a4e312d2680d",
   "metadata": {},
   "outputs": [
    {
     "name": "stdout",
     "output_type": "stream",
     "text": [
      "['fluorine', 'chlorine', 'bromine', 'iodine', 'astatine']\n"
     ]
    }
   ],
   "source": [
    "halogens = ['fluorine', 'chlorine', 'bromine', 'iodine', 'astatine']\n",
    "print(halogens)"
   ]
  },
  {
   "cell_type": "markdown",
   "id": "11182f79-6679-4cf4-a1fa-3e9bbb925a70",
   "metadata": {},
   "source": [
    "### Part (a): First three elements\n",
    "\n",
    "**Goal:** Extract `['fluorine', 'chlorine', 'bromine']`"
   ]
  },
  {
   "cell_type": "code",
   "execution_count": 4,
   "id": "69e31c71-ac78-44f8-b189-e78f7b118ee0",
   "metadata": {},
   "outputs": [
    {
     "name": "stdout",
     "output_type": "stream",
     "text": [
      "['fluorine', 'chlorine', 'bromine']\n"
     ]
    }
   ],
   "source": [
    "print(halogens[:3])"
   ]
  },
  {
   "cell_type": "markdown",
   "id": "435069d8-8d3c-45dd-8a66-2472f0cf7303",
   "metadata": {},
   "source": [
    "**Explanation:**\n",
    "\n",
    "The slice `[:3]` means \"from the start up to (but not including) index 3\".\n",
    "\n",
    "- Index 0: `'fluorine'`\n",
    "- Index 1: `'chlorine'`\n",
    "- Index 2: `'bromine'`\n",
    "- Index 3: `'iodine'` ← stop here (not included)\n",
    "\n",
    "**General pattern:** `[:n]` gives you the first `n` elements."
   ]
  },
  {
   "cell_type": "markdown",
   "id": "2116fd54-4fee-4dec-8099-9464e2cd626b",
   "metadata": {},
   "source": [
    "### Part (b): Last three elements\n",
    "\n",
    "**Goal:** Extract `['bromine', 'iodine', 'astatine']`"
   ]
  },
  {
   "cell_type": "code",
   "execution_count": 5,
   "id": "59695196-39dd-4a3f-ac62-343c58ccc983",
   "metadata": {},
   "outputs": [
    {
     "name": "stdout",
     "output_type": "stream",
     "text": [
      "['bromine', 'iodine', 'astatine']\n"
     ]
    }
   ],
   "source": [
    "print(halogens[-3:])"
   ]
  },
  {
   "cell_type": "markdown",
   "id": "b8c0bee3-2447-4220-a562-a2aa1edaa03f",
   "metadata": {},
   "source": [
    "**Explanation:**\n",
    "\n",
    "The slice `[-3:]` means \"from the 3rd element from the end to the end\".\n",
    "\n",
    "Negative indices count backwards from the end:\n",
    "- Index -1: `'astatine'` (last element)\n",
    "- Index -2: `'iodine'` (second-to-last)\n",
    "- Index -3: `'bromine'` (third-to-last) ← start here\n",
    "- Index -4: `'chlorine'`\n",
    "- Index -5: `'fluorine'`\n",
    "\n",
    "**Alternative solution:** You could also use `[2:]` (from index 2 onwards), but `[-3:]` is more flexible - it works regardless of list length."
   ]
  },
  {
   "cell_type": "markdown",
   "id": "23946ac2-ac47-44e7-8fb6-40dc7abd617c",
   "metadata": {},
   "source": [
    "### Part (c): Every second element\n",
    "\n",
    "**Goal:** Extract `['fluorine', 'bromine', 'astatine']`"
   ]
  },
  {
   "cell_type": "code",
   "execution_count": 6,
   "id": "18441a5f-af35-4038-8d1a-f5568668d8be",
   "metadata": {},
   "outputs": [
    {
     "name": "stdout",
     "output_type": "stream",
     "text": [
      "['fluorine', 'bromine', 'astatine']\n"
     ]
    }
   ],
   "source": [
    "print(halogens[::2])"
   ]
  },
  {
   "cell_type": "markdown",
   "id": "fdd8555b-59f6-467c-8d4f-4e7af93f46bc",
   "metadata": {},
   "source": [
    "**Explanation:**\n",
    "\n",
    "The slice `[::2]` means \"from start to end, stepping by 2\".\n",
    "\n",
    "The full slice syntax is `[start:stop:step]`:\n",
    "- `start`: where to begin (default: beginning)\n",
    "- `stop`: where to end (default: end)\n",
    "- `step`: how many indices to jump (default: 1)\n",
    "\n",
    "So `[::2]` takes:\n",
    "- Index 0: `'fluorine'`\n",
    "- Index 2: `'bromine'`\n",
    "- Index 4: `'astatine'`\n",
    "\n",
    "**Other examples:**"
   ]
  },
  {
   "cell_type": "code",
   "execution_count": 7,
   "id": "6bc9e6fe-bf82-4e60-9029-2d0d1a825a13",
   "metadata": {},
   "outputs": [
    {
     "name": "stdout",
     "output_type": "stream",
     "text": [
      "['chlorine', 'iodine']\n",
      "['fluorine', 'iodine']\n"
     ]
    }
   ],
   "source": [
    "print(halogens[1::2])  # Every second element starting from index 1\n",
    "print(halogens[::3])   # Every third element"
   ]
  },
  {
   "cell_type": "markdown",
   "id": "fc2c7c05-b9fb-43ee-83cb-0740af3d9a96",
   "metadata": {},
   "source": [
    "### Part (d): Using a negative step\n",
    "\n",
    "**Goal:** Discover what `[::-1]` does"
   ]
  },
  {
   "cell_type": "code",
   "execution_count": 8,
   "id": "0cdcecfe-73ff-40b9-804b-679f0096986e",
   "metadata": {},
   "outputs": [
    {
     "name": "stdout",
     "output_type": "stream",
     "text": [
      "['astatine', 'iodine', 'bromine', 'chlorine', 'fluorine']\n"
     ]
    }
   ],
   "source": [
    "print(halogens[::-1])"
   ]
  },
  {
   "cell_type": "markdown",
   "id": "f197571d-0237-48f2-aa4e-2a0a40936fbf",
   "metadata": {},
   "source": [
    "**Explanation:**\n",
    "\n",
    "Using `-1` as the step value **reverses the list**!\n",
    "\n",
    "`[::-1]` means:\n",
    "- Start: default (end of list when step is negative)\n",
    "- Stop: default (beginning of list when step is negative)\n",
    "- Step: -1 (move backwards by 1)\n",
    "\n",
    "This is a very common Python idiom for reversing sequences.\n",
    "\n",
    "**Other negative steps:**"
   ]
  },
  {
   "cell_type": "code",
   "execution_count": 9,
   "id": "b9fdbd55-b543-4b8d-9c03-3b48a1a6c589",
   "metadata": {},
   "outputs": [
    {
     "name": "stdout",
     "output_type": "stream",
     "text": [
      "['astatine', 'bromine', 'fluorine']\n"
     ]
    }
   ],
   "source": [
    "print(halogens[::-2])  # Every second element, reversed"
   ]
  },
  {
   "cell_type": "markdown",
   "id": "7b613774-a3ae-440d-a0d3-30c9539382e2",
   "metadata": {},
   "source": [
    "---\n",
    "\n",
    "## Exercise 2: Calculating Interatomic Distances\n",
    "\n",
    "**Problem:** For each molecule, calculate the intramolecular distances between all three atoms using the formula:\n",
    "\n",
    "$$ r = \\sqrt{(x_i - x_j)^2 + (y_i - y_j)^2 + (z_i - z_j)^2} $$\n",
    "\n",
    "Then comment on the shape of each molecule."
   ]
  },
  {
   "cell_type": "markdown",
   "id": "3a9584ff-b038-4bed-9f8d-524e6baaa1da",
   "metadata": {},
   "source": [
    "### Molecule 1\n",
    "\n",
    "**Given coordinates:**\n",
    "- Atom 1: (0.1, 0.5, 3.2)\n",
    "- Atom 2: (0.4, 0.5, 2.3)\n",
    "- Atom 3: (-0.3, 0.3, 1.7)\n",
    "\n",
    "First, define the atomic positions:"
   ]
  },
  {
   "cell_type": "code",
   "execution_count": 10,
   "id": "d902ec2b-a527-4217-b62a-dfdb742a053d",
   "metadata": {},
   "outputs": [],
   "source": [
    "atom_1 = [0.1, 0.5, 3.2]\n",
    "atom_2 = [0.4, 0.5, 2.3]\n",
    "atom_3 = [-0.3, 0.3, 1.7]"
   ]
  },
  {
   "cell_type": "markdown",
   "id": "cbb8e94d-c036-4ad1-b676-8523a01eb8ef",
   "metadata": {},
   "source": [
    "Now calculate all three pairwise distances:"
   ]
  },
  {
   "cell_type": "code",
   "execution_count": 11,
   "id": "caa6d67b-9daa-4de3-8474-c2fc2228f377",
   "metadata": {},
   "outputs": [
    {
     "name": "stdout",
     "output_type": "stream",
     "text": [
      "Distance between atoms 1 and 2: 0.9487\n",
      "Distance between atoms 1 and 3: 1.5652\n",
      "Distance between atoms 2 and 3: 0.9434\n"
     ]
    }
   ],
   "source": [
    "# Distance between atoms 1 and 2\n",
    "r_12 = sqrt((atom_1[0] - atom_2[0])**2 + (atom_1[1] - atom_2[1])**2 + (atom_1[2] - atom_2[2])**2)\n",
    "\n",
    "# Distance between atoms 1 and 3\n",
    "r_13 = sqrt((atom_1[0] - atom_3[0])**2 + (atom_1[1] - atom_3[1])**2 + (atom_1[2] - atom_3[2])**2)\n",
    "\n",
    "# Distance between atoms 2 and 3\n",
    "r_23 = sqrt((atom_2[0] - atom_3[0])**2 + (atom_2[1] - atom_3[1])**2 + (atom_2[2] - atom_3[2])**2)\n",
    "\n",
    "print(f\"Distance between atoms 1 and 2: {r_12:.4f}\")\n",
    "print(f\"Distance between atoms 1 and 3: {r_13:.4f}\")\n",
    "print(f\"Distance between atoms 2 and 3: {r_23:.4f}\")"
   ]
  },
  {
   "cell_type": "markdown",
   "id": "a48f7935-e014-451b-bad9-4f4681f71c08",
   "metadata": {},
   "source": [
    "**Explanation of the formula:**\n",
    "\n",
    "For each distance calculation:\n",
    "- `atom_1[0]` accesses the x-coordinate of atom 1\n",
    "- `atom_1[1]` accesses the y-coordinate of atom 1\n",
    "- `atom_1[2]` accesses the z-coordinate of atom 1\n",
    "\n",
    "We calculate:\n",
    "1. $(x_1 - x_2)^2$ using `(atom_1[0] - atom_2[0])**2`\n",
    "2. $(y_1 - y_2)^2$ using `(atom_1[1] - atom_2[1])**2`\n",
    "3. $(z_1 - z_2)^2$ using `(atom_1[2] - atom_2[2])**2`\n",
    "4. Sum these three values\n",
    "5. Take the square root\n",
    "\n",
    "**Analysis of Molecule 1:**\n",
    "\n",
    "The distance $r_{13}$ (1.565) is **not equal** to the sum $r_{12} + r_{23}$ (1.892).\n",
    "\n",
    "In fact, $r_{13} < r_{12} + r_{23}$, which means the three atoms are **not collinear** (not in a straight line).\n",
    "\n",
    "**Conclusion:** Molecule 1 has a **bent geometry**. Atom 2 sits at an angle between atoms 1 and 3.\n",
    "\n",
    "This is similar to the structure of water (H₂O) or sulfur dioxide (SO₂), where the central atom forms an angle with the two outer atoms.\n"
   ]
  },
  {
   "cell_type": "markdown",
   "id": "1c71b4d3-acb7-4974-8855-7874fc7b6325",
   "metadata": {},
   "source": [
    "### Molecule 2\n",
    "\n",
    "**Given coordinates:**\n",
    "- Atom 1: (-0.1, 0.5, 1.5)\n",
    "- Atom 2: (0.2, 0.5, 2.6)\n",
    "- Atom 3: (0.5, 0.5, 3.7)\n",
    "\n",
    "Define the atomic positions:"
   ]
  },
  {
   "cell_type": "code",
   "execution_count": 13,
   "id": "3ba5b674-1719-44e7-ac26-0d3bac198936",
   "metadata": {},
   "outputs": [],
   "source": [
    "atom_1 = [-0.1, 0.5, 1.5]\n",
    "atom_2 = [0.2, 0.5, 2.6]\n",
    "atom_3 = [0.5, 0.5, 3.7]"
   ]
  },
  {
   "cell_type": "markdown",
   "id": "a7a11d4a-f1c7-4dad-9059-ca1263542088",
   "metadata": {},
   "source": [
    "Calculate the distances:"
   ]
  },
  {
   "cell_type": "code",
   "execution_count": 14,
   "id": "1f3bb193-8731-42c4-8c2f-76d0f2595a6e",
   "metadata": {},
   "outputs": [
    {
     "name": "stdout",
     "output_type": "stream",
     "text": [
      "Distance between atoms 1 and 2: 1.1402\n",
      "Distance between atoms 1 and 3: 2.2804\n",
      "Distance between atoms 2 and 3: 1.1402\n"
     ]
    }
   ],
   "source": [
    "r_12 = sqrt((atom_1[0] - atom_2[0])**2 + (atom_1[1] - atom_2[1])**2 + (atom_1[2] - atom_2[2])**2)\n",
    "r_13 = sqrt((atom_1[0] - atom_3[0])**2 + (atom_1[1] - atom_3[1])**2 + (atom_1[2] - atom_3[2])**2)\n",
    "r_23 = sqrt((atom_2[0] - atom_3[0])**2 + (atom_2[1] - atom_3[1])**2 + (atom_2[2] - atom_3[2])**2)\n",
    "\n",
    "print(f\"Distance between atoms 1 and 2: {r_12:.4f}\")\n",
    "print(f\"Distance between atoms 1 and 3: {r_13:.4f}\")\n",
    "print(f\"Distance between atoms 2 and 3: {r_23:.4f}\")"
   ]
  },
  {
   "cell_type": "markdown",
   "id": "c08f3d3c-5830-4a6f-a43a-5a7653d95b2a",
   "metadata": {},
   "source": [
    "**Analysis of Molecule 2:**\n",
    "\n",
    "Check if the atoms are collinear:\n",
    "\n",
    "The distance $r_{13}$ (2.280) is **equal** to the sum $r_{12} + r_{23}$ (also 2.280).\n",
    "\n",
    "Notice also that $r_{12} = r_{23}$ = 1.140 - the two bonds are the same length!\n",
    "\n",
    "**Conclusion:** Molecule 2 has a **linear geometry**. The three atoms are arranged in a straight line, with atom 2 positioned exactly midway between atoms 1 and 3.\n",
    "\n",
    "This is similar to the structure of carbon dioxide (CO₂) or beryllium chloride (BeCl₂), where a central atom forms 180° bonds with two identical atoms.|"
   ]
  },
  {
   "cell_type": "markdown",
   "id": "90e741c8-8ddc-41b9-88fe-fcbe0d90100d",
   "metadata": {},
   "source": [
    "---\n",
    "\n",
    "## Summary\n",
    "\n",
    "### 1. List Slicing\n",
    "- `[:n]` - first n elements\n",
    "- `[-n:]` - last n elements\n",
    "- `[::step]` - every step-th element\n",
    "- `[::-1]` - reverse the list\n",
    "\n",
    "### 2. Molecular Geometry from Coordinates\n",
    "\n",
    "**For a triatomic molecule ABC:**\n",
    "\n",
    "**Linear geometry:** $r_{AC} = r_{AB} + r_{BC}$\n",
    "- Atoms arranged in a straight line\n",
    "- Bond angle = 180°\n",
    "- Example: CO₂\n",
    "\n",
    "**Bent geometry:** $r_{AC} < r_{AB} + r_{BC}$\n",
    "- Atoms form an angle\n",
    "- Bond angle < 180°\n",
    "- Example: H₂O, SO₂\n",
    "\n",
    "The distance formula in 3D:\n",
    "\n",
    "$$r = \\sqrt{(x_1-x_2)^2 + (y_1-y_2)^2 + (z_1-z_2)^2}$$\n",
    "\n",
    "This is the 3D extension of Pythagoras' theorem."
   ]
  },
  {
   "cell_type": "code",
   "execution_count": null,
   "id": "70c6538a-6eff-4674-9141-2b48c3cd9cd2",
   "metadata": {},
   "outputs": [],
   "source": []
  }
 ],
 "metadata": {
  "kernelspec": {
   "display_name": "Python 3 (ipykernel)",
   "language": "python",
   "name": "python3"
  },
  "language_info": {
   "codemirror_mode": {
    "name": "ipython",
    "version": 3
   },
   "file_extension": ".py",
   "mimetype": "text/x-python",
   "name": "python",
   "nbconvert_exporter": "python",
   "pygments_lexer": "ipython3",
   "version": "3.12.9"
  }
 },
 "nbformat": 4,
 "nbformat_minor": 5
}
