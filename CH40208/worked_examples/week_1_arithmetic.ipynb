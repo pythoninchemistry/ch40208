{
 "cells": [
  {
   "cell_type": "markdown",
   "id": "c046c621-e4fb-4fb0-836d-0b231df3688b",
   "metadata": {},
   "source": [
    "# Worked Examples: Arithmetic\n",
    "\n",
    "These worked solutions correspond to the exercises on the [Arithmetic](../python_basics/arithmetic.ipynb) page.\n",
    "\n",
    "**How to use this notebook:**\n",
    "- Try each exercise yourself first before looking at the solution\n",
    "- The code cells show both the code and its output\n",
    "- Download this notebook if you want to run and experiment with the code yourself\n",
    "- Your solution might look different - that's fine as long as it gives the correct answer!"
   ]
  },
  {
   "cell_type": "markdown",
   "id": "a7ef12db-36c4-473e-b45d-9a9bf96bdc48",
   "metadata": {},
   "source": [
    "## Setup\n",
    "\n",
    "We'll import the `math` module here for use throughout the exercises."
   ]
  },
  {
   "cell_type": "code",
   "execution_count": 1,
   "id": "5060f5b1-bc3f-4a52-af1b-39d6c2b2060a",
   "metadata": {},
   "outputs": [],
   "source": [
    "import math"
   ]
  },
  {
   "cell_type": "markdown",
   "id": "94802852-a70b-4c01-bb27-4fce8798e7cc",
   "metadata": {},
   "source": [
    "---\n",
    "\n",
    "## Exercise 1: Order of Operations (BODMAS)\n",
    "\n",
    "**Problem:** Without using a computer or calculator, calculate the following following the BODMAS order of operations:\n",
    "\n",
    "1. $24\\,/\\,(10 + 2)$\n",
    "2. $5 + 16\\,/\\, 2 \\times 3$\n",
    "3. $[32 \\,/\\, (6 + 2)]^2$\n",
    "\n",
    "Let's verify the answers using Python."
   ]
  },
  {
   "cell_type": "markdown",
   "id": "75d94c34-13dd-47c7-b4f8-66c641f38cfc",
   "metadata": {},
   "source": [
    "### Part (a): $24\\,/\\,(10 + 2)$"
   ]
  },
  {
   "cell_type": "code",
   "execution_count": 2,
   "id": "271406e6-bfed-4cd4-9e3f-c1ba2c552be6",
   "metadata": {},
   "outputs": [
    {
     "data": {
      "text/plain": [
       "2.0"
      ]
     },
     "execution_count": 2,
     "metadata": {},
     "output_type": "execute_result"
    }
   ],
   "source": [
    "24 / (10 + 2)"
   ]
  },
  {
   "cell_type": "markdown",
   "id": "275b02c2-a265-44ee-8908-409cb94b11b4",
   "metadata": {},
   "source": [
    "**Working:**\n",
    "1. **Brackets first:** $(10 + 2) = 12$\n",
    "2. **Division:** $24 / 12 = 2$\n",
    "\n",
    "**Answer:** $2$ (Note that Python produces a float when we divide)"
   ]
  },
  {
   "cell_type": "markdown",
   "id": "742d8124-d39a-4acf-b1dd-abe28f104bf1",
   "metadata": {},
   "source": [
    "### Part (b): $5 + 16\\,/\\, 2 \\times 3$"
   ]
  },
  {
   "cell_type": "code",
   "execution_count": 3,
   "id": "ae61e0e7-c166-4fc5-9362-a9e17bf06250",
   "metadata": {},
   "outputs": [
    {
     "data": {
      "text/plain": [
       "29.0"
      ]
     },
     "execution_count": 3,
     "metadata": {},
     "output_type": "execute_result"
    }
   ],
   "source": [
    "5 + 16 / 2 * 3"
   ]
  },
  {
   "cell_type": "markdown",
   "id": "67550c14-82fb-45ac-9581-1103048b50a9",
   "metadata": {},
   "source": [
    "**Working:**\n",
    "\n",
    "Following BODMAS (Brackets, Order, Division/Multiplication, Addition/Subtraction):\n",
    "1. **Division:** $16 / 2 = 8$\n",
    "2. **Multiplication:** $8 \\times 3 = 24$\n",
    "3. **Addition:** $5 + 24 = 29$\n",
    "\n",
    "**Important:** Division and multiplication have equal priority and are evaluated **left to right**.\n",
    "\n",
    "**Answer:** $29.0$"
   ]
  },
  {
   "cell_type": "markdown",
   "id": "4e0bfa12-ce62-42bc-88a4-9f2e15255cdf",
   "metadata": {},
   "source": [
    "### Part (c): $[32 \\,/\\, (6 + 2)]^2$"
   ]
  },
  {
   "cell_type": "code",
   "execution_count": 4,
   "id": "e33891ed-869c-451b-9f86-5d8fe901abc3",
   "metadata": {},
   "outputs": [
    {
     "data": {
      "text/plain": [
       "16.0"
      ]
     },
     "execution_count": 4,
     "metadata": {},
     "output_type": "execute_result"
    }
   ],
   "source": [
    "(32 / (6 + 2)) ** 2"
   ]
  },
  {
   "cell_type": "markdown",
   "id": "8afe1ff9-a727-4e35-9068-aa3a3a9883fb",
   "metadata": {},
   "source": [
    "**Working:**\n",
    "\n",
    "1. **Inner brackets first:** $(6 + 2) = 8$\n",
    "2. **Division:** $32 / 8 = 4$\n",
    "3. **Order (exponent):** $4^2 = 16$\n",
    "\n",
    "**Answer:** $16.0$"
   ]
  },
  {
   "cell_type": "markdown",
   "id": "e09a6d02-b98f-45d7-ae6a-d6783c7b4eb9",
   "metadata": {},
   "source": [
    "---\n",
    "\n",
    "## Exercise 2: Chemical Calculations\n",
    "\n",
    "This exercise involves three separate chemical calculations using Python."
   ]
  },
  {
   "cell_type": "markdown",
   "id": "6fed0d5a-68d0-4d21-9cd1-1d4065e966e4",
   "metadata": {},
   "source": [
    "### Part 1: Energy of Radiation\n",
    "\n",
    "**Problem:** Calculate the energy (in Joules) of radiation with wavenumber $\\bar{\\nu} = 1700$ cm$^{-1}$ using:\n",
    "\n",
    "$$E = hc\\bar{\\nu}$$\n",
    "\n",
    "where:\n",
    "- $h$ = Planck's constant = $6.626 \\times 10^{-34}$ J s\n",
    "- $c$ = speed of light = $3 \\times 10^{10}$ cm/s\n",
    "- $\\bar{\\nu}$ = $1700$ cm$^{-1}$\n",
    "\n",
    "**Solution:**"
   ]
  },
  {
   "cell_type": "code",
   "execution_count": 7,
   "id": "8ab6eabb-54d1-449c-8c40-3f301eeab91a",
   "metadata": {},
   "outputs": [
    {
     "name": "stdout",
     "output_type": "stream",
     "text": [
      "Energy = 3.37926e-20 J\n",
      "Energy = 3.379e-20 J\n"
     ]
    }
   ],
   "source": [
    "# Define constants\n",
    "h = 6.626e-34  # J s\n",
    "c = 3e10  # cm/s\n",
    "wavenumber = 1700  # /cm\n",
    "\n",
    "# Calculate energy\n",
    "energy = h * c * wavenumber\n",
    "\n",
    "print(f\"Energy = {energy} J\")\n",
    "print(f\"Energy = {energy:.3e} J\")  # Scientific notation"
   ]
  },
  {
   "cell_type": "markdown",
   "id": "c619971e-8254-4b73-80d1-733488976596",
   "metadata": {},
   "source": [
    "**Explanation:**\n",
    "- We use scientific notation: `3e10` means $3 \\times 10^{10}$\n",
    "- Be careful with units: here we're using cm/s for $c$ to match the wavenumber units (cm$^{-1}$)\n",
    "- The energy is very small (about $3.38 \\times 10^{-20}$ J), which is typical for a single photon\n",
    "- We use f-strings with `:.3e` to format the output in scientific notation with 3 decimal places"
   ]
  },
  {
   "cell_type": "markdown",
   "id": "41b940c1-4494-4bca-9f15-babee699b61f",
   "metadata": {},
   "source": [
    "### Part 2: pH Calculation\n",
    "\n",
    "**Problem:** Calculate the pH when the hydronium ion concentration is $[\\text{H}_3\\text{O}^+] = 1.524 \\times 10^{-5}$ M using:\n",
    "\n",
    "$$\\text{pH} = -\\log_{10}[\\text{H}_3\\text{O}^+]$$'\n",
    "\n",
    "**Solution:**"
   ]
  },
  {
   "cell_type": "code",
   "execution_count": 8,
   "id": "28b7c472-df58-495b-a93b-7d2f402a8835",
   "metadata": {},
   "outputs": [
    {
     "name": "stdout",
     "output_type": "stream",
     "text": [
      "pH = 4.82\n"
     ]
    }
   ],
   "source": [
    "# Define concentration\n",
    "concentration = 1.524e-5  # M\n",
    "\n",
    "# Calculate pH\n",
    "pH = -math.log10(concentration)\n",
    "\n",
    "print(f\"pH = {pH:.2f}\")"
   ]
  },
  {
   "cell_type": "markdown",
   "id": "15ade7bd-169d-485b-ba29-fb6ea333517d",
   "metadata": {},
   "source": [
    "**Explanation:**\n",
    "- We use `math.log10()` for the base-10 logarithm\n",
    "- The negative sign is important - we need $-\\log_{10}$, not $\\log_{10}$\n",
    "- A pH of about 4.8 indicates a weakly acidic solution\n",
    "\n",
    "**Common mistake:** Using `math.log()` instead of `math.log10()`. Remember:\n",
    "- `math.log()` gives the natural logarithm (base $\\mathrm{e}$)\n",
    "- `math.log10()` gives the base-10 logarithm"
   ]
  },
  {
   "cell_type": "markdown",
   "id": "feea3cca-86bb-4e60-8c35-72aa9b9c5b35",
   "metadata": {},
   "source": [
    "### Part 3: Lennard-Jones Potential\n",
    "\n",
    "**Problem:** Calculate the potential energy (in Joules) between two argon atoms at distance $r = 2$ Å using the Lennard-Jones potential:\n",
    "\n",
    "$$E = \\frac{A}{r^{12}} - \\frac{B}{r^6}$$\n",
    "\n",
    "where:\n",
    "- $A = 1.36 \\times 10^{-134}$ J m$^{12}$\n",
    "- $B = 9.27 \\times 10^{-78}$ J m$^6$\n",
    "- $r = 2$ Å $= 2 \\times 10^{-10}$ m\n",
    "\n",
    "**Solution:**"
   ]
  },
  {
   "cell_type": "code",
   "execution_count": 10,
   "id": "b48b556c-e278-4226-800d-6e059d0d529c",
   "metadata": {},
   "outputs": [
    {
     "name": "stdout",
     "output_type": "stream",
     "text": [
      "Energy = 3.175468749999998e-18 J\n",
      "Energy = 3.175e-18 J\n"
     ]
    }
   ],
   "source": [
    "# Define parameters\n",
    "A = 1.36e-134  # J m^12\n",
    "B = 9.27e-78  # J m^6\n",
    "r = 2e-10  # m (2 Angstroms)\n",
    "\n",
    "# Calculate energy\n",
    "energy = A / (r ** 12) - B / (r ** 6)\n",
    "\n",
    "print(f\"Energy = {energy} J\")\n",
    "print(f\"Energy = {energy:.3e} J\")"
   ]
  },
  {
   "cell_type": "markdown",
   "id": "432f385e-1632-41f3-ac55-8018cd3e3202",
   "metadata": {},
   "source": [
    "---\n",
    "\n",
    "## Exercise 3: Gibbs Free Energy and Equilibrium\n",
    "\n",
    "**Problem:** The standard Gibbs free energy for a reaction at a particular temperature is related to the equilibrium constant at that temperature via,\n",
    "\n",
    "$$\\Delta G = -RT\\ln K$$\n",
    "\n",
    "For the reaction:\n",
    "\n",
    "$$\\text{PCl}_3\\text{(g)} + \\text{Cl}_2\\text{(g)} \\rightarrow \\text{PCl}_5\\text{(g)}$$\n",
    "\n",
    "The standard free energies of formation, $\\Delta G_f^\\circ$, for each reactant are given below:\n",
    "\n",
    "- PCl$_3$: $-267.8$\n",
    "- PCl$_5$: $-305.0$\n",
    "- Cl$_2$: $0$\n",
    "\n",
    "**Part 1:** Use Hess's law to find the equilibrium constant $K$ at 298 K.\n",
    "\n",
    "**Part 2:** Given that $\\Delta G_r = -20.2$ kJ/mol at 350 K, and assuming $\\Delta H$ and $\\Delta S$ are temperature-independent, calculate $\\Delta H^\\circ$ at 298 K.\n",
    "\n",
    "Use the relation $\\Delta G = \\Delta H - T\\Delta S$"
   ]
  },
  {
   "cell_type": "markdown",
   "id": "1876ab67-273b-41fa-a45e-2f1915876fa5",
   "metadata": {},
   "source": [
    "### Part 1: Calculate Equilibrium Constant at 298 K"
   ]
  },
  {
   "cell_type": "markdown",
   "id": "b91d1c87-60cf-4179-aea5-3617d048fe37",
   "metadata": {},
   "source": [
    "**Step 1:** Calculate $\\Delta G_r^\\circ$ at 298 K using Hess's law:\n",
    "\n",
    "$$\\Delta G_r^\\circ = \\sum \\Delta G_f^\\circ(\\text{products}) - \\sum \\Delta G_f^\\circ(\\text{reactants})$$"
   ]
  },
  {
   "cell_type": "code",
   "execution_count": 11,
   "id": "218c0155-d65f-4482-8f2b-a6f3007d058c",
   "metadata": {},
   "outputs": [
    {
     "name": "stdout",
     "output_type": "stream",
     "text": [
      "ΔG°(298 K) = -37.2 kJ/mol\n"
     ]
    }
   ],
   "source": [
    "# Standard free energies of formation at 298 K (kJ/mol)\n",
    "dg_f_PCl3 = -267.8\n",
    "dg_f_PCl5 = -305.0\n",
    "dg_f_Cl2 = 0\n",
    "\n",
    "# Calculate reaction free energy\n",
    "dg_rxn_298 = dg_f_PCl5 - (dg_f_PCl3 + dg_f_Cl2)\n",
    "\n",
    "print(f\"ΔG°(298 K) = {dg_rxn_298:.1f} kJ/mol\")"
   ]
  },
  {
   "cell_type": "markdown",
   "id": "88aa34bb-16af-4208-b26c-e8a8f0cc3b3c",
   "metadata": {},
   "source": [
    "**Step 2:** Calculate the equilibrium constant using:\n",
    "\n",
    "$$\\Delta G = -RT\\ln K$$\n",
    "\n",
    "Rearranging: \n",
    "\n",
    "$$K = \\exp\\left(-\\frac{\\Delta G}{RT}\\right)$$"
   ]
  },
  {
   "cell_type": "code",
   "execution_count": 13,
   "id": "0973fbdd-7bbf-408a-8495-69197df72168",
   "metadata": {},
   "outputs": [
    {
     "name": "stdout",
     "output_type": "stream",
     "text": [
      "K = 3.32e+06\n"
     ]
    }
   ],
   "source": [
    "# Constants\n",
    "R = 8.314e-3  # kJ/(mol·K) - note the unit conversion!\n",
    "T_298 = 298  # K\n",
    "\n",
    "# Calculate equilibrium constant\n",
    "K = math.exp(-dg_rxn_298 / (R * T_298))\n",
    "\n",
    "print(f\"K = {K:.2e}\")"
   ]
  },
  {
   "cell_type": "markdown",
   "id": "7009f4e2-7c8e-4241-a4fe-8bb3c88b9fcf",
   "metadata": {},
   "source": [
    "### Part 2: Calculate $\\Delta H^\\circ$ at 298 K\n",
    "\n",
    "**Strategy:** We have two equations and two unknowns ($\\Delta H$ and $\\Delta S$):\n",
    "\n",
    "At 298 K: $\\Delta G_{298} = \\Delta H - 298\\Delta S$\n",
    "\n",
    "At 350 K: $\\Delta G_{350} = \\Delta H - 350\\Delta S$\n",
    "\n",
    "We can solve for $\\Delta H$ by eliminating $\\Delta S$."
   ]
  },
  {
   "cell_type": "markdown",
   "id": "dba194ec-4695-4d7b-b066-71c9db581d36",
   "metadata": {},
   "source": [
    "**Derivation:**\n",
    "\n",
    "Subtracting the equations:\n",
    "\n",
    "$$\\Delta G_{298} - \\Delta G_{350} = (298 - 350)\\Delta S = -52\\Delta S$$\n",
    "\n",
    "Therefore:\n",
    "\n",
    "$$\\Delta S = \\frac{\\Delta G_{350} - \\Delta G_{298}}{350 - 298}$$\n",
    "\n",
    "Substituting back into the first equation:\n",
    "\n",
    "$$\\Delta H = \\Delta G_{298} + 298\\Delta S = \\Delta G_{298} + 298\\frac{(\\Delta G_{350} - \\Delta G_{298})}{350-298}$$\n",
    "\n",
    "Simplifying:\n",
    "\n",
    "$$\\Delta H = \\frac{298(\\Delta G_{298} - \\Delta G_{350})}{350 - 298} + \\Delta G_{298}$$"
   ]
  },
  {
   "cell_type": "code",
   "execution_count": 14,
   "id": "e57348a9-7f9e-47db-aa67-4257883d76df",
   "metadata": {},
   "outputs": [
    {
     "name": "stdout",
     "output_type": "stream",
     "text": [
      "ΔH° = -134.62 kJ/mol\n"
     ]
    }
   ],
   "source": [
    "# Given data\n",
    "dg_298 = dg_rxn_298  # From part (a): -37.2 kJ/mol\n",
    "dg_350 = -20.2  # kJ/mol\n",
    "T_298 = 298  # K\n",
    "T_350 = 350  # K\n",
    "\n",
    "# Calculate ΔH using our derived formula\n",
    "delta_H = (T_298 * (dg_298 - dg_350) / (T_350 - T_298)) + dg_298\n",
    "\n",
    "print(f\"ΔH° = {delta_H:.2f} kJ/mol\")"
   ]
  },
  {
   "cell_type": "code",
   "execution_count": 18,
   "id": "62b7ba9c-ea03-4bdd-b4ff-4453dfb07857",
   "metadata": {},
   "outputs": [
    {
     "name": "stdout",
     "output_type": "stream",
     "text": [
      "ΔS° = -0.3269 kJ/(mol·K)\n",
      "ΔS° = -326.92 J/(mol·K)\n",
      "\n",
      "Verification:\n",
      "At 298 K: ΔG = -37.20 kJ/mol (should be -37.20)\n",
      "At 350 K: ΔG = -20.20 kJ/mol (should be -20.20)\n"
     ]
    }
   ],
   "source": [
    "# Verify by calculating ΔS\n",
    "delta_S = (dg_298 - dg_350) / (T_350 - T_298)\n",
    "print(f\"ΔS° = {delta_S:.4f} kJ/(mol·K)\")\n",
    "print(f\"ΔS° = {delta_S * 1000:.2f} J/(mol·K)\")\n",
    "\n",
    "# Check: does ΔG = ΔH - TΔS at both temperatures?\n",
    "print(f\"\\nVerification:\")\n",
    "print(f\"At 298 K: ΔG = {delta_H - T_298 * delta_S:.2f} kJ/mol (should be {dg_298:.2f})\")\n",
    "print(f\"At 350 K: ΔG = {delta_H - T_350 * delta_S:.2f} kJ/mol (should be {dg_350:.2f})\")"
   ]
  },
  {
   "cell_type": "markdown",
   "id": "6d834807-09a6-45bb-be5c-3c19d8aeba9c",
   "metadata": {},
   "source": [
    "---\n",
    "\n",
    "## Exercise 4: Ideal Gas Law\n",
    "\n",
    "**Problem:** Using the ideal gas law $PV = nRT$, calculate:\n",
    "\n",
    "1. The pressure $P$ in atm\n",
    "2. Convert this pressure to kPa\n",
    "\n",
    "Given:\n",
    "- $R = 0.08206$ L atm K$^{-1}$ mol$^{-1}$\n",
    "- $n = 2.5$ mol\n",
    "- $T = 300$ K  \n",
    "- $V = 10.0$ L\n",
    "\n",
    "Also given: 1 atm = 101.325 kPa"
   ]
  },
  {
   "cell_type": "markdown",
   "id": "ff67f13c-320b-47b7-b8d5-60479b6617c4",
   "metadata": {},
   "source": [
    "### Step 1: Calculate Pressure in atm\n",
    "\n",
    "Rearranging the ideal gas law:\n",
    "\n",
    "$$P = \\frac{nRT}{V}$$"
   ]
  },
  {
   "cell_type": "code",
   "execution_count": 19,
   "id": "d8636a9c-bb7a-42d5-95c9-906c6de27bc0",
   "metadata": {},
   "outputs": [
    {
     "name": "stdout",
     "output_type": "stream",
     "text": [
      "Pressure = 6.155 atm\n"
     ]
    }
   ],
   "source": [
    "# Given values\n",
    "R = 0.08206  # L atm K^-1 mol^-1\n",
    "n = 2.5  # mol\n",
    "T = 300  # K\n",
    "V = 10.0  # L\n",
    "\n",
    "# Calculate pressure\n",
    "P_atm = (n * R * T) / V\n",
    "\n",
    "print(f\"Pressure = {P_atm:.3f} atm\")"
   ]
  },
  {
   "cell_type": "markdown",
   "id": "ab87ea06-a95c-4fd0-963d-eaecd55d8ab6",
   "metadata": {},
   "source": [
    "### Step 2: Convert to kPa"
   ]
  },
  {
   "cell_type": "code",
   "execution_count": 21,
   "id": "368e970f-cd87-45e7-b364-6b67f6a9fd92",
   "metadata": {},
   "outputs": [
    {
     "name": "stdout",
     "output_type": "stream",
     "text": [
      "Pressure = 623.60 kPa\n"
     ]
    }
   ],
   "source": [
    "# Conversion factor\n",
    "atm_to_kPa = 101.325  # kPa per atm\n",
    "\n",
    "# Convert pressure\n",
    "P_kPa = P_atm * atm_to_kPa\n",
    "\n",
    "print(f\"Pressure = {P_kPa:.2f} kPa\")"
   ]
  },
  {
   "cell_type": "markdown",
   "id": "fd848b09-ca1a-4674-8798-b8e966a54a3f",
   "metadata": {},
   "source": [
    "**Complete solution showing all steps:**"
   ]
  },
  {
   "cell_type": "code",
   "execution_count": 22,
   "id": "d5145398-6947-4323-b5ee-f9d591c2eb99",
   "metadata": {},
   "outputs": [
    {
     "name": "stdout",
     "output_type": "stream",
     "text": [
      "Ideal Gas Law Calculation\n",
      "==============================\n",
      "Number of moles (n): 2.5 mol\n",
      "Temperature (T): 300 K\n",
      "Volume (V): 10.0 L\n",
      "Gas constant (R): 0.08206 L atm K⁻¹ mol⁻¹\n",
      "\n",
      "Pressure: 6.155 atm\n",
      "Pressure: 623.60 kPa\n"
     ]
    }
   ],
   "source": [
    "# Given values\n",
    "R = 0.08206  # L atm K^-1 mol^-1\n",
    "n = 2.5  # mol\n",
    "T = 300  # K\n",
    "V = 10.0  # L\n",
    "atm_to_kPa = 101.325  # Conversion factor\n",
    "\n",
    "# Step 1: Calculate pressure in atm\n",
    "P_atm = (n * R * T) / V\n",
    "\n",
    "# Step 2: Convert to kPa\n",
    "P_kPa = P_atm * atm_to_kPa\n",
    "\n",
    "# Display results\n",
    "print(\"Ideal Gas Law Calculation\")\n",
    "print(\"=\" * 30)\n",
    "print(f\"Number of moles (n): {n} mol\")\n",
    "print(f\"Temperature (T): {T} K\")\n",
    "print(f\"Volume (V): {V} L\")\n",
    "print(f\"Gas constant (R): {R} L atm K⁻¹ mol⁻¹\")\n",
    "print(f\"\\nPressure: {P_atm:.3f} atm\")\n",
    "print(f\"Pressure: {P_kPa:.2f} kPa\")"
   ]
  },
  {
   "cell_type": "markdown",
   "id": "79d4a699-5289-46e1-b777-91ead01606cb",
   "metadata": {},
   "source": [
    "- Note: **Unit consistency is crucial:** The value of $R$ we use determines our pressure units\n",
    "- Using $R = 0.08206$ L atm K$^{-1}$ mol$^{-1}$ gives pressure in atm\n",
    "- If we used $R = 8.314$ J K$^{-1}$ mol$^{-1}$, we'd get pressure in Pa (with volume in m$^3$)"
   ]
  }
 ],
 "metadata": {
  "kernelspec": {
   "display_name": "Python 3 (ipykernel)",
   "language": "python",
   "name": "python3"
  },
  "language_info": {
   "codemirror_mode": {
    "name": "ipython",
    "version": 3
   },
   "file_extension": ".py",
   "mimetype": "text/x-python",
   "name": "python",
   "nbconvert_exporter": "python",
   "pygments_lexer": "ipython3",
   "version": "3.12.9"
  }
 },
 "nbformat": 4,
 "nbformat_minor": 5
}
