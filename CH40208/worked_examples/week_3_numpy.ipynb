{
 "cells": [
  {
   "cell_type": "markdown",
   "id": "a86cd87a-093a-403f-ae2c-098997ef95b5",
   "metadata": {},
   "source": [
    "# Worked Examples: NumPy Exercises\n",
    "\n",
    "These worked solutions correspond to the exercises on the [NumPy Exercises](../working_with_data/numpy/exercises.ipynb) page.\n",
    "\n",
    "**How to use this notebook:**\n",
    "- Try each exercise yourself first before looking at the solution\n",
    "- The code cells show both the code and its output\n",
    "- Download this notebook if you want to run and experiment with the code yourself\n",
    "- Your solution might look different - that's fine as long as it gives the correct answer!"
   ]
  },
  {
   "cell_type": "markdown",
   "id": "0dd435b2-a8fa-4f44-9101-f1475c80984a",
   "metadata": {},
   "source": [
    "## Setup\n",
    "\n",
    "We'll import NumPy here for use throughout the exercises."
   ]
  },
  {
   "cell_type": "code",
   "execution_count": 1,
   "id": "b92c6ad5-d74c-4864-95de-d9274a8cd91c",
   "metadata": {},
   "outputs": [],
   "source": [
    "import numpy as np"
   ]
  },
  {
   "cell_type": "markdown",
   "id": "4b5be63a-32ee-4527-8114-6045ec74da77",
   "metadata": {},
   "source": [
    "---\n",
    "\n",
    "## Exercise 1: Average Atomic Mass\n",
    "\n",
    "**Problem:** Calculate the average (mean) atomic mass of naturally occurring tin using the mass numbers and natural abundances of its isotopes.\n",
    "\n",
    "The average atomic mass is calculated as:\n",
    "\n",
    "$$\\text{Average mass} = \\sum (\\text{mass number} \\times \\text{abundance})$$"
   ]
  },
  {
   "cell_type": "markdown",
   "id": "7500b51b-a1b2-40b9-9296-71d8cbed8b85",
   "metadata": {},
   "source": [
    "**Solution:**"
   ]
  },
  {
   "cell_type": "code",
   "execution_count": 2,
   "id": "027b0424-cd20-4a45-82cd-71d27698aa06",
   "metadata": {},
   "outputs": [
    {
     "name": "stdout",
     "output_type": "stream",
     "text": [
      "Sum of abundances: 0.9999999999999999\n"
     ]
    }
   ],
   "source": [
    "# Mass numbers for tin isotopes\n",
    "mass_numbers = np.array([112, 114, 115, 116, 117, 118, 119, 120, 122, 124])\n",
    "\n",
    "# Natural abundances (as decimal fractions)\n",
    "abundances = np.array([0.0097, 0.0066, 0.0034, 0.1454, 0.0768, \n",
    "                       0.2422, 0.0859, 0.3258, 0.0463, 0.0579])\n",
    "\n",
    "# Let's verify our abundances sum to 1 (or very close)\n",
    "print(f\"Sum of abundances: {np.sum(abundances)}\")"
   ]
  },
  {
   "cell_type": "code",
   "execution_count": 3,
   "id": "eb63a885-b064-4b71-a60d-c4e3d84ff3ec",
   "metadata": {},
   "outputs": [
    {
     "name": "stdout",
     "output_type": "stream",
     "text": [
      "Average atomic mass of tin: 118.81\n"
     ]
    }
   ],
   "source": [
    "# Calculate the weighted average using vector arithmetic\n",
    "average_mass = np.sum(mass_numbers * abundances)\n",
    "\n",
    "print(f\"Average atomic mass of tin: {average_mass:.2f}\")"
   ]
  },
  {
   "cell_type": "markdown",
   "id": "d79a82b8-3080-4446-ba35-7b2a269c0d4a",
   "metadata": {},
   "source": [
    "**Explanation:**\n",
    "\n",
    "- We use NumPy arrays to store the mass numbers and abundances\n",
    "- The expression `mass_numbers * abundances` performs element-wise multiplication\n",
    "- This gives us an array where each element is `mass × abundance` for each isotope\n",
    "- `np.sum()` adds all these weighted masses together\n",
    "- The result (~118.71) matches the standard atomic weight of tin\n",
    "\n",
    "**Key concept:** This is a weighted average calculation - we multiply each value by its weight (abundance) and sum the results."
   ]
  },
  {
   "cell_type": "markdown",
   "id": "0cf4ee19-3248-429a-9dab-59e1d6537802",
   "metadata": {},
   "source": [
    "**Alternative: Using `np.average()` with weights**"
   ]
  },
  {
   "cell_type": "code",
   "execution_count": 4,
   "id": "0f8ae227-b968-43ab-8a9b-69b688f1dc0b",
   "metadata": {},
   "outputs": [
    {
     "name": "stdout",
     "output_type": "stream",
     "text": [
      "Using np.average(): 118.81\n"
     ]
    }
   ],
   "source": [
    "average_mass_alt = np.average(mass_numbers, weights=abundances)\n",
    "\n",
    "print(f\"Using np.average(): {average_mass_alt:.2f}\")"
   ]
  },
  {
   "cell_type": "markdown",
   "id": "b48104f4-401d-442c-a471-12e208c0dde6",
   "metadata": {},
   "source": [
    "NumPy provides `np.average()` which can directly calculate weighted averages. The `weights` parameter allows us to specify the abundances as weights. This is more concise and clearly shows our intent to calculate a weighted average.\n",
    "\n",
    "Both methods give the same result, but `np.average()` is more explicit about what we're calculating."
   ]
  },
  {
   "cell_type": "markdown",
   "id": "a1ca7ea3-0046-4764-9230-14aeb24e9450",
   "metadata": {},
   "source": [
    "---\n",
    "\n",
    "## Exercise 2: Molecular Distances\n",
    "\n",
    "**Problem:** Calculate all pairwise distances between atoms in an ammonia molecule (NH₃) using NumPy arrays and vector arithmetic.\n",
    "\n",
    "The distance between two atoms is given by:\n",
    "\n",
    "$$d = \\sqrt{(x_2-x_1)^2 + (y_2-y_1)^2 + (z_2-z_1)^2}$$\n",
    "\n",
    "Given atomic coordinates (in Ångströms):\n",
    "- Nitrogen: (0.0, 0.0, 0.0)\n",
    "- Hydrogen 1: (0.0, 0.94, 0.38)\n",
    "- Hydrogen 2: (0.81, -0.47, 0.38)\n",
    "- Hydrogen 3: (-0.81, -0.47, 0.38)"
   ]
  },
  {
   "cell_type": "markdown",
   "id": "ff149814-2a01-437e-8f38-9ed64791440b",
   "metadata": {},
   "source": [
    "### Task 1: Store positions as a 2D NumPy array"
   ]
  },
  {
   "cell_type": "code",
   "execution_count": 5,
   "id": "fbfbd98d-5364-4681-989a-9e153418e22f",
   "metadata": {},
   "outputs": [
    {
     "name": "stdout",
     "output_type": "stream",
     "text": [
      "Shape of atoms array: (4, 3)\n",
      "Number of atoms: 4\n",
      "Number of coordinates per atom: 3\n"
     ]
    }
   ],
   "source": [
    "# Create a 2D array with shape (4, 3) - 4 atoms, 3 coordinates each\n",
    "atoms = np.array([[0.0, 0.0, 0.0],       # N\n",
    "                  [0.0, 0.94, 0.38],     # H1\n",
    "                  [0.81, -0.47, 0.38],   # H2\n",
    "                  [-0.81, -0.47, 0.38]]) # H3\n",
    "\n",
    "atom_labels = ['N', 'H1', 'H2', 'H3']\n",
    "\n",
    "print(f\"Shape of atoms array: {atoms.shape}\")\n",
    "print(f\"Number of atoms: {atoms.shape[0]}\")\n",
    "print(f\"Number of coordinates per atom: {atoms.shape[1]}\")"
   ]
  },
  {
   "cell_type": "markdown",
   "id": "08ce26b9-6b10-42b9-a65f-e37666bce573",
   "metadata": {},
   "source": [
    " ### Tasks 2 & 3: Calculate pairwise distances using loops and vector arithmetic"
   ]
  },
  {
   "cell_type": "code",
   "execution_count": 6,
   "id": "ffd96a3c-03bd-4f8e-a953-4809898e1944",
   "metadata": {},
   "outputs": [
    {
     "name": "stdout",
     "output_type": "stream",
     "text": [
      "Pairwise distances in NH₃:\n",
      "--------------------------\n",
      "N  - H1: 1.0139 Å\n",
      "N  - H2: 1.0106 Å\n",
      "N  - H3: 1.0106 Å\n",
      "H1 - H2: 1.6261 Å\n",
      "H1 - H3: 1.6261 Å\n",
      "H2 - H3: 1.6200 Å\n"
     ]
    }
   ],
   "source": [
    "# Calculate all unique pairwise distances\n",
    "print(\"Pairwise distances in NH₃:\")\n",
    "print(\"-\" * 26)\n",
    "\n",
    "for i in range(len(atoms)):\n",
    "    for j in range(i + 1, len(atoms)):\n",
    "        # Vector between atoms i and j\n",
    "        vector = atoms[j] - atoms[i]\n",
    "        \n",
    "        # Calculate distance using np.linalg.norm()\n",
    "        distance = np.linalg.norm(vector)\n",
    "        \n",
    "        print(f\"{atom_labels[i]:2s} - {atom_labels[j]:2s}: {distance:.4f} Å\")"
   ]
  },
  {
   "cell_type": "markdown",
   "id": "9168f390-a4de-46d5-8006-7487c2f517b2",
   "metadata": {},
   "source": [
    "**Explanation:**\n",
    "\n",
    "- `atoms[j] - atoms[i]` performs element-wise subtraction to get the vector between two atoms\n",
    "- `np.linalg.norm(vector)` calculates the Euclidean norm (magnitude) of the vector\n",
    "- This is equivalent to `np.sqrt(np.sum(vector**2))` but more concise\n",
    "- The nested loops with `j` starting from `i + 1` ensures we only calculate each distance once"
   ]
  },
  {
   "cell_type": "code",
   "execution_count": 7,
   "id": "5230fb9e-5cd2-4d17-aaa3-f76f7ade0619",
   "metadata": {},
   "outputs": [
    {
     "name": "stdout",
     "output_type": "stream",
     "text": [
      "Position of atom_N: [0. 0. 0.]\n",
      "Position of atom_H1: [0.   0.94 0.38]\n",
      "Difference vector: [0.   0.94 0.38]\n",
      "Squared components: [0.     0.8836 0.1444]\n",
      "Sum of squares: 1.0280\n",
      "Distance (manual): 1.0139 Å\n",
      "Distance (np.linalg.norm): 1.0139 Å\n"
     ]
    }
   ],
   "source": [
    "# Let's verify one distance manually to understand what np.linalg.norm() does\n",
    "# Distance between N (atom 0) and H1 (atom 1)\n",
    "\n",
    "# Extract individual atoms\n",
    "atom_N = atoms[0]\n",
    "atom_H1 = atoms[1]\n",
    "print(f\"Position of atom_N: {atom_N}\")\n",
    "print(f\"Position of atom_H1: {atom_H1}\")\n",
    "\n",
    "# Calculate step by step\n",
    "diff = atom_H1 - atom_N\n",
    "print(f\"Difference vector: {diff}\")\n",
    "\n",
    "squared = diff**2\n",
    "print(f\"Squared components: {squared}\")\n",
    "\n",
    "sum_squared = np.sum(squared)\n",
    "print(f\"Sum of squares: {sum_squared:.4f}\")\n",
    "\n",
    "distance_manual = np.sqrt(sum_squared)\n",
    "print(f\"Distance (manual): {distance_manual:.4f} Å\")\n",
    "\n",
    "distance_norm = np.linalg.norm(atom_H1 - atom_N)\n",
    "print(f\"Distance (np.linalg.norm): {distance_norm:.4f} Å\")"
   ]
  },
  {
   "cell_type": "markdown",
   "id": "3201bd7e-cfcb-4f18-b63d-f0ff7b0d4ae0",
   "metadata": {},
   "source": [
    "**Alternative approach: Store all distances in a matrix**\n",
    "\n",
    "An alternative approach is to calculate all distances and store these in a distance matrix:"
   ]
  },
  {
   "cell_type": "code",
   "execution_count": 8,
   "id": "32cdaa49-b3a3-45a2-ac10-20bcb4c1beb8",
   "metadata": {},
   "outputs": [
    {
     "name": "stdout",
     "output_type": "stream",
     "text": [
      "Distance matrix (Å):\n",
      "      N      H1     H2     H3   \n",
      "N  :  0.000 1.014 1.011 1.011\n",
      "H1 :  1.014 0.000 1.626 1.626\n",
      "H2 :  1.011 1.626 0.000 1.620\n",
      "H3 :  1.011 1.626 1.620 0.000\n"
     ]
    }
   ],
   "source": [
    "# Create a distance matrix\n",
    "n_atoms = len(atoms)\n",
    "distance_matrix = np.zeros((n_atoms, n_atoms)) # initialise matrix of zeroes\n",
    "\n",
    "for i in range(n_atoms):\n",
    "    for j in range(i+1, n_atoms): # only loop over unique atom pairs.\n",
    "        dr = np.linalg.norm(atoms[i] - atoms[j]) # calculate the distance dr_ij once\n",
    "        distance_matrix[i, j] = dr # store dr_ij\n",
    "        distance_matrix[j, i] = dr # store dr_ji (which is equal to dr_ij)\n",
    "\n",
    "# Display the matrix with labels\n",
    "print(\"Distance matrix (Å):\")\n",
    "print(\"     \", \"  \".join(f\"{label:5s}\" for label in atom_labels))\n",
    "for i, label in enumerate(atom_labels):\n",
    "    print(f\"{label:3s}: \", \" \".join(f\"{d:5.3f}\" for d in distance_matrix[i]))"
   ]
  },
  {
   "cell_type": "markdown",
   "id": "91a741bc-ddaf-48c5-8ace-581b88c56968",
   "metadata": {},
   "source": [
    "**Distance matrix interpretation:**\n",
    "\n",
    "- The diagonal elements are all 0 (distance from an atom to itself) — we do not need to explicitly calculate these.\n",
    "- The matrix is symmetric (distance from A to B equals distance from B to A) - we only calculate this once\n",
    "- This format is useful for further analysis, such as finding the closest or furthest atom pairs, e.g.:\n",
    "\n"
   ]
  },
  {
   "cell_type": "markdown",
   "id": "c4384c1a-39e0-472b-b90e-b15968b1c893",
   "metadata": {},
   "source": [
    "**Comparison with previous exercises:** In the Loops exercises, you calculated these same distances using lists and manual indexing. Using NumPy arrays makes the vector arithmetic more natural and the code more readable."
   ]
  },
  {
   "cell_type": "markdown",
   "id": "95c8c2fd-35a5-4d65-b1c1-84532fae33fd",
   "metadata": {},
   "source": [
    "------\n",
    "\n",
    "## Exercise 3: Analysis of Experimental Data\n",
    "\n",
    "**Problem:** Analyze absorbance measurements at 540 nm over time to monitor a reaction.\n",
    "\n",
    "Given measurements (arbitrary units):\n",
    "- Times: 0, 2, 4, 6, 8, 10, 12, 14, 16, 18, 20 minutes\n",
    "- Absorbance: 1.85, 1.52, 1.31, 1.08, 0.89, 0.71, 0.58, 0.49, 0.38, 0.32, 0.28"
   ]
  },
  {
   "cell_type": "markdown",
   "id": "4bcd3fc9-3e08-47b0-844e-a917e7397c76",
   "metadata": {},
   "source": [
    "### Task 1: Convert data to NumPy arrays"
   ]
  },
  {
   "cell_type": "code",
   "execution_count": 9,
   "id": "0febc9a3-2b1d-4918-b802-426ca2e99634",
   "metadata": {},
   "outputs": [
    {
     "name": "stdout",
     "output_type": "stream",
     "text": [
      "Times array shape: (11,)\n",
      "Absorbance array shape: (11,)\n"
     ]
    }
   ],
   "source": [
    "# Original data as lists\n",
    "times = [0, 2, 4, 6, 8, 10, 12, 14, 16, 18, 20]  # minutes\n",
    "absorbance = [1.85, 1.52, 1.31, 1.08, 0.89, 0.71, 0.58, 0.49, 0.38, 0.32, 0.28]\n",
    "\n",
    "# Convert to NumPy arrays\n",
    "times = np.array(times)\n",
    "absorbance = np.array(absorbance)\n",
    "\n",
    "print(f\"Times array shape: {times.shape}\")\n",
    "print(f\"Absorbance array shape: {absorbance.shape}\")"
   ]
  },
  {
   "cell_type": "markdown",
   "id": "d9dfc64d-74ab-44c8-84d1-41c6373304bd",
   "metadata": {},
   "source": [
    "### Task 2: Calculate reaction progress\n",
    "\n",
    "First, let's calculate the relative absorbance at each time point (as a fraction of the initial value)."
   ]
  },
  {
   "cell_type": "code",
   "execution_count": 10,
   "id": "f7e167f1-c71f-4a40-92f0-800482a6fda4",
   "metadata": {},
   "outputs": [
    {
     "name": "stdout",
     "output_type": "stream",
     "text": [
      "\n",
      "Reaction progress:\n",
      "Time (min) | Absorbance | Relative absorbance\n",
      "---------------------------------------------\n",
      "         0 |       1.85 |  1.000\n",
      "         2 |       1.52 |  0.822\n",
      "         4 |       1.31 |  0.708\n",
      "         6 |       1.08 |  0.584\n",
      "         8 |       0.89 |  0.481\n",
      "        10 |       0.71 |  0.384\n",
      "        12 |       0.58 |  0.314\n",
      "        14 |       0.49 |  0.265\n",
      "        16 |       0.38 |  0.205\n",
      "        18 |       0.32 |  0.173\n",
      "        20 |       0.28 |  0.151\n"
     ]
    }
   ],
   "source": [
    "# Calculate relative absorbance (fraction of initial value)\n",
    "initial_absorbance = absorbance[0]\n",
    "relative_absorbance = absorbance / initial_absorbance\n",
    "\n",
    "# Display reaction progress at selected time points\n",
    "print(\"\\nReaction progress:\")\n",
    "print(\"Time (min) | Absorbance | Relative absorbance\")\n",
    "print(\"-\" * 45)\n",
    "for i in range(0, len(times)):\n",
    "    print(f\"{times[i]:10d} | {absorbance[i]:10.2f} | {relative_absorbance[i]:6.3f}\")"
   ]
  },
  {
   "cell_type": "code",
   "execution_count": null,
   "id": "a1a01631-2185-4a7e-9222-298210f4b1ec",
   "metadata": {},
   "outputs": [],
   "source": []
  },
  {
   "cell_type": "code",
   "execution_count": null,
   "id": "4a8370d2-6169-4f79-af6a-b8d09efc6714",
   "metadata": {},
   "outputs": [],
   "source": []
  },
  {
   "cell_type": "markdown",
   "id": "2ed21e75-0835-4a41-9bc9-830e2d960902",
   "metadata": {},
   "source": [
    "Now let's find when the absorbance has decreased to half its initial value:"
   ]
  },
  {
   "cell_type": "code",
   "execution_count": 11,
   "id": "24d832f3-7d4d-43d9-ae2a-7ef1d5d127ff",
   "metadata": {},
   "outputs": [
    {
     "name": "stdout",
     "output_type": "stream",
     "text": [
      "Half of initial absorbance: 0.925\n",
      "\n",
      "Absorbance drops below half its initial value at:\n",
      "  Time: 8 minutes\n",
      "  Actual absorbance: 0.890\n"
     ]
    }
   ],
   "source": [
    "# Calculate half of initial value\n",
    "half_value = initial_absorbance / 2\n",
    "print(f\"Half of initial absorbance: {half_value:.3f}\")\n",
    "\n",
    "# Find where absorbance drops below half\n",
    "below_half = absorbance < half_value\n",
    "\n",
    "# Get the first index where this occurs\n",
    "if np.any(below_half):\n",
    "    half_life_index = np.argmax(below_half)  # argmax finds first True\n",
    "    half_life_time = times[half_life_index]\n",
    "    print(f\"\\nAbsorbance drops below half its initial value at:\")\n",
    "    print(f\"  Time: {half_life_time} minutes\")\n",
    "    print(f\"  Actual absorbance: {absorbance[half_life_index]:.3f}\")"
   ]
  },
  {
   "cell_type": "markdown",
   "id": "f27ebb9c-0c9a-401a-9e43-b196669a392b",
   "metadata": {},
   "source": [
    "### Task 3: Calculate change between consecutive time points\n",
    "\n",
    "To understand the reaction rate, we need to calculate how much the absorbance changes between measurements."
   ]
  },
  {
   "cell_type": "code",
   "execution_count": 29,
   "id": "b0061e86-d37a-48bf-a05b-7ae20494c57a",
   "metadata": {},
   "outputs": [
    {
     "name": "stdout",
     "output_type": "stream",
     "text": [
      "Change in absorbance between consecutive measurements:\n",
      "\n",
      "Time interval | ΔAbsorbance\n",
      "---------------------------\n",
      "t=0  to t=2   |      -0.330\n",
      "t=2  to t=4   |      -0.210\n",
      "t=4  to t=6   |      -0.230\n",
      "t=6  to t=8   |      -0.190\n",
      "t=8  to t=10  |      -0.180\n",
      "t=10 to t=12  |      -0.130\n",
      "t=12 to t=14  |      -0.090\n",
      "t=14 to t=16  |      -0.110\n",
      "t=16 to t=18  |      -0.060\n",
      "t=18 to t=20  |      -0.040\n"
     ]
    }
   ],
   "source": [
    "# Calculate differences using array slicing\n",
    "delta_absorbance = absorbance[1:] - absorbance[:-1]\n",
    "delta_time = times[1:] - times[:-1]\n",
    "\n",
    "print(\"Change in absorbance between consecutive measurements:\\n\")\n",
    "print(\"Time interval | ΔAbsorbance\")\n",
    "print(\"-\" * 27)\n",
    "for i, delta_abs in enumerate(delta_absorbance): \n",
    "    print(f\"t={times[i]:<2d} to t={times[i+1]:<2d}  | {delta_absorbance[i]:11.3f}\")"
   ]
  },
  {
   "cell_type": "markdown",
   "id": "f8bd77b2-e074-4df4-bbd9-e46aa15bd732",
   "metadata": {},
   "source": [
    "**Understanding the array slicing:**\n",
    "- `absorbance[1:]` gives all elements from index 1 to the end\n",
    "- `absorbance[:-1]` gives all elements from start to second-last\n",
    "- Subtracting these aligned arrays gives differences between consecutive elements"
   ]
  },
  {
   "cell_type": "markdown",
   "id": "316cf9da-f6cd-4d56-9f06-b53807367e64",
   "metadata": {},
   "source": [
    "### Task 4: Find when the absorbance first drops below 0.5"
   ]
  },
  {
   "cell_type": "code",
   "execution_count": 31,
   "id": "230a07ba-45ca-4f08-b501-ccb30a1e21b2",
   "metadata": {},
   "outputs": [
    {
     "name": "stdout",
     "output_type": "stream",
     "text": [
      "Absorbance first drops below 0.5 at:\n",
      "  Time: 14 minutes\n",
      "  Absorbance: 0.49\n"
     ]
    }
   ],
   "source": [
    "threshold = 0.5\n",
    "\n",
    "# Find when absorbance first drops below threshold using a loop\n",
    "first_below = None\n",
    "for i in range(len(absorbance)):\n",
    "    if absorbance[i] < threshold:\n",
    "        first_below = i\n",
    "        break  # Stop once we find the first one\n",
    "\n",
    "if first_below is not None:\n",
    "    print(f\"Absorbance first drops below {threshold} at:\")\n",
    "    print(f\"  Time: {times[first_below]} minutes\")\n",
    "    print(f\"  Absorbance: {absorbance[first_below]:.2f}\")\n",
    "else:\n",
    "    print(f\"Absorbance never drops below {threshold}\")"
   ]
  },
  {
   "cell_type": "markdown",
   "id": "c0ced1f8-f3ae-4644-813d-31e9748d3ce7",
   "metadata": {},
   "source": [
    "**Alternative solution using NumPy boolean indexing**"
   ]
  },
  {
   "cell_type": "code",
   "execution_count": 32,
   "id": "1dadb34d-7ab6-4be1-8d6f-74a264719cfa",
   "metadata": {},
   "outputs": [
    {
     "name": "stdout",
     "output_type": "stream",
     "text": [
      "Boolean array: [False False False False False False False  True  True  True  True]\n",
      "\n",
      "Using np.argmax(): First crossing at index 7\n",
      "  Time: 14 minutes\n",
      "  Absorbance: 0.49\n"
     ]
    }
   ],
   "source": [
    "# Create a boolean array where True means \"below threshold\"\n",
    "below_threshold = absorbance < threshold\n",
    "print(f\"Boolean array: {below_threshold}\")\n",
    "\n",
    "# If any values are below threshold...\n",
    "if np.any(below_threshold):\n",
    "    # argmax on a boolean array finds the first True\n",
    "    first_index = np.argmax(below_threshold)\n",
    "    print(f\"\\nUsing np.argmax(): First crossing at index {first_index}\")\n",
    "    print(f\"  Time: {times[first_index]} minutes\")\n",
    "    print(f\"  Absorbance: {absorbance[first_index]:.2f}\")"
   ]
  },
  {
   "cell_type": "markdown",
   "id": "7f237083-ce41-48e0-b890-905adebe49dd",
   "metadata": {},
   "source": [
    "**Explanation**\n",
    "\n",
    "While the first approach using a loop is clear and works perfectly, NumPy offers a more concise approach using boolean arrays. \n",
    "\n",
    "When you write `absorbance < threshold`, NumPy doesn't just give you a single True/False answer. Instead, it compares EACH element of the array to the threshold and creates a new array of True/False values:\n",
    "- `True` where the element is less than the threshold\n",
    "- `False` where the element is greater than or equal to the threshold\n",
    "\n",
    "This array of True/False values is called a **boolean array**. Let's see what this looks like:"
   ]
  },
  {
   "cell_type": "code",
   "execution_count": 36,
   "id": "776b8329-7758-464d-9951-d419d26491e3",
   "metadata": {},
   "outputs": [
    {
     "name": "stdout",
     "output_type": "stream",
     "text": [
      "Original absorbance values:\n",
      "[1.85 1.52 1.31 1.08 0.89 0.71 0.58 0.49 0.38 0.32 0.28]\n",
      "\n",
      "Comparing each value to threshold (0.5):\n",
      "[False False False False False False False  True  True  True  True]\n",
      "\n",
      "This is a boolean array with dtype: bool\n",
      "  1.85 < 0.5 ? False\n",
      "  1.52 < 0.5 ? False\n",
      "  1.31 < 0.5 ? False\n",
      "  1.08 < 0.5 ? False\n",
      "  0.89 < 0.5 ? False\n",
      "  0.71 < 0.5 ? False\n",
      "  0.58 < 0.5 ? False\n",
      "  0.49 < 0.5 ? True\n",
      "  0.38 < 0.5 ? True\n",
      "  0.32 < 0.5 ? True\n",
      "  0.28 < 0.5 ? True\n"
     ]
    }
   ],
   "source": [
    "# When we compare an array to a value, we get a boolean array\n",
    "below_threshold = absorbance < threshold\n",
    "\n",
    "print(\"Original absorbance values:\")\n",
    "print(absorbance)\n",
    "print(f\"\\nComparing each value to threshold ({threshold}):\")\n",
    "print(below_threshold)\n",
    "print(f\"\\nThis is a boolean array with dtype: {below_threshold.dtype}\")\n",
    "\n",
    "# We can see the correspondence:\n",
    "for i in range(len(absorbance)):\n",
    "    print(f\"  {absorbance[i]:.2f} < {threshold} ? {below_threshold[i]}\")"
   ]
  },
  {
   "cell_type": "markdown",
   "id": "c803df8a-5eb5-4734-a539-4492205bf9c9",
   "metadata": {},
   "source": [
    "**Key concept: Boolean arrays**\n",
    "\n",
    "Boolean arrays are powerful tools in NumPy:\n",
    "- Created by comparing arrays to values (`array < value`, `array == value`, etc.)\n",
    "- Each element is `True` or `False`\n",
    "- Can be used to filter data: `array[boolean_mask]` returns only elements where mask is `True`\n",
    "- `np.argmax()` on a boolean array finds the first `True` (since `True=1`, `False=0`)\n",
    "\n",
    "This is more advanced than using loops, but can be very efficient for large datasets. However, loops are perfectly fine and often clearer if you are not familiar with more advanced NumPy techniques."
   ]
  },
  {
   "cell_type": "code",
   "execution_count": null,
   "id": "61f5fd28-12e3-4066-8ad9-336e594f9267",
   "metadata": {},
   "outputs": [],
   "source": []
  }
 ],
 "metadata": {
  "kernelspec": {
   "display_name": "Python 3 (ipykernel)",
   "language": "python",
   "name": "python3"
  },
  "language_info": {
   "codemirror_mode": {
    "name": "ipython",
    "version": 3
   },
   "file_extension": ".py",
   "mimetype": "text/x-python",
   "name": "python",
   "nbconvert_exporter": "python",
   "pygments_lexer": "ipython3",
   "version": "3.12.3"
  }
 },
 "nbformat": 4,
 "nbformat_minor": 5
}
