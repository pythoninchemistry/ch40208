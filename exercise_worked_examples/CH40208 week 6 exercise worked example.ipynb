{
 "cells": [
  {
   "cell_type": "markdown",
   "metadata": {},
   "source": [
    "# Week 6 - Model Fitting - Worked Example"
   ]
  },
  {
   "cell_type": "code",
   "execution_count": 1,
   "metadata": {},
   "outputs": [],
   "source": [
    "import numpy as np\n",
    "import matplotlib.pyplot as plt\n",
    "from scipy.optimize import minimize, curve_fit"
   ]
  },
  {
   "cell_type": "markdown",
   "metadata": {},
   "source": [
    "## Question 1 - The Van't Hoff Equation"
   ]
  },
  {
   "cell_type": "markdown",
   "metadata": {},
   "source": [
    "The Van't Hoff equation relates the equilibrium constant of a given reaction to the temperature at which that reaction occurs. The linear form can be derived from the two standard expressions for the change in Gibbs free energy:\n",
    "\n",
    "$$\\Delta G = \\Delta H - T\\Delta S = -RT\\ln K$$\n",
    "\n",
    "$$\\ln K = -\\frac{\\Delta H}{RT} + \\frac{\\Delta S}{R}$$\n",
    "\n",
    "Given a set of temperatures and equilibrium constants measured from experiment, we should be able to fit the linear form of the Van't Hoff equation and thus calculate $\\Delta H$ and $\\Delta S$ from the slope and intercept respectively.\n",
    "\n",
    "$$2NO_{2} \\rightarrow N_{2}O_{4}$$\n",
    "\n",
    "We are provided with T and K data for the reaction above.\n",
    "\n",
    "|T / celsius|K|\n",
    "|-----------|----|\n",
    "|9          |34.3 |\n",
    "|20         |12   |\n",
    "|25         |8.79 |\n",
    "|33         |4.4  |\n",
    "|40         |2.8  |\n",
    "|52         |1.4  |\n",
    "|60         |0.751|\n",
    "|70         |0.4  |\n",
    "\n",
    "We first assign the data to a pair of `numpy` arrays."
   ]
  },
  {
   "cell_type": "code",
   "execution_count": 2,
   "metadata": {},
   "outputs": [],
   "source": [
    "temperature = np.array([9, 20, 25, 33, 40, 52, 60, 70])\n",
    "eq_con = np.array([34.3, 12, 8.79, 4.4, 2.8, 1.4, 0.751, 0.4])"
   ]
  },
  {
   "cell_type": "markdown",
   "metadata": {},
   "source": [
    "The linear form of the Van't Hoff equation features $\\ln K$ and $1 / T$, so we need to take the reciprocol of each temperature and the natural logarithm of each K. The temperature is also in celsius, so we need to convert to kelvin. These operations are made trivial by `numpy`, which allows us to utilise vector arithmetic and operate on each element of an array _e.g_ add 273.15 to each temperature in the `temperature` array."
   ]
  },
  {
   "cell_type": "code",
   "execution_count": 3,
   "metadata": {},
   "outputs": [],
   "source": [
    "temperature_kelvin = temperature + 273.15\n",
    "inverse_temperature = 1 / temperature_kelvin\n",
    "ln_eq = np.log(eq_con)"
   ]
  },
  {
   "cell_type": "markdown",
   "metadata": {},
   "source": [
    "As we would expect, plotting $1 / T$ against $\\ln K$ gives a linear relationship."
   ]
  },
  {
   "cell_type": "code",
   "execution_count": 4,
   "metadata": {},
   "outputs": [
    {
     "data": {
      "image/png": "[encoded data removed]",
      "text/plain": [
       "<Figure size 432x288 with 1 Axes>"
      ]
     },
     "metadata": {
      "needs_background": "light"
     },
     "output_type": "display_data"
    }
   ],
   "source": [
    "plt.plot(inverse_temperature, ln_eq, 'o')\n",
    "plt.xlabel('Inverse Temperature / K$^{-1}$')\n",
    "plt.ylabel('ln K')\n",
    "plt.show()"
   ]
  },
  {
   "cell_type": "markdown",
   "metadata": {},
   "source": [
    "Now we need to \"pythonise\" the linear form of the Van't Hoff equation. This is effectively just the equation of a straight line, so we can think of this function as a simple linear model calculating $y$ ($\\ln K$) from $m$ ($-\\Delta H / R$), $x$ ($1 / T$) and $c$ ($\\Delta S / R$)."
   ]
  },
  {
   "cell_type": "code",
   "execution_count": 5,
   "metadata": {},
   "outputs": [],
   "source": [
    "def linear_model(x, m, c):\n",
    "    \"\"\"\n",
    "    Model the equation of a straight line, i.e. calculate y = mx + c.\n",
    "    \n",
    "    Args:\n",
    "        x (np.ndarray): x-values\n",
    "        m (float): slope\n",
    "        c (float): intercept\n",
    "        \n",
    "    Returns:\n",
    "        np.ndarray: y-values\n",
    "    \"\"\"\n",
    "    \n",
    "    y = m * x + c\n",
    "    \n",
    "    return y"
   ]
  },
  {
   "cell_type": "markdown",
   "metadata": {},
   "source": [
    "We can test our function with a decent guess as to what $m$ and $c$ should be, these are given to us as $m = 7400$ and $c = -22.5$. We can calculate our prediction of $\\ln K$ at each value of $1 / T$ by calling our `linear_model` function."
   ]
  },
  {
   "cell_type": "code",
   "execution_count": 6,
   "metadata": {},
   "outputs": [
    {
     "data": {
      "image/png": "[encoded data removed]",
      "text/plain": [
       "<Figure size 432x288 with 1 Axes>"
      ]
     },
     "metadata": {
      "needs_background": "light"
     },
     "output_type": "display_data"
    }
   ],
   "source": [
    "m = 7400\n",
    "c = -22.5\n",
    "y_fit = linear_model(inverse_temperature, m, c)\n",
    "\n",
    "plt.plot(inverse_temperature, ln_eq, 'o')\n",
    "plt.plot(inverse_temperature, y_fit, '-')\n",
    "plt.xlabel('Inverse Temperature / K$^{-1}$')\n",
    "plt.ylabel('ln K')\n",
    "plt.show()"
   ]
  },
  {
   "cell_type": "markdown",
   "metadata": {},
   "source": [
    "The fit shown above isn't terrible, but it's clear that there's room for improvement. We can define a measure of how good our model of the data is by calculating the _sum of squared differences_.\n",
    "\n",
    "$$\\chi^{2} = \\sum_{i} |y_{i} - f(x_{i})|^{2}$$\n",
    "\n",
    "Here each $y_{i}$ is one of our observed values of $\\ln K$ and each $f(x_{i})$ is the corresponding value that we predict using our linear model. We can pythonise this equation and write a function to calculate $\\chi^{2}$ for us."
   ]
  },
  {
   "cell_type": "code",
   "execution_count": 7,
   "metadata": {},
   "outputs": [],
   "source": [
    "def error_function(model_params, x, y):\n",
    "    \"\"\"\n",
    "    Calculates the sum of squared differences between the observed y-values and fitted (predicted) y-values.\n",
    "    \n",
    "    Args:\n",
    "        model_params (list): m and c\n",
    "        x (np.ndarray): x-values\n",
    "        y (np.ndarray): observed y-values\n",
    "        \n",
    "    Returns:\n",
    "        float: sum of squared differences\n",
    "    \"\"\"\n",
    "    m, c = model_params\n",
    "    chi_squared = sum((y - linear_model(x, m, c)) ** 2)\n",
    "    \n",
    "    return chi_squared"
   ]
  },
  {
   "cell_type": "markdown",
   "metadata": {},
   "source": [
    "We accept a list of model parameters (`model_params`) as opposed to $m$ and $c$ explicitly due to the fact that we will shortly be using the `minimize` function from the `scipy` library. `minimize` requires the first argument of the input function to be a list containing all of the free parameters that should be adjusted during the minimization procedure. We can use our initial guess for $m$ and $c$ from earlier as a starting point for calling `minimize`."
   ]
  },
  {
   "cell_type": "code",
   "execution_count": 8,
   "metadata": {},
   "outputs": [
    {
     "data": {
      "text/plain": [
       "      fun: 0.026025752948812184\n",
       " hess_inv: array([[ 1.54094223e+06, -4.96192768e+03],\n",
       "       [-4.96192768e+03,  1.60401101e+01]])\n",
       "      jac: array([-1.36671588e-07,  1.42725185e-07])\n",
       "  message: 'Optimization terminated successfully.'\n",
       "     nfev: 45\n",
       "      nit: 4\n",
       "     njev: 15\n",
       "   status: 0\n",
       "  success: True\n",
       "        x: array([6923.76357018,  -21.06512489])"
      ]
     },
     "execution_count": 8,
     "metadata": {},
     "output_type": "execute_result"
    }
   ],
   "source": [
    "minimize(error_function, [7400, -22.5], (inverse_temperature, ln_eq))"
   ]
  },
  {
   "cell_type": "markdown",
   "metadata": {},
   "source": [
    "We can assign the results output above to a variable and access specifically the optimised parameters as follows:"
   ]
  },
  {
   "cell_type": "code",
   "execution_count": 9,
   "metadata": {},
   "outputs": [
    {
     "data": {
      "text/plain": [
       "array([6923.76357018,  -21.06512489])"
      ]
     },
     "execution_count": 9,
     "metadata": {},
     "output_type": "execute_result"
    }
   ],
   "source": [
    "opt_data = minimize(error_function, [7400, -22.5], (inverse_temperature, ln_eq))\n",
    "opt_params = opt_data.x\n",
    "\n",
    "opt_params"
   ]
  },
  {
   "cell_type": "markdown",
   "metadata": {},
   "source": [
    "We can see that `minimize` has been able to lower the sum of squared differences by adjusting the values of $m$ and $c$. Replotting our model against the experimental data, it is clear that the fit is improved relative to what we started with."
   ]
  },
  {
   "cell_type": "code",
   "execution_count": 10,
   "metadata": {},
   "outputs": [
    {
     "data": {
      "image/png": "[encoded data removed]",
      "text/plain": [
       "<Figure size 432x288 with 1 Axes>"
      ]
     },
     "metadata": {
      "needs_background": "light"
     },
     "output_type": "display_data"
    }
   ],
   "source": [
    "m, c = opt_params\n",
    "y_fit = linear_model(inverse_temperature, m, c)\n",
    "\n",
    "plt.plot(inverse_temperature, ln_eq, 'o')\n",
    "plt.plot(inverse_temperature, y_fit, '-')\n",
    "plt.xlabel('Inverse Temperature / K$^{-1}$')\n",
    "plt.ylabel('ln K')\n",
    "plt.show()"
   ]
  },
  {
   "cell_type": "markdown",
   "metadata": {},
   "source": [
    "The `curve_fit` function can be used to achieve the same result without the need to write an explicit `error_function` to calculate the sum of squared differences. `curve_fit` will do this internally, allowing us to optimise $m$ and $c$ by providing our original `linear_model` function, as well as the experimental data."
   ]
  },
  {
   "cell_type": "code",
   "execution_count": 11,
   "metadata": {},
   "outputs": [
    {
     "data": {
      "text/plain": [
       "(array([6923.87524522,  -21.0654845 ]),\n",
       " array([[ 1.33636218e+04, -4.30317239e+01],\n",
       "        [-4.30317239e+01,  1.39107129e-01]]))"
      ]
     },
     "execution_count": 11,
     "metadata": {},
     "output_type": "execute_result"
    }
   ],
   "source": [
    "curve_fit(linear_model, inverse_temperature, ln_eq)"
   ]
  },
  {
   "cell_type": "markdown",
   "metadata": {},
   "source": [
    "The first array returned by `curve_fit` provides us with the optimised parameters - reassuringly these look very much like those that we calculated with `minimize`. The second array is the covariance matrix, which for the purposes of this exercise does not concern us."
   ]
  },
  {
   "cell_type": "markdown",
   "metadata": {},
   "source": [
    "## Question 1.5 - Bonus Round"
   ]
  },
  {
   "cell_type": "markdown",
   "metadata": {},
   "source": [
    "Having fit the Van't Hoff equation to our experimental data - we can easily extract $\\Delta H$ and $\\Delta S$.\n",
    "\n",
    "$$\\ln K = -\\frac{\\Delta H}{RT} + \\frac{\\Delta S}{R}$$\n",
    "\n",
    "The enthalpy change is contained within the gradient.\n",
    "\n",
    "$$m = -\\frac{\\Delta H}{R}$$\n",
    "$$\\Delta H = -Rm$$\n",
    "\n",
    "Whilst the entropy change is related to the intercept.\n",
    "\n",
    "$$c = \\frac{\\Delta S}{R}$$\n",
    "$$\\Delta S = Rc$$\n",
    "\n",
    "Let's calculate these quantities from our optimized values of $m$ and $c$."
   ]
  },
  {
   "cell_type": "code",
   "execution_count": 12,
   "metadata": {},
   "outputs": [
    {
     "name": "stdout",
     "output_type": "stream",
     "text": [
      "Delta H = -57567.373380101744 J / mol or equally -57.56737338010174 kJ / mol\n",
      "Delta S = -175.14519340062938 J / molK\n"
     ]
    }
   ],
   "source": [
    "from scipy.constants import R\n",
    "\n",
    "m, c = opt_params\n",
    "\n",
    "delta_H = -R * m\n",
    "delta_S = R * c\n",
    "\n",
    "print(f'Delta H = {delta_H} J / mol or equally {delta_H / 1000} kJ / mol')\n",
    "print(f'Delta S = {delta_S} J / molK')"
   ]
  },
  {
   "cell_type": "markdown",
   "metadata": {},
   "source": [
    "## Question 2 - A First-Order Rate Equation"
   ]
  },
  {
   "cell_type": "markdown",
   "metadata": {},
   "source": [
    "The procedure we followed above is not limited to linear systems, we can just as easily fit a non-linear model by minimizing the sum of squared differences between that model and the experimental data. In this question, we are concerned with fitting a first-order rate equation to a series of time and concentration data.\n",
    "\n",
    "$$[H_{2}O_{2}](t) = [H_{2}O_{2}]_{0}\\exp(-kt)$$\n",
    "\n",
    "We are provided with the relevant data for the decomposition of hydrogen peroxide in the presence of excess Ce$^{\\text{III}}$.\n",
    "\n",
    "|Time / s|\\[H$_{2}$O$_{2}$\\] / moldm$^{-3}$|\n",
    "|--------|---------------------------------|\n",
    "|2       |6.23                             |\n",
    "|4       |4.84                             |\n",
    "|6       |3.76                             |\n",
    "|8       |3.20                             |\n",
    "|10      |2.60                             |\n",
    "|12      |2.16                             |\n",
    "|14      |1.85                             |\n",
    "|16      |1.49                             |\n",
    "|18      |1.27                             |\n",
    "|20      |1.01                             |\n",
    "\n",
    "We begin by again storing the data in a pair of numpy arrays and plotting time against \\[H$_{2}$O$_{2}$\\]."
   ]
  },
  {
   "cell_type": "code",
   "execution_count": 13,
   "metadata": {},
   "outputs": [
    {
     "data": {
      "image/png": "[encoded data removed]",
      "text/plain": [
       "<Figure size 432x288 with 1 Axes>"
      ]
     },
     "metadata": {
      "needs_background": "light"
     },
     "output_type": "display_data"
    }
   ],
   "source": [
    "time = np.array(range(2, 22, 2))\n",
    "concs = np.array([6.23, 4.84, 3.76, 3.20, 2.60, 2.16, 1.85, 1.49, 1.27, 1.01])\n",
    "\n",
    "plt.plot(time, concs, 'o')\n",
    "plt.xlabel('Time / s')\n",
    "plt.ylabel('[H$_{2}$O$_{2}$] / moldm$^{-1}$')\n",
    "plt.show()"
   ]
  },
  {
   "cell_type": "markdown",
   "metadata": {},
   "source": [
    "Sure enough, it doesn't look linear this time - but we press on. Time to pythonise the first-order rate equation."
   ]
  },
  {
   "cell_type": "code",
   "execution_count": 14,
   "metadata": {},
   "outputs": [],
   "source": [
    "def first_order(time, init_conc, k):\n",
    "    \"\"\"\n",
    "    Model a first-order rate equation to predict [H2O2] from t.\n",
    "    \n",
    "    Args:\n",
    "        time (np.ndarray): time values\n",
    "        init_conc (float): [H2O2]0 i.e. the initial concentration of hydrogen peroxide\n",
    "        k (float): rate constant\n",
    "        \n",
    "    Returns:\n",
    "        np.ndarray: [H2O2] for each input t\n",
    "    \"\"\"\n",
    "    \n",
    "    concs = init_conc * np.exp(-k * time)\n",
    "    \n",
    "    return concs"
   ]
  },
  {
   "cell_type": "markdown",
   "metadata": {},
   "source": [
    "We can also define an `error_function` to calculate the sum of squared differences, this time around we call our `first_order` function in place of the `linear_model`, but the concept is very much the same."
   ]
  },
  {
   "cell_type": "code",
   "execution_count": 15,
   "metadata": {},
   "outputs": [],
   "source": [
    "def error_function(model_params, time, concs):\n",
    "    \"\"\"\n",
    "    Calculate a sum of squared differences between the observed concentration of H2O2 \n",
    "    at time t and the corresponding values predicted via a first-order rate equation.\n",
    "    \n",
    "    Args:\n",
    "        model_params (list): initial concentration of H2O2 and the rate constant\n",
    "        time (np.ndarray): time data\n",
    "        concs (np.ndarray): observed concentration data\n",
    "        \n",
    "    Returns:\n",
    "        float: sum of squared differences\n",
    "    \"\"\"\n",
    "    \n",
    "    init_conc, k = model_params\n",
    "    chi_squared = sum((concs - first_order(time, init_conc, k)) ** 2)\n",
    "    \n",
    "    return chi_squared"
   ]
  },
  {
   "cell_type": "markdown",
   "metadata": {},
   "source": [
    "Once again, we minimize our error function with respect to the free parameters of our model - in this case `init_conc` (\\[H$_{2}$O$_{2}$\\]$_{0}$) and `k` (the rate constant)."
   ]
  },
  {
   "cell_type": "code",
   "execution_count": 16,
   "metadata": {},
   "outputs": [
    {
     "data": {
      "text/plain": [
       "      fun: 0.1337304484024191\n",
       " hess_inv: array([[7.88769402e-01, 1.26315667e-02],\n",
       "       [1.26315667e-02, 3.02236052e-04]])\n",
       "      jac: array([1.35973096e-07, 2.03773379e-06])\n",
       "  message: 'Optimization terminated successfully.'\n",
       "     nfev: 63\n",
       "      nit: 10\n",
       "     njev: 21\n",
       "   status: 0\n",
       "  success: True\n",
       "        x: array([7.42164414, 0.10308256])"
      ]
     },
     "execution_count": 16,
     "metadata": {},
     "output_type": "execute_result"
    }
   ],
   "source": [
    "minimize(error_function, [10, 1], (time, concs))"
   ]
  },
  {
   "cell_type": "markdown",
   "metadata": {},
   "source": [
    "It looks like our minimization worked just fine. Now we can use the optimized parameters to plot our model alongside the experimental data."
   ]
  },
  {
   "cell_type": "code",
   "execution_count": 17,
   "metadata": {},
   "outputs": [],
   "source": [
    "opt_data = minimize(error_function, [10, 1], (time, concs))\n",
    "opt_params = opt_data.x"
   ]
  },
  {
   "cell_type": "code",
   "execution_count": 18,
   "metadata": {},
   "outputs": [
    {
     "data": {
      "image/png": "[encoded data removed]",
      "text/plain": [
       "<Figure size 432x288 with 1 Axes>"
      ]
     },
     "metadata": {
      "needs_background": "light"
     },
     "output_type": "display_data"
    },
    {
     "name": "stdout",
     "output_type": "stream",
     "text": [
      "[H2O2]0 = 7.421644142884823 mol / dm^3\n",
      "k = 0.10308255577532303 s^-1\n"
     ]
    }
   ],
   "source": [
    "init_conc, k = opt_params\n",
    "fitted_concs = first_order(time, init_conc, k)\n",
    "\n",
    "plt.plot(time, concs, 'o')\n",
    "plt.plot(time, fitted_concs, '-')\n",
    "plt.xlabel('Time / s')\n",
    "plt.ylabel('[H$_{2}$O$_{2}$] / moldm$^{-1}$')\n",
    "plt.show()\n",
    "\n",
    "print(f'[H2O2]0 = {init_conc} mol / dm^3')\n",
    "print(f'k = {k} s^-1')"
   ]
  },
  {
   "cell_type": "markdown",
   "metadata": {},
   "source": [
    "Just as we saw in question 1, we can achieve the same result using `curve_fit`."
   ]
  },
  {
   "cell_type": "code",
   "execution_count": 19,
   "metadata": {},
   "outputs": [
    {
     "name": "stderr",
     "output_type": "stream",
     "text": [
      "<ipython-input-14-46e240728c61>:14: RuntimeWarning: overflow encountered in exp\n",
      "  concs = init_conc * np.exp(-k * time)\n"
     ]
    },
    {
     "data": {
      "text/plain": [
       "(array([7.42164476, 0.10308257]),\n",
       " array([[2.50870014e-02, 3.95693672e-04],\n",
       "        [3.95693672e-04, 9.53801482e-06]]))"
      ]
     },
     "execution_count": 19,
     "metadata": {},
     "output_type": "execute_result"
    }
   ],
   "source": [
    "curve_fit(first_order, time, concs)"
   ]
  },
  {
   "cell_type": "code",
   "execution_count": null,
   "metadata": {},
   "outputs": [],
   "source": []
  }
 ],
 "metadata": {
  "kernelspec": {
   "display_name": "Python 3",
   "language": "python",
   "name": "python3"
  },
  "language_info": {
   "codemirror_mode": {
    "name": "ipython",
    "version": 3
   },
   "file_extension": ".py",
   "mimetype": "text/x-python",
   "name": "python",
   "nbconvert_exporter": "python",
   "pygments_lexer": "ipython3",
   "version": "3.8.3"
  }
 },
 "nbformat": 4,
 "nbformat_minor": 4
}
