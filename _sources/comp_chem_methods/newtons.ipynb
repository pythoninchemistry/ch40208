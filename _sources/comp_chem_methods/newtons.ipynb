{
 "cells": [
  {
   "cell_type": "markdown",
   "metadata": {},
   "source": [
    "# Newton's method\n",
    "\n",
    "A potentially more efficient method for minimisation is the potential energy function is Newton's method (developed by Isaac Newton). \n",
    "This method uses both the first and second derivatives of the potential energy, the latter is found from the following equation, \n",
    "\n",
    "$$ E''(r_{ij}) = 156\\frac{A}{r_{ij}^{14}} - 42\\frac{B}{r_{ij}^8}, $$\n",
    "\n",
    "where again, the parameters are given previously. \n",
    "\n",
    "The second derivative of a function describes the curvature of the function and can offer a more direct root to the minimum energy solution. \n",
    "The algorithm for Newton's method is identical to the gradient descent method, but the update formula is changed to, \n",
    "\n",
    "$$ r_{\\text{new}} = r_{\\text{old}} - \\frac{E'(r_{ij})}{E''(r_{ij})},$$\n",
    "\n",
    "where the parameters are introduced previously. \n",
    "As can be seen, this method has the benefit that there is no need to determine a hyperparameter.\n",
    "Additionally, under certain circumstances, it can be more efficient than the gradient descent method. \n",
    "\n",
    "Newton's method in action is shown below. \n",
    "\n",
    "![](line.gif)\n",
    "\n",
    "## Exercise:\n",
    "\n",
    "Implement Newton's method algorithm for the same system as previously. \n",
    "Investigate how the algorithm performs against the gradient descent method for starting points of $3.2$ Å, $4.4$ Å, and $6.0$ Å (consider the cause of the result for Newton's method starting at $6.0$ Å).\n",
    "\n",
    "<!-- [Worked Example](https://pythoninchemistry.org/ch40208/comp_chem_methods/newtons_exercises.html) -->"
   ]
  }
 ],
 "metadata": {
  "kernelspec": {
   "display_name": "Python 3 (ipykernel)",
   "language": "python",
   "name": "python3"
  },
  "language_info": {
   "codemirror_mode": {
    "name": "ipython",
    "version": 3
   },
   "file_extension": ".py",
   "mimetype": "text/x-python",
   "name": "python",
   "nbconvert_exporter": "python",
   "pygments_lexer": "ipython3",
   "version": "3.10.0"
  }
 },
 "nbformat": 4,
 "nbformat_minor": 4
}
