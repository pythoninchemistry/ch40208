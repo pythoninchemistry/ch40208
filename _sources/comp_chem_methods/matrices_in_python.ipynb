{
 "cells": [
  {
   "cell_type": "markdown",
   "metadata": {},
   "source": [
    "# Working with matrices in Python\n",
    "\n",
    "Matrices can be described by multidimensional `numpy` arrays, and we can perform matrix multiplication with the `numpy.matmul()` function. [^footnote]\n",
    "\n",
    "[^footnote]: You can get the same results using `numpy.dot()`, but we encourage `numpy.matmul()` because it makes the final code easier to read and follow."
   ]
  },
  {
   "cell_type": "code",
   "execution_count": 1,
   "metadata": {},
   "outputs": [
    {
     "name": "stdout",
     "output_type": "stream",
     "text": [
      "[-4  3]\n"
     ]
    }
   ],
   "source": [
    "import numpy as np\n",
    "\n",
    "r = np.array([3,4])\n",
    "M = np.array([[0,-1],\n",
    "              [1, 0]])\n",
    "r_prime = np.matmul(M, r)\n",
    "print(r_prime)"
   ]
  },
  {
   "cell_type": "markdown",
   "metadata": {},
   "source": [
    "The inverse of a matrix can be calculated (if it exists) using `numpy.linalg.inv()`."
   ]
  },
  {
   "cell_type": "code",
   "execution_count": 2,
   "metadata": {},
   "outputs": [
    {
     "name": "stdout",
     "output_type": "stream",
     "text": [
      "[[ 0.  1.]\n",
      " [-1. -0.]]\n"
     ]
    }
   ],
   "source": [
    "N = np.linalg.inv(M)\n",
    "print(N)"
   ]
  },
  {
   "cell_type": "code",
   "execution_count": 3,
   "metadata": {},
   "outputs": [
    {
     "data": {
      "text/plain": [
       "array([3., 4.])"
      ]
     },
     "execution_count": 3,
     "metadata": {},
     "output_type": "execute_result"
    }
   ],
   "source": [
    "np.matmul(N, r_prime) # we should recover our original vector"
   ]
  },
  {
   "cell_type": "markdown",
   "metadata": {},
   "source": [
    "Matrix&ndash;matrix multiplication can also be performed using `numpy.matmul()`:"
   ]
  },
  {
   "cell_type": "code",
   "execution_count": 4,
   "metadata": {},
   "outputs": [
    {
     "name": "stdout",
     "output_type": "stream",
     "text": [
      "[[-1  0]\n",
      " [ 0 -1]]\n"
     ]
    }
   ],
   "source": [
    "MM = np.matmul(M,M) # Two 90 degree rotations should be a 180 degree rotation.\n",
    "print(MM)"
   ]
  },
  {
   "cell_type": "markdown",
   "metadata": {},
   "source": [
    "## Exercise\n",
    "\n",
    "Download the following files and add them to the working directory of your JupyterHub: [visualisation.py](https://raw.githubusercontent.com/pythoninchemistry/ch40208/master/CH40208/comp_chem_methods/visualisation.py) and [water.txt](https://raw.githubusercontent.com/pythoninchemistry/ch40208/master/CH40208/comp_chem_methods/water.txt). \n",
    "The first file is a text file containing a single Python function (we will explain how to package functions into your own modules later in the course). The second file contains the atomistic coordinates for a water molecule. \n",
    "Let us read in the water molecule coordinates, and use the `visualisation.show()` function to have a look."
   ]
  },
  {
   "cell_type": "code",
   "execution_count": 7,
   "metadata": {},
   "outputs": [
    {
     "data": {
      "image/png": "[encoded data removed]",
      "text/plain": [
       "<Figure size 360x360 with 1 Axes>"
      ]
     },
     "metadata": {},
     "output_type": "display_data"
    }
   ],
   "source": [
    "import visualisation\n",
    "x, y, z = np.loadtxt('water.txt', unpack=True)\n",
    "visualisation.show(x, y)"
   ]
  },
  {
   "cell_type": "markdown",
   "metadata": {},
   "source": [
    "You will notice that we do not pass the *z*-coordinates to the visualisation script. \n",
    "This is because:\n",
    "1. 3D visualisation is a bit tricky and we want to focus on the understanding of the matrix operations. \n",
    "2. We are only going to focus on the rotation in the *xy*-plane (so the *z*-coordinate will never change).\n",
    "\n",
    "The exercise this week is to use matrices and vector to rotate this molecule in the *xy*-plane. \n",
    "First, you should write a function that will return a NumPy matrix when passed some angle, $\\beta$, with the form, \n",
    "\n",
    "$$ \\begin{bmatrix}\\cos\\beta & -\\sin\\beta \\\\ \\sin\\beta & \\cos\\beta \\end{bmatrix} $$\n",
    "\n",
    "This is called a [rotation matrix](https://en.wikipedia.org/wiki/Rotation_matrix), a rotation matrix in a linear algebra tool that lets us rotate something in [Euclidean space](https://en.wikipedia.org/wiki/Euclidean_space) such as the cartesian coordinate system that we use to describe the atomic positions. \n",
    "Remember that the NumPy `cos` and `sin` functions will expect the angle to be in radians!\n",
    "\n",
    "Then use the rotation matrix to obtain new coordinates for the water molecule, by performing the following matrix multiplication. \n",
    "\n",
    "$$ \\begin{bmatrix} x' \\\\ y' \\end{bmatrix} = \\begin{bmatrix}\\cos\\beta & -\\sin\\beta \\\\ \\sin\\beta & \\cos\\beta \\end{bmatrix} \\begin{bmatrix}x \\\\ y \\end{bmatrix} $$\n",
    "\n",
    "where $x$ and $y$ are the current positions of the *x*- and *y*-coordinates respectively and $x'$ and $y'$ are the rotated coordinates. \n",
    "Use the `visualisation.show()` function to help check that the rotation has been successful."
   ]
  }
 ],
 "metadata": {
  "kernelspec": {
   "display_name": "Python 3 (ipykernel)",
   "language": "python",
   "name": "python3"
  },
  "language_info": {
   "codemirror_mode": {
    "name": "ipython",
    "version": 3
   },
   "file_extension": ".py",
   "mimetype": "text/x-python",
   "name": "python",
   "nbconvert_exporter": "python",
   "pygments_lexer": "ipython3",
   "version": "3.9.7"
  }
 },
 "nbformat": 4,
 "nbformat_minor": 4
}
