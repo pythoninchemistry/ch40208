{
 "cells": [
  {
   "cell_type": "markdown",
   "id": "455b7ed0-22a2-4d49-852c-db66b191c027",
   "metadata": {},
   "source": [
    "### Exercise: Geometry Optimisation of a Lennard-Jones Potential\n",
    "\n",
    "The potential energy surface for a pair of &lqduo;Lennard–Jones&rdquo; is given by\n",
    "\n",
    "$$U_\\mathrm{LJ} = \\frac{A}{r^{12}} - \\frac{B}{r^6}$$\n",
    "\n",
    "#### 1.\n",
    "\n",
    "Plot this function for $A$ = 1 × 10<sup>5</sup> eV Å<sup>12</sup> and $B$ = 40 eV Å<sup>6</sup> for the range $3.6 \\leq r \\leq 8.0$.\n",
    "\n",
    "\n",
    "#### 2.\n",
    "\n",
    "The first derivative of this potential energy function is given by\n",
    "\n",
    "$$U^\\prime_\\mathrm{LJ} = -12 \\frac{A}{r^{13}} + 6\\frac{B}{r^7}$$\n",
    "\n",
    "Write code to find the lowest-energy interatomic separation for a pair of Lennard–Jones atoms (with the potential parameters given above) using gradient descent. Start with $r = 5.0$ and $\\alpha=100$. How does your optimsation code perform with different values of $\\alpha$ and different starting values of $r$ (try $r$ = 3.2 Å, $r$ = 4.4 Å, and $r$ = 6.0 Å)?\n",
    "\n",
    "#### 3.\n",
    "\n",
    "Write code to perform geometry optimisation of your Lennard-Jones potential using the Newton-Raphson method.\n",
    "\n",
    "The second derivative of $U_\\mathrm{LJ}$ is\n",
    "\n",
    "$$U^{\\prime\\prime} = 156\\frac{A}{r^{14}} - 42\\frac{B}{r^8}$$\n",
    "\n",
    "Investigate how the Newton-Raphson method performs with starting points of $r$ = 3.2 Å, $r$ = 4.4 Å, and $r$ = 6.0 Å."
   ]
  },
  {
   "cell_type": "markdown",
   "id": "0c5249de-f5a2-4def-b4cb-124dcf54bf0c",
   "metadata": {},
   "source": [
    "#### 4.\n",
    "\n",
    "`scipy` contains multiple functions for mathematical optimisation, including `scipy.optimise.minimize()`, which can be used to find minima for arbitrary functions.\n",
    "\n",
    "To use `minimize` we first import it\n",
    "\n",
    "```python\n",
    "from scipy.optimize import minimize\n",
    "```\n",
    "\n",
    "We can then use this function by "
   ]
  }
 ],
 "metadata": {
  "kernelspec": {
   "display_name": "Python 3 (ipykernel)",
   "language": "python",
   "name": "python3"
  },
  "language_info": {
   "codemirror_mode": {
    "name": "ipython",
    "version": 3
   },
   "file_extension": ".py",
   "mimetype": "text/x-python",
   "name": "python",
   "nbconvert_exporter": "python",
   "pygments_lexer": "ipython3",
   "version": "3.11.10"
  }
 },
 "nbformat": 4,
 "nbformat_minor": 5
}
