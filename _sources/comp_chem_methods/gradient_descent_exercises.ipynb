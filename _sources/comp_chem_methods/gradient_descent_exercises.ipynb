{
 "cells": [
  {
   "cell_type": "markdown",
   "metadata": {},
   "source": [
    "# Exercise\n",
    "\n",
    "The first step was to write a function for the first derivative of the potential energy."
   ]
  },
  {
   "cell_type": "code",
   "execution_count": 1,
   "metadata": {},
   "outputs": [],
   "source": [
    "def first_derivative(r, A, B):\n",
    "    \"\"\"\n",
    "    The first derivative of the Lennard-Jones potential model. \n",
    "    \n",
    "    Args:\n",
    "        r (float): Atom-atom distance (Å).\n",
    "        A (float): Interaction parameter (eVÅ^12).\n",
    "        B (float): Interaction parameter (eVÅ^6).\n",
    "        \n",
    "    Returns:\n",
    "        (float): Potential energy.\n",
    "    \"\"\"\n",
    "    return -12. * A / r ** 13 + 6 * B / r ** 7"
   ]
  },
  {
   "cell_type": "markdown",
   "metadata": {},
   "source": [
    "We when implement a gradient descent method.\n",
    "`alpha` can have different values, but `alpha=100` finds the minimum within 30 steps from `r=6.0` initially. "
   ]
  },
  {
   "cell_type": "code",
   "execution_count": 2,
   "metadata": {},
   "outputs": [],
   "source": [
    "A = 1e5\n",
    "B = 40\n",
    "\n",
    "alpha = 100\n",
    "r = 6.0\n",
    "r_list = [r]\n",
    "for i in range(30):\n",
    "    E_dash = first_derivative(r, A, B)\n",
    "    r = r - alpha * E_dash\n",
    "    r_list.append(r)"
   ]
  },
  {
   "cell_type": "markdown",
   "metadata": {},
   "source": [
    "It is easier to show the convergence with a plot. "
   ]
  },
  {
   "cell_type": "code",
   "execution_count": 3,
   "metadata": {},
   "outputs": [
    {
     "data": {
      "image/png": "[encoded data removed]",
      "text/plain": [
       "<Figure size 432x288 with 1 Axes>"
      ]
     },
     "metadata": {
      "needs_background": "light"
     },
     "output_type": "display_data"
    }
   ],
   "source": [
    "import matplotlib.pyplot as plt\n",
    "\n",
    "plt.plot(range(31), r_list, 'o--')\n",
    "plt.xlabel('Iteration')\n",
    "plt.ylabel('r')\n",
    "plt.show()"
   ]
  },
  {
   "cell_type": "code",
   "execution_count": null,
   "metadata": {},
   "outputs": [],
   "source": []
  }
 ],
 "metadata": {
  "kernelspec": {
   "display_name": "Python 3",
   "language": "python",
   "name": "python3"
  },
  "language_info": {
   "codemirror_mode": {
    "name": "ipython",
    "version": 3
   },
   "file_extension": ".py",
   "mimetype": "text/x-python",
   "name": "python",
   "nbconvert_exporter": "python",
   "pygments_lexer": "ipython3",
   "version": "3.8.8"
  }
 },
 "nbformat": 4,
 "nbformat_minor": 4
}
