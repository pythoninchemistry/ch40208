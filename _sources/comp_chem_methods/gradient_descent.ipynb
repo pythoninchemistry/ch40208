{
 "cells": [
  {
   "cell_type": "markdown",
   "metadata": {},
   "source": [
    "# Gradient descent\n",
    "\n",
    "The first algorithm that we will investigate considers only the gradient of the function and changes the reaction parameter based on this. \n",
    "Therefore we must define two functions, one for the energy of the potential energy surface (the Lennard-Jones potential outlined earlier) and another for the gradient of the potential energy surface (this is the first derivative of the Lennard-Jones potential). \n",
    "The function for the gradient of the potential energy surface is given below. \n",
    "\n",
    "$$ E'(r_{ij}) = -12\\frac{A}{r_{ij}^{13}} + 6\\frac{B}{r_{ij}^7}, $$\n",
    "\n",
    "where the parameters are the same as outlined [previously](./minimisation.html). \n",
    "\n",
    "Considering the shape of the potential energy surface, "
   ]
  },
  {
   "cell_type": "code",
   "execution_count": 1,
   "metadata": {},
   "outputs": [
    {
     "data": {
      "image/png": "[encoded data removed]",
      "text/plain": [
       "<Figure size 432x288 with 1 Axes>"
      ]
     },
     "metadata": {
      "needs_background": "light"
     },
     "output_type": "display_data"
    }
   ],
   "source": [
    "import numpy as np\n",
    "import matplotlib.pyplot as plt\n",
    "\n",
    "A = 1e5\n",
    "B = 40\n",
    "\n",
    "r = np.linspace(3.5, 10, 100)\n",
    "plt.plot(r, A / (r ** 12) - B / (r ** 6))\n",
    "plt.xlabel('$r_{ij}$/Å')\n",
    "plt.ylabel('$E$/eV')\n",
    "plt.show()"
   ]
  },
  {
   "cell_type": "markdown",
   "metadata": {},
   "source": [
    "When the gradient is positive, where $r_{ij} > 4.1$ Å, then we want to reduce the value of $r_{ij}$, such that we go downhill towards the minimum. \n",
    "Where the gradient is negative, $r_{ij} < 4.1$ Å, the value of $r_{ij}$ needs to increase to move towards the minimum. \n",
    "This gives rise to the following algorithm, \n",
    "\n",
    "1. An initial guess of the minimum energy distance is made\n",
    "2. The first derivative of the energy at that distance is calculated\n",
    "3. The distance is updated based on the following relationship, \n",
    "   \n",
    "   $$ r_{\\text{new}} = r_{\\text{old}} - \\alpha E'(r_{\\text{old}}), $$\n",
    "   \n",
    "   where, $E'(r)$ is the first derivative of the energy, $r_{\\text{old}}$ is the original distance, and $\\alpha$ is a hyperparameter. \n",
    "4. Go to step 2.\n",
    "\n",
    "The hyperparameter, $\\alpha$, is a variable that we need to find for our given optimisation, which scales the magnitude of the change in $r$.\n",
    "The figure below shows the gradient descent method in action, where $\\alpha = 2.0$.\n",
    "\n",
    "![](grad.gif)\n",
    "\n",
    "## Exercise: \n",
    "\n",
    "Implement a gradient descent algorithm by writing a function for the first derivative of the energy. \n",
    "Using a loop, iterate the algorithm at least 30 times. \n",
    "Test different starting points, values of $\\alpha$, and numbers of iterations, by printing the distance $r_{ij}$ for each iteration of the loop watch for the value converging. \n",
    "Use $A$ = $1\\times 10^{5}$ eV Å<sup>12</sup>, $B$ = $40$ eV Å<sup>6</sup>. \n",
    "\n",
    "<!-- [Worked Examples](https://pythoninchemistry.org/ch40208/comp_chem_methods/gradient_descent_exercises.html) -->"
   ]
  }
 ],
 "metadata": {
  "kernelspec": {
   "display_name": "Python 3 (ipykernel)",
   "language": "python",
   "name": "python3"
  },
  "language_info": {
   "codemirror_mode": {
    "name": "ipython",
    "version": 3
   },
   "file_extension": ".py",
   "mimetype": "text/x-python",
   "name": "python",
   "nbconvert_exporter": "python",
   "pygments_lexer": "ipython3",
   "version": "3.10.0"
  }
 },
 "nbformat": 4,
 "nbformat_minor": 4
}
