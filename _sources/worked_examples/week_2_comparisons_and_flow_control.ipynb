{
 "cells": [
  {
   "cell_type": "markdown",
   "id": "40d46946-00e9-4624-938b-645575c7a6b4",
   "metadata": {},
   "source": [
    "# Worked Examples: Comparisons and Flow Control\n",
    "\n",
    "These worked solutions correspond to the exercises on the [Comparisons and Flow Control](../python_basics/comparisons_and_flow_control.ipynb) page.\n",
    "\n",
    "**How to use this notebook:**\n",
    "- Try each exercise yourself first before looking at the solution\n",
    "- The code cells show both the code and its output\n",
    "- Download this notebook if you want to run and experiment with the code yourself\n",
    "- Your solution might look different - that's fine as long as it gives the correct answer!"
   ]
  },
  {
   "cell_type": "markdown",
   "id": "6e4ff499-4320-4ed3-83af-565a4c1ea787",
   "metadata": {},
   "source": [
    "## Exercise 1: Fizzbuzz\n",
    "\n",
    "**Problem:** Write a piece of code that can play FizzBuzz.\n",
    "\n",
    "Your code should count from 1 to 100. Numbers that are divisible by 3 are replaced by \"Fizz\"; numbers that are divisible by 5 are replaced by \"Buzz\"; and numbers divisible by 3 and 5 are replaced by \"Fizz Buzz\".\n",
    "\n",
    "To generate the numbers from 1 to 100, you can use the `range()` function with two numbers, to specify the start and end of your range, i.e. `range(1,101)`."
   ]
  },
  {
   "cell_type": "markdown",
   "id": "9558ce71-5c0b-41ad-93ff-c101d73174a7",
   "metadata": {},
   "source": [
    "**Solution:**"
   ]
  },
  {
   "cell_type": "code",
   "execution_count": 1,
   "id": "a2e469e1-f112-425c-b506-bd1a150976f0",
   "metadata": {},
   "outputs": [
    {
     "name": "stdout",
     "output_type": "stream",
     "text": [
      "1\n",
      "2\n",
      "Fizz\n",
      "4\n",
      "Buzz\n",
      "Fizz\n",
      "7\n",
      "8\n",
      "Fizz\n",
      "Buzz\n",
      "11\n",
      "Fizz\n",
      "13\n",
      "14\n",
      "Fizz Buzz\n",
      "16\n",
      "17\n",
      "Fizz\n",
      "19\n",
      "Buzz\n",
      "Fizz\n",
      "22\n",
      "23\n",
      "Fizz\n",
      "Buzz\n",
      "26\n",
      "Fizz\n",
      "28\n",
      "29\n",
      "Fizz Buzz\n",
      "31\n",
      "32\n",
      "Fizz\n",
      "34\n",
      "Buzz\n",
      "Fizz\n",
      "37\n",
      "38\n",
      "Fizz\n",
      "Buzz\n",
      "41\n",
      "Fizz\n",
      "43\n",
      "44\n",
      "Fizz Buzz\n",
      "46\n",
      "47\n",
      "Fizz\n",
      "49\n",
      "Buzz\n",
      "Fizz\n",
      "52\n",
      "53\n",
      "Fizz\n",
      "Buzz\n",
      "56\n",
      "Fizz\n",
      "58\n",
      "59\n",
      "Fizz Buzz\n",
      "61\n",
      "62\n",
      "Fizz\n",
      "64\n",
      "Buzz\n",
      "Fizz\n",
      "67\n",
      "68\n",
      "Fizz\n",
      "Buzz\n",
      "71\n",
      "Fizz\n",
      "73\n",
      "74\n",
      "Fizz Buzz\n",
      "76\n",
      "77\n",
      "Fizz\n",
      "79\n",
      "Buzz\n",
      "Fizz\n",
      "82\n",
      "83\n",
      "Fizz\n",
      "Buzz\n",
      "86\n",
      "Fizz\n",
      "88\n",
      "89\n",
      "Fizz Buzz\n",
      "91\n",
      "92\n",
      "Fizz\n",
      "94\n",
      "Buzz\n",
      "Fizz\n",
      "97\n",
      "98\n",
      "Fizz\n",
      "Buzz\n"
     ]
    }
   ],
   "source": [
    "for i in range(1, 101):\n",
    "    if i % 3 == 0 and i % 5 == 0:\n",
    "        print(\"Fizz Buzz\")\n",
    "    elif i % 3 == 0:\n",
    "        print(\"Fizz\")\n",
    "    elif i % 5 == 0:\n",
    "        print(\"Buzz\")\n",
    "    else:\n",
    "        print(i)"
   ]
  },
  {
   "cell_type": "markdown",
   "id": "0d3a40df-57d3-4b5f-8145-4a64a88780b4",
   "metadata": {},
   "source": [
    "**Notes:**\n",
    "\n",
    "The modulo operator (`%`):\n",
    "- `i % 3` gives the remainder when `i` is divided by 3\n",
    "- If `i % 3 == 0`, then `i` is divisible by 3 (remainder is 0)\n",
    "- Similarly for `i % 5 == 0`\n",
    "\n",
    "Order of conditions matters:\n",
    "- We check for divisibility by both 3 and 5 first\n",
    "- If we checked for 3 first, numbers like 15 would print \"Fizz\" and never reach \"Fizz Buzz\"\n",
    "- The conditions are evaluated top-to-bottom, and only the first `True` condition executes\n",
    "\n",
    "\n",
    "The `and` operator:\n",
    "- `i % 3 == 0 and i % 5 == 0` is `True` only when both conditions are `True`\n",
    "- This identifies numbers divisible by both 3 and 5 (i.e., divisible by 15)"
   ]
  },
  {
   "cell_type": "markdown",
   "id": "7704b470-ac16-4854-b8b3-fc07f05a2030",
   "metadata": {},
   "source": [
    "**Alternative Solution 1: Checking Divisibility by 15**\n",
    "\n",
    "Since numbers divisible by both 3 and 5 are divisible by 15, we can simplify:\n",
    "\n",
    "```python\n",
    "for i in range(1, 101):\n",
    "    if i % 15 == 0:\n",
    "        print(\"Fizz Buzz\")\n",
    "    elif i % 3 == 0:\n",
    "        print(\"Fizz\")\n",
    "    elif i % 5 == 0:\n",
    "        print(\"Buzz\")\n",
    "    else:\n",
    "        print(i)\n",
    "```"
   ]
  },
  {
   "cell_type": "markdown",
   "id": "1cd5f9e7-4128-42c6-99ac-991868c4e0cc",
   "metadata": {},
   "source": [
    "**Alternative Solution 2: Building the Output String**\n",
    "\n",
    "Another approach is to build the output string sequentially by testing each condition separately:"
   ]
  },
  {
   "cell_type": "code",
   "execution_count": null,
   "id": "8fee276e-bfc3-44f8-8771-a0326607b46a",
   "metadata": {},
   "outputs": [],
   "source": [
    "for i in range(1, 101):\n",
    "    output = \"\"  # Start with empty string\n",
    "    \n",
    "    # Check if divisible by 3\n",
    "    if i % 3 == 0:\n",
    "        output += \"Fizz\"\n",
    "    \n",
    "    # Check if divisible by 5\n",
    "    if i % 5 == 0:\n",
    "        if output:  # If we already have \"Fizz\", add a space\n",
    "            output += \" \"\n",
    "        output += \"Buzz\"\n",
    "    \n",
    "    # If output is still empty, use the number itself\n",
    "    if output == \"\":\n",
    "        output = str(i)\n",
    "    \n",
    "    print(output)"
   ]
  },
  {
   "cell_type": "markdown",
   "id": "3282d038-441c-4e5d-96e6-04ffa8ef2616",
   "metadata": {},
   "source": [
    "How this differs from the first solution:\n",
    "\n",
    "1. Independent checks: We use separate `if` statements (not `elif`), so both the \"divisible by 3\" and \"divisible by 5\" checks can execute in the same iteration.\n",
    "\n",
    "2. Building incrementally: Instead of deciding what to print all at once, we build the output string step by step:\n",
    "\n",
    "- Start with an empty string\n",
    "- Add \"Fizz\" if needed\n",
    "- Add \"Buzz\" if needed (with a space if \"Fizz\" is already there)\n",
    "- If nothing was added, use the number instead\n",
    "\n",
    "\n",
    "3. The order still matters: We check divisibility by 3 first, then 5, so we get \"Fizz Buzz\" not \"Buzz Fizz\".\n",
    "\n",
    "4. No special case for 15: When a number is divisible by both 3 and 5:\n",
    "\n",
    "- First `if` block executes: adds \"Fizz\"\n",
    "- Second `if` block executes: adds a space, then \"Buzz\"\n",
    "- Result: \"Fizz Buzz\"\n",
    "\n",
    "We don't need a separate condition to check `i % 3 == 0 and i % 5 == 0` because both blocks run automatically.\n",
    "\n",
    "5. The space logic: In the divisibility by 5 block, we check `if output`: to decide whether to add a space:\n",
    "- If `output = \"Fizz\"`, we add a space before \"Buzz\" → `\"Fizz Buzz\"`\n",
    "- If `output = \"\"`, we don't add a space → `\"Buzz\"` (not `\" Buzz\"`)\n",
    "\n",
    "This pattern is particularly useful when you need to combine multiple conditions and you want the code to be easy to extend. For example, if the rules later changed to add \"Pop\" for numbers divisible by 7, you'd just add:\n",
    "\n",
    "\n",
    "```python\n",
    "if i % 7 == 0:\n",
    "    if output:\n",
    "        output += \" \"\n",
    "    output += \"Pop\"\n",
    "```"
   ]
  },
  {
   "cell_type": "markdown",
   "id": "b6bbe51b-16f7-4c05-a561-300fd7ed452a",
   "metadata": {},
   "source": [
    "**Alternative Solution 3: Building a List**\n",
    "\n",
    "Extending this idea, another approach is to use a list and the `.join()` method to handle spacing automatically:\n",
    "\n",
    "```python\n",
    "for i in range(1, 101):\n",
    "    output = []  # Build as a list instead of a string\n",
    "    if i % 3 == 0:\n",
    "        output.append('Fizz')\n",
    "    if i % 5 == 0:\n",
    "        output.append('Buzz')\n",
    "    # If the list is not empty, join the list elements with a space.\n",
    "    # If the list is empty, use the number\n",
    "    print(' '.join(output) if output else str(i))\n",
    "```\n",
    "\n",
    "Key idea: Build a list of words, then join them with spaces. The `.join()` method handles the spacing automatically!\n",
    "\n",
    "How it works:\n",
    "\n",
    "- Start with an empty list `[]`\n",
    "- Add \"Fizz\" to the list if divisible by 3\n",
    "- Add \"Buzz\" to the list if divisible by 5\n",
    "- Join the list elements with `' '.join(output)` to create the final string\n",
    "\n",
    "The magic of `.join()`:\n",
    "The `.join()` method automatically puts spaces between list elements:\n",
    "\n",
    "- `' '.join(['Fizz'])` $\\to$ `\"Fizz\"` (single element: no space)\n",
    "- `' '.join(['Fizz', 'Buzz'])` $\\to$ `\"Fizz Buzz\"` (two elements: space between)\n",
    "\n",
    "This means we never need to check whether to add a space.\n",
    "\n",
    "Advantages:\n",
    "\n",
    "- No conditional logic for spacing: The `.join()` method automatically handles when to add spaces—only between elements, never at the start or end.\n",
    "- Most concise: At 7 lines (inside the loop), this is the shortest clear solution.\n",
    "- Common Python pattern: Building a list and joining is idiomatic Python for constructing strings from multiple parts.\n",
    "- Easy to extend: Want to add \"Pop\" for divisibility by 7? Just add another if `i % 7 == 0: output.append('Pop')` line."
   ]
  },
  {
   "cell_type": "markdown",
   "id": "0dbd91b6-c591-469e-ab1e-8a4bd34def22",
   "metadata": {},
   "source": [
    "## Exercise 2: Solid, Liquid, or Gas?\n",
    "\n",
    "**Problem:** Given the following data on the standard melting and boiling points of various metals, determine their state (solid, liquid or gas) at $500\\,^{\\circ}$ C."
   ]
  },
  {
   "cell_type": "code",
   "execution_count": 14,
   "id": "5b132d6a-d748-4b81-bd38-ebe6302bf901",
   "metadata": {},
   "outputs": [],
   "source": [
    "metals = ['Fe', 'Al', 'Hg', 'Ti', 'Pb']\n",
    "melting_points = [1811, 933, 234, 1941, 601]  # in K\n",
    "boiling_points = [3134, 2743, 630, 3560, 2022]  # in K"
   ]
  },
  {
   "cell_type": "markdown",
   "id": "22aeaa45-79be-42a7-9ca4-5b5a81d7dba6",
   "metadata": {},
   "source": [
    "**Solution:**"
   ]
  },
  {
   "cell_type": "code",
   "execution_count": 16,
   "id": "7da7fd16-1bb5-4fb5-9643-26b3626a4b7a",
   "metadata": {},
   "outputs": [
    {
     "name": "stdout",
     "output_type": "stream",
     "text": [
      "Fe : solid \n",
      "Al : solid \n",
      "Hg : gas   \n",
      "Ti : solid \n",
      "Pb : liquid\n"
     ]
    }
   ],
   "source": [
    "# Given data\n",
    "metals = ['Fe', 'Al', 'Hg', 'Ti', 'Pb']\n",
    "melting_points = [1811, 933, 234, 1941, 601]  # in K\n",
    "boiling_points = [3134, 2743, 630, 3560, 2022]  # in K\n",
    "\n",
    "# Temperature to check (convert from °C to K)\n",
    "temp_celsius = 500\n",
    "temp_kelvin = temp_celsius + 273.15\n",
    "\n",
    "for i in range(len(metals)):\n",
    "    metal = metals[i]\n",
    "    mp = melting_points[i]\n",
    "    bp = boiling_points[i]\n",
    "    \n",
    "    if temp_kelvin < mp:\n",
    "        phase = \"solid\"\n",
    "    elif temp_kelvin >= mp and temp_kelvin < bp:\n",
    "        phase = \"liquid\"\n",
    "    else:\n",
    "        phase = \"gas\"\n",
    "    \n",
    "    print(f\"{metal:3s}: {phase:6s}\")"
   ]
  },
  {
   "cell_type": "markdown",
   "id": "c901d41e-5aee-41a0-a1a3-7911f43f9a9e",
   "metadata": {},
   "source": [
    "**Alternative Solution: Using `zip()`**\n",
    "\n",
    "Here's a version that uses `zip()` to iterate over all three lists simultaneously:"
   ]
  },
  {
   "cell_type": "code",
   "execution_count": 17,
   "id": "13bb8792-cc9a-44e8-af24-723a8f7c4fa5",
   "metadata": {},
   "outputs": [
    {
     "name": "stdout",
     "output_type": "stream",
     "text": [
      "Fe : solid \n",
      "Al : solid \n",
      "Hg : gas   \n",
      "Ti : solid \n",
      "Pb : liquid\n"
     ]
    }
   ],
   "source": [
    "# Given data\n",
    "metals = ['Fe', 'Al', 'Hg', 'Ti', 'Pb']\n",
    "melting_points = [1811, 933, 234, 1941, 601]  # in K\n",
    "boiling_points = [3134, 2743, 630, 3560, 2022]  # in K\n",
    "\n",
    "# Temperature to check (convert from °C to K)\n",
    "temp_celsius = 500\n",
    "temp_kelvin = temp_celsius + 273.15\n",
    "\n",
    "for metal, mp, bp in zip(metals, melting_points, boiling_points):\n",
    "    if temp_kelvin < mp:\n",
    "        phase = \"solid\"\n",
    "    elif temp_kelvin < bp:  # We already know temp >= mp\n",
    "        phase = \"liquid\"\n",
    "    else:\n",
    "        phase = \"gas\"\n",
    "    \n",
    "    print(f\"{metal:3s}: {phase:6s}\")"
   ]
  },
  {
   "cell_type": "markdown",
   "id": "3dc021b4-2964-4dac-af94-369250ee5e02",
   "metadata": {},
   "source": [
    "Improvements in this version:\n",
    "- Using `zip()`: No need for indices. We work directly with values from all three lists simultaneously\n",
    "- Simplified second condition: We can write `elif temp_kelvin < bp`: instead of `elif temp_kelvin >= mp and temp_kelvin < bp`: because the `elif` only executes if the first `if` was `False`, meaning we already know `temp_kelvin >= mp`\n",
    "- More readable: Direct access to `metal`, `mp`, and `bp` instead of `metals[i]`, `melting_points[i]`, etc."
   ]
  },
  {
   "cell_type": "code",
   "execution_count": null,
   "id": "cb718c1c-47f0-448e-9c6a-35283fa5d7a1",
   "metadata": {},
   "outputs": [],
   "source": []
  }
 ],
 "metadata": {
  "kernelspec": {
   "display_name": "Python 3 (ipykernel)",
   "language": "python",
   "name": "python3"
  },
  "language_info": {
   "codemirror_mode": {
    "name": "ipython",
    "version": 3
   },
   "file_extension": ".py",
   "mimetype": "text/x-python",
   "name": "python",
   "nbconvert_exporter": "python",
   "pygments_lexer": "ipython3",
   "version": "3.12.9"
  }
 },
 "nbformat": 4,
 "nbformat_minor": 5
}
