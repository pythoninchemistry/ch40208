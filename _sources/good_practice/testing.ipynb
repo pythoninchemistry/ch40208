{
 "cells": [
  {
   "cell_type": "markdown",
   "metadata": {},
   "source": [
    "# Testing\n",
    "\n",
    "When we write code, we want to be sure that it is doing **exactly** what we thinking it is doing. \n",
    "Unfortunately, no one is perfect and this property is transferred to the code that we write. \n",
    "So we, as conscious, programmers, should write tests for all of your code ensuring that is it doing the right thing in all circumstances. \n",
    "\n",
    "Typically we apply tests for our code that the function level, where there is, at least a test for each of the functions in our program. \n",
    "However, in order to achieve full test coverage, it may be necessary to have more than one test for a given function. \n",
    "Consider the code below, which performs simple temperature conversions, using logic to change the arithmetic as appropriate. "
   ]
  },
  {
   "cell_type": "code",
   "execution_count": 1,
   "metadata": {},
   "outputs": [],
   "source": [
    "def temperature_conversion(value, unit):\n",
    "    \"\"\"\n",
    "    Temperature conversion that is dependent on \n",
    "    the input unit. \n",
    "    \n",
    "    Args:\n",
    "        value (float): Temperature to be converted. \n",
    "        unit (str): Unit of the original temperature.\n",
    "    \n",
    "    Returns:\n",
    "        (float): Temperature converted to Kelvin.\n",
    "    \"\"\"\n",
    "    if unit == 'C':\n",
    "        return value + 273.15\n",
    "    elif unit == 'F':\n",
    "        return (value + 459.67) * 5 / 9\n",
    "    else:\n",
    "        raise ValueError(\"The supported units are C or F.\")"
   ]
  },
  {
   "cell_type": "markdown",
   "metadata": {},
   "source": [
    "In this example, our code will [raise an error](https://pythoninchemistry.org/ch40208/good_practice/raising_errors.html) if the unit argument is neither `'C'` or `'F'`. \n",
    "\n",
    "We can now write some tests for this function. \n",
    "We know that the melting point is water is 0 <sup>o</sup>C, 273.15 K and 32 <sup>o</sup>F. \n",
    "Therefore our tests should reflect this knowledge."
   ]
  },
  {
   "cell_type": "code",
   "execution_count": 2,
   "metadata": {},
   "outputs": [],
   "source": [
    "import numpy as np"
   ]
  },
  {
   "cell_type": "code",
   "execution_count": 3,
   "metadata": {},
   "outputs": [
    {
     "name": "stdout",
     "output_type": "stream",
     "text": [
      "Test 1 Passed!\n"
     ]
    }
   ],
   "source": [
    "c = temperature_conversion(0, 'C')\n",
    "np.testing.assert_almost_equal(c, 273.15)\n",
    "print('Test 1 Passed!')"
   ]
  },
  {
   "cell_type": "code",
   "execution_count": 4,
   "metadata": {},
   "outputs": [
    {
     "name": "stdout",
     "output_type": "stream",
     "text": [
      "Test 2 Passed!\n"
     ]
    }
   ],
   "source": [
    "f = temperature_conversion(32, 'F')\n",
    "np.testing.assert_almost_equal(f, 273.15)\n",
    "print('Test 2 Passed!')"
   ]
  },
  {
   "cell_type": "markdown",
   "metadata": {},
   "source": [
    "These two tests will cover two of the branches of our function.\n",
    "The `np.testing.assert_almost_equal` function is an element of the NumPy testing library.\n",
    "This test function checks if the two arguments are **approximately** equal. \n",
    "This must be approximate due to the [floating point arithmetic](https://floating-point-gui.de) problems. \n",
    "For an integer, string, or Boolean where the value does not need to be approximate, the `np.testing.assert_equal` function may be used.\n",
    "If the values are not almost equal, and error will be thrown. "
   ]
  },
  {
   "cell_type": "code",
   "execution_count": 5,
   "metadata": {},
   "outputs": [
    {
     "ename": "AssertionError",
     "evalue": "\nArrays are not almost equal to 7 decimals\n ACTUAL: 273.15\n DESIRED: 270.15",
     "output_type": "error",
     "traceback": [
      "\u001b[0;31m---------------------------------------------------------------------------\u001b[0m",
      "\u001b[0;31mAssertionError\u001b[0m                            Traceback (most recent call last)",
      "\u001b[0;32m<ipython-input-5-0ecc932d8f1f>\u001b[0m in \u001b[0;36m<module>\u001b[0;34m\u001b[0m\n\u001b[0;32m----> 1\u001b[0;31m \u001b[0mnp\u001b[0m\u001b[0;34m.\u001b[0m\u001b[0mtesting\u001b[0m\u001b[0;34m.\u001b[0m\u001b[0massert_almost_equal\u001b[0m\u001b[0;34m(\u001b[0m\u001b[0mc\u001b[0m\u001b[0;34m,\u001b[0m \u001b[0;36m270.15\u001b[0m\u001b[0;34m)\u001b[0m\u001b[0;34m\u001b[0m\u001b[0;34m\u001b[0m\u001b[0m\n\u001b[0m\u001b[1;32m      2\u001b[0m \u001b[0mprint\u001b[0m\u001b[0;34m(\u001b[0m\u001b[0;34m'Test 3 Passed!'\u001b[0m\u001b[0;34m)\u001b[0m\u001b[0;34m\u001b[0m\u001b[0;34m\u001b[0m\u001b[0m\n",
      "    \u001b[0;31m[... skipping hidden 1 frame]\u001b[0m\n",
      "\u001b[0;31mAssertionError\u001b[0m: \nArrays are not almost equal to 7 decimals\n ACTUAL: 273.15\n DESIRED: 270.15"
     ]
    }
   ],
   "source": [
    "np.testing.assert_almost_equal(c, 270.15)\n",
    "print('Test 3 Passed!')"
   ]
  },
  {
   "cell_type": "markdown",
   "metadata": {},
   "source": [
    "Notice that the Python kernel never reaches the print statement. \n",
    "\n",
    "However, so far our tests do not cover every possible operation of the function. \n",
    "We have a test for the `if` and `elif` branches, but not the `else` branch. \n",
    "Therefore, we must introduce another type of test, that checks if an error is raised. "
   ]
  },
  {
   "cell_type": "code",
   "execution_count": 6,
   "metadata": {},
   "outputs": [
    {
     "name": "stdout",
     "output_type": "stream",
     "text": [
      "Test 4 Passed!\n"
     ]
    }
   ],
   "source": [
    "np.testing.assert_raises(ValueError, temperature_conversion, 0, 'c')\n",
    "print('Test 4 Passed!')"
   ]
  },
  {
   "cell_type": "markdown",
   "metadata": {},
   "source": [
    "This function takes the expected error type, the function and the input arguments and will pass if the error is thrown under these circumstances. \n",
    "\n",
    "## Test-driven development \n",
    "\n",
    "Test-driven development (TDD) is a methodology for computer programming, where the tests are written first for a particular use case and then the operational code is written such that it passes these tests. \n",
    "This methodology is different from that applied to this point in the course, however, it is very popular and powerful when applied properly. \n",
    "In the exercise below, you are asked to try your hand at some test-driven development. \n",
    "\n",
    "## [Exercises](https://pythoninchemistry.org/ch40208/good_practice/tdd_exercises.html)"
   ]
  }
 ],
 "metadata": {
  "kernelspec": {
   "display_name": "Python 3",
   "language": "python",
   "name": "python3"
  },
  "language_info": {
   "codemirror_mode": {
    "name": "ipython",
    "version": 3
   },
   "file_extension": ".py",
   "mimetype": "text/x-python",
   "name": "python",
   "nbconvert_exporter": "python",
   "pygments_lexer": "ipython3",
   "version": "3.8.8"
  }
 },
 "nbformat": 4,
 "nbformat_minor": 4
}
