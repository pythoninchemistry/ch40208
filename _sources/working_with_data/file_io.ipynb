{
 "cells": [
  {
   "cell_type": "markdown",
   "metadata": {},
   "source": [
    "# File I/O\n",
    "\n",
    "Now that you are confident in mathematical operations and the plotting of arrays of data, it will be useful to be able to read data (for example from an experimental measurement) into the Python kernel. \n",
    "This will allow you to perform mathematical operations on data from the file and potentially plot the analysed result. \n",
    "\n",
    "In this section, we will show the parsing of two common types of file, known as `.txt` (text files) and `.csv` (comma-separated value file). \n",
    "The same basic function, from the `numpy` library, is used to read these files in, with some changes necessary to the keyword arguments that are passed to the function. \n",
    "\n",
    "## `.txt` files\n",
    "\n",
    "Text files look like the following, \n",
    "\n",
    "```\n",
    "# A text file with ideal gas information\n",
    "# The rows are temperature (K), volume (cubic meters), and pressure (Pa)\n",
    "200 600 1000 1400 1800\n",
    "0.8 0.2 1.0 0.6 0.1\n",
    "5020 60370 20110 46940 362160\n",
    "```\n",
    "\n",
    "This file is available from <a href=\"https://github.com/pythoninchemistry/ch40208/raw/master/CH40208/working_with_data/ideal_gas_rows.txt\" download>this link</a>, you will need to [upload the file](https://youtu.be/5E2HhNfFpF8) to the chemistry JupyterHub. \n",
    "We can input the data from this file into three NumPy arrays with the following function. "
   ]
  },
  {
   "cell_type": "code",
   "execution_count": 1,
   "metadata": {},
   "outputs": [],
   "source": [
    "import numpy as np\n",
    "\n",
    "temperature, volume, pressure = np.loadtxt('ideal_gas_rows.txt')"
   ]
  },
  {
   "cell_type": "code",
   "execution_count": 2,
   "metadata": {},
   "outputs": [
    {
     "name": "stdout",
     "output_type": "stream",
     "text": [
      "[ 200.  600. 1000. 1400. 1800.]\n"
     ]
    }
   ],
   "source": [
    "print(temperature)"
   ]
  },
  {
   "cell_type": "code",
   "execution_count": 3,
   "metadata": {},
   "outputs": [
    {
     "name": "stdout",
     "output_type": "stream",
     "text": [
      "[0.8 0.2 1.  0.6 0.1]\n"
     ]
    }
   ],
   "source": [
    "print(volume)"
   ]
  },
  {
   "cell_type": "code",
   "execution_count": 4,
   "metadata": {},
   "outputs": [
    {
     "name": "stdout",
     "output_type": "stream",
     "text": [
      "[  5020.  60370.  20110.  46940. 362160.]\n"
     ]
    }
   ],
   "source": [
    "print(pressure)"
   ]
  },
  {
   "cell_type": "markdown",
   "metadata": {},
   "source": [
    "We can then plot the pressure multiplied by the volume, against the temperature to observe the ideal gas relationship that was introduced in the previous exercise. "
   ]
  },
  {
   "cell_type": "code",
   "execution_count": 5,
   "metadata": {},
   "outputs": [],
   "source": [
    "import matplotlib.pyplot as plt"
   ]
  },
  {
   "cell_type": "code",
   "execution_count": 6,
   "metadata": {},
   "outputs": [
    {
     "data": {
      "image/png": "[encoded data removed]",
      "text/plain": [
       "<Figure size 432x288 with 1 Axes>"
      ]
     },
     "metadata": {
      "needs_background": "light"
     },
     "output_type": "display_data"
    }
   ],
   "source": [
    "plt.plot(temperature, pressure * volume, 'o')\n",
    "plt.xlabel('pV')\n",
    "plt.ylabel('T')\n",
    "plt.show()"
   ]
  },
  {
   "cell_type": "markdown",
   "metadata": {},
   "source": [
    "Often experimental devices will output data as columns, rather than rows (this is probably more common in **real** measurement devices), such as in <a href=\"https://github.com/pythoninchemistry/ch40208/raw/master/CH40208/working_with_data/ideal_gas_cols.txt\" download>this file</a>, shown below. \n",
    "\n",
    "```\n",
    "# A text file with columnar ideal gas information\n",
    "# temperature (K) volume (cubic meters) pressure (Pa)\n",
    "200 0.8 5020\n",
    "600 0.2 60370\n",
    "1000 1.0 20110\n",
    "1400 0.6 46940\n",
    "1800 0.1 362160\n",
    "```\n",
    "\n",
    "Therefore it is necessary to modify the `np.loadtxt()` function to account for this.\n",
    "To do so, we use a **keyword argument**, this is a function argument that has a special identifier preceding it. \n",
    "To read in the columnar data we can use the following."
   ]
  },
  {
   "cell_type": "code",
   "execution_count": 7,
   "metadata": {},
   "outputs": [],
   "source": [
    "temperature, volume, pressure = np.loadtxt('ideal_gas_cols.txt', unpack=True)"
   ]
  },
  {
   "cell_type": "code",
   "execution_count": 8,
   "metadata": {},
   "outputs": [
    {
     "name": "stdout",
     "output_type": "stream",
     "text": [
      "[ 200.  600. 1000. 1400. 1800.]\n"
     ]
    }
   ],
   "source": [
    "print(temperature)"
   ]
  },
  {
   "cell_type": "code",
   "execution_count": 9,
   "metadata": {},
   "outputs": [
    {
     "name": "stdout",
     "output_type": "stream",
     "text": [
      "[0.8 0.2 1.  0.6 0.1]\n"
     ]
    }
   ],
   "source": [
    "print(volume)"
   ]
  },
  {
   "cell_type": "code",
   "execution_count": 10,
   "metadata": {},
   "outputs": [
    {
     "name": "stdout",
     "output_type": "stream",
     "text": [
      "[  5020.  60370.  20110.  46940. 362160.]\n"
     ]
    }
   ],
   "source": [
    "print(pressure)"
   ]
  },
  {
   "cell_type": "markdown",
   "metadata": {},
   "source": [
    "For this function, to get a columnar data read in we set the variable in the arguments `unpack` to be `True`. \n",
    "By default this variable is `False`, leading to the first result above.\n",
    "\n",
    "## `.csv` files\n",
    "\n",
    "`.csv` files are extremely popular output data files for experimental equipment. \n",
    "While the `.txt` files above use white-space (spaces or tabs) to separate the values in a row, the `.csv` format uses commas (hence the name). \n",
    "The `.csv` equivalent of the previous text files are available <a href=\"https://github.com/pythoninchemistry/ch40208/raw/master/CH40208/working_with_data/ideal_gas_rows.csv\" download>as rows</a> and <a href=\"https://github.com/pythoninchemistry/ch40208/raw/master/CH40208/working_with_data/ideal_gas_cols.csv\" download>as columns</a>. \n",
    "We can use the Jupyter notebook to have a look at the files if we wish, using the `!head` command (this is part of the Jupyter Notebook **not** standard Python)."
   ]
  },
  {
   "cell_type": "code",
   "execution_count": 11,
   "metadata": {},
   "outputs": [
    {
     "name": "stdout",
     "output_type": "stream",
     "text": [
      "# A csv file with columnar ideal gas information\n",
      "# temperature (K) volume (cubic meters) pressure (Pa)\n",
      "200, 0.8, 5020\n",
      "600, 0.2, 60370\n",
      "1000, 1.0, 20110\n",
      "1400, 0.6, 46940\n",
      "1800, 0.1, 362160"
     ]
    }
   ],
   "source": [
    "!head ideal_gas_cols.csv"
   ]
  },
  {
   "cell_type": "markdown",
   "metadata": {},
   "source": [
    "This command will print the first ten lines of a file since this file is less than ten lines, we can see the whole thing.\n",
    "\n",
    "The reading of `.csv` files requires another keyword argument, this time called `delimiter` (this is the name given to the string that separates the values). \n",
    "Therefore, for `.csv` files the `delimiter` is the comma. "
   ]
  },
  {
   "cell_type": "code",
   "execution_count": 12,
   "metadata": {},
   "outputs": [],
   "source": [
    "temperature, volume, pressure = np.loadtxt('ideal_gas_cols.csv', unpack=True, delimiter=',')"
   ]
  },
  {
   "cell_type": "code",
   "execution_count": 13,
   "metadata": {},
   "outputs": [
    {
     "name": "stdout",
     "output_type": "stream",
     "text": [
      "[ 200.  600. 1000. 1400. 1800.]\n"
     ]
    }
   ],
   "source": [
    "print(temperature)"
   ]
  },
  {
   "cell_type": "code",
   "execution_count": 14,
   "metadata": {},
   "outputs": [
    {
     "name": "stdout",
     "output_type": "stream",
     "text": [
      "[0.8 0.2 1.  0.6 0.1]\n"
     ]
    }
   ],
   "source": [
    "print(volume)"
   ]
  },
  {
   "cell_type": "code",
   "execution_count": 15,
   "metadata": {},
   "outputs": [
    {
     "name": "stdout",
     "output_type": "stream",
     "text": [
      "[  5020.  60370.  20110.  46940. 362160.]\n"
     ]
    }
   ],
   "source": [
    "print(pressure)"
   ]
  },
  {
   "cell_type": "markdown",
   "metadata": {},
   "source": [
    "Note that the `np.loadtxt()` function will only read in numerical information, and ignores completely any lines starting with a hash symbol, `#`. \n",
    "\n",
    "## Exercise: \n",
    "\n",
    "- Investigate the <a href=\"https://github.com/pythoninchemistry/ch40208/raw/master/CH40208/working_with_data/toluene_ir.csv\" download>IR spectra</a> data for toulene, initially using the `!head` command and then read in the data with the `np.loadtxt()` function. \n",
    "- Plot the data and correctly label the axis, following the information given in the file header (the part with the `#` symbols that is not parsed by the `np.loadtxt()` function).\n",
    "\n",
    "[Worked Example](https://pythoninchemistry.org/ch40208/working_with_data/file_io_exercises.html)"
   ]
  }
 ],
 "metadata": {
  "kernelspec": {
   "display_name": "Python 3",
   "language": "python",
   "name": "python3"
  },
  "language_info": {
   "codemirror_mode": {
    "name": "ipython",
    "version": 3
   },
   "file_extension": ".py",
   "mimetype": "text/x-python",
   "name": "python",
   "nbconvert_exporter": "python",
   "pygments_lexer": "ipython3",
   "version": "3.8.8"
  }
 },
 "nbformat": 4,
 "nbformat_minor": 4
}
