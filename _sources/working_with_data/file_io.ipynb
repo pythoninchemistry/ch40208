{
 "cells": [
  {
   "cell_type": "markdown",
   "metadata": {},
   "source": [
    "# File input and output\n",
    "\n",
    "When working with scientific data, we often have these data saved in a file on our computer. To perform some computational analysis or to plot our results we need to load these data into our code; entering data by hand presents an opportunity for mistyped values, and for datasets with more than just a few entries quickly becomes impractical. \n",
    "\n",
    "After having run our computational analysis on our input data, we usually end up with some **output** data, and we may with to then save this output back to disk. This might be because we want to run a second stage of computational analysis, or simply because we want our final output dataset to be available without having to rerun our full computational workflow."
   ]
  },
  {
   "cell_type": "markdown",
   "metadata": {},
   "source": [
    "## Reading and writing plain text files\n",
    "\n",
    "The most common file type used for storing data is **plain text**.\n",
    "These files contain anything that can be encoded in a string; i.e., alphanumeric characters and typical symbols you can type on a keyboard.\n",
    "\n",
    "The text below shows the contents of an example plain text file that contains data\n",
    "corresponding to the volume and pressure of an ideal gas over a range of temperatures.\n",
    "\n",
    "```\n",
    "# A text file with ideal gas information\n",
    "# The rows are temperature (K), volume (cubic meters), and pressure (Pa)\n",
    "200 600 1000 1400 1800\n",
    "0.8 0.2 1.0 0.6 0.1\n",
    "5020 60370 20110 46940 362160\n",
    "```"
   ]
  },
  {
   "cell_type": "markdown",
   "metadata": {},
   "source": [
    "### Reading text files\n",
    "\n",
    "To read from a text file we first create a **file object**, which will allow us to interact with the file on disk.\n",
    "\n",
    "To open a file for reading, we use the `open()` built-in function, which takes two arguments: the first arguemnt is the name of the file we want to open, given as a `string`, and the second argument specifies the **mode**, which defines how we are going to interact with the file (read, write, etc.).\n",
    "\n",
    "To open the file above, we can use"
   ]
  },
  {
   "cell_type": "code",
   "execution_count": 19,
   "metadata": {},
   "outputs": [],
   "source": [
    "f = open('ideal_gas_rows.txt', 'r') # 'r' specifies that we are opening this file for reading."
   ]
  },
  {
   "cell_type": "markdown",
   "metadata": {},
   "source": [
    "We can now **read** from this file, storing the data we read as a `string`."
   ]
  },
  {
   "cell_type": "code",
   "execution_count": 5,
   "metadata": {},
   "outputs": [
    {
     "name": "stdout",
     "output_type": "stream",
     "text": [
      "# A text file with ideal gas information\n",
      "# The rows are temperature (K), volume (cubic meters), and pressure (Pa)\n",
      "200 600 1000 1400 1800\n",
      "0.8 0.2 1.0 0.6 0.1\n",
      "5020 60370 20110 46940 362160\n"
     ]
    }
   ],
   "source": [
    "data = f.read()\n",
    "print(data)"
   ]
  },
  {
   "cell_type": "markdown",
   "metadata": {},
   "source": [
    "Using `file_object.read()` reads the entire contents of the file as a single string. If we want to pull out separate lines, we can use the `string` method `split()` to split this single string into a list of strings:\n",
    "\n",
    "````{margin}\n",
    "```{note}\n",
    "The `split()` string method defaults to splitting on whitespace, i.e., spaces and newlines, so in this case would split our full text file into individual words. Instead we want to split into separate lines, which we do by setting `'\\n'` as out argument.\n",
    "```\n",
    "````"
   ]
  },
  {
   "cell_type": "code",
   "execution_count": 9,
   "metadata": {},
   "outputs": [
    {
     "data": {
      "text/plain": [
       "['# A text file with ideal gas information',\n",
       " '# The rows are temperature (K), volume (cubic meters), and pressure (Pa)',\n",
       " '200 600 1000 1400 1800',\n",
       " '0.8 0.2 1.0 0.6 0.1',\n",
       " '5020 60370 20110 46940 362160']"
      ]
     },
     "execution_count": 9,
     "metadata": {},
     "output_type": "execute_result"
    }
   ],
   "source": [
    "data.split('\\n')"
   ]
  },
  {
   "cell_type": "markdown",
   "metadata": {},
   "source": [
    "So, for example, to read the temperature data (in the third line of the file) we could use the following code"
   ]
  },
  {
   "cell_type": "code",
   "execution_count": 11,
   "metadata": {},
   "outputs": [
    {
     "data": {
      "text/plain": [
       "[200.0, 600.0, 1000.0, 1400.0, 1800.0]"
      ]
     },
     "execution_count": 11,
     "metadata": {},
     "output_type": "execute_result"
    }
   ],
   "source": [
    "f = open('ideal_gas_rows.txt', 'r')\n",
    "data = f.read()\n",
    "lines = data.split('\\n')\n",
    "temperatures_as_strings = lines[2].split() # split the second line into separate strings.\n",
    "temperatures = [float(s) for s in temperatures_as_strings]\n",
    "temperatures"
   ]
  },
  {
   "cell_type": "markdown",
   "metadata": {},
   "source": [
    "Here, we have `split()` our input twice: the first time we split into separate lines, and the second time we split the line containing the data we want into separate words. This gives us a `list` of `strings` which we then convert to a `list` of `floats` using a **list comprehension**."
   ]
  },
  {
   "cell_type": "markdown",
   "metadata": {},
   "source": [
    "We can write similar code to extract the volume and pressure data."
   ]
  },
  {
   "cell_type": "code",
   "execution_count": 14,
   "metadata": {},
   "outputs": [
    {
     "name": "stdout",
     "output_type": "stream",
     "text": [
      "[0.8, 0.2, 1.0, 0.6, 0.1]\n",
      "[5020.0, 60370.0, 20110.0, 46940.0, 362160.0]\n"
     ]
    }
   ],
   "source": [
    "volumes_as_strings = lines[3].split()\n",
    "pressures_as_strings = lines[4].split()\n",
    "\n",
    "volumes = [float(s) for s in volumes_as_strings]\n",
    "pressures = [float(s) for s in pressures_as_strings]\n",
    "\n",
    "print(volumes)\n",
    "print(pressures)"
   ]
  },
  {
   "cell_type": "markdown",
   "metadata": {},
   "source": [
    "Wanting to read in a file as separate lines is a pretty common use-case, and we can do this in a single step using `readlines()`, and avoid having to explicitly split the full file string."
   ]
  },
  {
   "cell_type": "code",
   "execution_count": 15,
   "metadata": {},
   "outputs": [
    {
     "data": {
      "text/plain": [
       "[200.0, 600.0, 1000.0, 1400.0, 1800.0]"
      ]
     },
     "execution_count": 15,
     "metadata": {},
     "output_type": "execute_result"
    }
   ],
   "source": [
    "f = open('ideal_gas_rows.txt', 'r')\n",
    "lines = f.readlines()\n",
    "temperatures_as_strings = lines[2].split() # split the second line into separate strings.\n",
    "temperatures = [float(s) for s in temperatures_as_strings]\n",
    "temperatures"
   ]
  },
  {
   "cell_type": "markdown",
   "metadata": {},
   "source": [
    "Having read our data, we can now **close** the file."
   ]
  },
  {
   "cell_type": "code",
   "execution_count": 16,
   "metadata": {},
   "outputs": [],
   "source": [
    "f.close()"
   ]
  },
  {
   "cell_type": "markdown",
   "metadata": {},
   "source": [
    "### Writing text files\n",
    "\n",
    "If we wanted to now write our data to a new file we would again use `open`, but this time set the **mode** with `'w'`. We can then use the `write()` method to write **strings** to the file."
   ]
  },
  {
   "cell_type": "code",
   "execution_count": 40,
   "metadata": {},
   "outputs": [],
   "source": [
    "# first, convert our list of floats to a list of strings and join them together\n",
    "data_string = ' '.join([str(t) for t in temperatures])\n",
    "f = open('new_text_file.txt', 'w')\n",
    "f.write('# this is our new file\\n')\n",
    "# We need to include the code for a newline at the end of our string\n",
    "f.write(data_string)\n",
    "f.close()"
   ]
  },
  {
   "cell_type": "code",
   "execution_count": 41,
   "metadata": {},
   "outputs": [
    {
     "name": "stdout",
     "output_type": "stream",
     "text": [
      "# this is our new file\r\n",
      "200.0 600.0 1000.0 1400.0 1800.0"
     ]
    }
   ],
   "source": [
    "!head new_text_file.txt"
   ]
  },
  {
   "cell_type": "markdown",
   "metadata": {},
   "source": [
    "## Reading and writing files using `numpy`"
   ]
  },
  {
   "cell_type": "markdown",
   "metadata": {},
   "source": [
    "As you can see from the example code above, reading and writing text files containing numerical data using built-in Python commands involves writing code to split strings and to convert from strings to numerical data, when reading, and to convert from numerical data to strings and to join these strings together when writing.\n",
    "\n",
    "Fortunately, `numpy` provides functions that can be used to read and write files containing numerical data much more easily."
   ]
  },
  {
   "cell_type": "code",
   "execution_count": 58,
   "metadata": {},
   "outputs": [],
   "source": [
    "import numpy as np\n",
    "\n",
    "temperature, volume, pressure = np.loadtxt('ideal_gas_rows.txt')"
   ]
  },
  {
   "cell_type": "code",
   "execution_count": 59,
   "metadata": {},
   "outputs": [
    {
     "data": {
      "text/plain": [
       "(array([ 200.,  600., 1000., 1400., 1800.]),\n",
       " array([0.8, 0.2, 1. , 0.6, 0.1]),\n",
       " array([  5020.,  60370.,  20110.,  46940., 362160.]))"
      ]
     },
     "execution_count": 59,
     "metadata": {},
     "output_type": "execute_result"
    }
   ],
   "source": [
    "temperature, volume, pressure"
   ]
  },
  {
   "cell_type": "markdown",
   "metadata": {},
   "source": [
    "Let us look at our text file again:"
   ]
  },
  {
   "cell_type": "code",
   "execution_count": 60,
   "metadata": {},
   "outputs": [
    {
     "name": "stdout",
     "output_type": "stream",
     "text": [
      "# A text file with ideal gas information\r\n",
      "# The rows are temperature (K), volume (cubic meters), and pressure (Pa)\r\n",
      "200 600 1000 1400 1800\r\n",
      "0.8 0.2 1.0 0.6 0.1\r\n",
      "5020 60370 20110 46940 362160"
     ]
    }
   ],
   "source": [
    "!cat ideal_gas_rows.txt"
   ]
  },
  {
   "cell_type": "markdown",
   "metadata": {},
   "source": [
    "When we were using built-in Python to read the file, we needed to remember that our data started on line 3.\n",
    "Using `numpy` we have been able to automatically skip the first two lines, which both start with `#`.\n",
    "\n",
    "'loadtxt' takes an optional 'comments' argument that specifies characters or a list of characters that indicate the start of a comment. The default value is `#`, and so lines in our file that start with `#` are ignored, by default."
   ]
  },
  {
   "cell_type": "markdown",
   "metadata": {},
   "source": [
    "Quite often, data are recorded in text files as **columns** rather than **rows**, e.g.,\n",
    "\n",
    "```\n",
    "# A text file with columnar ideal gas information\n",
    "# temperature (K) volume (cubic meters) pressure (Pa)\n",
    "200 0.8 5020\n",
    "600 0.2 60370\n",
    "1000 1.0 20110\n",
    "1400 0.6 46940\n",
    "1800 0.1 362160\n",
    "```\n",
    "\n",
    "`loadtxt` can read columnwise data if we set an additional **keyword argument**, `unpack=True`:"
   ]
  },
  {
   "cell_type": "code",
   "execution_count": 63,
   "metadata": {},
   "outputs": [
    {
     "data": {
      "text/plain": [
       "(array([ 200.,  600., 1000., 1400., 1800.]),\n",
       " array([0.8, 0.2, 1. , 0.6, 0.1]),\n",
       " array([  5020.,  60370.,  20110.,  46940., 362160.]))"
      ]
     },
     "execution_count": 63,
     "metadata": {},
     "output_type": "execute_result"
    }
   ],
   "source": [
    "temperature, volume, pressure = np.loadtxt('ideal_gas_cols.txt', unpack=True)\n",
    "\n",
    "temperature, volume, pressure"
   ]
  },
  {
   "cell_type": "markdown",
   "metadata": {},
   "source": [
    "## `.csv` files\n",
    "\n",
    "`.csv` files (Comma Separated Values) are extremely common output data files for experimental equipment, and are a standard export format forspreadsheet software such as Excel.\n",
    "\n",
    "`.csv` files are plain text files, like the examples above, but use commas, rather than whitespace (spaces or tabs) to separate values in a row (hence the name).\n",
    "\n",
    "A `.csv` format version of the columnwise file above might look like:\n",
    "\n",
    "```\n",
    "# A csv file with columnar ideal gas information\n",
    "# temperature (K) volume (cubic meters) pressure (Pa)\n",
    "200, 0.8, 5020\n",
    "600, 0.2, 60370\n",
    "1000, 1.0, 20110\n",
    "1400, 0.6, 46940\n",
    "1800, 0.1, 362160\n",
    "```"
   ]
  },
  {
   "cell_type": "markdown",
   "metadata": {},
   "source": [
    "We can read `.csv` files using `loadtxt` by providing another **keyword arugment** to specify the \"delimiter\"; i.e., the character that separates values in a row."
   ]
  },
  {
   "cell_type": "code",
   "execution_count": 65,
   "metadata": {},
   "outputs": [
    {
     "data": {
      "text/plain": [
       "(array([ 200.,  600., 1000., 1400., 1800.]),\n",
       " array([0.8, 0.2, 1. , 0.6, 0.1]),\n",
       " array([  5020.,  60370.,  20110.,  46940., 362160.]))"
      ]
     },
     "execution_count": 65,
     "metadata": {},
     "output_type": "execute_result"
    }
   ],
   "source": [
    "temperature, volume, pressure = np.loadtxt('ideal_gas_cols.csv', unpack=True, delimiter=',')\n",
    "temperature, volume, pressure"
   ]
  }
 ],
 "metadata": {
  "kernelspec": {
   "display_name": "Python 3 (ipykernel)",
   "language": "python",
   "name": "python3"
  },
  "language_info": {
   "codemirror_mode": {
    "name": "ipython",
    "version": 3
   },
   "file_extension": ".py",
   "mimetype": "text/x-python",
   "name": "python",
   "nbconvert_exporter": "python",
   "pygments_lexer": "ipython3",
   "version": "3.11.1"
  }
 },
 "nbformat": 4,
 "nbformat_minor": 4
}
