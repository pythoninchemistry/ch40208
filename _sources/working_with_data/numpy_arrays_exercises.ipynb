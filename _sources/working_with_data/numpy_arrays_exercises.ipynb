{
 "cells": [
  {
   "cell_type": "markdown",
   "metadata": {},
   "source": [
    "# Exercises\n",
    "\n",
    "The first exercise is to use the `mass_numbers` and `isotopic abundences` array included in the course text to find the average mass number of tin. "
   ]
  },
  {
   "cell_type": "code",
   "execution_count": 1,
   "metadata": {},
   "outputs": [],
   "source": [
    "import numpy as np"
   ]
  },
  {
   "cell_type": "code",
   "execution_count": 2,
   "metadata": {
    "scrolled": true
   },
   "outputs": [],
   "source": [
    "mass_numbers = np.array([112, 114, 115, 116, 117, 118, 119, 120, 122, 124])\n",
    "isotopic_abundances = np.array([0.0097, 0.0066, 0.0034, 0.1454, 0.0768, 0.2422, 0.0859, 0.3258, 0.0463, 0.0579])"
   ]
  },
  {
   "cell_type": "markdown",
   "metadata": {},
   "source": [
    "We can find the average mass number in single line with NumPy"
   ]
  },
  {
   "cell_type": "code",
   "execution_count": 3,
   "metadata": {},
   "outputs": [
    {
     "data": {
      "text/plain": [
       "118.80769999999998"
      ]
     },
     "execution_count": 3,
     "metadata": {},
     "output_type": "execute_result"
    }
   ],
   "source": [
    "np.sum(mass_numbers * isotopic_abundances)"
   ]
  },
  {
   "cell_type": "markdown",
   "metadata": {},
   "source": [
    "The second exercise is returning to the distance evaluations investigated previously. "
   ]
  },
  {
   "cell_type": "code",
   "execution_count": 4,
   "metadata": {},
   "outputs": [],
   "source": [
    "atom_1 = [0.1, 0.5, 3.2]\n",
    "atom_2 = [0.4, 0.5, 2.3]\n",
    "atom_3 = [-0.3, 0.3, 1.7]"
   ]
  },
  {
   "cell_type": "markdown",
   "metadata": {},
   "source": [
    "We will use the same nested loops arrangement as previously, but harness NumPy to make the mathematics more simple to read/write. "
   ]
  },
  {
   "cell_type": "code",
   "execution_count": 5,
   "metadata": {},
   "outputs": [
    {
     "name": "stdout",
     "output_type": "stream",
     "text": [
      "[0.9486832980505141, 1.5652475842498532, 0.9433981132056602]\n"
     ]
    }
   ],
   "source": [
    "distances = []\n",
    "\n",
    "atoms = np.array([atom_1, atom_2, atom_3])\n",
    "for i, a_i in enumerate(atoms):\n",
    "    for a_j in atoms[i+1:]:\n",
    "        distances.append(np.sqrt(np.sum((a_i - a_j) ** 2)))\n",
    "        \n",
    "print(distances)"
   ]
  },
  {
   "cell_type": "markdown",
   "metadata": {},
   "source": [
    "The vector operations in NumPy mean the distance evaluation can be achieved without the inner most loop."
   ]
  }
 ],
 "metadata": {
  "kernelspec": {
   "display_name": "Python 3",
   "language": "python",
   "name": "python3"
  },
  "language_info": {
   "codemirror_mode": {
    "name": "ipython",
    "version": 3
   },
   "file_extension": ".py",
   "mimetype": "text/x-python",
   "name": "python",
   "nbconvert_exporter": "python",
   "pygments_lexer": "ipython3",
   "version": "3.8.3"
  }
 },
 "nbformat": 4,
 "nbformat_minor": 4
}
