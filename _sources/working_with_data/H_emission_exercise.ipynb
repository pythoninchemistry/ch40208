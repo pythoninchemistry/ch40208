{
 "cells": [
  {
   "cell_type": "markdown",
   "id": "4e033373-e13c-4422-8c5d-0a628ad67568",
   "metadata": {},
   "source": [
    "# Modelling the Hydrogen Emission Spectrum\n",
    "\n",
    "<center><img src='https://github.com/pythoninchemistry/ch40208/raw/main/CH40208/working_with_data/images/H_emission_calculated.png' width='85%' /></center>"
   ]
  },
  {
   "cell_type": "markdown",
   "id": "c0c5fd2b-a250-4a55-a336-38dc99f78028",
   "metadata": {},
   "source": [
    "## 1.\n",
    "\n",
    "The electronic states of atomic hydrogen have energies\n",
    "\n",
    "$$E_n = -\\frac{1}{n}R_\\mathrm{H}hc$$\n",
    "\n",
    "where $n$ is the principal quantum number for each energy level, $R_\\mathrm{H}$ is the Rydberg constant, $h$ is Planck's constant, and $c$ is the speed of light."
   ]
  },
  {
   "cell_type": "markdown",
   "id": "0657fc93-0124-4d17-8a5c-d7f4e47a4f79",
   "metadata": {},
   "source": [
    "Write a function to calculate the energy of the $n$<sup>th</sup> electronic energy level of hydrogen, and calculate the energies for $n$=1, 2, 3, 4, 5."
   ]
  },
  {
   "cell_type": "markdown",
   "id": "6c994b30-56a8-44f9-b9de-807961145fa3",
   "metadata": {},
   "source": [
    "````{note}\n",
    "You can access a large number of physical constants using the `constants` sub-module of `scipy`.\n",
    "\n",
    "Values for the Rydberg constant, Planck's constant, and the speed of light can be imported using\n",
    "```python\n",
    "from scipy.constants import Rydberg, h, c\n",
    "```\n",
    "````"
   ]
  },
  {
   "cell_type": "markdown",
   "id": "9dcf67cb-c79e-4922-adb9-ea70470f9ad6",
   "metadata": {},
   "source": [
    "## 2. \n",
    "The emission spectrum of atomic hydrogen is described by Rydberg's formula, which relates the energy difference between atomic levels to the wavelength of absorbed or emitted photons:\n",
    "\n",
    "$$\n",
    "\\frac{1}{\\lambda} = R_\\mathrm{H}\\left(\\frac{1}{n_1^2}-\\frac{1}{n_2^2}\\right)\n",
    "$$"
   ]
  },
  {
   "cell_type": "markdown",
   "id": "f5f3cb9c-92e9-462e-9a95-c4a3e0ed95a2",
   "metadata": {},
   "source": [
    "(a) Write a function that takes two arguments, $n_1$ and $n_2$, and returns the corresponding emission wavelength.\n",
    "\n",
    "The Lyman, Balmer, and Paschen series correspond to spectral lines for transitions with $n_1$ = 1, $n_1$ = 2, and $n_1$ = 3, respectively.\n",
    "\n",
    "<center><img src='https://github.com/pythoninchemistry/ch40208/raw/main/CH40208/working_with_data/images/H_emission.png' width='50%' /></center>"
   ]
  },
  {
   "cell_type": "markdown",
   "id": "00e6a888-8490-452f-aa4c-0246a4423183",
   "metadata": {},
   "source": [
    "(b) Use your function to calculate the wavelengths of the first lines in the Lyman, Balmer, and Paschen series.\n",
    "\n",
    "(c) Next, use a `for` loop to print the wavelenghts (in nanometers) of the first 10 lines of the Balmer series.\n",
    "\n",
    "(d) Add one additional loop so that your code prints the wavelengths of the first 10 lines in the Lyman, Balmer, and Paschen series.\n",
    "\n",
    "(e) Add some logic to your code so that, rather than printing each wavelength to the screen, the calculated wavelengths are stored in three corresponding lists called `lyman`, `balmer`, and `paschen`, respectively.\n",
    "\n",
    "(f) Plot your calculated wavelengths as vertical lines at their corresponding wavelengths using `plt.vlines()`([docs](https://matplotlib.org/stable/api/_as_gen/matplotlib.pyplot.vlines.html))). Colour lines from the Lyman series pink, from the Balmer series blue, and from the Paschen series green. Give your plot suitable axes labels and a legend.\n",
    "\n",
    "(g) Export your image to a file using `plt.savefig('H_emission.pdf', bbox_inches='tight')`.\n",
    "\n",
    "```{note}\n",
    "To save a file to an image, you must call `plt.savefig()` *before* `plt.show()`. `plt.show()` clears the most recent image, so if you call `plt.savefig()` second, you will only create a blank image.\n",
    "```\n",
    "\n"
   ]
  },
  {
   "cell_type": "markdown",
   "id": "dcf97773-58c0-4534-8445-acfd0f302db8",
   "metadata": {},
   "source": []
  },
  {
   "cell_type": "code",
   "execution_count": null,
   "id": "0d5a13c2-abe7-4876-90eb-d93d2f58afd5",
   "metadata": {},
   "outputs": [],
   "source": []
  }
 ],
 "metadata": {
  "kernelspec": {
   "display_name": "Python 3 (ipykernel)",
   "language": "python",
   "name": "python3"
  },
  "language_info": {
   "codemirror_mode": {
    "name": "ipython",
    "version": 3
   },
   "file_extension": ".py",
   "mimetype": "text/x-python",
   "name": "python",
   "nbconvert_exporter": "python",
   "pygments_lexer": "ipython3",
   "version": "3.11.10"
  }
 },
 "nbformat": 4,
 "nbformat_minor": 5
}
