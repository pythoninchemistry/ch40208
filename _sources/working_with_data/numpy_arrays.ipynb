{
 "cells": [
  {
   "cell_type": "markdown",
   "metadata": {},
   "source": [
    "# NumPy\n",
    "\n",
    "\n",
    "\n",
    "NumPy (Numerical Python) is a fundamental package for scientific computing in Python. NumPy provides support for large, multi-dimensional arrays and matrices, along with a vast collection of high-level mathematical functions to operate on these arrays efficiently.\n",
    "\n",
    "Using NumPy makes working with numerical data much easier and quicker than performing the same operations using only with the Python standard library (e.g., storing and manipulating data using lists).\n",
    "\n",
    "As an example of how NumPy can make data analysis much simpler, let us consider the following example data analysis problem:"
   ]
  },
  {
   "cell_type": "markdown",
   "metadata": {},
   "source": [
    "Imagine we have performed a series of experimental measurements and want to report our results as (mean ± standard error).\n",
    "\n",
    "\n",
    "For data $x$, the mean, $\\bar{x}$, and standard error, $\\delta \\bar{x}$, are given by:\n",
    "\n",
    "$$\n",
    "\\bar{x} = \\frac{1}{N}\\sum_i x_i\n",
    "$$\n",
    "\n",
    "$$\n",
    "\\sigma_N = \\sqrt{\\frac{1}{N}\\sum_i\\left(x_i - \\bar{x}\\right)^2}\n",
    "$$\n",
    "\n",
    "$$\n",
    "\\delta \\bar{x} = \\frac{\\sigma_{N-1}}{\\sqrt{N}}\n",
    "$$\n",
    "\n",
    "If we are only using the Python standard library, we might store our data as a list, and then write two functions `mean()` and `std_dev()` to calculate the mean and standard deviation, respectively. For example,"
   ]
  },
  {
   "cell_type": "code",
   "execution_count": 1,
   "metadata": {},
   "outputs": [
    {
     "name": "stdout",
     "output_type": "stream",
     "text": [
      "mean = 1.00024 ± 0.0010171528891961034\n"
     ]
    }
   ],
   "source": [
    "import math\n",
    "\n",
    "def mean(data):\n",
    "    \"\"\"Calculate the mean of a dataset.\n",
    "    \n",
    "    Args:\n",
    "        data (list(float)): The numerical data.\n",
    "        \n",
    "    Returns:\n",
    "        float\n",
    "        \n",
    "    \"\"\"\n",
    "    return sum(data)/len(data)\n",
    "\n",
    "def std_dev(data, ddof=0):\n",
    "    \"\"\"Calculate the standard deviation of a dataset.\n",
    "    \n",
    "    Args:\n",
    "        data (list(float)): The numerical data.\n",
    "        ddof (int): to adjust for bias in limited samples\n",
    "                    relative to the population estimate of variance.\n",
    "                    Default is 0.\n",
    "                    \n",
    "    Returns:\n",
    "        float\n",
    "        \n",
    "    \"\"\"\n",
    "    x_mean = mean(data)\n",
    "    return math.sqrt(sum([(x - x_mean)**2 for x in data])/(len(data)-ddof))\n",
    "\n",
    "data = [1.0026, 1.0019, 0.9972, 0.9986, 1.0009]\n",
    "\n",
    "x_bar = mean(data)\n",
    "delta_x_bar = std_dev(data, ddof=1) / math.sqrt(len(data))\n",
    "\n",
    "print(f'mean = {x_bar} ± {delta_x_bar}')"
   ]
  },
  {
   "cell_type": "markdown",
   "metadata": {},
   "source": [
    "Alternatively, the same calculation using NumPy looks like"
   ]
  },
  {
   "cell_type": "code",
   "execution_count": 2,
   "metadata": {},
   "outputs": [
    {
     "name": "stdout",
     "output_type": "stream",
     "text": [
      "mean = 1.00024 ± 0.0010171528891961034\n"
     ]
    }
   ],
   "source": [
    "import numpy as np\n",
    "\n",
    "data = np.array([1.0026, 1.0019, 0.9972, 0.9986, 1.0009])\n",
    "\n",
    "x_bar = data.mean()\n",
    "delta_x_bar = data.std(ddof=1) / np.sqrt(len(data))\n",
    "\n",
    "print(f'mean = {x_bar} ± {delta_x_bar}')"
   ]
  },
  {
   "cell_type": "markdown",
   "metadata": {},
   "source": [
    "Now our code is much shorter, which makes it is quicker to write and easier read. We have avoided having to write our own `mean()` and `std_dev()` functions, which means less opportunity for bugs. And, if we are working with large datasets, the NumPy version runs significantly faster."
   ]
  },
  {
   "cell_type": "code",
   "execution_count": 3,
   "metadata": {},
   "outputs": [],
   "source": [
    "data = np.random.random(10000) # generate 10,000 random numbers between 0 and 1."
   ]
  },
  {
   "cell_type": "markdown",
   "metadata": {},
   "source": [
    "````{margin}\n",
    "```{note}\n",
    "The `%%timeit` command is not Python, but is a so-called &ldquo;magic&rdquo; command build into the Jupyter Notebook application. Jupyter Notebooks provide several &ldquo;magic&rdquo; commands that are always prefixed by one or more percent signs `%`. The `%%timeit` command here runs the cell it is entered in multiple times and then reports the mean time the cell took to run, ± the standard deviation.\n",
    "```\n",
    "````"
   ]
  },
  {
   "cell_type": "code",
   "execution_count": 4,
   "metadata": {},
   "outputs": [
    {
     "name": "stdout",
     "output_type": "stream",
     "text": [
      "2.05 ms ± 133 µs per loop (mean ± std. dev. of 7 runs, 100 loops each)\n"
     ]
    }
   ],
   "source": [
    "%%timeit\n",
    "\n",
    "x_bar = mean(data)\n",
    "delta_x_bar = std_dev(data, ddof=1) / math.sqrt(len(data))"
   ]
  },
  {
   "cell_type": "code",
   "execution_count": 5,
   "metadata": {},
   "outputs": [
    {
     "name": "stdout",
     "output_type": "stream",
     "text": [
      "17.9 µs ± 114 ns per loop (mean ± std. dev. of 7 runs, 100,000 loops each)\n"
     ]
    }
   ],
   "source": [
    "%%timeit\n",
    "\n",
    "x_bar = data.mean()\n",
    "delta_x_bar = data.std(ddof=1) / np.sqrt(len(data))"
   ]
  },
  {
   "cell_type": "markdown",
   "metadata": {},
   "source": [
    "Let us return to our NumPy code:\n",
    "\n",
    "```python\n",
    "import numpy as np\n",
    "\n",
    "data = np.array([1.0026, 1.0019, 0.9972, 0.9986, 1.0009])\n",
    "\n",
    "x_bar = data.mean()\n",
    "delta_x_bar = data.std(ddof=1) / np.sqrt(len(data))\n",
    "\n",
    "print(f'mean = {x_bar} ± {delta_x_bar}')\n",
    "```"
   ]
  },
  {
   "cell_type": "markdown",
   "metadata": {},
   "source": [
    "NumPy is not part of the Python standard library, which means it must be imported before use.\n",
    "\n",
    "The `import` statement in the code above is slightly different to those we have encountered before. Rather than just writing `import numpy` we have `import numpy as np`. The `as` keyword allows us to assign `numpy` and all of its functions to the variable name `np`.\n",
    "\n",
    "These two pieces of code are equivalent:"
   ]
  },
  {
   "cell_type": "code",
   "execution_count": 6,
   "metadata": {},
   "outputs": [
    {
     "name": "stdout",
     "output_type": "stream",
     "text": [
      "1.00024\n"
     ]
    }
   ],
   "source": [
    "import numpy\n",
    "\n",
    "data = numpy.array([1.0026, 1.0019, 0.9972, 0.9986, 1.0009])\n",
    "\n",
    "print(data.mean())"
   ]
  },
  {
   "cell_type": "code",
   "execution_count": 7,
   "metadata": {},
   "outputs": [
    {
     "name": "stdout",
     "output_type": "stream",
     "text": [
      "1.00024\n"
     ]
    }
   ],
   "source": [
    "import numpy as np\n",
    "\n",
    "data = np.array([1.0026, 1.0019, 0.9972, 0.9986, 1.0009])\n",
    "\n",
    "print(data.mean())"
   ]
  },
  {
   "cell_type": "markdown",
   "metadata": {},
   "source": [
    "## NumPy Arrays\n",
    "\n",
    "NumPy provides its own data type, called the NumPy **array**. We create a NumPy array similarly to how we create a `list`, using the `np.array()` function:"
   ]
  },
  {
   "cell_type": "code",
   "execution_count": 8,
   "metadata": {},
   "outputs": [],
   "source": [
    "data = np.array([1.0026, 1.0019, 0.9972, 0.9986, 1.0009])"
   ]
  },
  {
   "cell_type": "markdown",
   "metadata": {},
   "source": [
    "This can then be indexed in the same way as a `list`:"
   ]
  },
  {
   "cell_type": "code",
   "execution_count": 9,
   "metadata": {},
   "outputs": [
    {
     "data": {
      "text/plain": [
       "array([0.9972, 0.9986, 1.0009])"
      ]
     },
     "execution_count": 9,
     "metadata": {},
     "output_type": "execute_result"
    }
   ],
   "source": [
    "data[2:5]"
   ]
  },
  {
   "cell_type": "code",
   "execution_count": 10,
   "metadata": {},
   "outputs": [
    {
     "data": {
      "text/plain": [
       "array([1.0009, 0.9986, 0.9972, 1.0019, 1.0026])"
      ]
     },
     "execution_count": 10,
     "metadata": {},
     "output_type": "execute_result"
    }
   ],
   "source": [
    "data[::-1]"
   ]
  },
  {
   "cell_type": "markdown",
   "metadata": {},
   "source": [
    "NumPy arrays can only contain data of the same type, in contrast to `lists`, which can contain data of different types.\n",
    "\n",
    "Trying to create a NumPy array that contains data of different types will either cause an error, or your data will be converted to a single consistent type (which probably is not what you wanted to happen)."
   ]
  },
  {
   "cell_type": "code",
   "execution_count": 11,
   "metadata": {},
   "outputs": [
    {
     "name": "stdout",
     "output_type": "stream",
     "text": [
      "['yellow', 43.0, False]\n"
     ]
    }
   ],
   "source": [
    "my_list = ['yellow', 43.0, False]\n",
    "print(my_list)"
   ]
  },
  {
   "cell_type": "code",
   "execution_count": 12,
   "metadata": {},
   "outputs": [
    {
     "name": "stdout",
     "output_type": "stream",
     "text": [
      "['yellow' '43.0' 'False']\n"
     ]
    }
   ],
   "source": [
    "my_array = np.array(['yellow', 43.0, False])\n",
    "print(my_array)"
   ]
  },
  {
   "cell_type": "markdown",
   "metadata": {},
   "source": [
    "NumPy arrays can be created from `lists`:"
   ]
  },
  {
   "cell_type": "code",
   "execution_count": 13,
   "metadata": {},
   "outputs": [
    {
     "data": {
      "text/plain": [
       "array([1.0026, 1.0019, 0.9972, 0.9986, 1.0009])"
      ]
     },
     "execution_count": 13,
     "metadata": {},
     "output_type": "execute_result"
    }
   ],
   "source": [
    "data = [1.0026, 1.0019, 0.9972, 0.9986, 1.0009] # this is a list\n",
    "data_array = np.array(data) # create a NumPy array from our list\n",
    "data_array"
   ]
  },
  {
   "cell_type": "markdown",
   "metadata": {},
   "source": [
    "NumPy arrays can also have more than one dimension, which makes them useful for representing multidimensional datasets, or mathematical objects like matrices."
   ]
  },
  {
   "cell_type": "code",
   "execution_count": 14,
   "metadata": {},
   "outputs": [
    {
     "data": {
      "text/plain": [
       "array([[ 1. ,  2. ,  0. ],\n",
       "       [ 1. ,  3. ,  4. ],\n",
       "       [-2. ,  0.5,  1. ]])"
      ]
     },
     "execution_count": 14,
     "metadata": {},
     "output_type": "execute_result"
    }
   ],
   "source": [
    "A = np.array([[1, 2, 0], [1, 3, 4], [-2, 0.5, 1]])\n",
    "A"
   ]
  },
  {
   "cell_type": "markdown",
   "metadata": {},
   "source": [
    "Individual elements, or slices, of a N-dimensional NumPy array can be referenced using the same syntax as for nested lists. For example, `A[1]` gives the second &ldquo;row&rdquo; of this two-dimensional array:"
   ]
  },
  {
   "cell_type": "code",
   "execution_count": 15,
   "metadata": {},
   "outputs": [
    {
     "data": {
      "text/plain": [
       "array([1., 3., 4.])"
      ]
     },
     "execution_count": 15,
     "metadata": {},
     "output_type": "execute_result"
    }
   ],
   "source": [
    "A[1] # second row"
   ]
  },
  {
   "cell_type": "markdown",
   "metadata": {},
   "source": [
    "which we can then also slice:"
   ]
  },
  {
   "cell_type": "code",
   "execution_count": 16,
   "metadata": {},
   "outputs": [
    {
     "data": {
      "text/plain": [
       "4.0"
      ]
     },
     "execution_count": 16,
     "metadata": {},
     "output_type": "execute_result"
    }
   ],
   "source": [
    "A[1][2] # second row, third element"
   ]
  },
  {
   "cell_type": "markdown",
   "metadata": {},
   "source": [
    "NumPy also allows a more compact N-dimensional index notation, using comma-separated values:"
   ]
  },
  {
   "cell_type": "code",
   "execution_count": 17,
   "metadata": {},
   "outputs": [
    {
     "data": {
      "text/plain": [
       "4.0"
      ]
     },
     "execution_count": 17,
     "metadata": {},
     "output_type": "execute_result"
    }
   ],
   "source": [
    "A[1,2] # second row, third column"
   ]
  },
  {
   "cell_type": "code",
   "execution_count": 18,
   "metadata": {},
   "outputs": [
    {
     "data": {
      "text/plain": [
       "array([0.5, 1. ])"
      ]
     },
     "execution_count": 18,
     "metadata": {},
     "output_type": "execute_result"
    }
   ],
   "source": [
    "A[-1,1:] # last row, everything from the second column to the end"
   ]
  },
  {
   "cell_type": "markdown",
   "metadata": {},
   "source": [
    "## Vector Arithmetic\n",
    "\n",
    "The fact that NumPy arrays are all of a same type means that it is possible to perform arthmetic on them. \n",
    "For example, all of the items in an array can be multipled by a single value. "
   ]
  },
  {
   "cell_type": "code",
   "execution_count": 19,
   "metadata": {},
   "outputs": [
    {
     "name": "stdout",
     "output_type": "stream",
     "text": [
      "[ 1  9 17 22 45 68]\n"
     ]
    }
   ],
   "source": [
    "list_of_numbers = [1, 9, 17, 22, 45, 68]\n",
    "\n",
    "array_of_numbers = np.array(list_of_numbers)\n",
    "\n",
    "print(array_of_numbers)"
   ]
  },
  {
   "cell_type": "markdown",
   "metadata": {},
   "source": [
    "If we `print` a NumPy array, it looks much list a list. NumPy arrays, however, allow us to perform **vector arithmetic** where we perform the same operation on every element of an array, or on every pair of elements from two arrays."
   ]
  },
  {
   "cell_type": "code",
   "execution_count": 20,
   "metadata": {},
   "outputs": [
    {
     "data": {
      "text/plain": [
       "array([ 1,  9, 17, 22, 45, 68])"
      ]
     },
     "execution_count": 20,
     "metadata": {},
     "output_type": "execute_result"
    }
   ],
   "source": [
    "array_of_numbers"
   ]
  },
  {
   "cell_type": "code",
   "execution_count": 21,
   "metadata": {},
   "outputs": [
    {
     "data": {
      "text/plain": [
       "array([  2,  18,  34,  44,  90, 136])"
      ]
     },
     "execution_count": 21,
     "metadata": {},
     "output_type": "execute_result"
    }
   ],
   "source": [
    "array_of_numbers * 2"
   ]
  },
  {
   "cell_type": "code",
   "execution_count": 22,
   "metadata": {},
   "outputs": [
    {
     "data": {
      "text/plain": [
       "array([11, 19, 27, 32, 55, 78])"
      ]
     },
     "execution_count": 22,
     "metadata": {},
     "output_type": "execute_result"
    }
   ],
   "source": [
    "array_of_numbers + 10"
   ]
  },
  {
   "cell_type": "markdown",
   "metadata": {},
   "source": [
    "Using the standard mathematical operators such as `*` and `+` allows us to operate simultaneously on all elements of the array. If we run `array_of_numbers * 2`, we multiply every element of array_of_numbers by 2."
   ]
  },
  {
   "cell_type": "markdown",
   "metadata": {},
   "source": [
    "We can also add, subtract, divide and multiply arrays together. Each of these operations is carried out element-wise:"
   ]
  },
  {
   "cell_type": "code",
   "execution_count": 23,
   "metadata": {},
   "outputs": [
    {
     "name": "stdout",
     "output_type": "stream",
     "text": [
      "We can add arrays together: [4 6 9]\n",
      "Take them away from one another: [-2  4  5]\n",
      "Multiply them together: [ 3  5 14]\n",
      "Divide one by the other: [0.33333333 5.         3.5       ]\n"
     ]
    }
   ],
   "source": [
    "array_1 = np.array([1, 5, 7])\n",
    "array_2 = np.array([3, 1, 2])\n",
    "\n",
    "print(f'We can add arrays together: {array_1 + array_2}')\n",
    "print(f'Take them away from one another: {array_1 - array_2}')\n",
    "print(f'Multiply them together: {array_1 * array_2}')\n",
    "print(f'Divide one by the other: {array_1 / array_2}')"
   ]
  },
  {
   "cell_type": "code",
   "execution_count": 24,
   "metadata": {},
   "outputs": [
    {
     "name": "stdout",
     "output_type": "stream",
     "text": [
      "[1 5 7]\n",
      "[3 1 2]\n",
      "-------\n",
      "[4 6 9]\n"
     ]
    }
   ],
   "source": [
    "array_3 = array_1 + array_2\n",
    "\n",
    "print(array_1)\n",
    "print(array_2)\n",
    "print('-------')\n",
    "print(array_3)"
   ]
  },
  {
   "cell_type": "markdown",
   "metadata": {},
   "source": [
    "Here, the first element of `array_3` is the sum of the first element of `array_1` and the first element of `array_2`. The second element of `array_3` is the sum of the second element of `array_1` and the second element of `array_2`. And the third element of `array_3` is the sum of the third element of `array_1` and the third element of `array_3`.\n",
    "\n",
    "This is precisely how **vector addition** works, hence the term **vector arithmetic**.\n",
    "\n",
    "$$\n",
    "\\begin{bmatrix}\n",
    "a_1 \\\\\n",
    "a_2 \\\\\n",
    "\\vdots \\\\\n",
    "a_N\n",
    "\\end{bmatrix}\n",
    "+\n",
    "\\begin{bmatrix}\n",
    "b_1 \\\\\n",
    "b_2 \\\\\n",
    "\\vdots \\\\\n",
    "b_N\n",
    "\\end{bmatrix}\n",
    "=\n",
    "\\begin{bmatrix}\n",
    "a_1 + b_1 \\\\\n",
    "a_2 + b_2 \\\\\n",
    "\\vdots \\\\\n",
    "a_N + b_N\n",
    "\\end{bmatrix}.\n",
    "$$"
   ]
  },
  {
   "cell_type": "markdown",
   "metadata": {},
   "source": [
    "Note how much simpler elementwise arithmetic is using NumPy arrays than with lists:"
   ]
  },
  {
   "cell_type": "code",
   "execution_count": 25,
   "metadata": {},
   "outputs": [
    {
     "data": {
      "text/plain": [
       "array([4, 6, 9])"
      ]
     },
     "execution_count": 25,
     "metadata": {},
     "output_type": "execute_result"
    }
   ],
   "source": [
    "array_1 = np.array([1, 5, 7])\n",
    "array_2 = np.array([3, 1, 2])\n",
    "\n",
    "array_1 + array_2"
   ]
  },
  {
   "cell_type": "code",
   "execution_count": 26,
   "metadata": {},
   "outputs": [
    {
     "data": {
      "text/plain": [
       "[4, 6, 9]"
      ]
     },
     "execution_count": 26,
     "metadata": {},
     "output_type": "execute_result"
    }
   ],
   "source": [
    "list_1 = [1, 5, 7]\n",
    "list_2 = [3, 1, 2]\n",
    "\n",
    "[a + b for a, b in zip(list_1, list_2)]"
   ]
  },
  {
   "cell_type": "markdown",
   "metadata": {},
   "source": [
    "## More `numpy` Functions\n",
    "\n",
    "Aside from the array function, numpy also provides us with many more useful functions that are well worth being aware of.\n",
    "\n",
    "Previously, we learnt about the `math` library, which gives us access to various mathematical functions that go beyond the simple operators available as part of the Python standard library, such as `+` or `/`:"
   ]
  },
  {
   "cell_type": "code",
   "execution_count": 27,
   "metadata": {},
   "outputs": [
    {
     "data": {
      "text/plain": [
       "0.6931471805599453"
      ]
     },
     "execution_count": 27,
     "metadata": {},
     "output_type": "execute_result"
    }
   ],
   "source": [
    "import math\n",
    "\n",
    "math.log(2)"
   ]
  },
  {
   "cell_type": "markdown",
   "metadata": {},
   "source": [
    "The `math` functions are designed for `int` and `float` objects; they do not work with data structures such as a `list`:"
   ]
  },
  {
   "cell_type": "code",
   "execution_count": 28,
   "metadata": {},
   "outputs": [
    {
     "ename": "TypeError",
     "evalue": "must be real number, not list",
     "output_type": "error",
     "traceback": [
      "\u001b[0;31m---------------------------------------------------------------------------\u001b[0m",
      "\u001b[0;31mTypeError\u001b[0m                                 Traceback (most recent call last)",
      "Cell \u001b[0;32mIn[28], line 3\u001b[0m\n\u001b[1;32m      1\u001b[0m numbers \u001b[38;5;241m=\u001b[39m [\u001b[38;5;241m1\u001b[39m, \u001b[38;5;241m2\u001b[39m, \u001b[38;5;241m3\u001b[39m, \u001b[38;5;241m4\u001b[39m, \u001b[38;5;241m5\u001b[39m]\n\u001b[0;32m----> 3\u001b[0m \u001b[43mmath\u001b[49m\u001b[38;5;241;43m.\u001b[39;49m\u001b[43mlog\u001b[49m\u001b[43m(\u001b[49m\u001b[43mnumbers\u001b[49m\u001b[43m)\u001b[49m\n",
      "\u001b[0;31mTypeError\u001b[0m: must be real number, not list"
     ]
    }
   ],
   "source": [
    "numbers = [1, 2, 3, 4, 5]\n",
    "\n",
    "math.log(numbers)"
   ]
  },
  {
   "cell_type": "markdown",
   "metadata": {},
   "source": [
    "So, if we want to calculate the natural logarithm of every value in a list, we have to use a loop:"
   ]
  },
  {
   "cell_type": "code",
   "execution_count": null,
   "metadata": {},
   "outputs": [],
   "source": [
    "log_numbers = []\n",
    "for number in numbers:\n",
    "    log_numbers.append(math.log(number))\n",
    "\n",
    "log_numbers"
   ]
  },
  {
   "cell_type": "markdown",
   "metadata": {},
   "source": [
    "or a list comprehension:"
   ]
  },
  {
   "cell_type": "code",
   "execution_count": null,
   "metadata": {},
   "outputs": [],
   "source": [
    "log_numbers = [math.log(n) for n in numbers]\n",
    "\n",
    "log_numbers"
   ]
  },
  {
   "cell_type": "markdown",
   "metadata": {},
   "source": [
    "Using NumPy we can calculate these logarithms as a single vector operation using the NumPy natural logarithm function, `np.log()`:"
   ]
  },
  {
   "cell_type": "code",
   "execution_count": null,
   "metadata": {},
   "outputs": [],
   "source": [
    "numbers_array = np.array([1, 2, 3, 4, 5])\n",
    "\n",
    "np.log(numbers_array)"
   ]
  },
  {
   "cell_type": "markdown",
   "metadata": {},
   "source": [
    "To give another concrete example, let us say we want to take the exponential of a single number. We can do this with the `math` library:"
   ]
  },
  {
   "cell_type": "code",
   "execution_count": null,
   "metadata": {},
   "outputs": [],
   "source": [
    "math.exp(5)"
   ]
  },
  {
   "cell_type": "markdown",
   "metadata": {},
   "source": [
    "If we want to calculate the exponentials of multiple numbers, we have to write a loop (or a list comprehension), **or** we can use the NumPy version of the `exp()` function:"
   ]
  },
  {
   "cell_type": "code",
   "execution_count": null,
   "metadata": {},
   "outputs": [],
   "source": [
    "numbers = [1, 2, 3, 4, 5]\n",
    "\n",
    "np.exp(numbers)"
   ]
  },
  {
   "cell_type": "markdown",
   "metadata": {},
   "source": [
    "```note\n",
    "You may have noticed that in this example we passed a **list** into `np.exp()`. This is completely fine. NumPy functions take **array-like** objects as argument, i.e., lists or tuples, as well as NumPy arrays. The only requirement is that a list or tuple contains data of a single type. Note that `np.exp()` returns an array, irrespective of the type of the input data.\n",
    "```"
   ]
  },
  {
   "cell_type": "markdown",
   "metadata": {},
   "source": [
    "NumPy has an enormous number of useful functions and methods. Some that are particularly helpful to know about are:"
   ]
  },
  {
   "cell_type": "markdown",
   "metadata": {},
   "source": [
    "### `np.mean()`, `np.std()`, `np.sum()`"
   ]
  },
  {
   "cell_type": "code",
   "execution_count": 30,
   "metadata": {},
   "outputs": [
    {
     "name": "stdout",
     "output_type": "stream",
     "text": [
      "The mean = 192.66666666666666\n",
      "The sum = 1156\n",
      "The standard deviation = 19.913702708325125\n"
     ]
    }
   ],
   "source": [
    "example_array = np.array([200, 220, 198, 181, 201, 156])\n",
    "\n",
    "mean_of_example = np.mean(example_array)\n",
    "sum_of_example = np.sum(example_array)\n",
    "std_dev_of_example = np.std(example_array)\n",
    "\n",
    "print(f'The mean = {mean_of_example}')\n",
    "print(f'The sum = {sum_of_example}')\n",
    "print(f'The standard deviation = {std_dev_of_example}')"
   ]
  },
  {
   "cell_type": "markdown",
   "metadata": {},
   "source": [
    "These operations can also be written as **methods** of arrays:\n",
    "\n",
    "\n",
    "````{note}\n",
    "You can think of **methods** as functions that belong to specific variables. Calling the method for a particular object is equivalent to calling a function with that object as the first argument. So `my_array.mean()` is analogous to `np.mean(my_array)`.\n",
    "\n",
    "Like standard functions, methods can take zero or more arguments. For example, in our earlier calculation of standard error we passed the optional argument `ddof=1` to `np.std()` to account for us wanting $\\sigma_{N-1}$ instead of $\\sigma_N$.\n",
    "\n",
    "```python\n",
    "std_error = data.std(ddof=1) / np.sqrt(len(data))\n",
    "```\n",
    "\n",
    "Using conventional functions, we would write this as\n",
    "\n",
    "```python\n",
    "std_error = np.std(data, ddof=1) / np.sqrt(len(data))\n",
    "```\n",
    "````"
   ]
  },
  {
   "cell_type": "code",
   "execution_count": 29,
   "metadata": {},
   "outputs": [
    {
     "name": "stdout",
     "output_type": "stream",
     "text": [
      "The mean = 192.66666666666666\n",
      "The sum = 1156\n",
      "The standard deviation = 19.913702708325125\n"
     ]
    }
   ],
   "source": [
    "example_array = np.array([200, 220, 198, 181, 201, 156])\n",
    "\n",
    "mean_of_example = example_array.mean()\n",
    "sum_of_example = example_array.sum()\n",
    "std_dev_of_example = example_array.std()\n",
    "\n",
    "print(f'The mean = {mean_of_example}')\n",
    "print(f'The sum = {sum_of_example}')\n",
    "print(f'The standard deviation = {std_dev_of_example}')"
   ]
  },
  {
   "cell_type": "markdown",
   "metadata": {},
   "source": [
    "## Exercises: \n",
    "\n",
    "### Exercise 1\n",
    "\n",
    "The percentage abundances of the natural isotopes of tin are:\n",
    "\n",
    "<table border=\"1\" cellpadding=\"5\" cellspacing=\"0\">\n",
    "  <thead>\n",
    "    <tr>\n",
    "      <th>Mass</th>\n",
    "      <th>% Abundance</th>\n",
    "    </tr>\n",
    "  </thead>\n",
    "  <tbody>\n",
    "    <tr>\n",
    "      <td>112</td>\n",
    "      <td>0.0097</td>\n",
    "    </tr>\n",
    "    <tr>\n",
    "      <td>114</td>\n",
    "      <td>0.0066</td>\n",
    "    </tr>\n",
    "    <tr>\n",
    "      <td>115</td>\n",
    "      <td>0.0034</td>\n",
    "    </tr>\n",
    "    <tr>\n",
    "      <td>116</td>\n",
    "      <td>0.1454</td>\n",
    "    </tr>\n",
    "    <tr>\n",
    "      <td>117</td>\n",
    "      <td>0.0768</td>\n",
    "    </tr>\n",
    "    <tr>\n",
    "      <td>118</td>\n",
    "      <td>0.2422</td>\n",
    "    </tr>\n",
    "    <tr>\n",
    "      <td>119</td>\n",
    "      <td>0.0859</td>\n",
    "    </tr>\n",
    "    <tr>\n",
    "      <td>120</td>\n",
    "      <td>0.3258</td>\n",
    "    </tr>\n",
    "    <tr>\n",
    "      <td>122</td>\n",
    "      <td>0.0463</td>\n",
    "    </tr>\n",
    "    <tr>\n",
    "      <td>124</td>\n",
    "      <td>0.0579</td>\n",
    "    </tr>\n",
    "  </tbody>\n",
    "</table>\n",
    "\n",
    "Create two numpy arrays to store the mass and abundance data. Then use vector arithmetic to calculate the average (mean) mass of naturally occurring tin.\n",
    "\n",
    "### Exercise 2\n",
    "\n",
    "Rewrite or modify your code from the **Loops** Exercise to calculate the distances between each pair of atoms, using **numpy arrays** to store the atom positions, and **vector arithmetic** to calculate the vectors between pairs of atoms.\n",
    "\n",
    "#### Hints for Exercise 2\n",
    "\n",
    "If you are representing atom positions by vectors, $r_i$ and $r_j$ then the position of one atom relative to the other is given by $r_{ij} = r_j - r_i$ (or, by $r_{ji} = r_i - r_j$, depending on which relative position we want).\n",
    "\n",
    "The *distance* between atoms $i$ and $j$ is then the *magnitude* of this vector: $d_{ij} = |r_{ij}| = |r_{ji}|$.\n",
    "\n",
    "We can calculate this distance using Pythagoras's theorem:\n",
    "\n",
    "$$d_{ij} = \\sqrt{(r_{j}^x - r_i^x)^2 + (r_{j}^y - r_i^y)^2 + (r_{j}^z - r_i^z)^2}$$\n",
    "\n",
    "\n",
    "\n",
    "If we were storing our atom positions in length-3 lists, we might code this as\n",
    "```python\n",
    "distance = math.sqrt((r_j[0] - r_i[0])**2 + (r_j[1] - r_i[1])**2 + (r_j[2] - r_i[2])**2)\n",
    "```\n",
    "\n",
    "or (using a list comprehension)\n",
    "\n",
    "```python\n",
    "distance = math.sqrt(sum([(j - i)**2 for i, j in zip(r_i, r_j)]))\n",
    "```\n",
    "\n",
    "(check that you understand why and how these two lines of code perform the same calculation).\n",
    "\n",
    "But, remember that NumPy arrays allow us to perform operations on whole arrays or on pairs of arrays, without having to explicitly specify which elements we are operating on.\n",
    "\n",
    "### Exercise 3\n",
    "\n",
    "NumPy provides a range of useful functions for common algebraic operations, including an entire submodule for **linear algebra** (working with vectors and matrices).\n",
    "\n",
    "The length of a vector can be computed directly using `np.linalg.norm()`.\n",
    "\n",
    "i.e., these two calculations are equivalent"
   ]
  },
  {
   "cell_type": "code",
   "execution_count": 35,
   "metadata": {},
   "outputs": [
    {
     "name": "stdout",
     "output_type": "stream",
     "text": [
      "5.0\n"
     ]
    }
   ],
   "source": [
    "v = np.array([3.0,4.0])\n",
    "print(math.sqrt(v[0]**2 + v[1]**2))"
   ]
  },
  {
   "cell_type": "code",
   "execution_count": 36,
   "metadata": {},
   "outputs": [
    {
     "name": "stdout",
     "output_type": "stream",
     "text": [
      "5.0\n"
     ]
    }
   ],
   "source": [
    "v = np.array([3.0,4.0])\n",
    "print(np.linalg.norm(v))"
   ]
  },
  {
   "cell_type": "markdown",
   "metadata": {},
   "source": [
    "Rewrite your code to calculate distances between pairs of atoms using `np.linalg.norm()`."
   ]
  }
 ],
 "metadata": {
  "kernelspec": {
   "display_name": "Python 3 (ipykernel)",
   "language": "python",
   "name": "python3"
  },
  "language_info": {
   "codemirror_mode": {
    "name": "ipython",
    "version": 3
   },
   "file_extension": ".py",
   "mimetype": "text/x-python",
   "name": "python",
   "nbconvert_exporter": "python",
   "pygments_lexer": "ipython3",
   "version": "3.11.1"
  }
 },
 "nbformat": 4,
 "nbformat_minor": 4
}
