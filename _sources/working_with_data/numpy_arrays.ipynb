{
 "cells": [
  {
   "cell_type": "markdown",
   "metadata": {},
   "source": [
    "# NumPy\n",
    "\n",
    "In the section on [lists](content:lists) you learned how `list` collection types can be used to store multiple individual objects, such as individual numerical values that together correspond to an experimental data set.\n",
    "\n",
    "While `lists` are convenient for storing and working with relatively small amounts of data, they are not ideal for working with large numerical data sets. Creating large `lists` and iterating over them—for example, to perform some statistical analysis on our dataset—is relatively slow, and can require writing non-trivial amounts of &ldquo;boilerplate&rdquo; code, which can make writing code for data analysis cumbersome and prone to bugs."
   ]
  },
  {
   "cell_type": "markdown",
   "metadata": {},
   "source": [
    "For example, imagine we have recorded a set of experimental measurements and we want to compute the mean, $\\bar{x}$, and standard error, $\\delta \\bar{x}$, which are given by:\n",
    "\n",
    "$$\n",
    "\\bar{x} = \\frac{1}{N}\\sum_i x_i\n",
    "$$\n",
    "\n",
    "$$\n",
    "\\sigma_N = \\sqrt{\\frac{1}{N}\\sum_i\\left(x_i - \\bar{x}\\right)^2}\n",
    "$$\n",
    "\n",
    "$$\n",
    "\\delta \\bar{x} = \\frac{\\sigma_{N-1}}{\\sqrt{N}}\n",
    "$$\n",
    "\n",
    "Using lists this might look like:"
   ]
  },
  {
   "cell_type": "code",
   "execution_count": 1,
   "metadata": {},
   "outputs": [
    {
     "name": "stdout",
     "output_type": "stream",
     "text": [
      "mean = 1.00024 ± 0.0010171528891961034\n"
     ]
    }
   ],
   "source": [
    "import math\n",
    "\n",
    "data = [1.0026, 1.0019, 0.9972, 0.9986, 1.0009]\n",
    "\n",
    "def mean(data):\n",
    "    \"\"\"Calcualte the mean of a dataset.\n",
    "    \n",
    "    Args:\n",
    "        data (list(float)): The numerical data.\n",
    "        \n",
    "    Returns:\n",
    "        float\n",
    "        \n",
    "    \"\"\"\n",
    "    return sum(data)/len(data)\n",
    "\n",
    "def std_dev(data, ddof=0):\n",
    "    \"\"\"Calculate the standard deviation of a dataset.\n",
    "    \n",
    "    Args:\n",
    "        data (list(float)): The numerical data.\n",
    "        ddof (int): to adjust for bias in limited samples\n",
    "                    relative to the population estimate of variance.\n",
    "                    Default is 0.\n",
    "                    \n",
    "    Returns:\n",
    "        float\n",
    "        \n",
    "    \"\"\"\n",
    "    x_mean = mean(data)\n",
    "    return math.sqrt(sum([(x - x_mean)**2 for x in data])/(len(data)-ddof))\n",
    "\n",
    "x_bar = mean(data)\n",
    "delta_x_bar = std_dev(data, ddof=1) / math.sqrt(len(data))\n",
    "\n",
    "print(f'mean = {x_bar} ± {delta_x_bar}')"
   ]
  },
  {
   "cell_type": "markdown",
   "metadata": {},
   "source": [
    "Performing numerical analyses of this type on large datasets is a very common computational workflow. To do this efficiently using compact code we can use the [NumPy](https://numpy.org) package, which provides a large number of numerical computing tools that are fast and efficient."
   ]
  },
  {
   "cell_type": "markdown",
   "metadata": {},
   "source": [
    "NumPy is not part of the Python standard library, which means that it must be imported before use.\n",
    "\n",
    "````{margin}\n",
    "```{note}\n",
    "The ability to import libraries is one of the things that makes the Python programming language so powerful and attractive, allowing the use of algorithms and methods development by (probably better) programmers to be easily accessed.\n",
    "Using `as` in the import command lets us assign the `numpy` module to a different (shorter) variable name.\n",
    "```\n",
    "````"
   ]
  },
  {
   "cell_type": "code",
   "execution_count": 2,
   "metadata": {},
   "outputs": [],
   "source": [
    "import numpy as np"
   ]
  },
  {
   "cell_type": "markdown",
   "metadata": {},
   "source": [
    "We can now reimplement our analysis above using the following, much more compact, `numpy` code:"
   ]
  },
  {
   "cell_type": "code",
   "execution_count": 3,
   "metadata": {},
   "outputs": [
    {
     "name": "stdout",
     "output_type": "stream",
     "text": [
      "mean = 1.00024 ± 0.0010171528891961034\n"
     ]
    }
   ],
   "source": [
    "data = np.array([1.0026, 1.0019, 0.9972, 0.9986, 1.0009])\n",
    "\n",
    "x_bar = data.mean()\n",
    "delta_x_bar = data.std(ddof=1) / np.sqrt(len(data))\n",
    "\n",
    "print(f'mean = {x_bar} ± {delta_x_bar}')"
   ]
  },
  {
   "cell_type": "markdown",
   "metadata": {},
   "source": [
    "The numpy version is also significantly faster if we have large datasets to process."
   ]
  },
  {
   "cell_type": "code",
   "execution_count": 4,
   "metadata": {},
   "outputs": [],
   "source": [
    "data = np.random.random(10000) # generate 10,000 random numbers between 0 and 1."
   ]
  },
  {
   "cell_type": "markdown",
   "metadata": {},
   "source": [
    "````{margin}\n",
    "```{note}\n",
    "The `%%timeit` command is not Python, but is a so-called &ldquo;magic&rdquo; command build into the Jupyter Notebook application. Jupyter Notebooks provide several &ldquo;magic&rdquo; commands that are always prefixed by one or more percent signs `%`. The `%%timeit` command here runs the cell it is entered in multiple times and then reports the mean time the cell took to run, ± the standard deviation.\n",
    "```\n",
    "````"
   ]
  },
  {
   "cell_type": "code",
   "execution_count": 5,
   "metadata": {},
   "outputs": [
    {
     "name": "stdout",
     "output_type": "stream",
     "text": [
      "18.1 µs ± 122 ns per loop (mean ± std. dev. of 7 runs, 10,000 loops each)\n"
     ]
    }
   ],
   "source": [
    "%%timeit\n",
    "\n",
    "x_bar = data.mean()\n",
    "delta_x_bar = data.std(ddof=1) / np.sqrt(len(data))"
   ]
  },
  {
   "cell_type": "code",
   "execution_count": 6,
   "metadata": {},
   "outputs": [
    {
     "name": "stdout",
     "output_type": "stream",
     "text": [
      "2.03 ms ± 48.4 µs per loop (mean ± std. dev. of 7 runs, 100 loops each)\n"
     ]
    }
   ],
   "source": [
    "%%timeit\n",
    "\n",
    "x_bar = mean(data)\n",
    "delta_x_bar = std_dev(data, ddof=1) / math.sqrt(len(data))"
   ]
  },
  {
   "cell_type": "markdown",
   "metadata": {},
   "source": [
    "## NumPy Arrays\n",
    "\n",
    "NumPy provides its own data type, called the numpy array. We create a NumPy array similarly to how we create a `list`, using the `np.array()` function:"
   ]
  },
  {
   "cell_type": "code",
   "execution_count": 7,
   "metadata": {},
   "outputs": [],
   "source": [
    "data = np.array([1.0026, 1.0019, 0.9972, 0.9986, 1.0009])"
   ]
  },
  {
   "cell_type": "markdown",
   "metadata": {},
   "source": [
    "This can then be indexed in the same way as a `list`:"
   ]
  },
  {
   "cell_type": "code",
   "execution_count": 8,
   "metadata": {},
   "outputs": [
    {
     "data": {
      "text/plain": [
       "array([0.9972, 0.9986, 1.0009])"
      ]
     },
     "execution_count": 8,
     "metadata": {},
     "output_type": "execute_result"
    }
   ],
   "source": [
    "data[2:5]"
   ]
  },
  {
   "cell_type": "code",
   "execution_count": 9,
   "metadata": {},
   "outputs": [
    {
     "data": {
      "text/plain": [
       "array([1.0009, 0.9986, 0.9972, 1.0019, 1.0026])"
      ]
     },
     "execution_count": 9,
     "metadata": {},
     "output_type": "execute_result"
    }
   ],
   "source": [
    "data[::-1]"
   ]
  },
  {
   "cell_type": "markdown",
   "metadata": {},
   "source": [
    "NumPy arrays can only contain data of the same type, in contrast to `lists`, which can contain data of different types. Trying to create a NumPy array that contains data of different types will either cause an error, or your data will be converted to a single consistent type (which probably is not what you wanted to happen)."
   ]
  },
  {
   "cell_type": "code",
   "execution_count": 10,
   "metadata": {},
   "outputs": [
    {
     "name": "stdout",
     "output_type": "stream",
     "text": [
      "['yellow', 43.0, False]\n"
     ]
    }
   ],
   "source": [
    "my_list = ['yellow', 43.0, False]\n",
    "print(my_list)"
   ]
  },
  {
   "cell_type": "code",
   "execution_count": 11,
   "metadata": {},
   "outputs": [
    {
     "name": "stdout",
     "output_type": "stream",
     "text": [
      "['yellow' '43.0' 'False']\n"
     ]
    }
   ],
   "source": [
    "my_array = np.array(['yellow', 43.0, False])\n",
    "print(my_array)"
   ]
  },
  {
   "cell_type": "markdown",
   "metadata": {},
   "source": [
    "NumPy arrays can be created from `lists`:"
   ]
  },
  {
   "cell_type": "code",
   "execution_count": 12,
   "metadata": {},
   "outputs": [
    {
     "data": {
      "text/plain": [
       "array([1.0026, 1.0019, 0.9972, 0.9986, 1.0009])"
      ]
     },
     "execution_count": 12,
     "metadata": {},
     "output_type": "execute_result"
    }
   ],
   "source": [
    "data = [1.0026, 1.0019, 0.9972, 0.9986, 1.0009]\n",
    "data_array = np.array(data)\n",
    "data_array"
   ]
  },
  {
   "cell_type": "markdown",
   "metadata": {},
   "source": [
    "NumPy arrays can also have more than one dimension, which makes them useful for representing multidimensional datasets, or mathematical objects like matrices."
   ]
  },
  {
   "cell_type": "code",
   "execution_count": 13,
   "metadata": {},
   "outputs": [
    {
     "data": {
      "text/plain": [
       "array([[ 1. ,  2. ,  0. ],\n",
       "       [ 1. ,  3. ,  4. ],\n",
       "       [-2. ,  0.5,  1. ]])"
      ]
     },
     "execution_count": 13,
     "metadata": {},
     "output_type": "execute_result"
    }
   ],
   "source": [
    "A = np.array([[1, 2, 0], [1, 3, 4], [-2, 0.5, 1]])\n",
    "A"
   ]
  },
  {
   "cell_type": "markdown",
   "metadata": {},
   "source": [
    "Individual elements, or slices, of a N-dimensional NumPy array can be referenced using the same syntax as for nested lists. For example, `A[1]` gives the second &ldquo;row&rdquo; of this matrix:"
   ]
  },
  {
   "cell_type": "code",
   "execution_count": 14,
   "metadata": {},
   "outputs": [
    {
     "data": {
      "text/plain": [
       "array([1., 3., 4.])"
      ]
     },
     "execution_count": 14,
     "metadata": {},
     "output_type": "execute_result"
    }
   ],
   "source": [
    "A[1] # second row"
   ]
  },
  {
   "cell_type": "markdown",
   "metadata": {},
   "source": [
    "which we can then also slice:"
   ]
  },
  {
   "cell_type": "code",
   "execution_count": 15,
   "metadata": {},
   "outputs": [
    {
     "data": {
      "text/plain": [
       "4.0"
      ]
     },
     "execution_count": 15,
     "metadata": {},
     "output_type": "execute_result"
    }
   ],
   "source": [
    "A[1][2] # second row, third element"
   ]
  },
  {
   "cell_type": "markdown",
   "metadata": {},
   "source": [
    "NumPy also allows a more compact N-dimensional index notation, using comma-separated values:"
   ]
  },
  {
   "cell_type": "code",
   "execution_count": 16,
   "metadata": {},
   "outputs": [
    {
     "data": {
      "text/plain": [
       "4.0"
      ]
     },
     "execution_count": 16,
     "metadata": {},
     "output_type": "execute_result"
    }
   ],
   "source": [
    "A[1,2] # second row, third column"
   ]
  },
  {
   "cell_type": "code",
   "execution_count": 17,
   "metadata": {},
   "outputs": [
    {
     "data": {
      "text/plain": [
       "array([0.5, 1. ])"
      ]
     },
     "execution_count": 17,
     "metadata": {},
     "output_type": "execute_result"
    }
   ],
   "source": [
    "A[-1,1:] # last row, everything from the second column to the end"
   ]
  },
  {
   "cell_type": "markdown",
   "metadata": {},
   "source": [
    "## Arithmetic with NumPy arrays\n",
    "\n",
    "The fact that NumPy arrays are all of a same type means that it is possible to perform arthmetic on them. \n",
    "For example, all of the items in an array can be multipled by a single value. "
   ]
  },
  {
   "cell_type": "code",
   "execution_count": 18,
   "metadata": {},
   "outputs": [
    {
     "data": {
      "text/plain": [
       "array([1., 2., 3.])"
      ]
     },
     "execution_count": 18,
     "metadata": {},
     "output_type": "execute_result"
    }
   ],
   "source": [
    "np.array([0.1, 0.2, 0.3]) * 10.0"
   ]
  },
  {
   "cell_type": "markdown",
   "metadata": {},
   "source": [
    "Or two NumPy arrays can operator on each other."
   ]
  },
  {
   "cell_type": "code",
   "execution_count": 19,
   "metadata": {},
   "outputs": [
    {
     "data": {
      "text/plain": [
       "array([10., 10., 10.])"
      ]
     },
     "execution_count": 19,
     "metadata": {},
     "output_type": "execute_result"
    }
   ],
   "source": [
    "np.array([5, 10, 15]) + np.array([5.0, 0.0, -5.0])"
   ]
  },
  {
   "cell_type": "markdown",
   "metadata": {},
   "source": [
    "These operations on every element of a NumPy array are called **vector operations**.\n",
    "\n",
    "Using NumPy arrays for value-wise operations such as those shown where are **very** efficient and run much faster than explicitly looping over elements in a list.\n",
    "\n",
    "## NumPy functions\n",
    "\n",
    "In addition to the power of the NumPy array (on which some of Python's most impressive libraries are built), the NumPy library also enables access to a broad range of useful functions. \n",
    "For example, the `np.log` function that was introduced at the start, differs from the `math.log` function introduced earlier \n",
    "As the former can operate on NumPy array when the latter cannot. "
   ]
  },
  {
   "cell_type": "code",
   "execution_count": 20,
   "metadata": {},
   "outputs": [
    {
     "data": {
      "text/plain": [
       "array([0.05826891, 1.33500107, 2.7080502 , 3.81639277, 5.01462732])"
      ]
     },
     "execution_count": 20,
     "metadata": {},
     "output_type": "execute_result"
    }
   ],
   "source": [
    "K = np.array([1.06, 3.8, 15.0, 45.44, 150.6])\n",
    "\n",
    "np.log(K)"
   ]
  },
  {
   "cell_type": "code",
   "execution_count": 21,
   "metadata": {},
   "outputs": [
    {
     "ename": "TypeError",
     "evalue": "only length-1 arrays can be converted to Python scalars",
     "output_type": "error",
     "traceback": [
      "\u001b[0;31m---------------------------------------------------------------------------\u001b[0m",
      "\u001b[0;31mTypeError\u001b[0m                                 Traceback (most recent call last)",
      "Cell \u001b[0;32mIn[21], line 3\u001b[0m\n\u001b[1;32m      1\u001b[0m \u001b[38;5;28;01mfrom\u001b[39;00m \u001b[38;5;21;01mmath\u001b[39;00m \u001b[38;5;28;01mimport\u001b[39;00m log\n\u001b[0;32m----> 3\u001b[0m \u001b[43mlog\u001b[49m\u001b[43m(\u001b[49m\u001b[43mK\u001b[49m\u001b[43m)\u001b[49m\n",
      "\u001b[0;31mTypeError\u001b[0m: only length-1 arrays can be converted to Python scalars"
     ]
    }
   ],
   "source": [
    "from math import log\n",
    "\n",
    "log(K)"
   ]
  },
  {
   "cell_type": "markdown",
   "metadata": {},
   "source": [
    "The function from the `math` module will result in an error. \n",
    "\n",
    "Alongside these mathematical operations, the NumPy library also enables statistical operations on the NumPy arrays. \n",
    "For example, sum, mean and standard deviations are easy to find. These functions can be used using the `np.function_name()` syntax, or used as **methods** of a `numpy` array (using dot syntax)."
   ]
  },
  {
   "cell_type": "code",
   "execution_count": 28,
   "metadata": {},
   "outputs": [
    {
     "name": "stdout",
     "output_type": "stream",
     "text": [
      "1177\n",
      "117.7\n",
      "3.4942810419312296\n"
     ]
    }
   ],
   "source": [
    "mass_numbers = np.array([112, 114, 115, 116, 117, 118, 119, 120, 122, 124])\n",
    "\n",
    "print(np.sum(mass_numbers))\n",
    "print(np.mean(mass_numbers))\n",
    "print(np.std(mass_numbers))"
   ]
  },
  {
   "cell_type": "code",
   "execution_count": 29,
   "metadata": {},
   "outputs": [
    {
     "name": "stdout",
     "output_type": "stream",
     "text": [
      "1177\n",
      "117.7\n",
      "3.4942810419312296\n"
     ]
    }
   ],
   "source": [
    "print(mass_numbers.sum())\n",
    "print(mass_numbers.mean())\n",
    "print(mass_numbers.std())"
   ]
  },
  {
   "cell_type": "markdown",
   "metadata": {},
   "source": [
    "## Exercises: \n",
    "\n",
    "1. The percentage abundances of the natural isotopes of tin are:</br> \n",
    "112: 0.0097,</br>\n",
    "114: 0.0066,</br>\n",
    "115: 0.0034,</br>\n",
    "116: 0.1454,</br>\n",
    "117: 0.0768,</br>\n",
    "118: 0.2422,</br>\n",
    "119: 0.0859,</br>\n",
    "120: 0.3258,</br>\n",
    "122: 0.0463,</br>\n",
    "124: 0.0579</br>\n",
    "Calculate the average (mean) mass of naturally occurring tin.\n",
    "\n",
    "2. Rewrite or modify your code from the **Loops** Exercise to calculate the distances between each pair of atoms, using **numpy arrays** to store the atom positions, and **vector arithmetic** to calculate the vectors between pairs of atoms."
   ]
  }
 ],
 "metadata": {
  "kernelspec": {
   "display_name": "Python 3 (ipykernel)",
   "language": "python",
   "name": "python3"
  },
  "language_info": {
   "codemirror_mode": {
    "name": "ipython",
    "version": 3
   },
   "file_extension": ".py",
   "mimetype": "text/x-python",
   "name": "python",
   "nbconvert_exporter": "python",
   "pygments_lexer": "ipython3",
   "version": "3.11.1"
  }
 },
 "nbformat": 4,
 "nbformat_minor": 4
}
