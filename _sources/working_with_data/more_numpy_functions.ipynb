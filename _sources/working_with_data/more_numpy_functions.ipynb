{
 "cells": [
  {
   "cell_type": "markdown",
   "id": "6fd3a0d5",
   "metadata": {},
   "source": [
    "# More NumPy functions\n",
    "\n",
    "NumPy has an enormous range of functionality, and we can only scratch the surface here.\n",
    "\n",
    "However, here are a few examples of NumPy code for various tasks that you might commonly want to do with your code."
   ]
  },
  {
   "cell_type": "markdown",
   "id": "041aecde",
   "metadata": {},
   "source": [
    "## Creating Arrays\n",
    "\n",
    "NumPy provides various functions for generating arrays:\n",
    "\n",
    "### `np.arange()`"
   ]
  },
  {
   "cell_type": "code",
   "execution_count": 4,
   "id": "3165da4d",
   "metadata": {
    "tags": [
     "remove-input"
    ]
   },
   "outputs": [],
   "source": [
    "import numpy as np"
   ]
  },
  {
   "cell_type": "markdown",
   "id": "fd560967",
   "metadata": {},
   "source": [
    "`np.arange()` can be used to generate arrays that contain sequences of integers."
   ]
  },
  {
   "cell_type": "code",
   "execution_count": 7,
   "id": "1151d200",
   "metadata": {},
   "outputs": [
    {
     "data": {
      "text/plain": [
       "array([0, 1, 2, 3, 4])"
      ]
     },
     "execution_count": 7,
     "metadata": {},
     "output_type": "execute_result"
    }
   ],
   "source": [
    "np.arange(5) # generate an array containing a sequence of integers"
   ]
  },
  {
   "cell_type": "code",
   "execution_count": 8,
   "id": "92438e42",
   "metadata": {},
   "outputs": [
    {
     "data": {
      "text/plain": [
       "array([1, 2, 3, 4, 5])"
      ]
     },
     "execution_count": 8,
     "metadata": {},
     "output_type": "execute_result"
    }
   ],
   "source": [
    "np.arange(1, 6) # specify the start and stop points"
   ]
  },
  {
   "cell_type": "code",
   "execution_count": 9,
   "id": "2e363d05",
   "metadata": {},
   "outputs": [
    {
     "data": {
      "text/plain": [
       "array([ 2,  4,  6,  8, 10, 12, 14, 16, 18])"
      ]
     },
     "execution_count": 9,
     "metadata": {},
     "output_type": "execute_result"
    }
   ],
   "source": [
    "np.arange(2, 20, 2) # specify start, stop, and step size"
   ]
  },
  {
   "cell_type": "markdown",
   "id": "ed46bdf9",
   "metadata": {},
   "source": [
    "### `np.ones()`"
   ]
  },
  {
   "cell_type": "code",
   "execution_count": 11,
   "id": "1e83d022",
   "metadata": {},
   "outputs": [
    {
     "data": {
      "text/plain": [
       "array([1., 1., 1., 1., 1., 1., 1., 1., 1., 1.])"
      ]
     },
     "execution_count": 11,
     "metadata": {},
     "output_type": "execute_result"
    }
   ],
   "source": [
    "np.ones(10) # create an array of 10 ones"
   ]
  },
  {
   "cell_type": "markdown",
   "id": "77250433",
   "metadata": {},
   "source": [
    "### `np.zeros()`"
   ]
  },
  {
   "cell_type": "code",
   "execution_count": 12,
   "id": "25a5ab32",
   "metadata": {},
   "outputs": [
    {
     "data": {
      "text/plain": [
       "array([0., 0., 0., 0., 0., 0., 0., 0., 0., 0.])"
      ]
     },
     "execution_count": 12,
     "metadata": {},
     "output_type": "execute_result"
    }
   ],
   "source": [
    "np.zeros(10) # create an array of 10 zeros"
   ]
  },
  {
   "cell_type": "markdown",
   "id": "7091fd53",
   "metadata": {},
   "source": [
    "### np.linspace()\n",
    "\n",
    "`np.linspace()` will create an array of evenly spaced values (as floats)"
   ]
  },
  {
   "cell_type": "code",
   "execution_count": 13,
   "id": "6543530c",
   "metadata": {},
   "outputs": [
    {
     "name": "stdout",
     "output_type": "stream",
     "text": [
      "Wavelengths (nm): [400. 410. 420. 430. 440. 450. 460. 470. 480. 490. 500. 510. 520. 530.\n",
      " 540. 550. 560. 570. 580. 590. 600. 610. 620. 630. 640. 650. 660. 670.\n",
      " 680. 690. 700.]\n"
     ]
    }
   ],
   "source": [
    "# Create an array of wavelengths for spectral analysis\n",
    "wavelengths = np.linspace(400, 700, 31)  # 31 points from 400 nm to 700 nm\n",
    "print(\"Wavelengths (nm):\", wavelengths)"
   ]
  },
  {
   "cell_type": "markdown",
   "id": "da29444d",
   "metadata": {},
   "source": [
    "Note that `np.linspace()` takes a third optional argument that specifies the *number* of values to generate. This is different to `np.arange()` where the third optional argument specifies the *step-size* between values."
   ]
  }
 ],
 "metadata": {
  "celltoolbar": "Edit Metadata",
  "kernelspec": {
   "display_name": "Python 3 (ipykernel)",
   "language": "python",
   "name": "python3"
  },
  "language_info": {
   "codemirror_mode": {
    "name": "ipython",
    "version": 3
   },
   "file_extension": ".py",
   "mimetype": "text/x-python",
   "name": "python",
   "nbconvert_exporter": "python",
   "pygments_lexer": "ipython3",
   "version": "3.11.1"
  }
 },
 "nbformat": 4,
 "nbformat_minor": 5
}
