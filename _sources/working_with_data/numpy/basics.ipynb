{
 "cells": [
  {
   "cell_type": "markdown",
   "id": "86c4a4a8-08a4-447a-8666-5f17006157c7",
   "metadata": {},
   "source": [
    "# NumPy Basics\n",
    "\n",
    "NumPy provides its own data type, called the NumPy **array**. Arrays are similar to Python lists, but with important differences that make them much more suitable for numerical computing."
   ]
  },
  {
   "cell_type": "markdown",
   "id": "ecc61a30-70ea-49d2-825a-f8ea93fc2771",
   "metadata": {},
   "source": [
    "## Importing NumPy\n",
    "\n",
    "The standard way to import NumPy uses the alias `np`:"
   ]
  },
  {
   "cell_type": "code",
   "execution_count": 1,
   "id": "a1e44a9b-8cde-44f1-8dea-cca92c5db399",
   "metadata": {},
   "outputs": [],
   "source": [
    "import numpy as np"
   ]
  },
  {
   "cell_type": "markdown",
   "id": "821aefbb-ab27-4f99-8077-d19cb2001c10",
   "metadata": {},
   "source": [
    "Rather than writing `import numpy`, we commonly use `import numpy as np`. The `as` keyword allows us to assign `numpy` and all of its functions to the variable name `np`. This is a universal convention; you will see `np` used everywhere in NumPy code."
   ]
  },
  {
   "cell_type": "markdown",
   "id": "9d80e1ba-cac4-4f47-9770-236e32ed4e2a",
   "metadata": {},
   "source": [
    "## Creating Arrays\n",
    "\n",
    "We create a NumPy array similarly to how we create a list, using the `np.array()` function:"
   ]
  },
  {
   "cell_type": "code",
   "execution_count": 2,
   "id": "aee3fd50-43b1-43e5-9ace-4000c5832771",
   "metadata": {},
   "outputs": [
    {
     "name": "stdout",
     "output_type": "stream",
     "text": [
      "[1.52 1.54 1.51 1.53 1.52]\n",
      "<class 'numpy.ndarray'>\n"
     ]
    }
   ],
   "source": [
    "# Create an array from a list of bond lengths (in Ångströms)\n",
    "bond_lengths = [1.52, 1.54, 1.51, 1.53, 1.52]\n",
    "bond_array = np.array(bond_lengths)\n",
    "\n",
    "print(bond_array)\n",
    "print(type(bond_array))"
   ]
  },
  {
   "cell_type": "markdown",
   "id": "c47992e4-93a9-4ffb-b32f-b142f416d3e0",
   "metadata": {},
   "source": [
    "## Array Properties\n",
    "\n",
    "Arrays have several useful properties that tell you about their structure:"
   ]
  },
  {
   "cell_type": "code",
   "execution_count": 3,
   "id": "6684a531-a419-48d2-89b1-6d3d89607cb5",
   "metadata": {},
   "outputs": [
    {
     "name": "stdout",
     "output_type": "stream",
     "text": [
      "Shape: (5,)\n",
      "Data type: int64\n",
      "Number of elements: 5\n"
     ]
    }
   ],
   "source": [
    "temps = np.array([298, 310, 323, 335, 348])\n",
    "\n",
    "print(f\"Shape: {temps.shape}\")\n",
    "print(f\"Data type: {temps.dtype}\")\n",
    "print(f\"Number of elements: {temps.size}\")"
   ]
  },
  {
   "cell_type": "markdown",
   "id": "a68f56cf-413e-4326-b0f8-d11ba128fde6",
   "metadata": {},
   "source": [
    "```{margin}\n",
    "`int64` refers to how numbers are stored in memory. The `int` means integers (whole numbers) and `64` indicates the number of \"bits\" (1s and 0s) used internally to represent each number. Other common types are `float64` (decimal numbers), and `bool` (True/False). NumPy chooses appropriate types automatically.\n",
    "```\n",
    "\n",
    "The `.shape` property tells you the dimensions of the array. For a 1D array, this is a tuple with a single value. The `.dtype` property tells you what type of data the array contains, and `.size` gives you the total number of elements."
   ]
  },
  {
   "cell_type": "markdown",
   "id": "145f178b-9679-4de6-bafc-572d0f40e263",
   "metadata": {},
   "source": [
    "## Homogeneous Data\n",
    "\n",
    "NumPy arrays can only contain data of the same type, in contrast to lists, which can contain data of different types.\n",
    "\n",
    "Trying to create a NumPy array that contains data of different types will either cause an error, or your data will be converted to a single consistent type (which probably is not what you wanted to happen)."
   ]
  },
  {
   "cell_type": "code",
   "execution_count": 4,
   "id": "8cd935cb-5b03-4034-877a-265ad3249d14",
   "metadata": {},
   "outputs": [
    {
     "name": "stdout",
     "output_type": "stream",
     "text": [
      "Integer array: [1 2 3 4], dtype: int64\n",
      "Mixed numbers: [1.  2.5 3.  4. ], dtype: float64\n",
      "Mixed types: ['1' '2' 'three'], dtype: <U21\n"
     ]
    }
   ],
   "source": [
    "# All integers\n",
    "integers = np.array([1, 2, 3, 4])\n",
    "print(f\"Integer array: {integers}, dtype: {integers.dtype}\")\n",
    "\n",
    "# Mix of int and float → all become floats\n",
    "mixed_numbers = np.array([1, 2.5, 3, 4])\n",
    "print(f\"Mixed numbers: {mixed_numbers}, dtype: {mixed_numbers.dtype}\")\n",
    "\n",
    "# Mix with strings → everything becomes strings!\n",
    "mixed_types = np.array([1, 2, 'three'])\n",
    "print(f\"Mixed types: {mixed_types}, dtype: {mixed_types.dtype}\")"
   ]
  },
  {
   "cell_type": "markdown",
   "id": "b8e6072b-61e7-464d-9687-d0097b7b740a",
   "metadata": {},
   "source": [
    "```{margin}\n",
    "`<U21` means Unicode string with a maximum length of 21 characters. The `U` indicates text (not numbers), and the number is the maximum string length. If you see `<U` or `object` as the dtype, your array contains text, not numbers.\n",
    "```\n",
    "If you accidentally include a string in your array, all your numbers will be converted to strings. Always check your array's dtype if calculations aren't working as expected."
   ]
  },
  {
   "cell_type": "markdown",
   "id": "7e5dba6f-0385-4b65-9316-d4f29fc00ddb",
   "metadata": {},
   "source": [
    "### Exercise\n",
    "\n",
    "You have measured pH values at different times: 7.0, 6.8, 7.2, 6.9, 7.1\n",
    "\n",
    "Create a NumPy array called `pH_values` containing these measurements, then print the array and its shape.\n",
    "\n",
    "````{dropdown} Show solution\n",
    "```python\n",
    "pH_values = np.array([7.0, 6.8, 7.2, 6.9, 7.1])\n",
    "print(pH_values)\n",
    "print(f\"Shape: {pH_values.shape}\")\n",
    "```\n",
    "````"
   ]
  },
  {
   "cell_type": "markdown",
   "id": "4959a550-8ef5-4257-af67-4e4bde004b96",
   "metadata": {},
   "source": [
    "## Two-Dimensional Arrays\n",
    "\n",
    "NumPy arrays can have more than one dimension, which makes them useful for representing multidimensional datasets, or mathematical objects like matrices."
   ]
  },
  {
   "cell_type": "code",
   "execution_count": 7,
   "id": "563c2f28-523b-4d88-be3c-36ce001fcedb",
   "metadata": {},
   "outputs": [
    {
     "name": "stdout",
     "output_type": "stream",
     "text": [
      "[[0.  0.  0. ]\n",
      " [1.  0.  0. ]\n",
      " [0.  1.5 0. ]]\n",
      "\n",
      "Shape: (3, 3)\n"
     ]
    }
   ],
   "source": [
    "# Molecular coordinates: 3 atoms, each with x, y, z positions\n",
    "molecule = np.array([[0.0, 0.0, 0.0],    # Atom 1\n",
    "                     [1.0, 0.0, 0.0],    # Atom 2\n",
    "                     [0.0, 1.5, 0.0]])   # Atom 3\n",
    "\n",
    "print(molecule)\n",
    "print()\n",
    "print(f\"Shape: {molecule.shape}\")"
   ]
  },
  {
   "cell_type": "markdown",
   "id": "bd91dff5-94d2-4637-8408-691e16717182",
   "metadata": {},
   "source": [
    "For a 2D array, the shape is `(rows, columns)`. For molecular coordinates, this is typically `(number of atoms, 3)` where each row is an atom and the three columns are the x, y, and z coordinates."
   ]
  },
  {
   "cell_type": "markdown",
   "id": "7f4055aa-198f-44ff-ab8d-a713a65be5b8",
   "metadata": {},
   "source": [
    "### Exercise\n",
    "\n",
    "Create an array for water (H2O) with these coordinates:\n",
    "\n",
    "| Atom | x | y | z |\n",
    "|------|---|---|---|\n",
    "| O | 0.0 | 0.0 | 0.0 |\n",
    "| H | 0.96 | 0.0 | 0.0 |\n",
    "| H | -0.24 | 0.93 | 0.0 |\n",
    "\n",
    "Print the array and check its shape is `(3, 3)`.\n",
    "\n",
    "````{dropdown} Show solution\n",
    "```python\n",
    "water = np.array([[0.0, 0.0, 0.0],\n",
    "                  [0.96, 0.0, 0.0],\n",
    "                  [-0.24, 0.93, 0.0]])\n",
    "\n",
    "print(water)\n",
    "print(f\"Shape: {water.shape}\")\n",
    "```\n",
    "````"
   ]
  },
  {
   "cell_type": "markdown",
   "id": "6b1adc26-415c-489c-8bad-3cfba7b3fa6d",
   "metadata": {},
   "source": [
    "## Creating Arrays\n",
    "\n",
    "Besides `np.array()`, NumPy provides functions to create arrays with specific patterns:"
   ]
  },
  {
   "cell_type": "code",
   "execution_count": 13,
   "id": "3f99c370-b6b1-4cb6-9f15-d285f3fdf9bb",
   "metadata": {},
   "outputs": [
    {
     "name": "stdout",
     "output_type": "stream",
     "text": [
      "Zeros: [0. 0. 0. 0. 0.]The history saving thread hit an unexpected error (OperationalError('attempt to write a readonly database')).History will not be written to the database.\n",
      "\n",
      "Ones: [1. 1. 1. 1.]\n",
      "Linspace: [ 0.   2.5  5.   7.5 10. ]\n",
      "Arange: [0 2 4 6 8]\n"
     ]
    }
   ],
   "source": [
    "# Array of zeros (useful for initialising results)\n",
    "zeros = np.zeros(5)\n",
    "print(f\"Zeros: {zeros}\")\n",
    "\n",
    "# Array of ones\n",
    "ones = np.ones(4)\n",
    "print(f\"Ones: {ones}\")\n",
    "\n",
    "# Evenly spaced values\n",
    "x = np.linspace(0, 10, 5)  # 5 values from 0 to 10\n",
    "print(f\"Linspace: {x}\")\n",
    "\n",
    "# Sequence with step size\n",
    "y = np.arange(0, 10, 2)  # Start at 0, stop before 10, step by 2\n",
    "print(f\"Arange: {y}\")"
   ]
  },
  {
   "cell_type": "markdown",
   "id": "667e934e-d0c0-4c1c-92f4-f24ab2c14aef",
   "metadata": {},
   "source": [
    "```{margin}\n",
    "The spacing between values for `np.linspace()` is calculated as (stop - start) / (num - 1). Both the start and stop values are included in the array.\n",
    "```\n",
    "`np.linspace(start, stop, num)` creates an array of `num` evenly spaced values between `start` and `stop` (inclusive). This is particularly useful for creating x-axes when plotting data.\n",
    "\n",
    "For example, `np.linspace(0, 10, 5)` creates 5 values evenly spaced from 0 to 10, giving us [0, 2.5, 5.0, 7.5, 10.0]. If you need 100 points for a smooth plot from 300 K to 400 K, you would use `np.linspace(300, 400, 100)`.\n",
    "\n",
    "\n",
    "```{margin}\n",
    "**linspace vs arange:** Use `linspace` when you want a specific number of points. Use `arange` when you want a specific step size.\n",
    "```\n",
    "`np.arange(start, stop, step)` creates a sequence similar to Python's `range()`, but returns a NumPy array. The sequence starts at `start` and increments by `step`, stopping before `stop`. For example, `np.arange(0, 10, 2)` gives [0, 2, 4, 6, 8].\n"
   ]
  },
  {
   "cell_type": "markdown",
   "id": "71f699c5-1c96-4ba9-a32e-d2b872bbfcc3",
   "metadata": {},
   "source": [
    "## Indexing Arrays\n",
    "\n",
    "Individual elements, or slices, of an array can be referenced using the same syntax as for lists."
   ]
  },
  {
   "cell_type": "code",
   "execution_count": 9,
   "id": "b6fa5935-86e4-48e1-9efb-d0de76b1fc31",
   "metadata": {},
   "outputs": [
    {
     "name": "stdout",
     "output_type": "stream",
     "text": [
      "First element: 100\n",
      "Last element: 145\n",
      "First three: [100 150 125]\n",
      "Every second element: [100 125 145]\n"
     ]
    }
   ],
   "source": [
    "energies = np.array([100, 150, 125, 175, 145])\n",
    "\n",
    "print(f\"First element: {energies[0]}\")\n",
    "print(f\"Last element: {energies[-1]}\")\n",
    "print(f\"First three: {energies[:3]}\")\n",
    "print(f\"Every second element: {energies[::2]}\")"
   ]
  },
  {
   "cell_type": "markdown",
   "id": "bb68dcb4-bbbe-4b80-8460-227fda2dab32",
   "metadata": {},
   "source": [
    "For N-dimensional arrays, individual elements or slices can be referenced using the same syntax as for nested lists."
   ]
  },
  {
   "cell_type": "code",
   "execution_count": 10,
   "id": "03657b06-7b12-41ac-a298-3d6be4a9e6d4",
   "metadata": {},
   "outputs": [
    {
     "name": "stdout",
     "output_type": "stream",
     "text": [
      "First hydrogen: [0.96 0.   0.  ]\n",
      "Second element of first row: 0.0\n"
     ]
    }
   ],
   "source": [
    "# Using our water molecule from earlier\n",
    "water = np.array([[0.0, 0.0, 0.0],     # O\n",
    "                  [0.96, 0.0, 0.0],    # H\n",
    "                  [-0.24, 0.93, 0.0]]) # H\n",
    "\n",
    "# Get the second row (first hydrogen)\n",
    "print(f\"First hydrogen: {water[1]}\")\n",
    "\n",
    "# Get a specific element\n",
    "print(f\"Second element of first row: {water[1][2]}\")"
   ]
  },
  {
   "cell_type": "markdown",
   "id": "ff92af47-9e40-4550-aa25-bddf3024925a",
   "metadata": {},
   "source": [
    "NumPy also allows a more compact N-dimensional index notation, using comma-separated values:"
   ]
  },
  {
   "cell_type": "code",
   "execution_count": 11,
   "id": "6f21be42-df27-4520-a38d-dd096aa1a86c",
   "metadata": {},
   "outputs": [
    {
     "name": "stdout",
     "output_type": "stream",
     "text": [
      "Element at row 1, column 2: 0.0\n",
      "Oxygen x-coordinate: 0.0\n",
      "All x-coordinates: [ 0.    0.96 -0.24]\n",
      "All y-coordinates: [0.   0.   0.93]\n"
     ]
    }
   ],
   "source": [
    "# More compact notation: array[row, column]\n",
    "print(f\"Element at row 1, column 2: {water[1, 2]}\")\n",
    "\n",
    "# Get x-coordinate of oxygen (row 0, column 0)\n",
    "print(f\"Oxygen x-coordinate: {water[0, 0]}\")\n",
    "\n",
    "# Get all x-coordinates (all rows, column 0)\n",
    "all_x = water[:, 0]\n",
    "print(f\"All x-coordinates: {all_x}\")\n",
    "\n",
    "# Get all y-coordinates\n",
    "all_y = water[:, 1]\n",
    "print(f\"All y-coordinates: {all_y}\")"
   ]
  },
  {
   "cell_type": "markdown",
   "id": "ddbd75f1-ba36-4b36-8b1e-f1b1e9f824cd",
   "metadata": {},
   "source": [
    "The `:` notation means \"all elements\" in that dimension. So `water[:, 0]` means \"all rows, first column\", giving us all the x-coordinates."
   ]
  },
  {
   "cell_type": "markdown",
   "id": "49e79373-a808-4267-93c3-826fde0d28a8",
   "metadata": {},
   "source": [
    "### Exercise\n",
    "\n",
    "Using the water molecule array, extract:\n",
    "\n",
    "1. The z-coordinate of the second hydrogen atom\n",
    "2. All z-coordinates\n",
    "3. Just the x and y coordinates of all atoms (first two columns)\n",
    "\n",
    "````{dropdown} Show solution\n",
    "```python\n",
    "water = np.array([[0.0, 0.0, 0.0],\n",
    "                  [0.96, 0.0, 0.0],\n",
    "                  [-0.24, 0.93, 0.0]])\n",
    "\n",
    "# 1. z-coordinate of second hydrogen (row 2, column 2)\n",
    "second_h_z = water[2, 2]\n",
    "print(f\"Second H z-coordinate: {second_h_z}\")\n",
    "\n",
    "# 2. All z-coordinates (all rows, column 2)\n",
    "all_z = water[:, 2]\n",
    "print(f\"All z-coordinates: {all_z}\")\n",
    "\n",
    "# 3. x and y coordinates only (all rows, first two columns)\n",
    "xy_coords = water[:, :2]\n",
    "print(f\"XY coordinates:\\n{xy_coords}\")\n",
    "print(f\"Shape: {xy_coords.shape}\")\n",
    "```\n",
    "````"
   ]
  },
  {
   "cell_type": "markdown",
   "id": "2d0d39c7-5875-41bb-b466-958f2e819b43",
   "metadata": {},
   "source": [
    "## Summary\n",
    "\n",
    "You have learned how to:\n",
    "- Import NumPy and create arrays from lists\n",
    "- Check array properties (shape, dtype, size)\n",
    "- Create 2D arrays for molecular coordinates\n",
    "- Use `np.zeros()`, `np.ones()`, and `np.linspace()` to create arrays\n",
    "- Index and slice arrays to access specific elements or subsets"
   ]
  },
  {
   "cell_type": "code",
   "execution_count": null,
   "id": "5545c1da-a091-41b7-934c-d649f6010138",
   "metadata": {},
   "outputs": [],
   "source": []
  }
 ],
 "metadata": {
  "kernelspec": {
   "display_name": "Python 3 (ipykernel)",
   "language": "python",
   "name": "python3"
  },
  "language_info": {
   "codemirror_mode": {
    "name": "ipython",
    "version": 3
   },
   "file_extension": ".py",
   "mimetype": "text/x-python",
   "name": "python",
   "nbconvert_exporter": "python",
   "pygments_lexer": "ipython3",
   "version": "3.12.3"
  }
 },
 "nbformat": 4,
 "nbformat_minor": 5
}
