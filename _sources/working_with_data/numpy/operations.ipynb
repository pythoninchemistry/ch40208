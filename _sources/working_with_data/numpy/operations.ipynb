{
 "cells": [
  {
   "cell_type": "markdown",
   "id": "68b60a09-63fd-4e21-ae7b-16ee19a6f306",
   "metadata": {},
   "source": [
    "# Array Operations\n",
    "\n",
    "In the previous section, we learned how to create and index NumPy arrays. Now we will look at how to perform calculations with arrays."
   ]
  },
  {
   "cell_type": "code",
   "execution_count": 1,
   "id": "ca28d467-00c0-476e-b31b-f2edd0e895a1",
   "metadata": {},
   "outputs": [],
   "source": [
    "import numpy as np"
   ]
  },
  {
   "cell_type": "markdown",
   "id": "9a35ff04-1d71-433e-a19b-a9cf3370086b",
   "metadata": {},
   "source": [
    "## Vector Arithmetic\n",
    "\n",
    "The fact that NumPy arrays are all of the same type means that it is possible to perform arithmetic on them. For example, all of the items in an array can be multiplied by a single value."
   ]
  },
  {
   "cell_type": "code",
   "execution_count": 2,
   "id": "aca0eb6f-2226-45ae-a30a-168bccc955d0",
   "metadata": {},
   "outputs": [
    {
     "name": "stdout",
     "output_type": "stream",
     "text": [
      "[ 1  9 17 22 45 68]\n"
     ]
    }
   ],
   "source": [
    "list_of_numbers = [1, 9, 17, 22, 45, 68]\n",
    "\n",
    "array_of_numbers = np.array(list_of_numbers)\n",
    "\n",
    "print(array_of_numbers)"
   ]
  },
  {
   "cell_type": "markdown",
   "id": "45bb3cc2-7be7-4f65-b4a9-78647778c52a",
   "metadata": {},
   "source": [
    "If we print a NumPy array, it looks much like a list. NumPy arrays, however, allow us to perform **vector arithmetic** where we perform the same operation on every element of an array, or on every pair of elements from two arrays."
   ]
  },
  {
   "cell_type": "code",
   "execution_count": 25,
   "id": "f8c634a1-b41a-4b31-a4c2-efcecd33851c",
   "metadata": {},
   "outputs": [
    {
     "name": "stdout",
     "output_type": "stream",
     "text": [
      "[  2  18  34  44  90 136]\n"
     ]
    }
   ],
   "source": [
    "print(array_of_numbers * 2)"
   ]
  },
  {
   "cell_type": "markdown",
   "id": "77e3dcb0-184f-4b5e-bca4-99e2ace33746",
   "metadata": {},
   "source": [
    "Using the standard mathematical operators such as `*` and `+` allows us to operate simultaneously on all elements of the array. If we run `array_of_numbers * 2`, we multiply every element of `array_of_numbers` by 2."
   ]
  },
  {
   "cell_type": "code",
   "execution_count": 26,
   "id": "bfcba62f-9ed3-4b08-988e-a47c5337bbef",
   "metadata": {},
   "outputs": [
    {
     "name": "stdout",
     "output_type": "stream",
     "text": [
      "[11 19 27 32 55 78]\n"
     ]
    }
   ],
   "source": [
    "print(array_of_numbers + 10)"
   ]
  },
  {
   "cell_type": "markdown",
   "id": "0bc41611-b27b-4d77-be73-3b3c8d02e899",
   "metadata": {},
   "source": [
    "This is particularly useful for tasks like unit conversions:"
   ]
  },
  {
   "cell_type": "code",
   "execution_count": 5,
   "id": "4c4eec31-42a0-4e54-841a-dfd03850b26a",
   "metadata": {},
   "outputs": [
    {
     "name": "stdout",
     "output_type": "stream",
     "text": [
      "Temperatures in K: [298 310 323 335]\n",
      "Temperatures in °C: [24.85 36.85 49.85 61.85]\n"
     ]
    }
   ],
   "source": [
    "# Convert temperatures from Kelvin to Celsius\n",
    "temps_K = np.array([298, 310, 323, 335])\n",
    "temps_C = temps_K - 273.15\n",
    "\n",
    "print(f\"Temperatures in K: {temps_K}\")\n",
    "print(f\"Temperatures in °C: {temps_C}\")"
   ]
  },
  {
   "cell_type": "markdown",
   "id": "fdcacb8a-a311-44a1-9312-f2d2ea00ba1c",
   "metadata": {},
   "source": [
    "### Exercise\n",
    "\n",
    "Convert these pressures from atmospheres to pascals (1 atm = 101325 Pa):\n",
    "\n",
    "````python\n",
    "pressures_atm = np.array([1.0, 1.5, 2.0, 0.5])\n",
    "````\n",
    "\n",
    "````{dropdown} Show solution\n",
    "```python\n",
    "pressures_atm = np.array([1.0, 1.5, 2.0, 0.5])\n",
    "pressures_Pa = pressures_atm * 101325\n",
    "\n",
    "print(f\"Pressures in Pa: {pressures_Pa}\")\n",
    "```\n",
    "````"
   ]
  },
  {
   "cell_type": "markdown",
   "id": "76f72fe8-9658-4fb0-b2f3-d3954be3fb60",
   "metadata": {},
   "source": [
    "## Element-wise Operations\n",
    "\n",
    "We can also add, subtract, divide and multiply arrays together. Each of these operations is carried out element-wise:"
   ]
  },
  {
   "cell_type": "code",
   "execution_count": 27,
   "id": "07c2821e-f559-4f44-8c7e-de6eabd9ba7a",
   "metadata": {},
   "outputs": [],
   "source": [
    "array_1 = np.array([1, 5, 7])\n",
    "array_2 = np.array([3, 1, 2])"
   ]
  },
  {
   "cell_type": "code",
   "execution_count": 35,
   "id": "5945a828-5121-4c84-a8cf-b98981fc5579",
   "metadata": {},
   "outputs": [
    {
     "name": "stdout",
     "output_type": "stream",
     "text": [
      "[4 6 9]\n"
     ]
    }
   ],
   "source": [
    "# array addition\n",
    "print(array_1 + array_2)"
   ]
  },
  {
   "cell_type": "code",
   "execution_count": 36,
   "id": "b3ef20a2-ca1c-463e-b443-af1e04d20028",
   "metadata": {},
   "outputs": [
    {
     "name": "stdout",
     "output_type": "stream",
     "text": [
      "[-2  4  5]\n"
     ]
    }
   ],
   "source": [
    "# array subtraction\n",
    "print(array_1 - array_2)"
   ]
  },
  {
   "cell_type": "code",
   "execution_count": 37,
   "id": "5c5a0410-2044-4358-9ef4-0ca3f8c03696",
   "metadata": {},
   "outputs": [
    {
     "name": "stdout",
     "output_type": "stream",
     "text": [
      "[ 3  5 14]\n"
     ]
    }
   ],
   "source": [
    "# array multiplication\n",
    "print(array_1 * array_2)"
   ]
  },
  {
   "cell_type": "code",
   "execution_count": 38,
   "id": "3d8c47a8-e69d-4b07-8662-446285d23f53",
   "metadata": {},
   "outputs": [
    {
     "name": "stdout",
     "output_type": "stream",
     "text": [
      "[0.33333333 5.         3.5       ]\n"
     ]
    }
   ],
   "source": [
    "# array division\n",
    "print(array_1 / array_2)"
   ]
  },
  {
   "cell_type": "code",
   "execution_count": 8,
   "id": "5a869f92-2826-41d4-9e05-3a8cd3edfe5c",
   "metadata": {},
   "outputs": [
    {
     "name": "stdout",
     "output_type": "stream",
     "text": [
      "[1 5 7]\n",
      "[3 1 2]\n",
      "-------\n",
      "[4 6 9]\n"
     ]
    }
   ],
   "source": [
    "array_3 = array_1 + array_2\n",
    "\n",
    "print(array_1)\n",
    "print(array_2)\n",
    "print('-------')\n",
    "print(array_3)"
   ]
  },
  {
   "cell_type": "markdown",
   "id": "1941ce11-c5d9-416e-b43e-edf332b10175",
   "metadata": {},
   "source": [
    "Here, the first element of `array_3` is the sum of the first element of `array_1` and the first element of `array_2`. The second element of `array_3` is the sum of the second element of `array_1` and the second element of `array_2`. And the third element of `array_3` is the sum of the third element of `array_1` and the third element of `array_2`.\n",
    "\n",
    "This is precisely how **vector addition** works, hence the term **vector arithmetic**."
   ]
  },
  {
   "cell_type": "markdown",
   "id": "1fd1dbf5-2084-4f73-8a0c-471bba5c04ad",
   "metadata": {},
   "source": [
    "Note how much simpler element-wise arithmetic is using NumPy arrays than with lists:"
   ]
  },
  {
   "cell_type": "code",
   "execution_count": 9,
   "id": "2485d7a8-2549-406d-bde1-9d07dfa66681",
   "metadata": {},
   "outputs": [
    {
     "name": "stdout",
     "output_type": "stream",
     "text": [
      "NumPy: [4 6 9]\n",
      "Lists: [4, 6, 9]\n"
     ]
    }
   ],
   "source": [
    "# With NumPy arrays\n",
    "array_1 = np.array([1, 5, 7])\n",
    "array_2 = np.array([3, 1, 2])\n",
    "result = array_1 + array_2\n",
    "print(f\"NumPy: {result}\")\n",
    "\n",
    "# With lists (using a list comprehension)\n",
    "list_1 = [1, 5, 7]\n",
    "list_2 = [3, 1, 2]\n",
    "result = [a + b for a, b in zip(list_1, list_2)]\n",
    "print(f\"Lists: {result}\")"
   ]
  },
  {
   "cell_type": "markdown",
   "id": "d7c36857-2875-4eaa-b113-3768bb9f701b",
   "metadata": {},
   "source": [
    "### Exercise\n",
    "\n",
    "You're diluting a set of solutions by different factors. Calculate the final concentrations:\n",
    "````python\n",
    "initial_conc = np.array([0.5, 1.0, 2.0])  # mol/L\n",
    "dilution_factor = np.array([2, 5, 10])     # fold dilution\n",
    "````\n",
    "````{dropdown} Show solution\n",
    "```python\n",
    "initial_conc = np.array([0.5, 1.0, 2.0])\n",
    "dilution_factor = np.array([2, 5, 10])\n",
    "\n",
    "final_conc = initial_conc / dilution_factor\n",
    "\n",
    "print(f\"Final concentrations: {final_conc} mol/L\")\n",
    "```\n",
    "````"
   ]
  },
  {
   "cell_type": "markdown",
   "id": "797a3ed4-24a0-4203-b6b3-7d717581d0bb",
   "metadata": {},
   "source": [
    "## NumPy Functions\n",
    "\n",
    "NumPy provides many useful functions for statistical and mathematical operations."
   ]
  },
  {
   "cell_type": "code",
   "execution_count": 10,
   "id": "ea0aab48-4d8c-4c25-bc68-b8aeb7249c5c",
   "metadata": {},
   "outputs": [
    {
     "name": "stdout",
     "output_type": "stream",
     "text": [
      "The mean = 192.66666666666666\n",
      "The sum = 1156\n",
      "The standard deviation = 19.913702708325125\n"
     ]
    }
   ],
   "source": [
    "example_array = np.array([200, 220, 198, 181, 201, 156])\n",
    "\n",
    "mean_of_example = np.mean(example_array)\n",
    "sum_of_example = np.sum(example_array)\n",
    "std_dev_of_example = np.std(example_array)\n",
    "\n",
    "print(f'The mean = {mean_of_example}')\n",
    "print(f'The sum = {sum_of_example}')\n",
    "print(f'The standard deviation = {std_dev_of_example}')"
   ]
  },
  {
   "cell_type": "markdown",
   "id": "773304d2-c659-4515-ab6a-f21818ce9a96",
   "metadata": {},
   "source": [
    "These operations can also be written as **methods** of arrays:\n"
   ]
  },
  {
   "cell_type": "code",
   "execution_count": 12,
   "id": "44f8965a-5ad5-42e1-8e7a-6a8b5fcfa107",
   "metadata": {},
   "outputs": [
    {
     "name": "stdout",
     "output_type": "stream",
     "text": [
      "Using function: 192.66666666666666\n",
      "Using method: 192.66666666666666\n"
     ]
    }
   ],
   "source": [
    "# These are equivalent\n",
    "print(f\"Using function: {np.mean(example_array)}\")\n",
    "print(f\"Using method: {example_array.mean()}\")"
   ]
  },
  {
   "cell_type": "markdown",
   "id": "15a398b5-ad2c-44dd-bf87-dc13bf35aeeb",
   "metadata": {},
   "source": [
    "You can think of **methods** as functions that belong to specific variables. Calling the method for a particular object is equivalent to calling a function with that object as the first argument. So `my_array.mean()` is analogous to `np.mean(my_array)`.\n",
    "\n",
    "Use whichever style you prefer—both work the same way."
   ]
  },
  {
   "cell_type": "markdown",
   "id": "546748af-703f-4ccd-a2f5-e4e182b307f4",
   "metadata": {},
   "source": [
    "### Mathematical Functions\n",
    "\n",
    "NumPy also provides mathematical functions that work on arrays:"
   ]
  },
  {
   "cell_type": "code",
   "execution_count": 13,
   "id": "241ae2f6-bfaa-42d2-b94f-2cdeac4b3c5d",
   "metadata": {},
   "outputs": [
    {
     "name": "stdout",
     "output_type": "stream",
     "text": [
      "Distances: [2. 3. 4. 5.]\n",
      "exp(x): [1.         2.71828183 7.3890561 ]\n",
      "ln(values): [0.         0.99989632 1.99999241]\n"
     ]
    }
   ],
   "source": [
    "# Square root\n",
    "distances_squared = np.array([4, 9, 16, 25])\n",
    "distances = np.sqrt(distances_squared)\n",
    "print(f\"Distances: {distances}\")\n",
    "\n",
    "# Exponential\n",
    "x = np.array([0, 1, 2])\n",
    "exp_x = np.exp(x)\n",
    "print(f\"exp(x): {exp_x}\")\n",
    "\n",
    "# Natural logarithm\n",
    "values = np.array([1, 2.718, 7.389])\n",
    "ln_values = np.log(values)\n",
    "print(f\"ln(values): {ln_values}\")"
   ]
  },
  {
   "cell_type": "markdown",
   "id": "f364c0b7-8b79-4f2e-bc2c-cb0131c7c4bf",
   "metadata": {},
   "source": [
    "### Calculating Distances\n",
    "\n",
    "For chemistry, we often need to calculate distances between atoms. We can do this with vector arithmetic combined with mathematical functions."
   ]
  },
  {
   "cell_type": "code",
   "execution_count": 14,
   "id": "f7f8261a-3d81-43c5-a268-b3721d744a5f",
   "metadata": {},
   "outputs": [
    {
     "name": "stdout",
     "output_type": "stream",
     "text": [
      "Vector: [1. 1. 0.]\n",
      "Distance: 1.414 Å\n"
     ]
    }
   ],
   "source": [
    "# Two atomic positions\n",
    "atom1 = np.array([0.0, 0.0, 0.0])\n",
    "atom2 = np.array([1.0, 1.0, 0.0])\n",
    "\n",
    "# Vector between atoms\n",
    "vector = atom2 - atom1\n",
    "print(f\"Vector: {vector}\")\n",
    "\n",
    "# Distance (magnitude of vector)\n",
    "distance = np.sqrt(np.sum(vector**2))\n",
    "print(f\"Distance: {distance:.3f} Å\")"
   ]
  },
  {
   "cell_type": "markdown",
   "id": "75523021-ee54-4fb4-9166-deb5a8d547ce",
   "metadata": {},
   "source": [
    "```{margin}\n",
    "You've seen this calculation before in the lists and loops exercises. With NumPy, `vector**2` squares each element, `np.sum()` adds them up, and `np.sqrt()` takes the square root—all in one line.\n",
    "```\n",
    "This calculation uses Pythagoras's theorem: $$d = \\sqrt{(x_2-x_1)^2 + (y_2-y_1)^2 + (z_2-z_1)^2}$$. \n"
   ]
  },
  {
   "cell_type": "markdown",
   "id": "5cf77ab2-860e-4cfa-8539-f05abd939080",
   "metadata": {},
   "source": [
    "NumPy provides a function to calculate the magnitude (length) of a vector directly:"
   ]
  },
  {
   "cell_type": "code",
   "execution_count": 15,
   "id": "115313ea-6155-46ef-a198-07b6eede60c8",
   "metadata": {},
   "outputs": [
    {
     "name": "stdout",
     "output_type": "stream",
     "text": [
      "Distance: 1.414 Å\n"
     ]
    }
   ],
   "source": [
    "# Using np.linalg.norm() (easier!)\n",
    "distance = np.linalg.norm(vector)\n",
    "print(f\"Distance: {distance:.3f} Å\")"
   ]
  },
  {
   "cell_type": "markdown",
   "id": "05b85b6c-4803-45d7-b880-73c9657f4fb7",
   "metadata": {
    "editable": true,
    "slideshow": {
     "slide_type": ""
    },
    "tags": []
   },
   "source": [
    "### Exercise\n",
    "\n",
    "Calculate the O-H bond length in water:\n",
    "````python\n",
    "oxygen = np.array([0.0, 0.0, 0.0])\n",
    "hydrogen = np.array([0.96, 0.0, 0.0])\n",
    "````\n",
    "````{dropdown} Show solution\n",
    "```python\n",
    "oxygen = np.array([0.0, 0.0, 0.0])\n",
    "hydrogen = np.array([0.96, 0.0, 0.0])\n",
    "\n",
    "# Method 1: Manual calculation\n",
    "vector = hydrogen - oxygen\n",
    "bond_length = np.sqrt(np.sum(vector**2))\n",
    "print(f\"Bond length (manual): {bond_length:.3f} Å\")\n",
    "\n",
    "# Method 2: Using norm (recommended)\n",
    "bond_length = np.linalg.norm(hydrogen - oxygen)\n",
    "print(f\"Bond length (norm): {bond_length:.3f} Å\")\n",
    "```\n",
    "````"
   ]
  },
  {
   "cell_type": "markdown",
   "id": "54173d5a-07bb-4662-bcb5-2c1df253f1a4",
   "metadata": {},
   "source": []
  },
  {
   "cell_type": "code",
   "execution_count": null,
   "id": "119591de-e583-4131-acaf-aa06152cb325",
   "metadata": {},
   "outputs": [],
   "source": []
  },
  {
   "cell_type": "markdown",
   "id": "8ef6b8df-b8c3-4ef7-88fd-be9a7b86e539",
   "metadata": {},
   "source": [
    "### Finding Minima and Maxima\n",
    "\n",
    "NumPy also provides functions to find both the values and the positions of minima and maxima in arrays:"
   ]
  },
  {
   "cell_type": "code",
   "execution_count": null,
   "id": "053c1ee8-4d0d-48b0-bbb6-ca282bd5f033",
   "metadata": {},
   "outputs": [],
   "source": []
  },
  {
   "cell_type": "code",
   "execution_count": null,
   "id": "dddaafc6-df37-4800-b0be-e3f8d19a163a",
   "metadata": {},
   "outputs": [],
   "source": []
  },
  {
   "cell_type": "code",
   "execution_count": 40,
   "id": "bbd5bde1-f51c-4d12-a960-096fc9c21793",
   "metadata": {},
   "outputs": [
    {
     "name": "stdout",
     "output_type": "stream",
     "text": [
      "Minimum energy: 128.3 kJ/mol\n",
      "Maximum energy: 145.2 kJ/mol\n",
      "Minimum occurs at index 2\n",
      "Maximum occurs at index 0\n"
     ]
    }
   ],
   "source": [
    "energies = np.array([145.2, 132.8, 128.3, 135.1, 142.7])\n",
    "\n",
    "# Find the minimum and maximum values\n",
    "min_energy = np.min(energies)\n",
    "max_energy = np.max(energies)\n",
    "print(f\"Minimum energy: {min_energy} kJ/mol\")\n",
    "print(f\"Maximum energy: {max_energy} kJ/mol\")\n",
    "\n",
    "# Find the INDEX of minimum and maximum\n",
    "min_index = np.argmin(energies)\n",
    "max_index = np.argmax(energies)\n",
    "print(f\"Minimum occurs at index {min_index}\")\n",
    "print(f\"Maximum occurs at index {max_index}\")"
   ]
  },
  {
   "cell_type": "markdown",
   "id": "c7838d7c-5c2e-4bbc-83ad-91b0e32a11cb",
   "metadata": {},
   "source": [
    "````{margin}\n",
    "`argmin()` and `argmax()` return the **index** of the minimum/maximum value, not the value itself. This lets you look up corresponding values in other arrays.\n",
    "````\n",
    "This is particularly useful when you have corresponding arrays. For example, finding which temperature gave the lowest energy:\n"
   ]
  },
  {
   "cell_type": "code",
   "execution_count": 41,
   "id": "fd63ffe6-4c9d-42ff-8ab6-27491c99b307",
   "metadata": {},
   "outputs": [
    {
     "name": "stdout",
     "output_type": "stream",
     "text": [
      "Minimum energy: 128.3 kJ/mol\n",
      "Occurs at temperature: 323 K\n"
     ]
    }
   ],
   "source": [
    "# Experimental data: energy at different temperatures\n",
    "temperatures = np.array([298, 310, 323, 335, 348])\n",
    "energies = np.array([145.2, 132.8, 128.3, 135.1, 142.7])\n",
    "\n",
    "# Find which temperature gave the minimum energy\n",
    "min_index = np.argmin(energies)\n",
    "optimal_temp = temperatures[min_index]\n",
    "min_energy = energies[min_index]\n",
    "\n",
    "print(f\"Minimum energy: {min_energy} kJ/mol\")\n",
    "print(f\"Occurs at temperature: {optimal_temp} K\")"
   ]
  },
  {
   "cell_type": "markdown",
   "id": "f4a714b0-c8a0-4932-bcfa-924f8f8c8749",
   "metadata": {},
   "source": [
    "### Exercise\n",
    "\n",
    "You've measured reaction rates at different pH values:\n",
    "````python\n",
    "pH_values = np.array([3.0, 4.0, 5.0, 6.0, 7.0, 8.0, 9.0])\n",
    "rates = np.array([0.12, 0.45, 0.89, 1.34, 0.95, 0.52, 0.18])  # μmol/s\n",
    "````\n",
    "\n",
    "Find the pH that gives the maximum reaction rate.\n",
    "````{dropdown} Show solution\n",
    "```python\n",
    "pH_values = np.array([3.0, 4.0, 5.0, 6.0, 7.0, 8.0, 9.0])\n",
    "rates = np.array([0.12, 0.45, 0.89, 1.34, 0.95, 0.52, 0.18])\n",
    "\n",
    "max_index = np.argmax(rates)\n",
    "optimal_pH = pH_values[max_index]\n",
    "max_rate = rates[max_index]\n",
    "\n",
    "print(f\"Maximum rate: {max_rate} μmol/s at pH {optimal_pH}\")\n",
    "```\n",
    "````"
   ]
  },
  {
   "cell_type": "code",
   "execution_count": null,
   "id": "b83039b5-d359-4464-bd2d-4ac521401bc4",
   "metadata": {},
   "outputs": [],
   "source": []
  },
  {
   "cell_type": "markdown",
   "id": "71339590-21ca-4210-95bf-e17a1c838e14",
   "metadata": {},
   "source": [
    "## Common Pitfalls\n",
    "\n",
    "There are a few common mistakes to watch out for when working with NumPy arrays."
   ]
  },
  {
   "cell_type": "markdown",
   "id": "e4af7216-877a-4e9a-a796-9fbbb2879bd5",
   "metadata": {},
   "source": [
    "### Shape Mismatches\n",
    "\n",
    "Arrays must have compatible shapes for element-wise operations:"
   ]
  },
  {
   "cell_type": "code",
   "execution_count": 21,
   "id": "e1794e6f-fa27-494d-a8f7-cc6afc1a027b",
   "metadata": {
    "editable": true,
    "slideshow": {
     "slide_type": ""
    },
    "tags": [
     "raises-exception"
    ]
   },
   "outputs": [
    {
     "name": "stdout",
     "output_type": "stream",
     "text": [
      "Shape of a: (3,)\n",
      "Shape of b: (4,)\n",
      "ValueError: operands could not be broadcast together with shapes (3,) (4,) \n"
     ]
    }
   ],
   "source": [
    "a = np.array([1, 2, 3])\n",
    "b = np.array([1, 2, 3, 4])\n",
    "\n",
    "print(f\"Shape of a: {a.shape}\")\n",
    "print(f\"Shape of b: {b.shape}\")\n",
    "\n",
    "# This causes an error:\n",
    "try:\n",
    "    result = a + b\n",
    "except ValueError as e:\n",
    "    print(f\"ValueError: {e}\")"
   ]
  },
  {
   "cell_type": "markdown",
   "id": "947dd5a8-eb01-47d3-ac11-68ebbcc185c0",
   "metadata": {
    "editable": true,
    "slideshow": {
     "slide_type": ""
    },
    "tags": []
   },
   "source": [
    "```{margin}\n",
    "The `try/except` block in the code above catches the error so it doesn't stop execution. The code in the `try:` block runs, and if an error occurs, the `except:` block handles it.\n",
    "```\n",
    "Always check array shapes when debugging: `print(array.shape)`"
   ]
  },
  {
   "cell_type": "markdown",
   "id": "d6db875b-1d08-41f9-9670-2de3daf4c839",
   "metadata": {
    "editable": true,
    "slideshow": {
     "slide_type": ""
    },
    "tags": []
   },
   "source": [
    "### Accidental Type Conversion\n",
    "\n",
    "Mixing types can give unexpected results:"
   ]
  },
  {
   "cell_type": "code",
   "execution_count": 18,
   "id": "8c2a3104-91d8-441b-90e6-5be42d43432a",
   "metadata": {},
   "outputs": [
    {
     "name": "stdout",
     "output_type": "stream",
     "text": [
      "Array: ['1' '2' '3' '4']\n",
      "Data type: <U21\n"
     ]
    }
   ],
   "source": [
    "# If you accidentally include a string...\n",
    "mixed = np.array([1, 2, '3', 4])\n",
    "print(f\"Array: {mixed}\")\n",
    "print(f\"Data type: {mixed.dtype}\")\n",
    "\n",
    "# Now it's all strings! Mathematical operations won't work as expected"
   ]
  },
  {
   "cell_type": "code",
   "execution_count": 24,
   "id": "2d644e81-4fdc-4d5c-b257-453d70703135",
   "metadata": {
    "editable": true,
    "slideshow": {
     "slide_type": ""
    },
    "tags": []
   },
   "outputs": [
    {
     "name": "stdout",
     "output_type": "stream",
     "text": [
      "TypeError: the resolved dtypes are not compatible with add.reduce. Resolved (dtype('<U21'), dtype('<U21'), dtype('<U42'))\n"
     ]
    }
   ],
   "source": [
    "try:\n",
    "    np.mean(mixed) # Raises an error. We can't compute a mean of strings.\n",
    "except TypeError as e:\n",
    "  print(f\"TypeError: {e}\")"
   ]
  },
  {
   "cell_type": "markdown",
   "id": "a4feaa95-8f3e-4b8a-8247-a84bbd9e651f",
   "metadata": {
    "editable": true,
    "slideshow": {
     "slide_type": ""
    },
    "tags": []
   },
   "source": [
    "Check data types if calculations seem wrong: `print(array.dtype)`. Look for `<U` or `object` dtype—these indicate strings, not numbers."
   ]
  },
  {
   "cell_type": "markdown",
   "id": "6ccffedb-cb7a-4486-85ba-85e5a9fc04e4",
   "metadata": {
    "editable": true,
    "slideshow": {
     "slide_type": ""
    },
    "tags": []
   },
   "source": [
    "## Summary\n",
    "\n",
    "You have learned how to:\n",
    "- Perform scalar operations on arrays (multiply, add, etc.)\n",
    "- Perform element-wise operations between arrays\n",
    "- Use NumPy functions for statistical operations (mean, std, sum)\n",
    "- Use mathematical functions (sqrt, exp, log)\n",
    "- Calculate distances between atoms using `np.linalg.norm()`\n",
    "- Recognise and avoid common pitfalls\n",
    "\n",
    "In the next section, you can test your understanding with exercises that combine these concepts."
   ]
  },
  {
   "cell_type": "code",
   "execution_count": null,
   "id": "f485f8c3-1525-4e12-921a-678396219eae",
   "metadata": {
    "editable": true,
    "slideshow": {
     "slide_type": ""
    },
    "tags": []
   },
   "outputs": [],
   "source": []
  }
 ],
 "metadata": {
  "kernelspec": {
   "display_name": "Python 3 (ipykernel)",
   "language": "python",
   "name": "python3"
  },
  "language_info": {
   "codemirror_mode": {
    "name": "ipython",
    "version": 3
   },
   "file_extension": ".py",
   "mimetype": "text/x-python",
   "name": "python",
   "nbconvert_exporter": "python",
   "pygments_lexer": "ipython3",
   "version": "3.12.3"
  }
 },
 "nbformat": 4,
 "nbformat_minor": 5
}
