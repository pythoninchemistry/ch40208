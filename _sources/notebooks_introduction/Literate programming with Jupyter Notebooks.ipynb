{
 "cells": [
  {
   "cell_type": "markdown",
   "id": "f701772b",
   "metadata": {},
   "source": [
    "# Literate Programming with Jupyter Notebooks\n",
    "\n",
    "In traditional programming, the programmer writes text files that contain \"source code\", that is then compiled or interpreted in order to be run. This code needs to be written in a way that it makes sense to the computer, but not necessarily so that it makes a lot of sense to another human (or the same human in the future).\n",
    "\n",
    "Jupyter Notebooks are an example of **Literate Programming** ([Wikipedia](https://en.wikipedia.org/wiki/Literate_programming), where executable computer code is embedded into a rich document that also describes the programmer's intent and thinking alongside the code. The order of the code follows the programmer's logic, and the code is interspersed with natural language (writing), images, intermediate results, etc. \n",
    "\n",
    "This makes literate programming documents (such as Jupyter Notebooks) very useful for situations where being able to communicate what a piece of computer code **does** is as important as the code itself: for example, digital \"lab books\", interactive data analysis, annotated code examples."
   ]
  },
  {
   "cell_type": "code",
   "execution_count": null,
   "id": "0c701442",
   "metadata": {},
   "outputs": [],
   "source": []
  }
 ],
 "metadata": {
  "kernelspec": {
   "display_name": "Python 3 (ipykernel)",
   "language": "python",
   "name": "python3"
  },
  "language_info": {
   "codemirror_mode": {
    "name": "ipython",
    "version": 3
   },
   "file_extension": ".py",
   "mimetype": "text/x-python",
   "name": "python",
   "nbconvert_exporter": "python",
   "pygments_lexer": "ipython3",
   "version": "3.11.1"
  }
 },
 "nbformat": 4,
 "nbformat_minor": 5
}
