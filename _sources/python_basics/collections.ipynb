{
 "cells": [
  {
   "cell_type": "markdown",
   "metadata": {},
   "source": [
    "# Collections\n",
    "\n",
    "In this section thus far, we have been looking at the use of variable types that exist *individually*, e.g. one float or a single string, but Python can go beyond individual items and natively has objects that can hold *collections* of variables. \n",
    "In this section, we will look in detail at three different types of collections in Python, namely:\n",
    "- [Lists](./lists/)\n",
    "- [Tuples](./tuples/)\n",
    "- [Dictionaries](./dictionaries)\n",
    "\n",
    "Similar to the individual object types, different operations can be performed on each of these collection types."
   ]
  }
 ],
 "metadata": {
  "kernelspec": {
   "display_name": "Python 3",
   "language": "python",
   "name": "python3"
  },
  "language_info": {
   "codemirror_mode": {
    "name": "ipython",
    "version": 3
   },
   "file_extension": ".py",
   "mimetype": "text/x-python",
   "name": "python",
   "nbconvert_exporter": "python",
   "pygments_lexer": "ipython3",
   "version": "3.8.3"
  }
 },
 "nbformat": 4,
 "nbformat_minor": 4
}
