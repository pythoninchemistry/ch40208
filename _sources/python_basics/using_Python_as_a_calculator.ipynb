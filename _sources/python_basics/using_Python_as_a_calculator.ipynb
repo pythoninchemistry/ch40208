{
 "cells": [
  {
   "cell_type": "markdown",
   "metadata": {},
   "source": [
    "# Using Python as a calculator\n",
    "\n",
    "## Calculating 2+2\n",
    "\n",
    "One of the simplest uses of Python is as a calculator. \n",
    "\n",
    "\n",
    "Open a new Notebook and enter into a **code cell**\n",
    "\n",
    "```python\n",
    "2+2\n",
    "```\n",
    "\n",
    "If you run this cell you should get something that looks like the screenshot below. \n",
    "\n",
    " ![](https://github.com/pythoninchemistry/ch40208/raw/main/CH40208/python_basics/images/two_plus_two.png)\n",
    " \n",
    "The cell has run (indicated by the number 1 to the left of the cell), and the “code” has produced a result, which is printed below the cell. \n",
    "Beneath that you get a new, empty cell for your next piece of code.\n",
    " \n",
    "Within this course book, cells that have been run are rendered as follows:"
   ]
  },
  {
   "cell_type": "code",
   "execution_count": 1,
   "metadata": {
    "scrolled": true
   },
   "outputs": [
    {
     "data": {
      "text/plain": [
       "4"
      ]
     },
     "execution_count": 1,
     "metadata": {},
     "output_type": "execute_result"
    }
   ],
   "source": [
    "2+2"
   ]
  },
  {
   "cell_type": "markdown",
   "metadata": {},
   "source": [
    "You can add space between the numbers to make things easier to read:"
   ]
  },
  {
   "cell_type": "code",
   "execution_count": 2,
   "metadata": {},
   "outputs": [
    {
     "data": {
      "text/plain": [
       "4"
      ]
     },
     "execution_count": 2,
     "metadata": {},
     "output_type": "execute_result"
    }
   ],
   "source": [
    "2 + 2"
   ]
  },
  {
   "cell_type": "markdown",
   "metadata": {},
   "source": [
    "Or wrap the expression in brackets:"
   ]
  },
  {
   "cell_type": "code",
   "execution_count": 3,
   "metadata": {},
   "outputs": [
    {
     "data": {
      "text/plain": [
       "4"
      ]
     },
     "execution_count": 3,
     "metadata": {},
     "output_type": "execute_result"
    }
   ],
   "source": [
    "(2 + 2)"
   ]
  },
  {
   "cell_type": "markdown",
   "metadata": {},
   "source": [
    "And still get the same result.\n",
    "\n",
    "There are three core *types* of number in Python: Integers (whole numbers), real numbers, and complex numbers.\n",
    "The different *types* of number correspond to the different ways that Python can represent numeric information.\n",
    "- Integers: A number without a decimal point: e.g., 1, 2, 100, 2<sup>100</sup>.\n",
    "- Floats: A number with a decimal point. e.g., 3.14159, 12.0107, 8.3144.\n",
    "- Complex: A number with a real and imaginary component. Python uses the symbol `j` to denote the imaginary component of a complex number. e.g., (1 + 3j), (-1 + 0j)."
   ]
  },
  {
   "cell_type": "code",
   "execution_count": 4,
   "metadata": {},
   "outputs": [
    {
     "data": {
      "text/plain": [
       "int"
      ]
     },
     "execution_count": 4,
     "metadata": {},
     "output_type": "execute_result"
    }
   ],
   "source": [
    "type(1) # The value \"1\" represented as an integer."
   ]
  },
  {
   "cell_type": "code",
   "execution_count": 5,
   "metadata": {},
   "outputs": [
    {
     "data": {
      "text/plain": [
       "float"
      ]
     },
     "execution_count": 5,
     "metadata": {},
     "output_type": "execute_result"
    }
   ],
   "source": [
    "type(1.0) # The value \"1\" represented as a float."
   ]
  },
  {
   "cell_type": "code",
   "execution_count": 6,
   "metadata": {},
   "outputs": [
    {
     "data": {
      "text/plain": [
       "complex"
      ]
     },
     "execution_count": 6,
     "metadata": {},
     "output_type": "execute_result"
    }
   ],
   "source": [
    "type(1.0+0.0j) # The value \"1\" represented as a complex number."
   ]
  },
  {
   "cell_type": "markdown",
   "metadata": {},
   "source": [
    "## Simple arithmetic\n",
    "\n",
    "You are not limited to adding numbers. Try entering the following expressions into code cells and **executing** them (running the cells.):\n",
    "- subtraction:\n",
    "```python\n",
    "3 - 1\n",
    "```\n",
    "<br>\n",
    "\n",
    "- multiplication:\n",
    "```python\n",
    "4 * 2\n",
    "```\n",
    "<br>\n",
    "\n",
    "- powers (e.g. 4<sup>2</sup>)\n",
    "```python\n",
    "4 ** 2\n",
    "```\n",
    "<br>\n",
    "\n",
    "- division\n",
    "```python\n",
    "6 / 2\n",
    "```\n",
    "\n",
    "In each of these examples you have combined two numbers using an **operator** (`-`, `*`, `**`, `/`) to give a single **expression**. When you run the cell containing this expression, the expression is evaluated and the result is returned as your output.\n",
    "\n",
    "Notice that the last example gives `3.0` and not `3` as the result, even though `6` and `2` are both integers. \n",
    "The division operator (`/`) always returns a float, even when one of both of the numbers being operated on are integers.\n",
    "\n",
    "Arithmetic also works with **floats**:\n",
    "```python\n",
    "2.0 + 2.0\n",
    "```\n",
    "<br>\n",
    "\n",
    "```python\n",
    "4.0 * 2.0\n",
    "```\n",
    "<br>\n",
    "\n",
    "```python\n",
    "4.0 ** 2.0\n",
    "```\n",
    "<br>\n",
    "\n",
    "```python\n",
    "6.0 / 2.0\n",
    "```\n",
    "<br>\n",
    "\n",
    "And with mixtures of **integers** and **floats**\n",
    "```python\n",
    "2 + 2.0\n",
    "```\n",
    "<br>\n",
    "\n",
    "```python\n",
    "4 * 2.0\n",
    "```\n",
    "<br>\n",
    "\n",
    "```python\n",
    "4.0 ** 2\n",
    "```\n",
    "<br>\n",
    "\n",
    "```python\n",
    "6 / 2.0\n",
    "```\n",
    "<br>\n",
    "\n",
    "\n",
    "**floats** can also be written without any numbers after the decimal point, e.g.\n",
    "```python\n",
    "42.\n",
    "```\n",
    "is the same as `42.0`.\n",
    "\n",
    "You can do **integer division** (also called **floor division** ) using the operator `//`:\n",
    "```python\n",
    "6 // 2\n",
    "```\n",
    "<br>\n",
    "\n",
    "Integer division rounds down:\n",
    "```python\n",
    "7 // 2\n",
    "```\n",
    "<br>\n",
    "\n",
    "You can calculate the **remainder** of integer division using the `%` symbol (called the **modulo** operator).\n",
    "```python\n",
    "7 % 2\n",
    "```\n",
    "<br>\n",
    "\n",
    "```python\n",
    "8 % 2\n",
    "```\n",
    "\n",
    "Brackets can be used to specify the order of operations in more complicated expressions, according to the usual mathematical rules:\n",
    "```python\n",
    "(2 + 3) * 4\n",
    "```\n",
    "<br>\n",
    "\n",
    "```python\n",
    "2 + (3 * 4)\n",
    "```\n",
    "<br>"
   ]
  },
  {
   "cell_type": "markdown",
   "metadata": {},
   "source": [
    "## Mathematical functions\n",
    "\n",
    "In addition to the basic algebraic operators above, Python provides many common mathematical functions and the constants $\\pi$ and $\\mathrm{e}$ in the `math` library. This is a built-in *module* that is part of the standard Python installation, but it must be imported before use:"
   ]
  },
  {
   "cell_type": "code",
   "execution_count": 8,
   "metadata": {},
   "outputs": [],
   "source": [
    "import math"
   ]
  },
  {
   "cell_type": "markdown",
   "metadata": {},
   "source": [
    "To use functions or constants from the `math` module, we prefix their names with `math.`"
   ]
  },
  {
   "cell_type": "code",
   "execution_count": 9,
   "metadata": {},
   "outputs": [
    {
     "data": {
      "text/plain": [
       "3.141592653589793"
      ]
     },
     "execution_count": 9,
     "metadata": {},
     "output_type": "execute_result"
    }
   ],
   "source": [
    "math.pi"
   ]
  },
  {
   "cell_type": "code",
   "execution_count": 10,
   "metadata": {},
   "outputs": [
    {
     "data": {
      "text/plain": [
       "0.7071067811865475"
      ]
     },
     "execution_count": 10,
     "metadata": {},
     "output_type": "execute_result"
    }
   ],
   "source": [
    "math.sin(math.pi/4)"
   ]
  },
  {
   "cell_type": "code",
   "execution_count": 13,
   "metadata": {},
   "outputs": [
    {
     "data": {
      "text/plain": [
       "0.7071067811865476"
      ]
     },
     "execution_count": 13,
     "metadata": {},
     "output_type": "execute_result"
    }
   ],
   "source": [
    "math.sqrt(2)/2"
   ]
  },
  {
   "cell_type": "markdown",
   "metadata": {},
   "source": [
    "For the last two examples, we have used a **function call**,\n",
    "which looks like the name of the function followed by a pair of parenthesis, which usually (but not always)\n",
    "then contain one or more **arguments** that the function operates on.\n",
    "```python\n",
    "generic_function(argument1, argument2)\n",
    "```"
   ]
  },
  {
   "cell_type": "markdown",
   "metadata": {},
   "source": [
    "Note that the trigonometic functions in `math` use radians rather than degrees."
   ]
  },
  {
   "cell_type": "markdown",
   "metadata": {},
   "source": [
    "The `math` module can also be used to calculate exponentials and logarithms."
   ]
  },
  {
   "cell_type": "code",
   "execution_count": 17,
   "metadata": {},
   "outputs": [
    {
     "data": {
      "text/plain": [
       "7.38905609893065"
      ]
     },
     "execution_count": 17,
     "metadata": {},
     "output_type": "execute_result"
    }
   ],
   "source": [
    "math.exp(2) # e^2"
   ]
  },
  {
   "cell_type": "code",
   "execution_count": 18,
   "metadata": {},
   "outputs": [
    {
     "data": {
      "text/plain": [
       "2.0"
      ]
     },
     "execution_count": 18,
     "metadata": {},
     "output_type": "execute_result"
    }
   ],
   "source": [
    "math.log(7.38905609893065) # natural log of e^2"
   ]
  },
  {
   "cell_type": "markdown",
   "metadata": {},
   "source": [
    "Note that `math.log` computes the *natural logarithm* (base $\\mathrm{e}$) of the argument. If you want to calculate a base 10 logarithm you can use `math.log10`:"
   ]
  },
  {
   "cell_type": "code",
   "execution_count": 20,
   "metadata": {},
   "outputs": [
    {
     "data": {
      "text/plain": [
       "2.0"
      ]
     },
     "execution_count": 20,
     "metadata": {},
     "output_type": "execute_result"
    }
   ],
   "source": [
    "math.log10(100)"
   ]
  },
  {
   "cell_type": "markdown",
   "metadata": {},
   "source": [
    "Python also provides a couple of useful built-in functions: `abs` and `round`."
   ]
  },
  {
   "cell_type": "code",
   "execution_count": 21,
   "metadata": {},
   "outputs": [
    {
     "data": {
      "text/plain": [
       "4"
      ]
     },
     "execution_count": 21,
     "metadata": {},
     "output_type": "execute_result"
    }
   ],
   "source": [
    "abs(-4) # returns the absolute value of the argument."
   ]
  },
  {
   "cell_type": "code",
   "execution_count": 22,
   "metadata": {},
   "outputs": [
    {
     "data": {
      "text/plain": [
       "3"
      ]
     },
     "execution_count": 22,
     "metadata": {},
     "output_type": "execute_result"
    }
   ],
   "source": [
    "round(math.pi) # rounds down to the nearest integer."
   ]
  }
 ],
 "metadata": {
  "kernelspec": {
   "display_name": "Python 3 (ipykernel)",
   "language": "python",
   "name": "python3"
  },
  "language_info": {
   "codemirror_mode": {
    "name": "ipython",
    "version": 3
   },
   "file_extension": ".py",
   "mimetype": "text/x-python",
   "name": "python",
   "nbconvert_exporter": "python",
   "pygments_lexer": "ipython3",
   "version": "3.11.1"
  }
 },
 "nbformat": 4,
 "nbformat_minor": 4
}
