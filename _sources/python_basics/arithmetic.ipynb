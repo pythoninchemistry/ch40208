{
 "cells": [
  {
   "cell_type": "markdown",
   "metadata": {},
   "source": [
    "# Arithmetic\n",
    "\n",
    "## Using variables in mathematical expressions\n",
    "\n",
    "The ability to assign data to variables and then to use these variables as references back to the data allows the construction of infinitely more complex calculations than the simple single-line expressions we saw previously.\n",
    "\n",
    "As a relatively simple example, assigning numerical data to variables allows us to express mathematical calculations algebraically.\n",
    "\n",
    "## Example: the quadratic formula\n",
    "\n",
    "The [quadratic formula](https://en.wikipedia.org/wiki/Quadratic_formula) is an expression for solving a quadratic equation of the form\n",
    "\n",
    "$$\n",
    "ax^2+bx+c = 0\n",
    "$$\n",
    "\n",
    "where $x$ is the unknown value we want to find, and $a$, $b$, and $c$ are fixed parameters.\n",
    "\n",
    "The formula to find the solutions $x$ is:\n",
    "\n",
    "$$\n",
    "x = \\frac{-b\\pm \\sqrt{b^2-4ac}}{2a}\n",
    "$$\n",
    "\n",
    "Consider the example, $a=1.0$, $b=2.0$, $c=-3.0$:\n",
    "\n",
    "Using &ldquo;Python as a calculator&rdquo; we can find one of the solutions $x$ using"
   ]
  },
  {
   "cell_type": "code",
   "execution_count": 1,
   "metadata": {},
   "outputs": [
    {
     "data": {
      "text/plain": [
       "1.0"
      ]
     },
     "execution_count": 1,
     "metadata": {},
     "output_type": "execute_result"
    }
   ],
   "source": [
    "import math\n",
    "(-2.0 + math.sqrt(2.0**2 - 4*1.0*(-3.0)))/(2*1.0)"
   ]
  },
  {
   "cell_type": "markdown",
   "metadata": {},
   "source": [
    "This works, but the Python is complicated, making it easy to mistype something without realising it. It is also difficult to **understand** what this code is doing if you (or someone else) is reading it. And if we want to solve **another** quadratic equation, then we need to retype the full equation with the new set of parameters (again, hoping we type everything correctly).\n",
    "\n",
    "Using variables we can rewrite this calculation as:"
   ]
  },
  {
   "cell_type": "code",
   "execution_count": 2,
   "metadata": {},
   "outputs": [
    {
     "name": "stdout",
     "output_type": "stream",
     "text": [
      "1.0\n"
     ]
    }
   ],
   "source": [
    "import math\n",
    "a = 1.0\n",
    "b = 2.0\n",
    "c = -3.0\n",
    "x = (-b + math.sqrt(b**2 - 4*a*c)) / (2*a)\n",
    "print(x)"
   ]
  },
  {
   "cell_type": "markdown",
   "metadata": {},
   "source": [
    "This makes the calculation much more readable, and less prone to accidental errors when being typed. It is also clearer how we might adapt this to solve __another__ quadratic equation with different parameters $a$, $b$, and $c$—by editing the variables `a`, `b`, and `c`.\n",
    "\n",
    "## Order of operations\n",
    "\n",
    "Let us unpack this quadratic formula example a bit. We have already seen how simple mathematical operations can be expressed in Python. The full set of native mathematical operations in Python are\n",
    "\n",
    "| Operation | Mathematical notation | Pythonic notation |\n",
    "|---|---|---|\n",
    "| Addition | $a + b$ | `a + b` |\n",
    "| Subtraction |  $a - b$ | `a - b` |\n",
    "| Multiplication | $a \\times b$ | `a * b` |\n",
    "| Division | $a \\div b$ | `a / b` |\n",
    "| Exponent | $a^b$ | `a ** b` |\n",
    "\n",
    "As we saw in the quadratic equation example, a single line of code can include more than one mathematical operation.\n",
    "\n",
    "When an expression contains more than one mathematical operation, Python performs these according to a strict hierarchy necessary to follow a hierarchy, also known as the **order of operations**. Python follows the same order as standard mathematical notation: you may know this as [BODMAS](https://en.wikipedia.org/wiki/Order_of_operations).\n",
    "- **B**rackets `()`\n",
    "- **O**rder `**`\n",
    "- **D**ivision `/` or `//`\n",
    "- **M**ultiplication `*`\n",
    "- **A**ddition `+`\n",
    "- **S**ubtraction `-`"
   ]
  },
  {
   "cell_type": "markdown",
   "metadata": {},
   "source": [
    "## Exercises:\n",
    "\n",
    "### 1.\n",
    "\n",
    "Without using a computer or a calculator, and following the BODMAS order of operations, calculate the following:\n",
    "1. $24\\,/\\,(10 + 2)$\n",
    "2. $5 + 16\\,/\\, 2 \\times 3$\n",
    "3. $[32 \\,/\\, (6 + 2)]^2$\n",
    "    \n",
    "### 2.\n",
    "\n",
    "Write Jupyter cells for each of the following chemical calculations:\n",
    "\n",
    "1. Calculate the energy, in Joules, of radiation with a particular wavenumber,\n",
    "    \n",
    "    $E = hc\\bar{\\nu}$, \n",
    "\n",
    "    where $c$ is the [speed of light](https://en.wikipedia.org/wiki/Speed_of_light), $h$ is [Planck's constant](https://en.wikipedia.org/wiki/Planck_constant), and $\\bar{\\nu}$ is $1700$ cm<sup>-1</sup>.\n",
    "\n",
    "2. Evaluate the $\\text{pH}$ when the concentration of hydroium ions is $1.524\\times10^{-5}$ M,\n",
    "\n",
    "    $\\text{pH} = -\\log_{10}{[\\text{H}_3\\text{O}^+]}$.\n",
    "\n",
    "    You may need to check the $\\log_{10}$ function in the [math module documentation](https://docs.python.org/3/library/math.html).\n",
    "\n",
    "3. Find the potential energy, in Joules, between two atoms at a distance of $2$ Å, modelled with the Lennard-Jones potential model, \n",
    "\n",
    "    $E = \\frac{A}{r^{12}} - \\frac{B}{r^6} $,\n",
    "\n",
    "    where $r$ is the interatomic distance, and $A$ and $B$ are interaction specific constants, for the Argon-Argon interaction these are $1.36\\times10^{-134}$ Jm<sup>12</sup> and $9.27\\times10^{-78}$ Jm<sup>6</sup> respectively.\n",
    "    \n",
    "### 3.\n",
    "\n",
    "The stardard Gibbs free energy for a reaction at a particular temperature is related to the equilibrium constant at that temperature via, \n",
    "\n",
    "$\\Delta G = -RT\\ln{K}$\n",
    "    \n",
    "For the reaction:\n",
    "  \n",
    "  PCl<sub>3</sub> (g) + Cl<sub>2</sub> (g) → PCl<sub>5</sub> (g)\n",
    "  \n",
    "  The standard free energies of formation, $\\Delta G^\\circ_{\\text{f}}$ for each reactant are given below, \n",
    "  \n",
    "- PCl<sub>3</sub>: $-267.8$ kJmol<sup>-1</sup> \n",
    "- PCl<sub>5</sub>: $-305.0$ kJmol<sup>-1</sup> \n",
    "- Cl<sub>2</sub>: $0$ kJmol<sup>-1</sup> \n",
    "  \n",
    "Write a Jupyter Notebook cell to achieve the following:\n",
    "  \n",
    "1. Using [Hess's law](https://en.wikipedia.org/wiki/Hess%27s_law), find the equilibrium constant, $K_p$, for the above reaction.\n",
    "2. Then, assuming that $\\Delta H$ and $\\Delta S$ are independent of temperature between 298 K and 350 K, calculate $\\Delta H^\\circ$ (e.g., at 298 K), given that $\\Delta G_{\\text{f}}$ is &minus;20.2 kJ mol<sup>&minus;1</sup> at 350 K. The following relation may help: $ \\Delta G = \\Delta H - T \\Delta S$.\n",
    "      \n",
    "### 4. \n",
    "\n",
    "The ideal gas law is given by $PV = nRT$, where $P$ is pressure, $V$ is volume, $n$ is the number of moles, $R$ is the gas constant, and $T$ is temperature.\n",
    "\n",
    "Given:\n",
    "\n",
    "- $R$ = 0.08206 L atm K<sup>&minus;1</sup> mol<sup>&minus;1</sup>\n",
    "- $n$ = 2.5 mol\n",
    "- $T$ = 300 K\n",
    "- $V$ = 10.0 L\n",
    "\n",
    "Calculate the pressure $P$ in atm. Then, convert this pressure to kPa (1 atm = 101.325 kPa).\n",
    "\n",
    "Write out all steps of the calculation, using variables for each quantity."
   ]
  },
  {
   "cell_type": "code",
   "execution_count": null,
   "metadata": {},
   "outputs": [],
   "source": []
  }
 ],
 "metadata": {
  "kernelspec": {
   "display_name": "Python 3 (ipykernel)",
   "language": "python",
   "name": "python3"
  },
  "language_info": {
   "codemirror_mode": {
    "name": "ipython",
    "version": 3
   },
   "file_extension": ".py",
   "mimetype": "text/x-python",
   "name": "python",
   "nbconvert_exporter": "python",
   "pygments_lexer": "ipython3",
   "version": "3.11.10"
  }
 },
 "nbformat": 4,
 "nbformat_minor": 4
}
