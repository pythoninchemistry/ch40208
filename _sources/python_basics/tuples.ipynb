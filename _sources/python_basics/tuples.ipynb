{
 "cells": [
  {
   "cell_type": "markdown",
   "id": "ee784ed9-a393-48d3-8de1-ad85899c2e13",
   "metadata": {},
   "source": [
    "# Tuples\n",
    "\n",
    "A `tuple` is similar to a `list` and can be used as an ordered collection of other objects.\n",
    "A `tuple` is defined much in the same way as a `list`, but with parentheses instead of square brackets."
   ]
  },
  {
   "cell_type": "code",
   "execution_count": 10,
   "id": "abf5dca2-a0bb-427a-a86b-7e749bf6326f",
   "metadata": {},
   "outputs": [],
   "source": [
    "noble_gases = ('helium', 'neon', 'argon', 'krypton', 'xenon', 'radon')"
   ]
  },
  {
   "cell_type": "markdown",
   "id": "488221f2-6780-41c5-b2ec-dd70a303b2ff",
   "metadata": {},
   "source": [
    "Above is a tuple of noble gases, where the tuple is defined using round brackets."
   ]
  },
  {
   "cell_type": "code",
   "execution_count": 11,
   "id": "d34aaa54-fc20-40fd-893b-6f2f34122a55",
   "metadata": {},
   "outputs": [
    {
     "data": {
      "text/plain": [
       "tuple"
      ]
     },
     "execution_count": 11,
     "metadata": {},
     "output_type": "execute_result"
    }
   ],
   "source": [
    "type(noble_gases)"
   ]
  },
  {
   "cell_type": "markdown",
   "id": "20e7ea01-9841-4672-9a3f-6fcfb3fd825f",
   "metadata": {},
   "source": [
    "As with lists, we can use the index notation to identify particular elements in the tuple."
   ]
  },
  {
   "cell_type": "code",
   "execution_count": 12,
   "id": "9ee6f094-37fa-42da-9ef5-51711821a011",
   "metadata": {},
   "outputs": [
    {
     "name": "stdout",
     "output_type": "stream",
     "text": [
      "helium\n"
     ]
    }
   ],
   "source": [
    "print(noble_gases[0])"
   ]
  },
  {
   "cell_type": "code",
   "execution_count": 13,
   "id": "765cfad4-90cb-4b1c-84a3-149be2638a34",
   "metadata": {},
   "outputs": [
    {
     "name": "stdout",
     "output_type": "stream",
     "text": [
      "radon\n"
     ]
    }
   ],
   "source": [
    "print(noble_gases[-1])"
   ]
  },
  {
   "cell_type": "markdown",
   "id": "1270b1df-78ea-47e3-9b0e-4cb7d03fc6cc",
   "metadata": {},
   "source": [
    "The main difference between a `tuple` and a `list` is that `lists` are **mutable**: they can be changed after they have been created, either by changing individual elements or deleting or adding elements to change the size of the `list`. A `tuple`, in contrast, is **immutable**: once it has been created it cannot be altered."
   ]
  },
  {
   "cell_type": "code",
   "execution_count": 14,
   "id": "4bd1dc89-077c-4b29-9a59-e5d5603c6958",
   "metadata": {},
   "outputs": [
    {
     "ename": "TypeError",
     "evalue": "'tuple' object does not support item assignment",
     "output_type": "error",
     "traceback": [
      "\u001b[0;31m---------------------------------------------------------------------------\u001b[0m",
      "\u001b[0;31mTypeError\u001b[0m                                 Traceback (most recent call last)",
      "Cell \u001b[0;32mIn[14], line 1\u001b[0m\n\u001b[0;32m----> 1\u001b[0m \u001b[43mnoble_gases\u001b[49m\u001b[43m[\u001b[49m\u001b[38;5;241;43m0\u001b[39;49m\u001b[43m]\u001b[49m \u001b[38;5;241m=\u001b[39m \u001b[38;5;124m'\u001b[39m\u001b[38;5;124mHelium\u001b[39m\u001b[38;5;124m'\u001b[39m\n",
      "\u001b[0;31mTypeError\u001b[0m: 'tuple' object does not support item assignment"
     ]
    }
   ],
   "source": [
    "noble_gases[0] = 'Helium'"
   ]
  },
  {
   "cell_type": "markdown",
   "id": "54934d54-ef36-49c2-9b7f-c5d7fb5d62a9",
   "metadata": {},
   "source": [
    "It is still possible to concatenate tuples, like lists, but the item that is being concatentated must be a tuple, hence the brackets and trailing comma."
   ]
  },
  {
   "cell_type": "code",
   "execution_count": 17,
   "id": "8d1f4459-a253-4219-bdab-0b6da0e6f85d",
   "metadata": {},
   "outputs": [
    {
     "data": {
      "text/plain": [
       "('helium', 'neon', 'argon', 'krypton', 'xenon', 'radon', 'oganesson')"
      ]
     },
     "execution_count": 17,
     "metadata": {},
     "output_type": "execute_result"
    }
   ],
   "source": [
    "noble_gases + ('oganesson',)"
   ]
  },
  {
   "cell_type": "markdown",
   "id": "eb734605-05f4-4b4b-ac44-bcba80a8daf5",
   "metadata": {},
   "source": [
    "The immutability of a tuple does not mean that the whole variable cannot be reassigned."
   ]
  },
  {
   "cell_type": "code",
   "execution_count": 18,
   "id": "81110406-a2fe-4d1a-81f6-4b85333b7b88",
   "metadata": {},
   "outputs": [],
   "source": [
    "noble_gases = 'inert'"
   ]
  },
  {
   "cell_type": "code",
   "execution_count": 19,
   "id": "d68c2db2-1e91-46fe-ae66-bfcc93283445",
   "metadata": {},
   "outputs": [
    {
     "name": "stdout",
     "output_type": "stream",
     "text": [
      "inert\n"
     ]
    }
   ],
   "source": [
    "print(noble_gases)"
   ]
  },
  {
   "cell_type": "markdown",
   "id": "5f69885b-0bfc-4bd7-8fb9-ebb3572e1a37",
   "metadata": {},
   "source": [
    "Additionally, like lists, tuple items can also consist of data of different types."
   ]
  },
  {
   "cell_type": "code",
   "execution_count": 20,
   "id": "3b022b92",
   "metadata": {},
   "outputs": [
    {
     "name": "stdout",
     "output_type": "stream",
     "text": [
      "(0, 'a', 2.3)\n"
     ]
    }
   ],
   "source": [
    "my_tuple = (0, 'a', 2.3)\n",
    "print(my_tuple)"
   ]
  },
  {
   "cell_type": "markdown",
   "id": "3a084cd6",
   "metadata": {},
   "source": [
    "You might be thinking, why have a less capable version of a `lists`, when you could just use `lists` everywhere and never have to worry about which is which? Tuples are computationally more efficient than lists: they use less memory and can be operated on faster, and are often used as the return type from functions that return more than one value. For complex code, there is also a benefit to limiting the number of possible bugs. And, if you do have a bug, you would ideally like the Python interpreter to tell you, rather than have your code run and do something unexpected; for example, your data analysis appears to run fine, but because you have a bug the number you end up quoting in the subsequent research article is incorrect! In general, unless you know that you are going to want to do something with your data that you can only do with a `list`, it can be a good idea to use a `tuple` instead.\n",
    "\n",
    "If you do a collection of objects stored as a `tuple` and you want to convert this to a `list` you can use"
   ]
  },
  {
   "cell_type": "code",
   "execution_count": 21,
   "id": "5420ddad",
   "metadata": {},
   "outputs": [
    {
     "data": {
      "text/plain": [
       "[0, 'a', 2.3]"
      ]
     },
     "execution_count": 21,
     "metadata": {},
     "output_type": "execute_result"
    }
   ],
   "source": [
    "list(my_tuple)"
   ]
  }
 ],
 "metadata": {
  "kernelspec": {
   "display_name": "Python 3 (ipykernel)",
   "language": "python",
   "name": "python3"
  },
  "language_info": {
   "codemirror_mode": {
    "name": "ipython",
    "version": 3
   },
   "file_extension": ".py",
   "mimetype": "text/x-python",
   "name": "python",
   "nbconvert_exporter": "python",
   "pygments_lexer": "ipython3",
   "version": "3.11.1"
  }
 },
 "nbformat": 4,
 "nbformat_minor": 5
}
