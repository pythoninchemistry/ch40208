{
 "cells": [
  {
   "cell_type": "markdown",
   "metadata": {},
   "source": [
    "# Functions\n",
    "\n",
    "By this point you have seen and used a number of **functions**, such as `print()`, `sum()`, and `math.sqrt()`, and the general concept of **functions** was briefly introduced [earlier](content:intro_to_functions).\n",
    "\n",
    "In this section we will cover how functions work in some more detail, and explain how you can write your own functions.\n",
    "\n",
    "Packaging your code into self-contained functions can help you to organise your programs as they become more complex, and also provides a way to write a section of code once and then use it multiple times in some later calculation.\n",
    "\n",
    "To review the key points from the earlier [introduction](content:intro_to_functions): a **function** is a piece of reusable code that takes zero or more inputs, performs a specific computation, and **returns** an output.\n",
    "\n",
    "To use a function (known as **calling** the function) we type the function name, followed by a pair of brackets. Anything inside the brackets specifies the inputs to the function. These inputs are called **arguments**, and are said to be **passed** to the function:\n",
    "\n",
    "## Defining a function\n",
    "\n",
    "To write your own **function** in Python you start with the function **definition**. This consists of a single line that starts with the keyword `def`, followed by the function name, and a pair of brackets (these contain any **arguments**, which we will discuss in detail below), before finishing with a colon `:`.\n",
    "\n",
    "Function names are **variables** and follow the same rules regarding allowed names as other **variables**. The convention is for **functions** to be written in **snakecase** where each word is written entirely in lowercase, with underscores between words, e.g. `sum()` or `kinetic_energy()` or `distance_between_two_atoms()`.\n",
    "\n",
    "After the **definition** line comes the code that runs when you **call** the function. This code must be indented, in the same way as we saw previously for **loops**. The end of this indented **block** of code marks the end of the function.\n",
    "\n",
    "The simplest function definition uses no **arguments** and takes the following form.="
   ]
  },
  {
   "cell_type": "code",
   "execution_count": 1,
   "metadata": {},
   "outputs": [],
   "source": [
    "def print_hello_world():\n",
    "    print(\"Hello World!\")"
   ]
  },
  {
   "cell_type": "markdown",
   "metadata": {},
   "source": [
    "Running this code does not produce an output, but instead creates a **variable** called `print_hello_world` that is assigned to the code specified in the function definition."
   ]
  },
  {
   "cell_type": "code",
   "execution_count": 2,
   "metadata": {},
   "outputs": [
    {
     "data": {
      "text/plain": [
       "<function __main__.print_hello_world()>"
      ]
     },
     "execution_count": 2,
     "metadata": {},
     "output_type": "execute_result"
    }
   ],
   "source": [
    "print_hello_world"
   ]
  },
  {
   "cell_type": "code",
   "execution_count": 3,
   "metadata": {},
   "outputs": [
    {
     "data": {
      "text/plain": [
       "function"
      ]
     },
     "execution_count": 3,
     "metadata": {},
     "output_type": "execute_result"
    }
   ],
   "source": [
    "type(print_hello_world)"
   ]
  },
  {
   "cell_type": "markdown",
   "metadata": {},
   "source": [
    "To **call** this function, we write the function name, followed by a pair of brackets."
   ]
  },
  {
   "cell_type": "code",
   "execution_count": 4,
   "metadata": {},
   "outputs": [
    {
     "name": "stdout",
     "output_type": "stream",
     "text": [
      "Hello World!\n"
     ]
    }
   ],
   "source": [
    "print_hello_world()"
   ]
  },
  {
   "cell_type": "markdown",
   "metadata": {},
   "source": [
    "Note the difference between the **variable** that refers to the code (no brackets) and **calling** the function stored in this **variable** (with brackets)"
   ]
  },
  {
   "cell_type": "code",
   "execution_count": 5,
   "metadata": {},
   "outputs": [
    {
     "data": {
      "text/plain": [
       "<function __main__.print_hello_world()>"
      ]
     },
     "execution_count": 5,
     "metadata": {},
     "output_type": "execute_result"
    }
   ],
   "source": [
    "print_hello_world"
   ]
  },
  {
   "cell_type": "code",
   "execution_count": 6,
   "metadata": {},
   "outputs": [
    {
     "name": "stdout",
     "output_type": "stream",
     "text": [
      "Hello World!\n"
     ]
    }
   ],
   "source": [
    "print_hello_world()"
   ]
  },
  {
   "cell_type": "markdown",
   "metadata": {},
   "source": [
    "## Function arguments\n",
    "\n",
    "Functions can be given one or more **arguments**. These represent data that we **pass** into the function when we **call** it, that can then be used inside the function. One way this is useful is if you want to write a piece of code that will always perform the same computation on a range of different data."
   ]
  },
  {
   "cell_type": "code",
   "execution_count": 7,
   "metadata": {},
   "outputs": [],
   "source": [
    "def greet(name):\n",
    "    print(f'Hello {name}')"
   ]
  },
  {
   "cell_type": "markdown",
   "metadata": {},
   "source": [
    "In this example, we have defined a function `greet()` that takes one argument `name`. You can think of this argument as a variable that exists inside the function. To **call** this function now, and pass a value into the argument `name` we provide the value we want to pass inside the brackets in the function call:"
   ]
  },
  {
   "cell_type": "code",
   "execution_count": 8,
   "metadata": {},
   "outputs": [
    {
     "name": "stdout",
     "output_type": "stream",
     "text": [
      "Hello Ben\n"
     ]
    }
   ],
   "source": [
    "greet(\"Ben\")"
   ]
  },
  {
   "cell_type": "markdown",
   "metadata": {},
   "source": [
    "We can pass any value, or a variable that is assigned to a value, into this function. When we call the function, a new variable `name` is created, which is assigned to the value of the object passed to the function."
   ]
  },
  {
   "cell_type": "code",
   "execution_count": 9,
   "metadata": {},
   "outputs": [
    {
     "name": "stdout",
     "output_type": "stream",
     "text": [
      "Hello Drew\n"
     ]
    }
   ],
   "source": [
    "my_name = \"Drew\"\n",
    "greet(my_name)"
   ]
  },
  {
   "cell_type": "markdown",
   "metadata": {},
   "source": [
    "If the function requires an argument, and we forget to pass one, an error is raised:"
   ]
  },
  {
   "cell_type": "code",
   "execution_count": 10,
   "metadata": {},
   "outputs": [
    {
     "ename": "TypeError",
     "evalue": "greet() missing 1 required positional argument: 'name'",
     "output_type": "error",
     "traceback": [
      "\u001b[0;31m---------------------------------------------------------------------------\u001b[0m",
      "\u001b[0;31mTypeError\u001b[0m                                 Traceback (most recent call last)",
      "Cell \u001b[0;32mIn[10], line 1\u001b[0m\n\u001b[0;32m----> 1\u001b[0m \u001b[43mgreet\u001b[49m\u001b[43m(\u001b[49m\u001b[43m)\u001b[49m\n",
      "\u001b[0;31mTypeError\u001b[0m: greet() missing 1 required positional argument: 'name'"
     ]
    }
   ],
   "source": [
    "greet()"
   ]
  },
  {
   "cell_type": "markdown",
   "metadata": {},
   "source": [
    "or if we pass the wrong number of arguments:"
   ]
  },
  {
   "cell_type": "code",
   "execution_count": 11,
   "metadata": {},
   "outputs": [
    {
     "ename": "TypeError",
     "evalue": "greet() takes 1 positional argument but 2 were given",
     "output_type": "error",
     "traceback": [
      "\u001b[0;31m---------------------------------------------------------------------------\u001b[0m",
      "\u001b[0;31mTypeError\u001b[0m                                 Traceback (most recent call last)",
      "Cell \u001b[0;32mIn[11], line 1\u001b[0m\n\u001b[0;32m----> 1\u001b[0m \u001b[43mgreet\u001b[49m\u001b[43m(\u001b[49m\u001b[38;5;124;43m\"\u001b[39;49m\u001b[38;5;124;43mBen\u001b[39;49m\u001b[38;5;124;43m\"\u001b[39;49m\u001b[43m,\u001b[49m\u001b[43m \u001b[49m\u001b[38;5;124;43m\"\u001b[39;49m\u001b[38;5;124;43mDrew\u001b[39;49m\u001b[38;5;124;43m\"\u001b[39;49m\u001b[43m)\u001b[49m\n",
      "\u001b[0;31mTypeError\u001b[0m: greet() takes 1 positional argument but 2 were given"
     ]
    }
   ],
   "source": [
    "greet(\"Ben\", \"Drew\")"
   ]
  },
  {
   "cell_type": "markdown",
   "metadata": {},
   "source": [
    "To define a function with more than one argument, we can include more argument variable names in the function definition."
   ]
  },
  {
   "cell_type": "code",
   "execution_count": 12,
   "metadata": {},
   "outputs": [],
   "source": [
    "def double_greet(name1, name2):\n",
    "    print(f\"Hello {name1} and {name2}.\")"
   ]
  },
  {
   "cell_type": "code",
   "execution_count": 13,
   "metadata": {},
   "outputs": [
    {
     "name": "stdout",
     "output_type": "stream",
     "text": [
      "Hello Ben and Drew.\n"
     ]
    }
   ],
   "source": [
    "double_greet(\"Ben\", \"Drew\")"
   ]
  },
  {
   "cell_type": "markdown",
   "metadata": {},
   "source": [
    "Here is a more practical example, where we use a function to return the roots of the quadratic equation $ax^2+bx+c$, where $a$, $b$, and $c$ are each passed to the function as ordered arguments."
   ]
  },
  {
   "cell_type": "code",
   "execution_count": 14,
   "metadata": {},
   "outputs": [
    {
     "name": "stdout",
     "output_type": "stream",
     "text": [
      "(2.0, -5.0)\n"
     ]
    }
   ],
   "source": [
    "import math\n",
    "\n",
    "def quadratic_roots(a, b, c):\n",
    "    d = b**2 - 4*a*c\n",
    "    r1 = (-b + math.sqrt(d)) / 2 / a\n",
    "    r2 = (-b - math.sqrt(d)) / 2 / a\n",
    "    return r1, r2\n",
    "\n",
    "print(quadratic_roots(1, 3, -10))"
   ]
  },
  {
   "cell_type": "markdown",
   "metadata": {},
   "source": [
    "### Keyword, Optional, and Default arguments\n",
    "\n",
    "In the examples above, we have assigned values to the arguments of a function based on the order of these arguments in the function call.\n",
    "\n",
    "For example:\n",
    "```python\n",
    "quadratic_roots(1, 3, -10)\n",
    "```\n",
    "\n",
    "calls the `quadratic_roots` function and assigns `a=1`, `b=3`, `c=-10`, because the arguments appear in this order in the function definition above.\n",
    "\n",
    "We can also assign values to function arguments explicitly using **keyword arguments**."
   ]
  },
  {
   "cell_type": "code",
   "execution_count": 15,
   "metadata": {},
   "outputs": [
    {
     "data": {
      "text/plain": [
       "(2.0, -5.0)"
      ]
     },
     "execution_count": 15,
     "metadata": {},
     "output_type": "execute_result"
    }
   ],
   "source": [
    "quadratic_roots(b=3, c=-10, a=1)"
   ]
  },
  {
   "cell_type": "markdown",
   "metadata": {},
   "source": [
    "We can mix positional and keyword arguments in a function call, but the positional arguments must come first:"
   ]
  },
  {
   "cell_type": "code",
   "execution_count": 16,
   "metadata": {},
   "outputs": [
    {
     "data": {
      "text/plain": [
       "(2.0, -5.0)"
      ]
     },
     "execution_count": 16,
     "metadata": {},
     "output_type": "execute_result"
    }
   ],
   "source": [
    "quadratic_roots(1, c=-10, b=3)"
   ]
  },
  {
   "cell_type": "code",
   "execution_count": 17,
   "metadata": {},
   "outputs": [
    {
     "ename": "SyntaxError",
     "evalue": "positional argument follows keyword argument (3903935889.py, line 1)",
     "output_type": "error",
     "traceback": [
      "\u001b[0;36m  Cell \u001b[0;32mIn[17], line 1\u001b[0;36m\u001b[0m\n\u001b[0;31m    quadratic_roots(a=1, -10, b=3)\u001b[0m\n\u001b[0m                                 ^\u001b[0m\n\u001b[0;31mSyntaxError\u001b[0m\u001b[0;31m:\u001b[0m positional argument follows keyword argument\n"
     ]
    }
   ],
   "source": [
    "quadratic_roots(a=1, -10, b=3)"
   ]
  },
  {
   "cell_type": "markdown",
   "metadata": {},
   "source": [
    "Similarly, calling a function using a keyword argument that is not included in the function definition also raises an error:"
   ]
  },
  {
   "cell_type": "code",
   "execution_count": 18,
   "metadata": {},
   "outputs": [
    {
     "ename": "TypeError",
     "evalue": "quadratic_roots() got an unexpected keyword argument 'f'",
     "output_type": "error",
     "traceback": [
      "\u001b[0;31m---------------------------------------------------------------------------\u001b[0m",
      "\u001b[0;31mTypeError\u001b[0m                                 Traceback (most recent call last)",
      "Cell \u001b[0;32mIn[18], line 1\u001b[0m\n\u001b[0;32m----> 1\u001b[0m \u001b[43mquadratic_roots\u001b[49m\u001b[43m(\u001b[49m\u001b[43ma\u001b[49m\u001b[38;5;241;43m=\u001b[39;49m\u001b[38;5;241;43m1\u001b[39;49m\u001b[43m,\u001b[49m\u001b[43m \u001b[49m\u001b[43mb\u001b[49m\u001b[38;5;241;43m=\u001b[39;49m\u001b[38;5;241;43m3\u001b[39;49m\u001b[43m,\u001b[49m\u001b[43m \u001b[49m\u001b[43mf\u001b[49m\u001b[38;5;241;43m=\u001b[39;49m\u001b[38;5;241;43m-\u001b[39;49m\u001b[38;5;241;43m10\u001b[39;49m\u001b[43m)\u001b[49m\n",
      "\u001b[0;31mTypeError\u001b[0m: quadratic_roots() got an unexpected keyword argument 'f'"
     ]
    }
   ],
   "source": [
    "quadratic_roots(a=1, b=3, f=-10)"
   ]
  },
  {
   "cell_type": "markdown",
   "metadata": {},
   "source": [
    "Functions can also be defined with **optional** arguments by giving these arguments **default** values in the the function definition."
   ]
  },
  {
   "cell_type": "code",
   "execution_count": 19,
   "metadata": {},
   "outputs": [],
   "source": [
    "def ch40208_greet(name, day=\"Tuesday\"):\n",
    "    print(f\"Hello {name}, and welcome to the {day} lesson.\")"
   ]
  },
  {
   "cell_type": "markdown",
   "metadata": {},
   "source": [
    "In this case we have one **required** argument, and one **optional** argument. If we call the function and pass one value, this has the argument variable `name` assigned to it, while the argument variable `day` is assigned to the default value of `\"Tuesday\"`."
   ]
  },
  {
   "cell_type": "code",
   "execution_count": 20,
   "metadata": {},
   "outputs": [
    {
     "name": "stdout",
     "output_type": "stream",
     "text": [
      "Hello Ben, and welcome to the Tuesday lesson.\n"
     ]
    }
   ],
   "source": [
    "ch40208_greet(\"Ben\")"
   ]
  },
  {
   "cell_type": "markdown",
   "metadata": {},
   "source": [
    "What if it is not Tuesday though? Then we can call this function with two input parameters and specify the day:"
   ]
  },
  {
   "cell_type": "code",
   "execution_count": 21,
   "metadata": {},
   "outputs": [
    {
     "name": "stdout",
     "output_type": "stream",
     "text": [
      "Hello Ben, and welcome to the Friday lesson.\n"
     ]
    }
   ],
   "source": [
    "ch40208_greet(\"Ben\", \"Friday\")"
   ]
  },
  {
   "cell_type": "markdown",
   "metadata": {},
   "source": [
    "Note that the sequence of values passed into the function maps onto the sequence of argument variables assigned to these values."
   ]
  },
  {
   "cell_type": "code",
   "execution_count": 22,
   "metadata": {},
   "outputs": [
    {
     "name": "stdout",
     "output_type": "stream",
     "text": [
      "Hello Friday, and welcome to the Ben lesson.\n"
     ]
    }
   ],
   "source": [
    "ch40208_greet(\"Friday\", \"Ben\")"
   ]
  },
  {
   "cell_type": "markdown",
   "metadata": {},
   "source": [
    "While **required arguments** must be passed in the same order as the argument list in the function definition, **optional arguments** passed **with keywords** can appear in any order (although they must appear **after** all the required arguments."
   ]
  },
  {
   "cell_type": "code",
   "execution_count": 23,
   "metadata": {},
   "outputs": [],
   "source": [
    "def ch40208_greet_and_info(name, day=\"Tuesday\", topic=\"Topics in Computational Chemistry\"):\n",
    "    print(f\"Hello {name}. Welcome to the {day} lesson on {topic}.\")"
   ]
  },
  {
   "cell_type": "code",
   "execution_count": 24,
   "metadata": {},
   "outputs": [
    {
     "name": "stdout",
     "output_type": "stream",
     "text": [
      "Hello Lucy. Welcome to the Tuesday lesson on Topics in Computational Chemistry.\n"
     ]
    }
   ],
   "source": [
    "ch40208_greet_and_info(\"Lucy\")"
   ]
  },
  {
   "cell_type": "code",
   "execution_count": 25,
   "metadata": {},
   "outputs": [
    {
     "name": "stdout",
     "output_type": "stream",
     "text": [
      "Hello Lucy. Welcome to the Friday lesson on Topics in Computational Chemistry.\n"
     ]
    }
   ],
   "source": [
    "ch40208_greet_and_info(\"Lucy\", \"Friday\")"
   ]
  },
  {
   "cell_type": "code",
   "execution_count": 26,
   "metadata": {},
   "outputs": [
    {
     "name": "stdout",
     "output_type": "stream",
     "text": [
      "Hello Lucy. Welcome to the Friday lesson on functions.\n"
     ]
    }
   ],
   "source": [
    "ch40208_greet_and_info(\"Lucy\", \"Friday\", \"functions\")"
   ]
  },
  {
   "cell_type": "code",
   "execution_count": 27,
   "metadata": {},
   "outputs": [
    {
     "name": "stdout",
     "output_type": "stream",
     "text": [
      "Hello Lucy. Welcome to the Tuesday lesson on functions (again).\n"
     ]
    }
   ],
   "source": [
    "ch40208_greet_and_info(\"Lucy\", topic=\"functions (again)\")"
   ]
  },
  {
   "cell_type": "markdown",
   "metadata": {},
   "source": [
    "In this last example, we pass two parameters, but the second parameter is assigned the **keyword** `topic`. When the `ch40208_greet_and_info()` function is called, the first parameter is assigned to the required `name` argument, and the second parameter is assigned to the `topic` argument, corresponding to the keywork. We do not provide a value for the `day` optional argument, so the function runs with `day` assigned to the default value of `\"Monday\"`."
   ]
  },
  {
   "cell_type": "markdown",
   "metadata": {},
   "source": [
    "## Returning values from functions\n",
    "\n",
    "A function can **return** some value, that we can then use again in our code."
   ]
  },
  {
   "cell_type": "code",
   "execution_count": 28,
   "metadata": {},
   "outputs": [
    {
     "name": "stdout",
     "output_type": "stream",
     "text": [
      "15\n"
     ]
    }
   ],
   "source": [
    "numbers = [1, 2, 3, 4, 5]\n",
    "step_total = sum(numbers)\n",
    "print(step_total)"
   ]
  },
  {
   "cell_type": "markdown",
   "metadata": {},
   "source": [
    "In this example, the sum function adds the values in the list passed as the required argument, and **returns** this sum (15)."
   ]
  },
  {
   "cell_type": "markdown",
   "metadata": {},
   "source": [
    "We can **return** values in our own functions using the **return** keyword. For example, we could write our own replacement for `sum()`:"
   ]
  },
  {
   "cell_type": "code",
   "execution_count": 29,
   "metadata": {},
   "outputs": [],
   "source": [
    "def my_sum(list_of_numbers):\n",
    "    total = 0\n",
    "    for n in list_of_numbers:\n",
    "        total += n\n",
    "    return total"
   ]
  },
  {
   "cell_type": "code",
   "execution_count": 30,
   "metadata": {},
   "outputs": [
    {
     "name": "stdout",
     "output_type": "stream",
     "text": [
      "15\n"
     ]
    }
   ],
   "source": [
    "print(my_sum(numbers))"
   ]
  },
  {
   "cell_type": "markdown",
   "metadata": {},
   "source": [
    "Our definition for a function was that it **always** returns a value. And you might remember checking the **return value** of `print()`:"
   ]
  },
  {
   "cell_type": "code",
   "execution_count": 31,
   "metadata": {},
   "outputs": [
    {
     "name": "stdout",
     "output_type": "stream",
     "text": [
      "The print() function returns\n"
     ]
    },
    {
     "data": {
      "text/plain": [
       "NoneType"
      ]
     },
     "execution_count": 31,
     "metadata": {},
     "output_type": "execute_result"
    }
   ],
   "source": [
    "type(print(\"The print() function returns\"))"
   ]
  },
  {
   "cell_type": "markdown",
   "metadata": {},
   "source": [
    "If we do not specify a **return value** in our own functions, then these too will return `None`:"
   ]
  },
  {
   "cell_type": "code",
   "execution_count": 32,
   "metadata": {},
   "outputs": [
    {
     "name": "stdout",
     "output_type": "stream",
     "text": [
      "Hello Jacob, and welcome to the Tuesday lesson.\n"
     ]
    },
    {
     "data": {
      "text/plain": [
       "NoneType"
      ]
     },
     "execution_count": 32,
     "metadata": {},
     "output_type": "execute_result"
    }
   ],
   "source": [
    "type(ch40208_greet(\"Jacob\"))"
   ]
  },
  {
   "cell_type": "markdown",
   "metadata": {},
   "source": [
    "## Scope\n",
    "\n",
    "The term **scope** refers to where a variable is **visible** in a Python program. Variables can be visible in one part of a program, but not in another part."
   ]
  },
  {
   "cell_type": "code",
   "execution_count": 33,
   "metadata": {},
   "outputs": [
    {
     "name": "stdout",
     "output_type": "stream",
     "text": [
      "8\n"
     ]
    },
    {
     "ename": "NameError",
     "evalue": "name 'a' is not defined",
     "output_type": "error",
     "traceback": [
      "\u001b[0;31m---------------------------------------------------------------------------\u001b[0m",
      "\u001b[0;31mNameError\u001b[0m                                 Traceback (most recent call last)",
      "Cell \u001b[0;32mIn[33], line 6\u001b[0m\n\u001b[1;32m      2\u001b[0m     \u001b[38;5;28;01mreturn\u001b[39;00m a \u001b[38;5;241m+\u001b[39m b\n\u001b[1;32m      4\u001b[0m \u001b[38;5;28mprint\u001b[39m(add(\u001b[38;5;241m3\u001b[39m, \u001b[38;5;241m5\u001b[39m))\n\u001b[0;32m----> 6\u001b[0m \u001b[38;5;28mprint\u001b[39m(\u001b[43ma\u001b[49m)\n",
      "\u001b[0;31mNameError\u001b[0m: name 'a' is not defined"
     ]
    }
   ],
   "source": [
    "def add(a, b):\n",
    "    return a + b\n",
    "\n",
    "print(add(3, 5))\n",
    "\n",
    "print(a)\n",
    "    "
   ]
  },
  {
   "cell_type": "markdown",
   "metadata": {},
   "source": [
    "In this example, the variables `a` and `b` are only defined **inside** the function `add`. If we try to refer to either of these variable names **outside** the function, the we get a `NameError` saying that these names have not been defined."
   ]
  },
  {
   "cell_type": "markdown",
   "metadata": {},
   "source": [
    "To describe this behaviour in terms of **scope**, we would say that `a` and `b` are defined in the **local scope** of the function `add`. Outside this scope, these variables are not defined. One consequence of this is we can write modular code where the same variable names get reused in different functions, while each function remains self-contained."
   ]
  },
  {
   "cell_type": "code",
   "execution_count": 34,
   "metadata": {},
   "outputs": [
    {
     "name": "stdout",
     "output_type": "stream",
     "text": [
      "5\n",
      "6\n"
     ]
    }
   ],
   "source": [
    "def add(a, b):\n",
    "    return a + b\n",
    "\n",
    "def multiply(a, b):\n",
    "    return a * b\n",
    "\n",
    "print(add(2,3))\n",
    "print(multiply(2,3))"
   ]
  },
  {
   "cell_type": "markdown",
   "metadata": {},
   "source": [
    "If we define variables **outside** of functions then they are defined in **global scope**. Variables defined in global scope are also visible in the local scope of any functions defined further down in the same piece of code."
   ]
  },
  {
   "cell_type": "code",
   "execution_count": 35,
   "metadata": {},
   "outputs": [
    {
     "name": "stdout",
     "output_type": "stream",
     "text": [
      "6\n"
     ]
    }
   ],
   "source": [
    "x, y = 1, 3\n",
    "\n",
    "def add_to_x(y):\n",
    "    return x + y\n",
    "\n",
    "print(add_to_x(5))"
   ]
  },
  {
   "cell_type": "markdown",
   "metadata": {},
   "source": [
    "In this example, we define two variables in global scope: `x` and `y`. We then define another variable `y` in the local scope of the function `add_to_x`, which is set to the value `5` when we call the function. Because `x` is not defined in the local scope of the function, the Python interpreter looks to see if there is a variable `x` defined in the **outer** scope. If there is, it assumes we are referring to that variable.\n",
    "\n",
    "We can make things a bit clearer by adding some `print()` statements:"
   ]
  },
  {
   "cell_type": "code",
   "execution_count": 36,
   "metadata": {},
   "outputs": [
    {
     "name": "stdout",
     "output_type": "stream",
     "text": [
      "outside the function: x = 1, y = 3\n",
      "inside the function: x = 1, y = 5\n",
      "6\n",
      "outside the function: x = 1, y = 3\n"
     ]
    }
   ],
   "source": [
    "x, y = 1, 3\n",
    "\n",
    "print(f'outside the function: x = {x}, y = {y}')\n",
    "\n",
    "def add_to_x(y):\n",
    "    print(f'inside the function: x = {x}, y = {y}')\n",
    "    return x + y\n",
    "\n",
    "print(add_to_x(5))\n",
    "\n",
    "print(f'outside the function: x = {x}, y = {y}')"
   ]
  },
  {
   "cell_type": "markdown",
   "metadata": {},
   "source": [
    "Notice how when we return outside the function, we are back in the global scope, and the name `y` now refers to the value `3` defined in the first line of the code."
   ]
  },
  {
   "cell_type": "markdown",
   "metadata": {},
   "source": [
    "Mixing global and local scope can get quite confusing. In fact, it is usually good practice to only refer to local variables inside functions, unless it is very clear from the code what they refer to. One of the benefits of dividing code up into functions is that it makes your code modular, and individual functions can be reused across different bits of code. If the behaviour of a function depends on the value of a global variable, however, it can become very difficult to correctly reason about the behaviour of that function, giving a prime opportunity for hard-to-squash bugs in your code."
   ]
  },
  {
   "cell_type": "markdown",
   "metadata": {},
   "source": [
    "An example of where you might want to use a global variable inside a function might be to have a global variable for a physical constant, such as the Boltzmann constant."
   ]
  },
  {
   "cell_type": "code",
   "execution_count": 37,
   "metadata": {},
   "outputs": [],
   "source": [
    "k_boltz = 1.380649e-23 # Boltzmann constant in J K^-1\n",
    "\n",
    "def boltzmann_factor(energy, temperature):\n",
    "    return math.exp(-energy/(k_boltz * temperature))"
   ]
  },
  {
   "cell_type": "markdown",
   "metadata": {},
   "source": [
    "Python also has a set of built-in functions and variables that are always available, like `print()` and `len()`. These live in **built-in scope**. The Python interpreter checks built-in scope after it has checked local scope and global scope. This means that if you define a new variable with the same name as a built-in function you might get unexpected behaviour and a particularly hard-to-spot bug."
   ]
  },
  {
   "cell_type": "markdown",
   "metadata": {},
   "source": [
    "Local scope does not only apply to functions; it also applied to list comprehensions:"
   ]
  },
  {
   "cell_type": "code",
   "execution_count": 39,
   "metadata": {},
   "outputs": [
    {
     "name": "stdout",
     "output_type": "stream",
     "text": [
      "[7, 8, 9]\n",
      "3\n"
     ]
    }
   ],
   "source": [
    "x = 3\n",
    "print([x+1 for x in (6,7,8)])\n",
    "print(x) # refers to x in global scope"
   ]
  },
  {
   "cell_type": "markdown",
   "metadata": {},
   "source": [
    "## Docstrings\n",
    "\n",
    "Computer code is rarely used once, when it is written, and then left. More often code is used over weeks, or months, or years, possibly with pieces of code being used in multiple projects or by multiple users. Code that solves your specific problem might also be easier to **adapt** from pre-existing code (either your own or someone elses), than to write from scratch each time. \n",
    "\n",
    "While we might all think that it is obvious what our code does and how it works at the time we write it, there is no guarantee that someone else will think the same thing. Or that if you want to reuse or modify a piece of code in six months that it will make any sense.\n",
    "\n",
    "Having to figure out exactly what a piece of code does by reading the source code is, at best, time consuming; at worst it becomes impossible.\n",
    "\n",
    "For these reasons, it is strongly recommended that you **document** your code, to give enough information to a future user of the code (most likely future-you) to be able to pick it up and use it correctly."
   ]
  },
  {
   "cell_type": "markdown",
   "metadata": {},
   "source": [
    "Functions support a particular kind of inline documentation called a **docstring**. A **docstring** is a **string** that provides documentation about a function: usually a summary of what the function does, and information about any required or optional **arguments**, and any data **returned** by the function.\n",
    "\n",
    "A **docstring** is written as a **multi-line string**, which is defined in Python by a block of text that starts and ends with **triple quotes**: `\"\"\"` or `'''`.\n",
    "\n",
    "For example, here is a function `kinetic_energy()` that calculates the kinetic energy of a particle. The function takes two required arguments `mass` and `velocity` and returns the kinetic energy, calculated as $E_\\mathrm{KE} = \\frac{1}{2}mv^2$."
   ]
  },
  {
   "cell_type": "code",
   "execution_count": null,
   "metadata": {},
   "outputs": [],
   "source": [
    "def kinetic_energy(mass, velocity):\n",
    "    \"\"\"\n",
    "    Determine the kinetic energy of a particle.\n",
    "    \n",
    "    Args: \n",
    "        mass (float): Particle mass (kg)\n",
    "        velocity (float): Particle velocity (m/s)\n",
    "    \n",
    "    Returns:\n",
    "        (float): Particle kinetic energy (J)\n",
    "    \"\"\"\n",
    "    kinetic_energy = 0.5 * mass * velocity ** 2\n",
    "    return kinetic_energy"
   ]
  },
  {
   "cell_type": "markdown",
   "metadata": {},
   "source": [
    "In this example the **docstring** is:\n",
    "\n",
    "```python\n",
    "    \"\"\"\n",
    "    Determine the kinetic energy of a particle.\n",
    "    \n",
    "    Args: \n",
    "        mass (float): Particle mass (kg)\n",
    "        velocity (float): Particle velocity (m/s)\n",
    "    \n",
    "    Returns:\n",
    "        (float): Particle kinetic energy (J)\n",
    "    \"\"\"\n",
    " ```\n",
    " \n",
    " The first line gives a brief summary of what the function does.\n",
    " \n",
    " Below this there is an `Args:` section, with each argument listed on a separate line underneath.\n",
    " \n",
    " At the end there is a `Returns:` section, which gives the **type** of the returned value, and an explanation of what this is."
   ]
  },
  {
   "cell_type": "markdown",
   "metadata": {},
   "source": [
    "A **docstring** can contain any text in any format. There are a few common conventions used in most Python code. In this example we have used [Google Style](https://sphinxcontrib-napoleon.readthedocs.io/en/latest/example_google.html), but other **dosctring** styles do exist."
   ]
  },
  {
   "cell_type": "markdown",
   "metadata": {},
   "source": [
    "Once a function has been defined, or imported, the **docstring** is stored as a special variable `__doc__`, which allows us to read this information."
   ]
  },
  {
   "cell_type": "code",
   "execution_count": null,
   "metadata": {},
   "outputs": [],
   "source": [
    "print(kinetic_energy.__doc__)"
   ]
  },
  {
   "cell_type": "markdown",
   "metadata": {},
   "source": [
    "We can do the same thing for functions that are part of the standard library or that we have **imported** from external modules:"
   ]
  },
  {
   "cell_type": "code",
   "execution_count": null,
   "metadata": {},
   "outputs": [],
   "source": [
    "print(sum.__doc__)"
   ]
  },
  {
   "cell_type": "code",
   "execution_count": null,
   "metadata": {},
   "outputs": [],
   "source": [
    "from math import sqrt\n",
    "print(sqrt.__doc__)"
   ]
  },
  {
   "cell_type": "markdown",
   "metadata": {},
   "source": [
    "If we are working inside a **Jupyter notebook** we can use a special `?` syntax to open the docstring for a function in a separate popout window."
   ]
  },
  {
   "cell_type": "code",
   "execution_count": null,
   "metadata": {},
   "outputs": [],
   "source": [
    "kinetic_energy?"
   ]
  },
  {
   "cell_type": "markdown",
   "metadata": {},
   "source": [
    "![](https://github.com/pythoninchemistry/ch40208/raw/main/CH40208/python_basics/images/jupyter_docstring_example.png)"
   ]
  },
  {
   "cell_type": "markdown",
   "metadata": {},
   "source": [
    "## Exercises:\n",
    "\n",
    "### 1\n",
    "Write a function to calculate the distance between two atoms. \n",
    "  Then rewrite the exercise in the loops section to utilise this function. \n",
    "  Make sure to include a docstring describing the purpose of the function and outlining the arguments.\n",
    "  \n",
    "### 2\n",
    "The Einstein model for the heat capacity of a crystal is \n",
    "\n",
    "$$C_{V,m} = 3R\\left(\\frac{\\Theta_E}{T}\\right)^2\\frac{\\exp\\left(\\frac{\\Theta_\\mathrm{E}}{T}\\right)}{\\left[\\exp\\left(\\frac{\\Theta_\\mathrm{E}}{T}\\right)-1\\right]^2}$$\n",
    "\n",
    "where the _Einstein temperature_, $\\Theta_\\mathrm{E}$ is a constant for a given material.\n",
    "\n",
    "Write a function to calculate $C_\\mathrm{V,m}$ at 300 K for (a) sodium ("
   ]
  },
  {
   "cell_type": "code",
   "execution_count": null,
   "metadata": {},
   "outputs": [],
   "source": []
  }
 ],
 "metadata": {
  "kernelspec": {
   "display_name": "Python 3 (ipykernel)",
   "language": "python",
   "name": "python3"
  },
  "language_info": {
   "codemirror_mode": {
    "name": "ipython",
    "version": 3
   },
   "file_extension": ".py",
   "mimetype": "text/x-python",
   "name": "python",
   "nbconvert_exporter": "python",
   "pygments_lexer": "ipython3",
   "version": "3.11.1"
  }
 },
 "nbformat": 4,
 "nbformat_minor": 4
}
