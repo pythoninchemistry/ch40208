{
 "cells": [
  {
   "cell_type": "markdown",
   "metadata": {},
   "source": [
    "(content:lists)=\n",
    "# Lists\n",
    "\n",
    "Up until now we have dealt with individual pieces of data, such **integer** or **floating point** data types to store numerical data, or **strings** to represent textual data.\n",
    "\n",
    "Often we want to work with **collections** of data, such as a time-series of concentrations from an experiment, or a set of yields obtained from different experimental protocols, or the list of students enrolled in **CH40208 Topics in Computational Chemistry**.\n",
    "\n",
    "A **list** is an **ordered** collection of values. The values that make up a **list** are called **elements** or **items**, so we might talk of a list that contains 4 **items**, or the 2nd **element** in a list.\n",
    "\n",
    "## Creating lists\n",
    "\n",
    "A list in Python is written as a sequence of values separated by commas and enclosed by square brackets."
   ]
  },
  {
   "cell_type": "code",
   "execution_count": 1,
   "metadata": {},
   "outputs": [
    {
     "data": {
      "text/plain": [
       "[1, 1, 2, 3, 5, 8, 13]"
      ]
     },
     "execution_count": 1,
     "metadata": {},
     "output_type": "execute_result"
    }
   ],
   "source": [
    "[1, 1, 2, 3, 5, 8, 13]"
   ]
  },
  {
   "cell_type": "markdown",
   "metadata": {},
   "source": [
    "We can assign a list to a variable the same way as with single-value datatypes:"
   ]
  },
  {
   "cell_type": "code",
   "execution_count": 2,
   "metadata": {},
   "outputs": [],
   "source": [
    "fibonnaci = [1, 1, 3, 4, 5, 8, 13]"
   ]
  },
  {
   "cell_type": "code",
   "execution_count": 3,
   "metadata": {},
   "outputs": [
    {
     "name": "stdout",
     "output_type": "stream",
     "text": [
      "[1, 1, 3, 4, 5, 8, 13]\n"
     ]
    }
   ],
   "source": [
    "print(fibonnaci)"
   ]
  },
  {
   "cell_type": "code",
   "execution_count": 4,
   "metadata": {},
   "outputs": [
    {
     "data": {
      "text/plain": [
       "list"
      ]
     },
     "execution_count": 4,
     "metadata": {},
     "output_type": "execute_result"
    }
   ],
   "source": [
    "type(fibonnaci)"
   ]
  },
  {
   "cell_type": "markdown",
   "metadata": {},
   "source": [
    "A list can contain any datatype:"
   ]
  },
  {
   "cell_type": "code",
   "execution_count": 5,
   "metadata": {},
   "outputs": [],
   "source": [
    "nobel_gases = ['helium', 'Neon', 'Argon']"
   ]
  },
  {
   "cell_type": "code",
   "execution_count": 6,
   "metadata": {},
   "outputs": [
    {
     "name": "stdout",
     "output_type": "stream",
     "text": [
      "['helium', 'Neon', 'Argon']\n"
     ]
    }
   ],
   "source": [
    "print(nobel_gases)"
   ]
  },
  {
   "cell_type": "code",
   "execution_count": 7,
   "metadata": {},
   "outputs": [
    {
     "data": {
      "text/plain": [
       "list"
      ]
     },
     "execution_count": 7,
     "metadata": {},
     "output_type": "execute_result"
    }
   ],
   "source": [
    "type(nobel_gases)"
   ]
  },
  {
   "cell_type": "markdown",
   "metadata": {},
   "source": [
    "Even a mixture of different datatypes:"
   ]
  },
  {
   "cell_type": "code",
   "execution_count": 8,
   "metadata": {},
   "outputs": [],
   "source": [
    "miscellaneous = [42, \"mushroom\", 3.145, 2+3j]"
   ]
  },
  {
   "cell_type": "code",
   "execution_count": 9,
   "metadata": {},
   "outputs": [
    {
     "name": "stdout",
     "output_type": "stream",
     "text": [
      "[42, 'mushroom', 3.145, (2+3j)]\n"
     ]
    }
   ],
   "source": [
    "print(miscellaneous)"
   ]
  },
  {
   "cell_type": "code",
   "execution_count": 10,
   "metadata": {},
   "outputs": [
    {
     "data": {
      "text/plain": [
       "list"
      ]
     },
     "execution_count": 10,
     "metadata": {},
     "output_type": "execute_result"
    }
   ],
   "source": [
    "type(miscellaneous)"
   ]
  },
  {
   "cell_type": "markdown",
   "metadata": {},
   "source": [
    "Or other lists:"
   ]
  },
  {
   "cell_type": "code",
   "execution_count": 11,
   "metadata": {},
   "outputs": [
    {
     "name": "stdout",
     "output_type": "stream",
     "text": [
      "['e', ['a', 'b', 'c'], 'f']\n"
     ]
    }
   ],
   "source": [
    "inner_list = ['a', 'b', 'c']\n",
    "outer_list = ['e', inner_list, 'f']\n",
    "print(outer_list)"
   ]
  },
  {
   "cell_type": "markdown",
   "metadata": {},
   "source": [
    "This last example would be described as a **nested** list (a list inside another list).\n",
    "\n",
    "## List indexing\n",
    "\n",
    "Individual elements of a list can be referred to by using **list indexing**. For example, the first item in our `nobel_gases` list can be accessed using"
   ]
  },
  {
   "cell_type": "code",
   "execution_count": 12,
   "metadata": {},
   "outputs": [
    {
     "data": {
      "text/plain": [
       "'helium'"
      ]
     },
     "execution_count": 12,
     "metadata": {},
     "output_type": "execute_result"
    }
   ],
   "source": [
    "nobel_gases[0]"
   ]
  },
  {
   "cell_type": "markdown",
   "metadata": {},
   "source": [
    "The second item using:"
   ]
  },
  {
   "cell_type": "code",
   "execution_count": 13,
   "metadata": {},
   "outputs": [
    {
     "data": {
      "text/plain": [
       "'Neon'"
      ]
     },
     "execution_count": 13,
     "metadata": {},
     "output_type": "execute_result"
    }
   ],
   "source": [
    "nobel_gases[1]"
   ]
  },
  {
   "cell_type": "markdown",
   "metadata": {},
   "source": [
    "And the third item using:"
   ]
  },
  {
   "cell_type": "code",
   "execution_count": 14,
   "metadata": {},
   "outputs": [
    {
     "data": {
      "text/plain": [
       "'Argon'"
      ]
     },
     "execution_count": 14,
     "metadata": {},
     "output_type": "execute_result"
    }
   ],
   "source": [
    "nobel_gases[2]"
   ]
  },
  {
   "cell_type": "markdown",
   "metadata": {},
   "source": [
    "Note that to reference the 1st element we use `[0]` after the list variable name, to reference the 2nd element we use `[1]`, and to reference the 3rd element we use `[2]`. This convention is because the list index describes the number of entries **from the start of the list**. i.e. the first entry is **zero** entries from the start.\n",
    "\n",
    "Trying to access a list element that does not exist raises an `IndexError`:"
   ]
  },
  {
   "cell_type": "code",
   "execution_count": 15,
   "metadata": {},
   "outputs": [
    {
     "ename": "IndexError",
     "evalue": "list index out of range",
     "output_type": "error",
     "traceback": [
      "\u001b[0;31m---------------------------------------------------------------------------\u001b[0m",
      "\u001b[0;31mIndexError\u001b[0m                                Traceback (most recent call last)",
      "\u001b[0;32m<ipython-input-15-aec4b5f00960>\u001b[0m in \u001b[0;36m<module>\u001b[0;34m\u001b[0m\n\u001b[0;32m----> 1\u001b[0;31m \u001b[0mnobel_gases\u001b[0m\u001b[0;34m[\u001b[0m\u001b[0;36m3\u001b[0m\u001b[0;34m]\u001b[0m\u001b[0;34m\u001b[0m\u001b[0;34m\u001b[0m\u001b[0m\n\u001b[0m",
      "\u001b[0;31mIndexError\u001b[0m: list index out of range"
     ]
    }
   ],
   "source": [
    "nobel_gases[3]"
   ]
  },
  {
   "cell_type": "markdown",
   "metadata": {},
   "source": [
    "We can also refer to individual elements counting backwards from the end of the list, using **negative indexing**:"
   ]
  },
  {
   "cell_type": "code",
   "execution_count": 16,
   "metadata": {},
   "outputs": [
    {
     "data": {
      "text/plain": [
       "'Argon'"
      ]
     },
     "execution_count": 16,
     "metadata": {},
     "output_type": "execute_result"
    }
   ],
   "source": [
    "nobel_gases[-1]"
   ]
  },
  {
   "cell_type": "code",
   "execution_count": 17,
   "metadata": {},
   "outputs": [
    {
     "data": {
      "text/plain": [
       "'Neon'"
      ]
     },
     "execution_count": 17,
     "metadata": {},
     "output_type": "execute_result"
    }
   ],
   "source": [
    "nobel_gases[-2]"
   ]
  },
  {
   "cell_type": "code",
   "execution_count": 18,
   "metadata": {},
   "outputs": [
    {
     "data": {
      "text/plain": [
       "'helium'"
      ]
     },
     "execution_count": 18,
     "metadata": {},
     "output_type": "execute_result"
    }
   ],
   "source": [
    "nobel_gases[-3]"
   ]
  },
  {
   "cell_type": "markdown",
   "metadata": {},
   "source": [
    "<center>\n",
    "    <img src='https://github.com/pythoninchemistry/ch40208/raw/main/CH40208/python_basics/images/list_indexing.png' width='50%'>\n",
    "</center>\n",
    "\n",
    "Using positive and negative indexing to refer to individual elements of the `nobel_gases` list.\n",
    "\n",
    "## Modifying lists\n",
    "\n",
    "An important feature of **lists** is that they are **mutable**—values in the list can be changed; new elements can be added; existing elements can be deleted.\n",
    "\n",
    "You might have noticed that the first of our noble gases is `\"helium\"`, which is missing a capital letter. We can fix that by assigning a new value to `nobel_gases[0]`"
   ]
  },
  {
   "cell_type": "code",
   "execution_count": 19,
   "metadata": {},
   "outputs": [
    {
     "name": "stdout",
     "output_type": "stream",
     "text": [
      "['Helium', 'Neon', 'Argon']\n"
     ]
    }
   ],
   "source": [
    "nobel_gases[0] = \"Helium\"\n",
    "print(nobel_gases)"
   ]
  },
  {
   "cell_type": "markdown",
   "metadata": {},
   "source": [
    "### Adding elements to lists\n",
    "\n",
    "Lists have a number of special functions (called **methods**) that we can use to add elements to a pre-existing list. \n",
    "\n",
    "A **method** is somewhat similar to a **function**, except it is associated with a particular object. Using a method lets us implicitly refer to the associated object. \n",
    "\n",
    "Calling a method of a list implicitly refers to that list. For example, to append another nobel gas string to our `nobel_gases` list we can use the `append()` method:"
   ]
  },
  {
   "cell_type": "code",
   "execution_count": 20,
   "metadata": {},
   "outputs": [
    {
     "name": "stdout",
     "output_type": "stream",
     "text": [
      "['Helium', 'Neon', 'Argon', 'Krypton']\n"
     ]
    }
   ],
   "source": [
    "nobel_gases = ['Helium', 'Neon', 'Argon']\n",
    "nobel_gases.append('Krypton')\n",
    "print(nobel_gases)"
   ]
  },
  {
   "cell_type": "markdown",
   "metadata": {},
   "source": [
    "This is equivalent to a function that takes **two** arguments: the list we want to append to, and the object to be appended. For example, we might imagine an `append_to_list()` function that works as follows (note that this `append_to_list()` function is purely imagined and doesn't exist in native Python):"
   ]
  },
  {
   "cell_type": "code",
   "execution_count": 21,
   "metadata": {
    "tags": [
     "remove-cell"
    ]
   },
   "outputs": [],
   "source": [
    "def append_to_list(the_list, object):\n",
    "    return the_list.append(object)"
   ]
  },
  {
   "cell_type": "code",
   "execution_count": 22,
   "metadata": {},
   "outputs": [
    {
     "name": "stdout",
     "output_type": "stream",
     "text": [
      "['Helium', 'Neon', 'Argon', 'Krypton']\n"
     ]
    }
   ],
   "source": [
    "nobel_gases = ['Helium', 'Neon', 'Argon']\n",
    "append_to_list(nobel_gases, 'Krypton')\n",
    "print(nobel_gases)"
   ]
  },
  {
   "cell_type": "markdown",
   "metadata": {},
   "source": [
    "Because the `append()` method belongs to the `nobel_gases` list, when we use `nobel_gases.append()` we don't need to specify the list that we are appending to.\n",
    "\n",
    "Another list method that can be used to add elements is `insert()`, which inserts an object at a given index:"
   ]
  },
  {
   "cell_type": "code",
   "execution_count": 23,
   "metadata": {},
   "outputs": [
    {
     "name": "stdout",
     "output_type": "stream",
     "text": [
      "['Helium', 'Neon', 'Argon', 'Krypton']\n"
     ]
    }
   ],
   "source": [
    "nobel_gases = ['Helium', 'Neon', 'Krypton']\n",
    "nobel_gases.insert(2, 'Argon')\n",
    "print(nobel_gases)"
   ]
  },
  {
   "cell_type": "markdown",
   "metadata": {},
   "source": [
    "The `insert()` methods takes **two** arguments: the index where the insertion will take place (in this case `2`), and the object to insert (in this case `\"Argon\"`).\n",
    "\n",
    "You can also **extend** a list with another list, by using the `extend()` method:"
   ]
  },
  {
   "cell_type": "code",
   "execution_count": 24,
   "metadata": {},
   "outputs": [
    {
     "name": "stdout",
     "output_type": "stream",
     "text": [
      "['Helium', 'Neon', 'Argon', 'Krypton', 'Xenon', 'Radon']\n"
     ]
    }
   ],
   "source": [
    "nobel_gases.extend(['Xenon', 'Radon'])\n",
    "print(nobel_gases)"
   ]
  },
  {
   "cell_type": "markdown",
   "metadata": {},
   "source": [
    "Or you can **concatenate** two lists using the `+` operator (this is similar to \"adding\" strings):"
   ]
  },
  {
   "cell_type": "code",
   "execution_count": 25,
   "metadata": {},
   "outputs": [
    {
     "name": "stdout",
     "output_type": "stream",
     "text": [
      "['Helium', 'Neon', 'Argon', 'Krypton', 'Xenon', 'Radon']\n"
     ]
    }
   ],
   "source": [
    "nobel_gases = ['Helium', 'Neon', 'Argon']\n",
    "more_nobel_gases = ['Krypton', 'Xenon', 'Radon']\n",
    "print(nobel_gases + more_nobel_gases)"
   ]
  },
  {
   "cell_type": "markdown",
   "metadata": {},
   "source": [
    "### Deleting elements from lists\n",
    "\n",
    "Lists also have methods for deleting or removing elements. These include `remove()` which removes the first matching object in a list."
   ]
  },
  {
   "cell_type": "code",
   "execution_count": 26,
   "metadata": {},
   "outputs": [
    {
     "name": "stdout",
     "output_type": "stream",
     "text": [
      "['Helium', 'Argon']\n"
     ]
    }
   ],
   "source": [
    "nobel_gases = ['Helium', 'Neon', 'Argon']\n",
    "nobel_gases.remove('Neon')\n",
    "print(nobel_gases)"
   ]
  },
  {
   "cell_type": "markdown",
   "metadata": {},
   "source": [
    "## List slices\n",
    "\n",
    "By referring to a single list index, we can access a single item of a list. Python also allows us to use **slice notation** to access a **range** of items from a list, e.g."
   ]
  },
  {
   "cell_type": "code",
   "execution_count": 27,
   "metadata": {},
   "outputs": [
    {
     "name": "stdout",
     "output_type": "stream",
     "text": [
      "['Neon', 'Argon', 'Krypton']\n"
     ]
    }
   ],
   "source": [
    "nobel_gases = ['Helium', 'Neon', 'Argon', 'Krypton', 'Xenon', 'Radon']\n",
    "print(nobel_gases[1:4])"
   ]
  },
  {
   "cell_type": "markdown",
   "metadata": {},
   "source": [
    "This gives us just those elements of a list starting from `nobel_gases[1]` up to **but not including** `nobel_gases[4]`.\n",
    "\n",
    "This behaviour, where the first index is included in the slice, but the last index is not included might seem strange at first (you will get used to this with practice and experience). The reasoning behind this behaviour is that a slice `nobel_gases[1:4]` should contain 4-1=3 elements, and should start from the same element as (in this case) `nobel_gases[1]`.\n",
    "\n",
    "Either the first or last index can be left out, in which case you get a slice starting from the first element, or finishing with the last element, respectively."
   ]
  },
  {
   "cell_type": "code",
   "execution_count": 28,
   "metadata": {},
   "outputs": [
    {
     "name": "stdout",
     "output_type": "stream",
     "text": [
      "['Helium', 'Neon', 'Argon']\n"
     ]
    }
   ],
   "source": [
    "nobel_gases = ['Helium', 'Neon', 'Argon', 'Krypton', 'Xenon', 'Radon']\n",
    "print(nobel_gases[:3])"
   ]
  },
  {
   "cell_type": "code",
   "execution_count": 29,
   "metadata": {},
   "outputs": [
    {
     "name": "stdout",
     "output_type": "stream",
     "text": [
      "['Krypton', 'Xenon', 'Radon']\n"
     ]
    }
   ],
   "source": [
    "nobel_gases = ['Helium', 'Neon', 'Argon', 'Krypton', 'Xenon', 'Radon']\n",
    "print(nobel_gases[3:])"
   ]
  },
  {
   "cell_type": "markdown",
   "metadata": {},
   "source": [
    "List slices can also be given a third integer, which describes a **step** size. This is implicitly equal to `1` when it is not specified"
   ]
  },
  {
   "cell_type": "code",
   "execution_count": 30,
   "metadata": {},
   "outputs": [
    {
     "name": "stdout",
     "output_type": "stream",
     "text": [
      "['Helium', 'Argon', 'Xenon']\n"
     ]
    }
   ],
   "source": [
    "nobel_gases = ['Helium', 'Neon', 'Argon', 'Krypton', 'Xenon', 'Radon']\n",
    "print(nobel_gases[::2])"
   ]
  },
  {
   "cell_type": "markdown",
   "metadata": {},
   "source": [
    "In this example. we start from the first element, and go up to the last element, in steps of 2, giving elements 0, 2, and 4.\n",
    "\n",
    "In addition to the `remove()` method above, list slicing gives us another way to \"delete\" elements from a list:"
   ]
  },
  {
   "cell_type": "code",
   "execution_count": 31,
   "metadata": {},
   "outputs": [
    {
     "name": "stdout",
     "output_type": "stream",
     "text": [
      "['Neon', 'Argon']\n"
     ]
    }
   ],
   "source": [
    "nobel_gases = ['Helium', 'Neon', 'Argon', 'Krypton', 'Xenon', 'Radon']\n",
    "nobel_gases = nobel_gases[1:3]\n",
    "print(nobel_gases)"
   ]
  },
  {
   "cell_type": "markdown",
   "metadata": {},
   "source": [
    "In the second line here we select elements 1 and 2 from the original `nobel_gases` list, using **slice notation**, which gives us `['Neon', 'Argon']`. We then *assign* this value to the variable name `nobel_gases`, which overwrites the original list.\n",
    "\n",
    "## Working with nested lists\n",
    "\n",
    "We saw above that a list can contain one or more other lists, giving a **nested list**. How then do these work with indexing?\n",
    "\n",
    "Consider the following nested list:"
   ]
  },
  {
   "cell_type": "code",
   "execution_count": 32,
   "metadata": {},
   "outputs": [
    {
     "name": "stdout",
     "output_type": "stream",
     "text": [
      "['a', 'b', ['c', 'd'], 'e', 'f']\n"
     ]
    }
   ],
   "source": [
    "letters = ['a', 'b', ['c', 'd'], 'e', 'f']\n",
    "print(letters)"
   ]
  },
  {
   "cell_type": "markdown",
   "metadata": {},
   "source": [
    "The list `letters` has **five** elements, these are:\n",
    "\n",
    "- `'a'`\n",
    "- `'b'`\n",
    "- the list `['c', 'd']`\n",
    "- `'e'`\n",
    "- `'f'`\n",
    "\n",
    "We can confirm this using the `len()` function. If we pass `len()` a list, it returns the number of elements in that list (i.e. the **length**)."
   ]
  },
  {
   "cell_type": "code",
   "execution_count": 33,
   "metadata": {},
   "outputs": [
    {
     "data": {
      "text/plain": [
       "5"
      ]
     },
     "execution_count": 33,
     "metadata": {},
     "output_type": "execute_result"
    }
   ],
   "source": [
    "len(letters)"
   ]
  },
  {
   "cell_type": "markdown",
   "metadata": {},
   "source": [
    "The **third** element is the sublist `['c', 'd']`, which we can access using `letters[2]`"
   ]
  },
  {
   "cell_type": "code",
   "execution_count": 34,
   "metadata": {},
   "outputs": [
    {
     "name": "stdout",
     "output_type": "stream",
     "text": [
      "['c', 'd']\n"
     ]
    }
   ],
   "source": [
    "print(letters[2])"
   ]
  },
  {
   "cell_type": "markdown",
   "metadata": {},
   "source": [
    "`letters[2]` is a list"
   ]
  },
  {
   "cell_type": "code",
   "execution_count": 35,
   "metadata": {},
   "outputs": [
    {
     "data": {
      "text/plain": [
       "list"
      ]
     },
     "execution_count": 35,
     "metadata": {},
     "output_type": "execute_result"
    }
   ],
   "source": [
    "type(letters[2])"
   ]
  },
  {
   "cell_type": "markdown",
   "metadata": {},
   "source": [
    "and we can interact with this in the same way as any other list, e.g."
   ]
  },
  {
   "cell_type": "code",
   "execution_count": 36,
   "metadata": {},
   "outputs": [
    {
     "data": {
      "text/plain": [
       "'d'"
      ]
     },
     "execution_count": 36,
     "metadata": {},
     "output_type": "execute_result"
    }
   ],
   "source": [
    "letters[2][1]"
   ]
  },
  {
   "cell_type": "code",
   "execution_count": 37,
   "metadata": {},
   "outputs": [
    {
     "name": "stdout",
     "output_type": "stream",
     "text": [
      "['a', 'b', ['c', 'd', 'z'], 'e', 'f']\n"
     ]
    }
   ],
   "source": [
    "letters[2].append('z')\n",
    "print(letters)"
   ]
  },
  {
   "cell_type": "markdown",
   "metadata": {},
   "source": [
    "## Summing over lists using `sum()` (or `.join()`)\n",
    "\n",
    "Python provides a `sum()` function that can be used to &ldquo;sum&rdquo; or add-together all the elements of a list.\n",
    "\n",
    "e.g."
   ]
  },
  {
   "cell_type": "code",
   "execution_count": 38,
   "metadata": {},
   "outputs": [
    {
     "data": {
      "text/plain": [
       "15"
      ]
     },
     "execution_count": 38,
     "metadata": {},
     "output_type": "execute_result"
    }
   ],
   "source": [
    "list_of_numbers = [1, 2, 3, 4, 5]\n",
    "sum(list_of_numbers)"
   ]
  },
  {
   "cell_type": "markdown",
   "metadata": {},
   "source": [
    "This is the same as adding all the elements explicitly:"
   ]
  },
  {
   "cell_type": "code",
   "execution_count": 39,
   "metadata": {},
   "outputs": [
    {
     "data": {
      "text/plain": [
       "15"
      ]
     },
     "execution_count": 39,
     "metadata": {},
     "output_type": "execute_result"
    }
   ],
   "source": [
    "list_of_numbers[0] + list_of_numbers[1] + list_of_numbers[2] + list_of_numbers[3] + list_of_numbers[4]"
   ]
  },
  {
   "cell_type": "markdown",
   "metadata": {},
   "source": [
    "The `sum()` function only works for lists of **numbers**, so can't be used to (for example) &lqduo;add&rdquo; a list of **strings**. Trying to use `sum()` to add a list of **strings** will raise a `TypeError`:"
   ]
  },
  {
   "cell_type": "code",
   "execution_count": 43,
   "metadata": {},
   "outputs": [
    {
     "ename": "TypeError",
     "evalue": "unsupported operand type(s) for +: 'int' and 'str'",
     "output_type": "error",
     "traceback": [
      "\u001b[0;31m---------------------------------------------------------------------------\u001b[0m",
      "\u001b[0;31mTypeError\u001b[0m                                 Traceback (most recent call last)",
      "\u001b[0;32m<ipython-input-43-3a9c9dc32b9f>\u001b[0m in \u001b[0;36m<module>\u001b[0;34m\u001b[0m\n\u001b[1;32m      1\u001b[0m \u001b[0mmessage\u001b[0m \u001b[0;34m=\u001b[0m \u001b[0;34m[\u001b[0m\u001b[0;34m\"This\"\u001b[0m\u001b[0;34m,\u001b[0m \u001b[0;34m\"will\"\u001b[0m\u001b[0;34m,\u001b[0m \u001b[0;34m\"add\"\u001b[0m\u001b[0;34m,\u001b[0m \u001b[0;34m\"everything\"\u001b[0m\u001b[0;34m,\u001b[0m \u001b[0;34m\"together\"\u001b[0m\u001b[0;34m]\u001b[0m\u001b[0;34m\u001b[0m\u001b[0;34m\u001b[0m\u001b[0m\n\u001b[0;32m----> 2\u001b[0;31m \u001b[0msum\u001b[0m\u001b[0;34m(\u001b[0m\u001b[0mmessage\u001b[0m\u001b[0;34m)\u001b[0m\u001b[0;34m\u001b[0m\u001b[0;34m\u001b[0m\u001b[0m\n\u001b[0m",
      "\u001b[0;31mTypeError\u001b[0m: unsupported operand type(s) for +: 'int' and 'str'"
     ]
    }
   ],
   "source": [
    "message = [\"This\", \"will\", \"add\", \"everything\", \"together\"]\n",
    "sum(message)"
   ]
  },
  {
   "cell_type": "markdown",
   "metadata": {},
   "source": [
    "To &ldquo;add&rdquo; lists of strings we can use the `join()` method:"
   ]
  },
  {
   "cell_type": "code",
   "execution_count": 46,
   "metadata": {},
   "outputs": [
    {
     "data": {
      "text/plain": [
       "'This will add everything together'"
      ]
     },
     "execution_count": 46,
     "metadata": {},
     "output_type": "execute_result"
    }
   ],
   "source": [
    "\" \".join(message)"
   ]
  },
  {
   "cell_type": "markdown",
   "metadata": {},
   "source": [
    "Note that `join()` is a **string method**, where the string defines what to insert **between** the elements of `message`; in this case we have used a string containing one space, but this could be anything:"
   ]
  },
  {
   "cell_type": "code",
   "execution_count": 47,
   "metadata": {},
   "outputs": [
    {
     "data": {
      "text/plain": [
       "'This+will+add+everything+together'"
      ]
     },
     "execution_count": 47,
     "metadata": {},
     "output_type": "execute_result"
    }
   ],
   "source": [
    "\"+\".join(message)"
   ]
  },
  {
   "cell_type": "markdown",
   "metadata": {},
   "source": [
    "## Exercises: \n",
    "\n",
    "- Create a new list called `halogens` and populate it with the names of the halogen elements, in order of increasing atomic number. Using this list, determine what using a negative number following the second colon (e.g. `[::-1]`) will result in. \n",
    "- The distance ($r$) between two atoms ($i$ and $j$) can be found with the following equation, \n",
    "\n",
    "    $$ r = \\sqrt{(x_i - x_j)^2 + (y_i - y_j)^2 + (z_i - z_j)^2}, $$\n",
    "\n",
    "    where, $x_i$ and $x_j$ are the *x*-coordinates for the atoms $i$ and $j$ respectively, while $y_i$ and $y_j$ are the *y*-coordinates and $z_i$ and $z_j$ are the *z*-coordinates.\n",
    "    Below, (as lists) are given the atomic coordinates to two triatomic molecules, where for each atom the list is `atom = [x_position, y_position, z_position]`.\n",
    "    For each molecule, calculate the intramolecular distances between all thre atoms.     \n",
    "    Having calculated all of the intramolecular distances, comment on the shape of each of the molecules. \n",
    "\n",
    "    ### Molecule 1\n",
    "\n",
    "    ```\n",
    "    atom_1 = [0.1, 0.5, 3.2]\n",
    "    atom_2 = [0.4, 0.5, 2.3]\n",
    "    atom_3 = [-0.3, 0.3, 1.7]\n",
    "    ```\n",
    "\n",
    "    ### Molecule 2\n",
    "\n",
    "    ```\n",
    "    atom_1 = [-0.1, 0.5, 1.5]\n",
    "    atom_2 = [0.2, 0.5, 2.6]\n",
    "    atom_3 = [0.5, 0.5, 3.7]\n",
    "    ```"
   ]
  }
 ],
 "metadata": {
  "celltoolbar": "Edit Metadata",
  "kernelspec": {
   "display_name": "Python 3 (ipykernel)",
   "language": "python",
   "name": "python3"
  },
  "language_info": {
   "codemirror_mode": {
    "name": "ipython",
    "version": 3
   },
   "file_extension": ".py",
   "mimetype": "text/x-python",
   "name": "python",
   "nbconvert_exporter": "python",
   "pygments_lexer": "ipython3",
   "version": "3.11.1"
  }
 },
 "nbformat": 4,
 "nbformat_minor": 4
}
