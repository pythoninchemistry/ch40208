{
 "cells": [
  {
   "cell_type": "markdown",
   "id": "5a4e98ed",
   "metadata": {},
   "source": [
    "# Iterating over Dictionaries\n",
    "\n",
    "Dictionaries in Python provide several ways to iterate over their contents. "
   ]
  },
  {
   "cell_type": "markdown",
   "id": "7a199d49",
   "metadata": {},
   "source": [
    "## 1. Looping Over Keys\n",
    "\n",
    "The simplest way to iterate over a dictionary is to loop over its keys:"
   ]
  },
  {
   "cell_type": "code",
   "execution_count": 2,
   "id": "702132bd",
   "metadata": {},
   "outputs": [
    {
     "name": "stdout",
     "output_type": "stream",
     "text": [
      "H\n",
      "He\n",
      "Li\n",
      "Be\n"
     ]
    }
   ],
   "source": [
    "element_data = {'H': 1, 'He': 2, 'Li': 3, 'Be': 4}\n",
    "\n",
    "for element in element_data:\n",
    "    print(element)"
   ]
  },
  {
   "cell_type": "markdown",
   "id": "fe70f881",
   "metadata": {},
   "source": [
    "This method gives you access to the keys, but not directly to the values."
   ]
  },
  {
   "cell_type": "markdown",
   "id": "0411699a",
   "metadata": {},
   "source": [
    "## 2. Looping over Key–Value Pairs\n",
    "\n",
    "To access both keys and values during iteration, use the `items()` method:"
   ]
  },
  {
   "cell_type": "code",
   "execution_count": 4,
   "id": "17d65b2d",
   "metadata": {},
   "outputs": [
    {
     "name": "stdout",
     "output_type": "stream",
     "text": [
      "('H', 1)\n",
      "('He', 2)\n",
      "('Li', 3)\n",
      "('Be', 4)\n"
     ]
    }
   ],
   "source": [
    "for key_value_pair in element_data.items():\n",
    "    print(key_value_pair)"
   ]
  },
  {
   "cell_type": "markdown",
   "id": "acc9302d",
   "metadata": {},
   "source": [
    "We can also use **unpacking** to assign the keys and values to separate variables. (This is equivalent to looping over two lists in parallel)."
   ]
  },
  {
   "cell_type": "code",
   "execution_count": 8,
   "id": "37f4e7a5",
   "metadata": {},
   "outputs": [
    {
     "name": "stdout",
     "output_type": "stream",
     "text": [
      "H: 1\n",
      "He: 2\n",
      "Li: 3\n",
      "Be: 4\n"
     ]
    }
   ],
   "source": [
    "for element, atomic_number in element_data.items():\n",
    "    print(f'{element}: {atomic_number}')"
   ]
  },
  {
   "cell_type": "markdown",
   "id": "90b6d7cd",
   "metadata": {},
   "source": [
    "## 3. Looping over Values\n",
    "\n",
    "If you only need the values, use the `values()` method:"
   ]
  },
  {
   "cell_type": "code",
   "execution_count": 10,
   "id": "21d8a2ee",
   "metadata": {},
   "outputs": [
    {
     "name": "stdout",
     "output_type": "stream",
     "text": [
      "1\n",
      "2\n",
      "3\n",
      "4\n"
     ]
    }
   ],
   "source": [
    "for atomic_number in element_data.values():\n",
    "    print(atomic_number)"
   ]
  },
  {
   "cell_type": "markdown",
   "id": "b5197f27",
   "metadata": {},
   "source": [
    "4. Enumerating Items\n",
    "\n",
    "Somethimes, you might need an index along with key-value pairs. You can combine `enumerate()` with `items()`:"
   ]
  },
  {
   "cell_type": "code",
   "execution_count": 11,
   "id": "c8b27e21",
   "metadata": {},
   "outputs": [
    {
     "name": "stdout",
     "output_type": "stream",
     "text": [
      "0: H - 1\n",
      "1: He - 2\n",
      "2: Li - 3\n",
      "3: Be - 4\n"
     ]
    }
   ],
   "source": [
    "for index, (element, atomic_number) in enumerate(element_data.items()):\n",
    "    print(f\"{index}: {element} - {atomic_number}\")"
   ]
  },
  {
   "cell_type": "markdown",
   "id": "90f81293",
   "metadata": {},
   "source": [
    "````{margin}\n",
    "```{note}\n",
    "In modern versions of Python (3.7+), dictionaries maintain insertion order. For example, in the example here, we can guarantee that the second key-value pair in `element_data.items()` is `('He': 2)`. In previous versions of Python, however, dictionaries were unordered, and there was no guarantee that the order of key-value pairs when created would be maintained.\n",
    "```\n",
    "````"
   ]
  },
  {
   "cell_type": "markdown",
   "id": "fe671a15",
   "metadata": {},
   "source": [
    "## Example: Chemical Element Properties\n",
    "\n",
    "This example uses a more complex dictionary, where each value is itself a dictionary of element properties."
   ]
  },
  {
   "cell_type": "code",
   "execution_count": 13,
   "id": "863944bd",
   "metadata": {},
   "outputs": [
    {
     "name": "stdout",
     "output_type": "stream",
     "text": [
      "Hydrogen (Symbol: H) is in period 1\n",
      "Helium (Symbol: He) is in period 1\n",
      "Lithium (Symbol: Li) is in period 2\n",
      "Beryllium (Symbol: Be) is in period 2\n",
      "Elements in group 1: ['Hydrogen', 'Lithium']\n"
     ]
    }
   ],
   "source": [
    "elements = {\n",
    "    'H': {'name': 'Hydrogen', 'atomic_number': 1, 'period': 1, 'group': 1},\n",
    "    'He': {'name': 'Helium', 'atomic_number': 2, 'period': 1, 'group': 18},\n",
    "    'Li': {'name': 'Lithium', 'atomic_number': 3, 'period': 2, 'group': 1},\n",
    "    'Be': {'name': 'Beryllium', 'atomic_number': 4, 'period': 2, 'group': 2}\n",
    "}\n",
    "\n",
    "# Printing all element names and their periods\n",
    "for symbol, properties in elements.items():\n",
    "    print(f\"{properties['name']} (Symbol: {symbol}) is in period {properties['period']}\")\n",
    "\n",
    "# Finding elements in the first group\n",
    "group_1_elements = [properties['name'] for symbol, properties in elements.items() if properties['group'] == 1]\n",
    "print(\"Elements in group 1:\", group_1_elements)"
   ]
  }
 ],
 "metadata": {
  "kernelspec": {
   "display_name": "Python 3 (ipykernel)",
   "language": "python",
   "name": "python3"
  },
  "language_info": {
   "codemirror_mode": {
    "name": "ipython",
    "version": 3
   },
   "file_extension": ".py",
   "mimetype": "text/x-python",
   "name": "python",
   "nbconvert_exporter": "python",
   "pygments_lexer": "ipython3",
   "version": "3.11.1"
  }
 },
 "nbformat": 4,
 "nbformat_minor": 5
}
