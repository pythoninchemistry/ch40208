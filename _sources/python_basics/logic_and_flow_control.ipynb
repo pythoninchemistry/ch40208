{
 "cells": [
  {
   "cell_type": "markdown",
   "metadata": {},
   "source": [
    "# Logical Operations and Flow Control\n",
    "\n",
    "All of the code examples so far perform the same set of operations, in the same order, even if we change the input data. \n",
    "\n",
    "There are a lot of problems where it is helpful to have the computer perform **different** operations depending on the specific values of the input data. For example, we might want to write code that has the option of converting from Celsius to Kelvin, or we might want to check our data after we have read it in for any unphysical values&mdash;for example, negative temperatures&mdash;and raise a warning or automatically exclude the offending data points.\n",
    "\n",
    "Python provides **control statements** that allow us to choose the order of execution of our code depending on the value of a **logical expression**. \n",
    "\n",
    "One of the most useful **control statements** is the `if` statement, which allows us to run a particular piece of code **if** an **expression** is **true**.\n",
    "\n",
    "A non-programming example might be:\n",
    "\n",
    "> If today is Monday or Friday then I will log on to the CH40208 LOIL at 10:15 am.\n",
    "\n",
    "Here our **expression** we consider is:\n",
    "\n",
    "> today is Monday or Friday\n",
    "\n",
    "If this **expression** is **true** then we perform an action.\n",
    "\n",
    "> I will log on to the CH40208 LOIL at 10:15 am.\n",
    "\n",
    "If this **expression** is **false** (and it is **not** Monday or Friday) we can skip the action and move onto the next thing in our day.\n",
    "\n",
    "We could make this explicit by defining what we will do if the **expression** is **false**:\n",
    "\n",
    "> If today is Monday of Friday then I will log on to the CH40208 LOIL at 10:15 am. Otherwise, I will read my notes.\n",
    "\n",
    "Now we have two possible actions. One that we do if the **expression** is **true**, and one that we do if the **expression** is **false**.\n",
    "\n",
    "Below we will see how to use `if` statements to construct similar **conditional** statements in our code. But first we need to look in a bit more detail into how Python decides if something is **true** or **false**."
   ]
  },
  {
   "cell_type": "markdown",
   "metadata": {},
   "source": [
    "## Boolean variable types\n",
    "\n",
    "We have already met [Boolean variable types](https://pythoninchemistry.org/ch40208/python_basics/types.html); these are variables that can be assigned to the special values `True` or `False`."
   ]
  },
  {
   "cell_type": "code",
   "execution_count": 1,
   "metadata": {},
   "outputs": [
    {
     "name": "stdout",
     "output_type": "stream",
     "text": [
      "True\n"
     ]
    }
   ],
   "source": [
    "print(True)"
   ]
  },
  {
   "cell_type": "code",
   "execution_count": 2,
   "metadata": {},
   "outputs": [
    {
     "data": {
      "text/plain": [
       "bool"
      ]
     },
     "execution_count": 2,
     "metadata": {},
     "output_type": "execute_result"
    }
   ],
   "source": [
    "type(False)"
   ]
  },
  {
   "cell_type": "code",
   "execution_count": 4,
   "metadata": {},
   "outputs": [
    {
     "data": {
      "text/plain": [
       "bool"
      ]
     },
     "execution_count": 4,
     "metadata": {},
     "output_type": "execute_result"
    }
   ],
   "source": [
    "today_is_Friday = True\n",
    "type(today_is_Friday)"
   ]
  },
  {
   "cell_type": "markdown",
   "metadata": {},
   "source": [
    "## Logical operators\n",
    "\n",
    "Python provides a number of **logical operators** that can be used to compare two values, and return a **boolean** value of `True` or `False`.\n",
    "\n",
    "One example is the **equals** operator, which is written as `==`. This operator can be used to test whether two objects have the same value, e.g."
   ]
  },
  {
   "cell_type": "code",
   "execution_count": 3,
   "metadata": {},
   "outputs": [
    {
     "data": {
      "text/plain": [
       "True"
      ]
     },
     "execution_count": 3,
     "metadata": {},
     "output_type": "execute_result"
    }
   ],
   "source": [
    "# test whether 2 is equal to 2\n",
    "2 == 2"
   ]
  },
  {
   "cell_type": "code",
   "execution_count": 4,
   "metadata": {},
   "outputs": [
    {
     "data": {
      "text/plain": [
       "False"
      ]
     },
     "execution_count": 4,
     "metadata": {},
     "output_type": "execute_result"
    }
   ],
   "source": [
    "# test whether 1 is equal to 2\n",
    "1 == 2"
   ]
  },
  {
   "cell_type": "code",
   "execution_count": 5,
   "metadata": {},
   "outputs": [
    {
     "data": {
      "text/plain": [
       "True"
      ]
     },
     "execution_count": 5,
     "metadata": {},
     "output_type": "execute_result"
    }
   ],
   "source": [
    "# test whether 2+2 is equal to 4\n",
    "my_total = 2 + 2\n",
    "my_total == 4"
   ]
  },
  {
   "cell_type": "markdown",
   "metadata": {},
   "source": [
    "Other operators for &ldquo;is greater than&rdquo; &lqduo;is not equal to&rdquo; &ldquo;is less than or equal to&rdquo; are also available\n",
    "\n",
    "| Name | Mathematical Symbol | Operator |\n",
    "|------|---------------------|----------|\n",
    "| Equals | $=$ | `==` |\n",
    "| Less than | $<$ | `<` |\n",
    "| Less than or equal | $\\leq$ | `<=` |\n",
    "| Greater than | $>$ | `>` |\n",
    "| Greater than or equal | $\\geq$ | `>=` |\n",
    "| Not equal | $\\neq$ | `!=` |"
   ]
  },
  {
   "cell_type": "code",
   "execution_count": 6,
   "metadata": {},
   "outputs": [
    {
     "data": {
      "text/plain": [
       "False"
      ]
     },
     "execution_count": 6,
     "metadata": {},
     "output_type": "execute_result"
    }
   ],
   "source": [
    "# Is 1 greater than 2?\n",
    "1 > 2"
   ]
  },
  {
   "cell_type": "code",
   "execution_count": 7,
   "metadata": {},
   "outputs": [
    {
     "data": {
      "text/plain": [
       "True"
      ]
     },
     "execution_count": 7,
     "metadata": {},
     "output_type": "execute_result"
    }
   ],
   "source": [
    "# Is Pi (to 2 decimal places) *not* equal to 3?\n",
    "3.14 != 3"
   ]
  },
  {
   "cell_type": "markdown",
   "metadata": {},
   "source": [
    "### `== != =`"
   ]
  },
  {
   "cell_type": "markdown",
   "metadata": {},
   "source": [
    "A very common mistake when people are learning Python (and also when they have more experience) is mixing up the `==` and `=` operators, which can result in very hard-to-spot bugs. T\n",
    "\n",
    "- `==` is a **logical operator** that **compares** two objects to see whether their values are equal.\n",
    "- `=` is the **assignment** operator, that is used to assign a variable to a value.\n",
    "\n",
    "This confusing is partly because we might hear people say &ldquo;a **equals** b&rdquo; when describing both the following expressions:\n",
    "\n",
    "```python\n",
    "# a equals b?\n",
    "a == b \n",
    "```\n",
    "\n",
    "and\n",
    "\n",
    "```python\n",
    "# a equals b.\n",
    "a = b \n",
    "```\n",
    "\n",
    "A clearer choice of words might be:\n",
    "\n",
    "```python\n",
    "# a is equal to b?\n",
    "a == b \n",
    "```\n",
    "\n",
    "and\n",
    "\n",
    "```python\n",
    "# a is assigned to b \n",
    "a = b \n",
    "# (or more correctly, a is assigned to the value b has been assigned to)\n",
    "```"
   ]
  },
  {
   "cell_type": "markdown",
   "metadata": {},
   "source": [
    "## `and` and `or`\n",
    "\n",
    "Logical statements allow us to express statements like &ldquo;today is Monday&ldquo; or &ldquo;today is Friday&rdquo; in code:"
   ]
  },
  {
   "cell_type": "code",
   "execution_count": 7,
   "metadata": {},
   "outputs": [],
   "source": [
    "today = \"Friday\" # assignment operator"
   ]
  },
  {
   "cell_type": "code",
   "execution_count": 8,
   "metadata": {},
   "outputs": [
    {
     "data": {
      "text/plain": [
       "False"
      ]
     },
     "execution_count": 8,
     "metadata": {},
     "output_type": "execute_result"
    }
   ],
   "source": [
    "today == \"Monday\" # testing equality"
   ]
  },
  {
   "cell_type": "code",
   "execution_count": 9,
   "metadata": {},
   "outputs": [
    {
     "data": {
      "text/plain": [
       "True"
      ]
     },
     "execution_count": 9,
     "metadata": {},
     "output_type": "execute_result"
    }
   ],
   "source": [
    "today == \"Friday\" # testing equality"
   ]
  },
  {
   "cell_type": "markdown",
   "metadata": {},
   "source": [
    "Python provides `and` and `or` keywords that we can use to build compound logical statements. For example"
   ]
  },
  {
   "cell_type": "code",
   "execution_count": 10,
   "metadata": {},
   "outputs": [
    {
     "data": {
      "text/plain": [
       "True"
      ]
     },
     "execution_count": 10,
     "metadata": {},
     "output_type": "execute_result"
    }
   ],
   "source": [
    "today == \"Monday\" or today == \"Friday\""
   ]
  },
  {
   "cell_type": "code",
   "execution_count": 11,
   "metadata": {},
   "outputs": [
    {
     "data": {
      "text/plain": [
       "False"
      ]
     },
     "execution_count": 11,
     "metadata": {},
     "output_type": "execute_result"
    }
   ],
   "source": [
    "today == \"Monday\" and today == \"Friday\""
   ]
  },
  {
   "cell_type": "markdown",
   "metadata": {},
   "source": [
    "Two logical statements connected by `or` return `True` if **either** of the individual statements return `True`.\n",
    "\n",
    "Two logical statements connected by `and` return `True` if **both** of the individual statements return `True`."
   ]
  },
  {
   "cell_type": "markdown",
   "metadata": {},
   "source": [
    "## `If` statements\n",
    "\n",
    "Now that we can test whether certain conditions are `True` or `False`, we can use these **conditional statements** to control the **flow** of our code.\n",
    " \n",
    "An `if` statement allows us to specify a block of code that will run only if a specific condition is **true**.\n",
    "\n",
    "```python\n",
    "if this_statement_is_true:\n",
    "    do_something\n",
    "```"
   ]
  },
  {
   "cell_type": "markdown",
   "metadata": {},
   "source": [
    "An `if` statement starts with the keyword `if`, followed by a **conditional statement**, and ending with a colon `:`.\n",
    "\n",
    "The lines after the `if` statement are indented to form a **code block**. This block of code is executed **if** the previous condition evaluates to `True`.\n",
    "\n",
    "```python\n",
    "if today == \"Monday\":\n",
    "    open_zoom()\n",
    "``` \n",
    "In this example, the value of `today` is equal to the string `\"Monday\"` then the following code block runs and the `open_zoom()` function is called.\n",
    "\n",
    "If the **conditional statement** evaluates to `False` then the indented block is skipped, and execution jumps to the first **non-indented** line after the `if` statement.\n",
    "\n",
    "```python\n",
    "if this_statement_is_true:\n",
    "    do_something # this *only* runs if the conditional statement evaluates as `True`.\n",
    "following_code # this *always* runs, even if the conditional statement evaluates as `False`.\n",
    "```"
   ]
  },
  {
   "cell_type": "markdown",
   "metadata": {},
   "source": [
    "The **conditional statement** in an `if` statement can be a **compound** statement, where the indented code block runs is the **entire** statement evaluates to `True`:\n",
    "\n",
    "```python\n",
    "if today == \"Monday\" or today == \"Friday\":\n",
    "    open_zoom()\n",
    "```"
   ]
  },
  {
   "cell_type": "markdown",
   "metadata": {},
   "source": [
    "Now, if either `today == \"Monday\"` **or** `today == \"Friday\"` are true then the `open_zoom()` function will be called."
   ]
  },
  {
   "cell_type": "markdown",
   "metadata": {},
   "source": [
    "### if … else"
   ]
  },
  {
   "cell_type": "markdown",
   "metadata": {},
   "source": [
    "Let us look at a different example: identifying elements based on their atomic symbol."
   ]
  },
  {
   "cell_type": "code",
   "execution_count": 17,
   "metadata": {},
   "outputs": [
    {
     "name": "stdout",
     "output_type": "stream",
     "text": [
      "The element is fluorine.\n"
     ]
    }
   ],
   "source": [
    "my_element = 'F'\n",
    "\n",
    "if my_element == 'F':\n",
    "    print('The element is fluorine.')"
   ]
  },
  {
   "cell_type": "markdown",
   "metadata": {},
   "source": [
    "In this example, we have described what code we would like to run if our conditional statement is `True`. But if our conditional statement is `False` then we get no output."
   ]
  },
  {
   "cell_type": "code",
   "execution_count": 1,
   "metadata": {},
   "outputs": [],
   "source": [
    "my_element = 'Cl'\n",
    "\n",
    "if my_element == 'F':\n",
    "    print('The element is fluorine.')\n",
    "    # this block is not run, so our code does not print anything."
   ]
  },
  {
   "cell_type": "markdown",
   "metadata": {},
   "source": [
    "It would be helpful if we could provide an **alternative** block of code that will run if our conditional statement is `False`.\n",
    "\n",
    "In Python we can use `if`…`else` to do this."
   ]
  },
  {
   "cell_type": "code",
   "execution_count": 21,
   "metadata": {},
   "outputs": [
    {
     "name": "stdout",
     "output_type": "stream",
     "text": [
      "The element is not fluorine.\n"
     ]
    }
   ],
   "source": [
    "my_element = 'Cl'\n",
    "\n",
    "if my_element == 'F':\n",
    "    print('The element is fluorine.')\n",
    "else:\n",
    "    print('The element is not fluorine.')"
   ]
  },
  {
   "cell_type": "markdown",
   "metadata": {},
   "source": [
    "`else` is used similarly to our original `if statement:`. The `else` has the same indentation as the original `if` and is followed by a colon `:`. Then the code block we want to run is indented in a code block below the `else:` line."
   ]
  },
  {
   "cell_type": "markdown",
   "metadata": {},
   "source": [
    "Sometimes we want to test more than one condition in sequence. \n",
    "\n",
    "If A is **true** do X.  \n",
    "If A is **not true**, but B is **true** do Y.  \n",
    "If **neither** A **nor** B are **true** do Z.\n",
    "\n",
    "Python allows us to build up these more complex flow control statements by combining `if` and `else` with `elif` (which you can read as short for &ldquo;else if&rdquo;)"
   ]
  },
  {
   "cell_type": "code",
   "execution_count": 3,
   "metadata": {},
   "outputs": [
    {
     "name": "stdout",
     "output_type": "stream",
     "text": [
      "The element is a chlorine.\n"
     ]
    }
   ],
   "source": [
    "my_element = 'Cl'\n",
    "\n",
    "# compound if…elif…else block to test the identify of my_element.\n",
    "if my_element == 'F':\n",
    "    print('The element is fluorine.')\n",
    "elif my_element == 'Cl':\n",
    "    print('The element is a chlorine.')\n",
    "else:\n",
    "    print('I don\\'t know what this element is')"
   ]
  },
  {
   "cell_type": "markdown",
   "metadata": {},
   "source": [
    "We can have any number of `elif` statements:"
   ]
  },
  {
   "cell_type": "code",
   "execution_count": 2,
   "metadata": {},
   "outputs": [
    {
     "name": "stdout",
     "output_type": "stream",
     "text": [
      "The element is astatine.\n"
     ]
    }
   ],
   "source": [
    "my_element = 'At'\n",
    "\n",
    "# compound if…elif…else block to test the identify of my_element.\n",
    "if my_element == 'F':\n",
    "    print('The element is fluorine.')\n",
    "elif my_element == 'Cl':\n",
    "    print('The element is chlorine.')\n",
    "elif my_element == 'Br':\n",
    "    print('The element is bromine.')\n",
    "elif my_element == 'I':\n",
    "    print('The element is iodine.')\n",
    "elif my_element == 'At':\n",
    "    print('The element is astatine.')\n",
    "else:\n",
    "    print('I don\\'t know what this element is')"
   ]
  },
  {
   "cell_type": "markdown",
   "metadata": {},
   "source": [
    "What if we want to test whether our element is contained in a **group**? We could do this using `or`:"
   ]
  },
  {
   "cell_type": "code",
   "execution_count": 5,
   "metadata": {},
   "outputs": [
    {
     "name": "stdout",
     "output_type": "stream",
     "text": [
      "The element is a halogen.\n"
     ]
    }
   ],
   "source": [
    "if ((my_element == 'F') or \n",
    "    (my_element == 'Cl') or \n",
    "    (my_element == 'Br') or \n",
    "    (my_element == 'I') or \n",
    "    (my_element == 'At')):\n",
    "    print('The element is a halogen.')\n",
    "elif my_element == 'Ts':\n",
    "    print('The element is potentially a halogen.')\n",
    "else:\n",
    "    print('I don\\'t know what this element is')"
   ]
  },
  {
   "cell_type": "markdown",
   "metadata": {},
   "source": [
    "Here we have wrapped our compound conditional statement in brackets `()` so that we can split it over multple lines to improve readability.\n",
    "\n",
    "This code is still quite awkward to read though. And we can start to image the problem if we want to test whether an object is contained in an even larger set. For example, writing a function to test whether a string is a valid chemical symbol!!\n",
    "\n",
    "```python\n",
    "def is_an_element(my_element):\n",
    "    \"\"\"\n",
    "    Test whether a string is a valid chemical symbol.\n",
    "    \n",
    "    Args:\n",
    "        my_element (str): The string to test.\n",
    "        \n",
    "    Returns:\n",
    "        (bool): True if the string is a valid chemical symbol; False otherwise.\n",
    "        \n",
    "    \"\"\"\n",
    "    if ((my_element == 'H') or\n",
    "        (my_element == 'He') or\n",
    "        (my_element == 'Li') or\n",
    "        …\n",
    "        (my_element == 'Og')): # 118 lines later\n",
    "        return True\n",
    "    else:\n",
    "        return False\n",
    "```"
   ]
  },
  {
   "cell_type": "markdown",
   "metadata": {},
   "source": [
    "Python provides the `in` keyword as a logical operator for testing whether an object is contained in a sequence, which allows us to write both the examples above much more cleanly."
   ]
  },
  {
   "cell_type": "code",
   "execution_count": 6,
   "metadata": {},
   "outputs": [
    {
     "name": "stdout",
     "output_type": "stream",
     "text": [
      "The element is a halogen.\n"
     ]
    }
   ],
   "source": [
    "if my_element in ['F', 'Cl', 'Br', 'I', 'At']:\n",
    "    print('The element is a halogen.')\n",
    "elif my_element == 'Ts':\n",
    "    print('The element is potentially a halogen.')\n",
    "else:\n",
    "    print('I don\\'t know what this element is')"
   ]
  },
  {
   "cell_type": "markdown",
   "metadata": {},
   "source": [
    "Here we test whether the value assigned to `my_element` is contained in the list `['F', 'Cl', 'Br', 'I', 'At']`."
   ]
  },
  {
   "cell_type": "markdown",
   "metadata": {},
   "source": [
    "Now our function to test whether a string is a valid chemical element becomes\n",
    "```python\n",
    "def is_an_element(my_element):\n",
    "    \"\"\"\n",
    "    Test whether a string is a valid chemical symbol.\n",
    "\n",
    "    Args:\n",
    "        my_element (str): The string to test.\n",
    "\n",
    "    Returns:\n",
    "        (bool): True if the string is a valid chemical symbol; False otherwise.\n",
    "\n",
    "    \"\"\"\n",
    "    valid_symbols = ['H', 'He', 'Li', 'Be', 'B', 'C', 'N', 'O', 'F' … 'Lv', 'Ts', 'Og']\n",
    "    if my_element in valid_symbols:\n",
    "        return True\n",
    "    else:\n",
    "        return False\n",
    "```"
   ]
  },
  {
   "cell_type": "markdown",
   "metadata": {},
   "source": [
    "## `continue` and `break`\n",
    "\n",
    "Python provides additional flow control statements for controlling the behaviour of **loops**. For example, if a certain condition is met we might want to jump straight to the next iteration of a loop without running the rest of the current code block, or we might want to quit the loop all together.\n",
    "\n",
    "- `continue` → jump straight to the next iteration of the loop.\n",
    "- `break` → jump out of the loop entirely.\n",
    "\n",
    "For example, if we are iterating through the numbers 0 to 99, but want to stop if we reach 3, we can use the `break` keyword:"
   ]
  },
  {
   "cell_type": "code",
   "execution_count": 7,
   "metadata": {},
   "outputs": [
    {
     "name": "stdout",
     "output_type": "stream",
     "text": [
      "0\n",
      "1\n",
      "2\n",
      "3\n",
      "Loop exited\n"
     ]
    }
   ],
   "source": [
    "for i in range(100):\n",
    "    print(i)\n",
    "    if i == 3:\n",
    "        break\n",
    "print('Loop exited')"
   ]
  },
  {
   "cell_type": "markdown",
   "metadata": {},
   "source": [
    "The `range()` function used here provides us with a **range** of numbers that we can iterate through. `range(X)` gives the sequence of numbers from 0 to _X_-1; which is analgous to how list indexing works in Python."
   ]
  },
  {
   "cell_type": "markdown",
   "metadata": {},
   "source": [
    "Alternatively we might want to count numbers but **skip** those divisible by 3."
   ]
  },
  {
   "cell_type": "code",
   "execution_count": 11,
   "metadata": {},
   "outputs": [
    {
     "name": "stdout",
     "output_type": "stream",
     "text": [
      "1\n",
      "2\n",
      "4\n",
      "5\n",
      "7\n",
      "8\n",
      "10\n",
      "11\n",
      "13\n",
      "14\n",
      "16\n",
      "17\n",
      "19\n"
     ]
    }
   ],
   "source": [
    "for i in range(20):\n",
    "    if i%3 == 0: # `True` if i is divisible by 3\n",
    "        continue\n",
    "    print(i)"
   ]
  },
  {
   "cell_type": "markdown",
   "metadata": {},
   "source": [
    "## Exercises\n",
    "\n",
    "### 1. Fizzbuzz\n",
    "\n",
    "Write a piece of code that can play [fizzbuzz](https://en.wikipedia.org/wiki/Fizz_buzz). Your code should count from 1 to 100. Numbers that are divisible by 3 are replaced by \"Fizz\"; numbers that are divisible by 5 are replaced by \"Buzz\"; and numbers divisible by 3 **and** 5 are replaced by \"Fizz Buzz\".\n",
    "\n",
    "To generate the numbers from 1 to 100 you can use the `range()` function with **two** numbers, to specify the start and end of your range, i.e. `range(1,101)`.\n",
    "\n",
    "### 2. Energy minimisation convergence testing\n",
    "\n",
    "Revise your energy minimisation codes from earlier this week, such that they will automatically `break` out of the loop when the difference between the previous distance $r_{\\text{old}}$ and the new distance $r_{\\text{new}}$ is less than $0.02$ Å. \n",
    "\n",
    "Get your code to report whether your minimisation has convereged, or whether you have reached the maxium number of iterations specified in your loop.\n",
    "\n",
    "[Worked Examples](https://pythoninchemistry.org/ch40208/python_basics/logic_and_flow_control_exercises.html)"
   ]
  }
 ],
 "metadata": {
  "kernelspec": {
   "display_name": "Python 3",
   "language": "python",
   "name": "python3"
  },
  "language_info": {
   "codemirror_mode": {
    "name": "ipython",
    "version": 3
   },
   "file_extension": ".py",
   "mimetype": "text/x-python",
   "name": "python",
   "nbconvert_exporter": "python",
   "pygments_lexer": "ipython3",
   "version": "3.8.8"
  }
 },
 "nbformat": 4,
 "nbformat_minor": 4
}
