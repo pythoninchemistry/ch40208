{
 "cells": [
  {
   "cell_type": "markdown",
   "metadata": {},
   "source": [
    "# Exercise\n",
    "\n",
    "We can improve on our previous code in a few ways. \n",
    "One is that we can use a loop to make the distance calculation shorter. "
   ]
  },
  {
   "cell_type": "code",
   "execution_count": 1,
   "metadata": {},
   "outputs": [],
   "source": [
    "atom_1 = [0.1, 0.5, 3.2]\n",
    "atom_2 = [0.4, 0.5, 2.3]\n",
    "atom_3 = [-0.3, 0.3, 1.7]"
   ]
  },
  {
   "cell_type": "code",
   "execution_count": 6,
   "metadata": {},
   "outputs": [],
   "source": [
    "from math import sqrt"
   ]
  },
  {
   "cell_type": "code",
   "execution_count": 11,
   "metadata": {},
   "outputs": [
    {
     "name": "stdout",
     "output_type": "stream",
     "text": [
      "0.9486832980505141 1.565247584249853 0.9433981132056602\n"
     ]
    }
   ],
   "source": [
    "r_12 = sqrt(sum([(atom_1[i] - atom_2[i]) ** 2 for i in [0, 1, 2]]))\n",
    "r_13 = sqrt(sum([(atom_1[i] - atom_3[i]) ** 2 for i in [0, 1, 2]]))\n",
    "r_23 = sqrt(sum([(atom_2[i] - atom_3[i]) ** 2 for i in [0, 1, 2]]))\n",
    "print(r_12, r_13, r_23)"
   ]
  },
  {
   "cell_type": "markdown",
   "metadata": {},
   "source": [
    "Note above we use [list comprehensions](https://pythoninchemistry.org/ch40208/python_basics/loops.html#list-comprehensions) to make the long equation a bit shorter.\n",
    "\n",
    "We can also use a nested loop to iterate over each pair of atoms. "
   ]
  },
  {
   "cell_type": "code",
   "execution_count": 28,
   "metadata": {},
   "outputs": [
    {
     "name": "stdout",
     "output_type": "stream",
     "text": [
      "[0.9486832980505141, 1.565247584249853, 0.9433981132056602]\n"
     ]
    }
   ],
   "source": [
    "distances = []\n",
    "\n",
    "atoms = [atom_1, atom_2, atom_3]\n",
    "for i, a_i in enumerate(atoms):\n",
    "    for a_j in atoms[i+1:]:\n",
    "        distances.append(sqrt(sum([(a_i[k] - a_j[k]) ** 2 for k in [0, 1, 2]])))\n",
    "        \n",
    "print(distances)"
   ]
  },
  {
   "cell_type": "markdown",
   "metadata": {},
   "source": [
    "We advise you review the LOILs for a better understanding of nested loops. "
   ]
  }
 ],
 "metadata": {
  "kernelspec": {
   "display_name": "Python 3 (ipykernel)",
   "language": "python",
   "name": "python3"
  },
  "language_info": {
   "codemirror_mode": {
    "name": "ipython",
    "version": 3
   },
   "file_extension": ".py",
   "mimetype": "text/x-python",
   "name": "python",
   "nbconvert_exporter": "python",
   "pygments_lexer": "ipython3",
   "version": "3.8.12"
  }
 },
 "nbformat": 4,
 "nbformat_minor": 4
}
