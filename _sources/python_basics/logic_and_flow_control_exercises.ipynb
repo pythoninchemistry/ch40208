{
 "cells": [
  {
   "cell_type": "markdown",
   "metadata": {},
   "source": [
    "# Exercises\n",
    "\n",
    "The first exercise was the fizzbuzz exercise.\n",
    "This is particularly popular in progaramming hiring practices, and covered in detail in [this Tom Scott YouTube video](https://www.youtube.com/watch?v=QPZ0pIK_wsc&vl=en). \n",
    "As discussed in the video, there are multiple solutions to this problem, below is just one example of it."
   ]
  },
  {
   "cell_type": "code",
   "execution_count": 8,
   "metadata": {},
   "outputs": [
    {
     "name": "stdout",
     "output_type": "stream",
     "text": [
      "1\n",
      "2\n",
      "Fizz\n",
      "4\n",
      "Buzz\n",
      "Fizz\n",
      "7\n",
      "8\n",
      "Fizz\n",
      "Buzz\n",
      "11\n",
      "Fizz\n",
      "13\n",
      "14\n",
      "FizzBuzz\n",
      "16\n",
      "17\n",
      "Fizz\n",
      "19\n",
      "Buzz\n",
      "Fizz\n",
      "22\n",
      "23\n",
      "Fizz\n",
      "Buzz\n",
      "26\n",
      "Fizz\n",
      "28\n",
      "29\n",
      "FizzBuzz\n",
      "31\n",
      "32\n",
      "Fizz\n",
      "34\n",
      "Buzz\n",
      "Fizz\n",
      "37\n",
      "38\n",
      "Fizz\n",
      "Buzz\n",
      "41\n",
      "Fizz\n",
      "43\n",
      "44\n",
      "FizzBuzz\n",
      "46\n",
      "47\n",
      "Fizz\n",
      "49\n",
      "Buzz\n",
      "Fizz\n",
      "52\n",
      "53\n",
      "Fizz\n",
      "Buzz\n",
      "56\n",
      "Fizz\n",
      "58\n",
      "59\n",
      "FizzBuzz\n",
      "61\n",
      "62\n",
      "Fizz\n",
      "64\n",
      "Buzz\n",
      "Fizz\n",
      "67\n",
      "68\n",
      "Fizz\n",
      "Buzz\n",
      "71\n",
      "Fizz\n",
      "73\n",
      "74\n",
      "FizzBuzz\n",
      "76\n",
      "77\n",
      "Fizz\n",
      "79\n",
      "Buzz\n",
      "Fizz\n",
      "82\n",
      "83\n",
      "Fizz\n",
      "Buzz\n",
      "86\n",
      "Fizz\n",
      "88\n",
      "89\n",
      "FizzBuzz\n",
      "91\n",
      "92\n",
      "Fizz\n",
      "94\n",
      "Buzz\n",
      "Fizz\n",
      "97\n",
      "98\n",
      "Fizz\n",
      "Buzz\n"
     ]
    }
   ],
   "source": [
    "for i in range(1, 101): \n",
    "    print_string = ''\n",
    "    if i % 3 == 0:\n",
    "        print_string += 'Fizz'\n",
    "    if i % 5 == 0:\n",
    "        print_string += 'Buzz'\n",
    "    if print_string == '':\n",
    "        print_string += str(i)\n",
    "    print(print_string)"
   ]
  },
  {
   "cell_type": "markdown",
   "metadata": {},
   "source": [
    "The second exercise was to extend the enery minimisation code from the [gradient descent](https://pythoninchemistry.org/ch40208/comp_chem_methods/gradient_descent.html) and [Newton's method](https://pythoninchemistry.org/ch40208/comp_chem_methods/newtons.html) exercises to include some logical stopping arguments.\n",
    "Looking first at the gradient descent method."
   ]
  },
  {
   "cell_type": "code",
   "execution_count": 9,
   "metadata": {},
   "outputs": [],
   "source": [
    "def first_derivative(r, A, B):\n",
    "    \"\"\"\n",
    "    The first derivative of the Lennard-Jones potential model. \n",
    "    \n",
    "    Args:\n",
    "        r (float): Atom-atom distance (Å).\n",
    "        A (float): Interaction parameter (eVÅ^12).\n",
    "        B (float): Interaction parameter (eVÅ^6).\n",
    "        \n",
    "    Returns:\n",
    "        (float): Potential energy.\n",
    "    \"\"\"\n",
    "    return -12. * A / r ** 13 + 6 * B / r ** 7"
   ]
  },
  {
   "cell_type": "code",
   "execution_count": 12,
   "metadata": {},
   "outputs": [],
   "source": [
    "A = 1e5\n",
    "B = 40\n",
    "\n",
    "alpha = 100\n",
    "r = 6.0\n",
    "r_list = [r]\n",
    "for i in range(30):\n",
    "    E_dash = first_derivative(r, A, B)\n",
    "    r_new = r - alpha * E_dash\n",
    "    if abs(r_new - r) < 0.02:\n",
    "        break\n",
    "    r = r_new\n",
    "    r_list.append(r)"
   ]
  },
  {
   "cell_type": "code",
   "execution_count": 14,
   "metadata": {},
   "outputs": [],
   "source": [
    "import matplotlib.pyplot as plt"
   ]
  },
  {
   "cell_type": "code",
   "execution_count": 16,
   "metadata": {},
   "outputs": [
    {
     "data": {
      "image/png": "[encoded data removed]",
      "text/plain": [
       "<Figure size 432x288 with 1 Axes>"
      ]
     },
     "metadata": {
      "needs_background": "light"
     },
     "output_type": "display_data"
    }
   ],
   "source": [
    "plt.plot(range(len(r_list)), r_list, 'o--')\n",
    "plt.xlabel('Iteration')\n",
    "plt.ylabel('r')\n",
    "plt.show()"
   ]
  },
  {
   "cell_type": "markdown",
   "metadata": {},
   "source": [
    "Now for Newton's method."
   ]
  },
  {
   "cell_type": "code",
   "execution_count": 17,
   "metadata": {},
   "outputs": [],
   "source": [
    "def second_derivative(r, A, B):\n",
    "    \"\"\"\n",
    "    The second derivative of the Lennard-Jones potential model. \n",
    "    \n",
    "    Args:\n",
    "        r (float): Atom-atom distance (Å).\n",
    "        A (float): Interaction parameter (eVÅ^12).\n",
    "        B (float): Interaction parameter (eVÅ^6).\n",
    "        \n",
    "    Returns:\n",
    "        (float): Potential energy.\n",
    "    \"\"\"\n",
    "    return 156. * A / r ** 14 - 42 * B / r ** 8"
   ]
  },
  {
   "cell_type": "code",
   "execution_count": 18,
   "metadata": {},
   "outputs": [],
   "source": [
    "A = 1e5\n",
    "B = 40\n",
    "\n",
    "r = 4.4\n",
    "r_list = [r]\n",
    "for i in range(30):\n",
    "    E_dash = first_derivative(r, A, B)\n",
    "    E_ddash = second_derivative(r, A, B)\n",
    "    r_new = r - E_dash / E_ddash\n",
    "    if abs(r_new - r) < 0.02:\n",
    "        break\n",
    "    r = r_new\n",
    "    r_list.append(r)"
   ]
  },
  {
   "cell_type": "code",
   "execution_count": 19,
   "metadata": {},
   "outputs": [
    {
     "data": {
      "image/png": "[encoded data removed]",
      "text/plain": [
       "<Figure size 432x288 with 1 Axes>"
      ]
     },
     "metadata": {
      "needs_background": "light"
     },
     "output_type": "display_data"
    }
   ],
   "source": [
    "plt.plot(range(len(r_list)), r_list, 'o--')\n",
    "plt.xlabel('Iteration')\n",
    "plt.ylabel('r')\n",
    "plt.show()"
   ]
  }
 ],
 "metadata": {
  "kernelspec": {
   "display_name": "Python 3 (ipykernel)",
   "language": "python",
   "name": "python3"
  },
  "language_info": {
   "codemirror_mode": {
    "name": "ipython",
    "version": 3
   },
   "file_extension": ".py",
   "mimetype": "text/x-python",
   "name": "python",
   "nbconvert_exporter": "python",
   "pygments_lexer": "ipython3",
   "version": "3.11.1"
  }
 },
 "nbformat": 4,
 "nbformat_minor": 4
}
