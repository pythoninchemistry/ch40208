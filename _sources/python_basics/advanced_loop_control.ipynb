{
 "cells": [
  {
   "cell_type": "markdown",
   "id": "c820cf10-b4be-44f4-94cf-89270a22ccd8",
   "metadata": {},
   "source": [
    "# Advanced Loop Control\n",
    "\n",
    "## `while` loops\n",
    "\n",
    "In addition to `for` loops, Python also provides `while` loops for situations where you want to repeat a block of code as long as a condition is true.\n",
    "\n",
    "A `while` loop is particularly useful when you don't know in advance how many iterations you'll need - you just know when to stop.\n",
    "\n",
    "### Example: Cooling to Room Temperature\n",
    "\n",
    "Imagine a hot beaker cooling down to room temperature. The beaker loses 10% of the temperature difference with its surroundings in each time step. We want to simulate this cooling process until the beaker is within 0.5°C of room temperature."
   ]
  },
  {
   "cell_type": "code",
   "execution_count": 9,
   "id": "8df6ddf1-189c-46ba-837b-b0825d889bd8",
   "metadata": {},
   "outputs": [
    {
     "name": "stdout",
     "output_type": "stream",
     "text": [
      "Step 1: Temperature = 92.00°C\n",
      "Step 2: Temperature = 84.80°C\n",
      "Step 3: Temperature = 78.32°C\n",
      "Step 4: Temperature = 72.49°C\n",
      "Step 5: Temperature = 67.24°C\n",
      "Step 6: Temperature = 62.52°C\n",
      "Step 7: Temperature = 58.26°C\n",
      "Step 8: Temperature = 54.44°C\n",
      "Step 9: Temperature = 50.99°C\n",
      "Step 10: Temperature = 47.89°C\n",
      "Step 11: Temperature = 45.10°C\n",
      "Step 12: Temperature = 42.59°C\n",
      "Step 13: Temperature = 40.33°C\n",
      "Step 14: Temperature = 38.30°C\n",
      "Step 15: Temperature = 36.47°C\n",
      "Step 16: Temperature = 34.82°C\n",
      "Step 17: Temperature = 33.34°C\n",
      "Step 18: Temperature = 32.01°C\n",
      "Step 19: Temperature = 30.81°C\n",
      "Step 20: Temperature = 29.73°C\n",
      "Step 21: Temperature = 28.75°C\n",
      "Step 22: Temperature = 27.88°C\n",
      "Step 23: Temperature = 27.09°C\n",
      "Step 24: Temperature = 26.38°C\n",
      "Step 25: Temperature = 25.74°C\n",
      "Step 26: Temperature = 25.17°C\n",
      "Step 27: Temperature = 24.65°C\n",
      "Step 28: Temperature = 24.19°C\n",
      "Step 29: Temperature = 23.77°C\n",
      "Step 30: Temperature = 23.39°C\n",
      "Step 31: Temperature = 23.05°C\n",
      "Step 32: Temperature = 22.75°C\n",
      "Step 33: Temperature = 22.47°C\n",
      "Step 34: Temperature = 22.23°C\n",
      "Step 35: Temperature = 22.00°C\n",
      "Step 36: Temperature = 21.80°C\n",
      "Step 37: Temperature = 21.62°C\n",
      "Step 38: Temperature = 21.46°C\n",
      "Step 39: Temperature = 21.31°C\n",
      "Step 40: Temperature = 21.18°C\n",
      "Step 41: Temperature = 21.06°C\n",
      "Step 42: Temperature = 20.96°C\n",
      "Step 43: Temperature = 20.86°C\n",
      "Step 44: Temperature = 20.78°C\n",
      "Step 45: Temperature = 20.70°C\n",
      "Step 46: Temperature = 20.63°C\n",
      "Step 47: Temperature = 20.57°C\n",
      "Step 48: Temperature = 20.51°C\n",
      "Step 49: Temperature = 20.46°C\n",
      "Thermal equilibrium reached after 49 steps\n",
      "Final temperature: 20.46°C\n"
     ]
    }
   ],
   "source": [
    "temperature = 100.0  # Starting temperature in °C\n",
    "room_temperature = 20.0  # Ambient temperature in °C\n",
    "threshold = 0.5  # Stop when within 0.5°C of room temp\n",
    "iteration = 0\n",
    "\n",
    "while temperature - room_temperature > threshold:\n",
    "    # Cool by 10% of the temperature difference each step\n",
    "    temperature_difference = temperature - room_temperature\n",
    "    temperature = temperature - 0.1 * temperature_difference\n",
    "    iteration += 1\n",
    "    print(f\"Step {iteration}: Temperature = {temperature:.2f}°C\")\n",
    "\n",
    "print(f\"Thermal equilibrium reached after {iteration} steps\")\n",
    "print(f\"Final temperature: {temperature:.2f}°C\")"
   ]
  },
  {
   "cell_type": "markdown",
   "id": "61da627f-ef7f-4c84-bf5c-4510028a9c63",
   "metadata": {},
   "source": [
    "**How this works:**\n",
    "- The `while` loop continues as long as the temperature is more than 0.5°C away from room temperature\n",
    "- Each iteration, the beaker cools by 10% of the current temperature difference\n",
    "- The loop automatically stops when the temperature gets close enough to room temperature\n",
    "\n",
    "**Key concept:** With a `while` loop, we don't need to know in advance how many iterations it will take - the loop continues until the condition becomes `False`."
   ]
  },
  {
   "cell_type": "markdown",
   "id": "8b666ab4-322f-401c-841c-8d6a17d76aeb",
   "metadata": {},
   "source": [
    "## `continue` and `break`\n",
    "\n",
    "Python provides additional flow control statements for controlling the behaviour of **loops**. For example, if a certain condition is met, we might want to jump straight to the next iteration of a loop without running the rest of the current code block, or we might want to quit the loop altogether.\n",
    "\n",
    "- `continue` → jump straight to the next iteration of the loop.\n",
    "- `break` → jump out of the loop entirely.\n",
    "\n",
    "For example, if we are iterating through the numbers 0 to 99, but want to stop if we reach 3, we can use the `break` keyword:"
   ]
  },
  {
   "cell_type": "code",
   "execution_count": 6,
   "id": "caaf4c1e-ef37-4e1c-b887-89b09a643a5f",
   "metadata": {},
   "outputs": [
    {
     "name": "stdout",
     "output_type": "stream",
     "text": [
      "0\n",
      "1\n",
      "2\n",
      "3\n",
      "Loop exited\n"
     ]
    }
   ],
   "source": [
    "for i in range(100):\n",
    "    print(i)\n",
    "    if i == 3:\n",
    "        break\n",
    "print('Loop exited')"
   ]
  },
  {
   "cell_type": "markdown",
   "id": "1c980124-f2b9-4a5e-90e1-f9fda380592e",
   "metadata": {},
   "source": [
    "Alternatively we might want to count numbers but **skip** those divisible by 3."
   ]
  },
  {
   "cell_type": "code",
   "execution_count": 7,
   "id": "7bf01de2-d70e-4f9e-8a32-989ed358b93a",
   "metadata": {},
   "outputs": [
    {
     "name": "stdout",
     "output_type": "stream",
     "text": [
      "1\n",
      "2\n",
      "4\n",
      "5\n",
      "7\n",
      "8\n",
      "10\n",
      "11\n",
      "13\n",
      "14\n",
      "16\n",
      "17\n",
      "19\n"
     ]
    }
   ],
   "source": [
    "for i in range(20):\n",
    "    if i%3 == 0: # `True` if i is divisible by 3\n",
    "        continue\n",
    "    print(i)"
   ]
  },
  {
   "cell_type": "markdown",
   "id": "65a5ebfc-c805-4e9b-b4fd-e7992d1a1b42",
   "metadata": {},
   "source": [
    "## Exercises\n",
    "\n",
    "### Exercise 1: Temperature-Dependent Reaction Rate Study\n",
    "\n",
    "**Problem:** You are investigating how reaction rate changes with temperature. Your automated system heats a reaction vessel from 20°C to 100°C in 8°C increments, taking a measurement at each temperature.\n",
    "\n",
    "Write a `while` loop that:\n",
    "- Starts with `temperature = 20` (°C)\n",
    "- Takes a measurement (just print the temperature for now)\n",
    "- Increases temperature by 8°C\n",
    "- Continues until temperature reaches or exceeds 100°C\n",
    "\n",
    "Print each measurement temperature and count the total number of measurements taken.\n",
    "\n",
    "**Expected output format:**\n",
    "```\n",
    "Measurement 1: 20°C\n",
    "Measurement 2: 28°C\n",
    "Measurement 3: 36°C\n",
    "...\n",
    "Completed X measurements from 20°C to Y°C\n",
    "```"
   ]
  },
  {
   "cell_type": "markdown",
   "id": "ae82c54a-4200-42b7-b1e5-bf0db21d159c",
   "metadata": {},
   "source": [
    "---\n",
    "\n",
    "## Exercise 2: Convergence with Iteration Limit\n",
    "\n",
    "**Problem:** The cooling simulation from the example converges relatively quickly because it loses 10% of the temperature difference each step. However, if the cooling rate is slower, convergence can take many iterations.\n",
    "\n",
    "Modify the simulation to use a slower cooling rate (only 2% per step instead of 10%). This is more realistic for a well-insulated vessel. However, since convergence is now much slower, add an iteration limit of 100 steps. If equilibrium isn't reached within 100 steps, stop and report that more time is needed.\n",
    "\n",
    "**Starting code:**\n",
    "```python\n",
    "temperature = 100.0  # Starting temperature in °C\n",
    "room_temperature = 20.0  # Ambient temperature in °C\n",
    "threshold = 0.5  # Stop when within 0.5°C of room temp\n",
    "cooling_rate = 0.02  # Cool by 2% per step\n",
    "iteration = 0\n",
    "max_iterations = 100\n",
    "\n",
    "while temperature - room_temperature > threshold:\n",
    "    # Cool by 2% of the temperature difference each step\n",
    "    temperature_difference = temperature - room_temperature\n",
    "    temperature = temperature - cooling_rate * temperature_difference\n",
    "    iteration += 1\n",
    "    print(f\"Step {iteration}: Temperature = {temperature:.2f}°C\")\n",
    "\n",
    "print(f\"Thermal equilibrium reached after {iteration} steps\")"
   ]
  },
  {
   "cell_type": "code",
   "execution_count": null,
   "id": "666851a2-ff37-4242-adb3-052034b7ff73",
   "metadata": {},
   "outputs": [],
   "source": []
  }
 ],
 "metadata": {
  "kernelspec": {
   "display_name": "Python 3 (ipykernel)",
   "language": "python",
   "name": "python3"
  },
  "language_info": {
   "codemirror_mode": {
    "name": "ipython",
    "version": 3
   },
   "file_extension": ".py",
   "mimetype": "text/x-python",
   "name": "python",
   "nbconvert_exporter": "python",
   "pygments_lexer": "ipython3",
   "version": "3.12.9"
  }
 },
 "nbformat": 4,
 "nbformat_minor": 5
}
